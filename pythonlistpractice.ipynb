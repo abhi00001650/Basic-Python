{
 "cells": [
  {
   "cell_type": "code",
   "execution_count": 7,
   "id": "03ec76b8-2eaf-411b-9382-d63ef18a28e9",
   "metadata": {},
   "outputs": [
    {
     "name": "stdout",
     "output_type": "stream",
     "text": [
      "ihbA sI emaN yM | My Name Is Abhi\n"
     ]
    }
   ],
   "source": [
    "#MIRROR\n",
    "string1=\"My Name Is Abhi\"\n",
    "print(f\"{string1[::-1]} | {string1}\")"
   ]
  },
  {
   "cell_type": "raw",
   "id": "4d809d23-84c0-4fa4-bea3-036462c4d651",
   "metadata": {},
   "source": [
    "LIST -\n",
    "LIST are ordered collection of items denoted as[]\n",
    "It is like a shopping bag as it can store any datatype.\n",
    "Are Mutable."
   ]
  },
  {
   "cell_type": "code",
   "execution_count": 8,
   "id": "7d450d35-c8e7-44b7-ac1b-3c7923fe738b",
   "metadata": {},
   "outputs": [
    {
     "data": {
      "text/plain": [
       "list"
      ]
     },
     "execution_count": 8,
     "metadata": {},
     "output_type": "execute_result"
    }
   ],
   "source": [
    "type([])"
   ]
  },
  {
   "cell_type": "code",
   "execution_count": 10,
   "id": "0c6cd6ef-7034-4926-bd05-f5e813fbe616",
   "metadata": {},
   "outputs": [],
   "source": [
    "grocery_list = [\"Tomato\",\"potato\",\"onions\",1,5,10,True,False,9+10j]"
   ]
  },
  {
   "cell_type": "code",
   "execution_count": 13,
   "id": "63855aba-4b0b-4610-a453-786acde01b21",
   "metadata": {},
   "outputs": [
    {
     "data": {
      "text/plain": [
       "list"
      ]
     },
     "execution_count": 13,
     "metadata": {},
     "output_type": "execute_result"
    }
   ],
   "source": [
    "type(grocery_list)"
   ]
  },
  {
   "cell_type": "code",
   "execution_count": 19,
   "id": "c3df13bf-bfae-4f4d-ac89-9f4f0483364d",
   "metadata": {},
   "outputs": [
    {
     "data": {
      "text/plain": [
       "[(9+10j), False, True, 10, 5, 1, 'onions', 'potato', 'Tomato']"
      ]
     },
     "execution_count": 19,
     "metadata": {},
     "output_type": "execute_result"
    }
   ],
   "source": [
    "grocery_list[::-1]"
   ]
  },
  {
   "cell_type": "code",
   "execution_count": 21,
   "id": "73d2d301-73c1-4037-90e2-6cf63556ec1d",
   "metadata": {},
   "outputs": [
    {
     "data": {
      "text/plain": [
       "[(9+10j)]"
      ]
     },
     "execution_count": 21,
     "metadata": {},
     "output_type": "execute_result"
    }
   ],
   "source": [
    "grocery_list[-1:]"
   ]
  },
  {
   "cell_type": "code",
   "execution_count": 22,
   "id": "501aa676-13ef-4736-b98f-d51d2f8f7ccc",
   "metadata": {},
   "outputs": [
    {
     "data": {
      "text/plain": [
       "['Tomato', 'potato', 'onions', 1, 5]"
      ]
     },
     "execution_count": 22,
     "metadata": {},
     "output_type": "execute_result"
    }
   ],
   "source": [
    "grocery_list[0:5]"
   ]
  },
  {
   "cell_type": "code",
   "execution_count": 23,
   "id": "94640063-c092-425b-9d0d-4de5bf00e390",
   "metadata": {},
   "outputs": [
    {
     "data": {
      "text/plain": [
       "['HELLLO', 'PINK PANTHER', '1INVINCIBLE', 'FRAGGER']"
      ]
     },
     "execution_count": 23,
     "metadata": {},
     "output_type": "execute_result"
    }
   ],
   "source": [
    "movie_list = [\"3IDIOTS\",\"HELLLO\",\"PINK PANTHER\",\"1INVINCIBLE\",\"FRAGGER\"]\n",
    "movie_list[1:]"
   ]
  },
  {
   "cell_type": "code",
   "execution_count": 24,
   "id": "a0a8a0ac-bc65-4d8f-864f-e8e84ff56471",
   "metadata": {},
   "outputs": [
    {
     "data": {
      "text/plain": [
       "['FRAGGER', 'PINK PANTHER', '3IDIOTS']"
      ]
     },
     "execution_count": 24,
     "metadata": {},
     "output_type": "execute_result"
    }
   ],
   "source": [
    "movie_list = [\"3IDIOTS\",\"HELLLO\",\"PINK PANTHER\",\"1INVINCIBLE\",\"FRAGGER\"]\n",
    "movie_list[::-2]"
   ]
  },
  {
   "cell_type": "code",
   "execution_count": 26,
   "id": "f5d5dca0-9234-4534-8d39-a08bc13ca238",
   "metadata": {},
   "outputs": [
    {
     "data": {
      "text/plain": [
       "'STOIDI3'"
      ]
     },
     "execution_count": 26,
     "metadata": {},
     "output_type": "execute_result"
    }
   ],
   "source": [
    "movie_list = [\"3IDIOTS\",\"HELLLO\",\"PINK PANTHER\",\"1INVINCIBLE\",\"FRAGGER\"]\n",
    "movie_list[0][::-1]"
   ]
  },
  {
   "cell_type": "code",
   "execution_count": 27,
   "id": "326c548f-68cc-42df-b500-e8fa086b8aba",
   "metadata": {},
   "outputs": [],
   "source": [
    "book_content = [\"Title page\",\"Index\",\"CH1\",\"CH2\",\"CONCLUSION\",\"END\"]"
   ]
  },
  {
   "cell_type": "code",
   "execution_count": 35,
   "id": "d28ba3ba-02b4-4288-a7b0-06457bf43569",
   "metadata": {},
   "outputs": [
    {
     "data": {
      "text/plain": [
       "['END', 'CONCLUSION', 'CH2', 'CH1']"
      ]
     },
     "execution_count": 35,
     "metadata": {},
     "output_type": "execute_result"
    }
   ],
   "source": [
    "book_content[:-5:-1]"
   ]
  },
  {
   "cell_type": "code",
   "execution_count": 54,
   "id": "0e76bc06-9b52-4658-8b4c-aa9ab4b981d3",
   "metadata": {},
   "outputs": [
    {
     "name": "stdout",
     "output_type": "stream",
     "text": [
      "IHBA IDA YAHBA NAHSI HSUHK KITRAK\n"
     ]
    }
   ],
   "source": [
    "#reversing each element of list\n",
    "queue = [\"ABHI\",\"ADI\",\"ABHAY\",\"ISHAN\",\"KHUSH\",\"KARTIK\"]\n",
    "print(queue[0][::-1] , queue[1][::-1] , queue[2][::-1] , queue[3][::-1] , queue[4][::-1] , queue[5][::-1])"
   ]
  },
  {
   "cell_type": "code",
   "execution_count": 58,
   "id": "9629e6da-808b-413f-be9e-24225b2cda2c",
   "metadata": {},
   "outputs": [
    {
     "name": "stdout",
     "output_type": "stream",
     "text": [
      "\n",
      " IHBA \n",
      " IDA \n",
      " YAHBA \n",
      " NAHSI \n",
      " HSUHK \n",
      " KITRAK\n"
     ]
    }
   ],
   "source": [
    "queue = [\"ABHI\", \"ADI\", \"ABHAY\", \"ISHAN\", \"KHUSH\", \"KARTIK\"]\n",
    "print(\"\\n\" , queue[0][::-1], \"\\n\", queue[1][::-1], \"\\n\", queue[2][::-1], \"\\n\", queue[3][::-1], \"\\n\", queue[4][::-1], \"\\n\", queue[5][::-1])"
   ]
  },
  {
   "cell_type": "code",
   "execution_count": 57,
   "id": "aecb1962-d5ab-4fc4-a3af-fcc6f10226ad",
   "metadata": {},
   "outputs": [
    {
     "name": "stdout",
     "output_type": "stream",
     "text": [
      "IHBA\n",
      "IDA\n",
      "YAHBA\n",
      "NAHSI\n",
      "HSUHK\n",
      "KITRAK\n"
     ]
    }
   ],
   "source": [
    "for name in queue:\n",
    "    print(name[::-1])"
   ]
  },
  {
   "cell_type": "code",
   "execution_count": 59,
   "id": "8c7f9390-d49a-4550-8fc8-a8a69f056339",
   "metadata": {},
   "outputs": [],
   "source": [
    "list1 = [\"apple\",\"banana\"]"
   ]
  },
  {
   "cell_type": "code",
   "execution_count": 63,
   "id": "cec673d8-3b5e-4b64-9ed7-589b7f5b5907",
   "metadata": {},
   "outputs": [
    {
     "name": "stdout",
     "output_type": "stream",
     "text": [
      "['apple', 'banana', 'orange', 'orange', 'orange']\n"
     ]
    }
   ],
   "source": [
    "list1.append(\"orange\")\n",
    "print(list1)"
   ]
  },
  {
   "cell_type": "code",
   "execution_count": 64,
   "id": "839db71e-1d42-4878-af60-4bb830e8f56d",
   "metadata": {},
   "outputs": [
    {
     "name": "stdout",
     "output_type": "stream",
     "text": [
      "['apple', 'banana', 'orange', 'orange', 'orange']\n"
     ]
    }
   ],
   "source": [
    "print(list1)"
   ]
  },
  {
   "cell_type": "code",
   "execution_count": 65,
   "id": "be71a5bb-c382-4f79-89c9-209ef04ac1a8",
   "metadata": {},
   "outputs": [],
   "source": [
    "playlist1= []\n",
    "playlist1.append(\"BAND4BAND\")\n",
    "playlist1.append(\"CHEAPTHRILLS\")\n",
    "playlist1.append(\"GOLDENBROWN\")"
   ]
  },
  {
   "cell_type": "code",
   "execution_count": 66,
   "id": "b1a9b3a9-7a3c-4851-b7e5-94aa7ee5093b",
   "metadata": {},
   "outputs": [
    {
     "name": "stdout",
     "output_type": "stream",
     "text": [
      "['BAND4BAND', 'CHEAPTHRILLS', 'GOLDENBROWN']\n"
     ]
    }
   ],
   "source": [
    "print(playlist1)"
   ]
  },
  {
   "cell_type": "code",
   "execution_count": 69,
   "id": "1f93fbdb-25b6-4486-925d-a423e0e40c2d",
   "metadata": {},
   "outputs": [
    {
     "name": "stdout",
     "output_type": "stream",
     "text": [
      "['book1', 'book2', 'book3']\n"
     ]
    }
   ],
   "source": [
    "bookshelf1 = []\n",
    "bookshelf1.append(\"book1\")\n",
    "bookshelf1.append(\"book2\")\n",
    "bookshelf1.append(\"book3\")\n",
    "print(bookshelf1)"
   ]
  },
  {
   "cell_type": "code",
   "execution_count": 70,
   "id": "8614624a-6075-4afe-a28c-c127c22f4aec",
   "metadata": {},
   "outputs": [
    {
     "data": {
      "text/plain": [
       "['apple', 'banana', 'orange', 'orange', 'orange']"
      ]
     },
     "execution_count": 70,
     "metadata": {},
     "output_type": "execute_result"
    }
   ],
   "source": [
    "list1"
   ]
  },
  {
   "cell_type": "code",
   "execution_count": 71,
   "id": "318d035b-3ffc-4b2c-8b81-797ea8873ec7",
   "metadata": {},
   "outputs": [
    {
     "data": {
      "text/plain": [
       "'apple'"
      ]
     },
     "execution_count": 71,
     "metadata": {},
     "output_type": "execute_result"
    }
   ],
   "source": [
    "list1[0]\n"
   ]
  },
  {
   "cell_type": "code",
   "execution_count": 76,
   "id": "f969807f-3d14-4c5e-818b-14f4ad9dd57f",
   "metadata": {},
   "outputs": [],
   "source": [
    "list1[0] = \"Mango\"\n",
    "list1[3] = \"coconut\"\n",
    "list1[4] = \"hazelnut\""
   ]
  },
  {
   "cell_type": "code",
   "execution_count": 77,
   "id": "43d1f098-56a1-4040-ad05-9b69ecdfae38",
   "metadata": {},
   "outputs": [
    {
     "data": {
      "text/plain": [
       "['Mango', 'banana', 'orange', 'coconut', 'hazelnut']"
      ]
     },
     "execution_count": 77,
     "metadata": {},
     "output_type": "execute_result"
    }
   ],
   "source": [
    "list1"
   ]
  },
  {
   "cell_type": "code",
   "execution_count": 78,
   "id": "c5e5c56e-5f0b-4cd9-aa40-05c7ecd41599",
   "metadata": {},
   "outputs": [],
   "source": [
    "list1.insert(1,\"potato\")"
   ]
  },
  {
   "cell_type": "code",
   "execution_count": 79,
   "id": "60452328-5123-4770-85d7-1ff42c581c7e",
   "metadata": {},
   "outputs": [
    {
     "data": {
      "text/plain": [
       "['Mango', 'potato', 'banana', 'orange', 'coconut', 'hazelnut']"
      ]
     },
     "execution_count": 79,
     "metadata": {},
     "output_type": "execute_result"
    }
   ],
   "source": [
    "list1"
   ]
  },
  {
   "cell_type": "code",
   "execution_count": 80,
   "id": "3f830aca-6ae1-486e-a974-3785653f4f5d",
   "metadata": {},
   "outputs": [],
   "source": [
    "#use case\n",
    "bus_seat = [\"abhi\",\"ishan\"]\n",
    "bus_seat.insert(0,\"abhay\")"
   ]
  },
  {
   "cell_type": "code",
   "execution_count": 81,
   "id": "80b76bae-f939-45ae-9f16-372fbc2771d3",
   "metadata": {},
   "outputs": [
    {
     "data": {
      "text/plain": [
       "['abhay', 'abhi', 'ishan']"
      ]
     },
     "execution_count": 81,
     "metadata": {},
     "output_type": "execute_result"
    }
   ],
   "source": [
    "bus_seat"
   ]
  },
  {
   "cell_type": "code",
   "execution_count": 84,
   "id": "b23c03e7-6c04-4b61-97d6-4c106fe81d2e",
   "metadata": {},
   "outputs": [
    {
     "name": "stdout",
     "output_type": "stream",
     "text": [
      "['abhay', 'abhi', 'ishan', 'BAND4BAND', 'CHEAPTHRILLS', 'GOLDENBROWN', 'BAND4BAND', 'CHEAPTHRILLS', 'GOLDENBROWN', 'BAND4BAND', 'CHEAPTHRILLS', 'GOLDENBROWN']\n"
     ]
    }
   ],
   "source": [
    "#extend - used to append elements from other list\n",
    "bus_seat.extend(playlist1)\n",
    "print(bus_seat)"
   ]
  },
  {
   "cell_type": "code",
   "execution_count": 94,
   "id": "0f8ddfc6-ce03-45d3-b1e4-04a981b403af",
   "metadata": {},
   "outputs": [
    {
     "name": "stdout",
     "output_type": "stream",
     "text": [
      "\n",
      " ***** \n",
      " **** \n",
      " *** \n",
      " ** \n",
      " *\n"
     ]
    }
   ],
   "source": [
    "#repetition operation\n",
    "print(\"\\n\",\"*\"*5,\"\\n\",\"*\"* 4,\"\\n\",\"*\"*3,\"\\n\",\"*\"*2,\"\\n\",\"*\"*1)"
   ]
  },
  {
   "cell_type": "code",
   "execution_count": 95,
   "id": "8d014a68-551a-40d4-aed2-6d8c663824c4",
   "metadata": {},
   "outputs": [
    {
     "data": {
      "text/plain": [
       "[1, 2, 3, 1, 2, 3, 1, 2, 3, 1, 2, 3, 1, 2, 3]"
      ]
     },
     "execution_count": 95,
     "metadata": {},
     "output_type": "execute_result"
    }
   ],
   "source": [
    "[1,2,3] * 5"
   ]
  },
  {
   "cell_type": "code",
   "execution_count": 97,
   "id": "f3269827-50af-440b-86e1-de6f566e5f96",
   "metadata": {},
   "outputs": [
    {
     "data": {
      "text/plain": [
       "[0, 1, 2, 3, 4, 5, 6, 7, 8, 9, 10, 0, 1, 2, 3, 4, 5, 6, 7, 8, 9, 10]"
      ]
     },
     "execution_count": 97,
     "metadata": {},
     "output_type": "execute_result"
    }
   ],
   "source": [
    "list(range(11))*2"
   ]
  },
  {
   "cell_type": "code",
   "execution_count": 109,
   "id": "67e3ee5c-ac26-4d36-ab95-705af706a45c",
   "metadata": {},
   "outputs": [
    {
     "name": "stdout",
     "output_type": "stream",
     "text": [
      "tomorrow is holiday- 1\n",
      "tomorrow is holiday- 2\n",
      "tomorrow is holiday- 3\n"
     ]
    }
   ],
   "source": [
    "notice = \"tomorrow is holiday\"\n",
    "for c in range(1,4):\n",
    "    print(f\"{notice}- {c}\")"
   ]
  },
  {
   "cell_type": "code",
   "execution_count": 110,
   "id": "a86619ff-e10a-46a5-800d-bf3a50f50763",
   "metadata": {},
   "outputs": [
    {
     "data": {
      "text/plain": [
       "['Tomato', 'potato', 'onions', 1, 5, 10, True, False, (9+10j)]"
      ]
     },
     "execution_count": 110,
     "metadata": {},
     "output_type": "execute_result"
    }
   ],
   "source": [
    "#membership in , not in\n",
    "grocery_list"
   ]
  },
  {
   "cell_type": "code",
   "execution_count": 111,
   "id": "f9032260-bca3-4242-b238-9fe49e96cdb3",
   "metadata": {},
   "outputs": [
    {
     "data": {
      "text/plain": [
       "True"
      ]
     },
     "execution_count": 111,
     "metadata": {},
     "output_type": "execute_result"
    }
   ],
   "source": [
    "\"onions\" in grocery_list"
   ]
  },
  {
   "cell_type": "code",
   "execution_count": 114,
   "id": "771638d1-ac0c-4239-820a-0cbcf0ac88b2",
   "metadata": {},
   "outputs": [
    {
     "data": {
      "text/plain": [
       "True"
      ]
     },
     "execution_count": 114,
     "metadata": {},
     "output_type": "execute_result"
    }
   ],
   "source": [
    "5 in grocery_list"
   ]
  },
  {
   "cell_type": "raw",
   "id": "edca440b-4c01-4379-8eb7-0c256ffae763",
   "metadata": {},
   "source": [
    "DEEP COPY & SHALLOW COPY\n",
    "shallow copy means value will change with change in other list"
   ]
  },
  {
   "cell_type": "code",
   "execution_count": 116,
   "id": "64ef9555-bd24-4f0d-9300-56e7b2b6b51e",
   "metadata": {},
   "outputs": [
    {
     "name": "stdout",
     "output_type": "stream",
     "text": [
      "['a', 'b', 'c']\n"
     ]
    },
    {
     "data": {
      "text/plain": [
       "['c', 'b', 'a']"
      ]
     },
     "execution_count": 116,
     "metadata": {},
     "output_type": "execute_result"
    }
   ],
   "source": [
    "list_1 = [\"a\",\"b\",\"c\"]\n",
    "a = list_1\n",
    "print(a)\n",
    "a[::-1]"
   ]
  },
  {
   "cell_type": "code",
   "execution_count": 117,
   "id": "bf1d9f38-17a5-42e6-bc4b-f2198fed11ff",
   "metadata": {},
   "outputs": [
    {
     "data": {
      "text/plain": [
       "['Tomato', 'potato', 'onions', 1, 5, 10, True, False, (9+10j)]"
      ]
     },
     "execution_count": 117,
     "metadata": {},
     "output_type": "execute_result"
    }
   ],
   "source": [
    "grocery_list"
   ]
  },
  {
   "cell_type": "code",
   "execution_count": 118,
   "id": "955d32de-00f5-40fb-b9db-b716976742a6",
   "metadata": {},
   "outputs": [],
   "source": [
    "b = grocery_list"
   ]
  },
  {
   "cell_type": "code",
   "execution_count": 119,
   "id": "d302c379-51c3-45a0-9322-19abfaa168df",
   "metadata": {},
   "outputs": [
    {
     "data": {
      "text/plain": [
       "['Tomato', 'potato', 'onions', 1, 5, 10, True, False, (9+10j)]"
      ]
     },
     "execution_count": 119,
     "metadata": {},
     "output_type": "execute_result"
    }
   ],
   "source": [
    "b"
   ]
  },
  {
   "cell_type": "code",
   "execution_count": 120,
   "id": "8fde4f34-a6ae-43e1-a73a-927a40c1c638",
   "metadata": {},
   "outputs": [],
   "source": [
    "a[0]=\"Milk\""
   ]
  },
  {
   "cell_type": "code",
   "execution_count": 121,
   "id": "d087fd8d-410a-4767-bf09-a6a50b507cd0",
   "metadata": {},
   "outputs": [
    {
     "data": {
      "text/plain": [
       "['Milk', 'b', 'c']"
      ]
     },
     "execution_count": 121,
     "metadata": {},
     "output_type": "execute_result"
    }
   ],
   "source": [
    "a"
   ]
  },
  {
   "cell_type": "code",
   "execution_count": 122,
   "id": "e2936269-3a25-4232-870f-e29f13e877ec",
   "metadata": {},
   "outputs": [
    {
     "data": {
      "text/plain": [
       "['Tomato', 'potato', 'onions', 1, 5, 10, True, False, (9+10j)]"
      ]
     },
     "execution_count": 122,
     "metadata": {},
     "output_type": "execute_result"
    }
   ],
   "source": [
    "#DEEP COPY WILL NOT CHANGE THE VALUE IN ANOTHER LIST\n",
    "grocery_list"
   ]
  },
  {
   "cell_type": "code",
   "execution_count": 123,
   "id": "4f59333d-5047-4c11-a6c2-2447874dcc03",
   "metadata": {},
   "outputs": [],
   "source": [
    "b = grocery_list.copy()"
   ]
  },
  {
   "cell_type": "code",
   "execution_count": 124,
   "id": "2141ba85-623e-4095-9faf-412673d7ba63",
   "metadata": {},
   "outputs": [
    {
     "data": {
      "text/plain": [
       "['Tomato', 'potato', 'onions', 1, 5, 10, True, False, (9+10j)]"
      ]
     },
     "execution_count": 124,
     "metadata": {},
     "output_type": "execute_result"
    }
   ],
   "source": [
    "b"
   ]
  },
  {
   "cell_type": "code",
   "execution_count": 125,
   "id": "dc9b38aa-c2cb-4435-a0da-623daf8eaaed",
   "metadata": {},
   "outputs": [],
   "source": [
    "b[0] = \"HELLO\""
   ]
  },
  {
   "cell_type": "code",
   "execution_count": 126,
   "id": "bb05234d-6169-4c9d-a246-6cdf9f662140",
   "metadata": {},
   "outputs": [
    {
     "data": {
      "text/plain": [
       "['HELLO', 'potato', 'onions', 1, 5, 10, True, False, (9+10j)]"
      ]
     },
     "execution_count": 126,
     "metadata": {},
     "output_type": "execute_result"
    }
   ],
   "source": [
    "b"
   ]
  },
  {
   "cell_type": "code",
   "execution_count": 128,
   "id": "6dc129b7-fe98-4b9a-b217-4a6c9896af66",
   "metadata": {},
   "outputs": [
    {
     "data": {
      "text/plain": [
       "['Tomato', 'potato', 'onions', 1, 5, 10, True, False, (9+10j)]"
      ]
     },
     "execution_count": 128,
     "metadata": {},
     "output_type": "execute_result"
    }
   ],
   "source": [
    "grocery_list"
   ]
  },
  {
   "cell_type": "code",
   "execution_count": 138,
   "id": "cc315182-965c-4591-8a18-99df7262b51e",
   "metadata": {},
   "outputs": [],
   "source": [
    "#sorting list\n",
    "book_list = [\"Web\",\"Dev\",\"Physio\",\"hello\",\"hello\"]\n"
   ]
  },
  {
   "cell_type": "code",
   "execution_count": 139,
   "id": "307f1cf4-5a24-4f02-a7fb-f2031308699f",
   "metadata": {},
   "outputs": [
    {
     "data": {
      "text/plain": [
       "['Web', 'Dev', 'Physio', 'hello', 'hello']"
      ]
     },
     "execution_count": 139,
     "metadata": {},
     "output_type": "execute_result"
    }
   ],
   "source": [
    "book_list"
   ]
  },
  {
   "cell_type": "code",
   "execution_count": 142,
   "id": "c6e6eeb8-0f66-407d-bd3a-3505bdff2fa5",
   "metadata": {},
   "outputs": [
    {
     "name": "stdout",
     "output_type": "stream",
     "text": [
      "The book is present at : 3 ---Index\n"
     ]
    }
   ],
   "source": [
    "print(\"The book is present at :\" , book_list.index(\"hello\") , \"---Index\")#return the index of first occurence"
   ]
  },
  {
   "cell_type": "code",
   "execution_count": 143,
   "id": "3256a9d7-0c93-4d6a-975b-b3beff69421f",
   "metadata": {},
   "outputs": [
    {
     "data": {
      "text/plain": [
       "2"
      ]
     },
     "execution_count": 143,
     "metadata": {},
     "output_type": "execute_result"
    }
   ],
   "source": [
    "book_list.index(\"Physio\")"
   ]
  },
  {
   "cell_type": "code",
   "execution_count": 144,
   "id": "1d386ef2-2177-46f8-9097-ed7bce27d5f8",
   "metadata": {},
   "outputs": [
    {
     "data": {
      "text/plain": [
       "5"
      ]
     },
     "execution_count": 144,
     "metadata": {},
     "output_type": "execute_result"
    }
   ],
   "source": [
    "len(book_list)"
   ]
  },
  {
   "cell_type": "code",
   "execution_count": 153,
   "id": "ea80d5e8-7464-4a03-82cd-101f98d150d9",
   "metadata": {},
   "outputs": [],
   "source": [
    "book_list.append(\"GOT\")"
   ]
  },
  {
   "cell_type": "code",
   "execution_count": 154,
   "id": "50cb92e5-b900-4a49-9cad-203c637cfec4",
   "metadata": {},
   "outputs": [
    {
     "data": {
      "text/plain": [
       "['Web', 'Dev', 'Physio', 'HOTD', 'hello', 'GOT', 'GOT']"
      ]
     },
     "execution_count": 154,
     "metadata": {},
     "output_type": "execute_result"
    }
   ],
   "source": [
    "book_list"
   ]
  },
  {
   "cell_type": "code",
   "execution_count": 155,
   "id": "6aebf147-2d8a-4966-8e30-f6f7cdfa7da0",
   "metadata": {},
   "outputs": [],
   "source": [
    "book_list[3] = \"HOTD\""
   ]
  },
  {
   "cell_type": "code",
   "execution_count": 156,
   "id": "f9fea22b-1f81-4c1c-a2d3-4c82c472219c",
   "metadata": {},
   "outputs": [
    {
     "data": {
      "text/plain": [
       "['Web', 'Dev', 'Physio', 'HOTD', 'hello', 'GOT', 'GOT']"
      ]
     },
     "execution_count": 156,
     "metadata": {},
     "output_type": "execute_result"
    }
   ],
   "source": [
    "book_list"
   ]
  },
  {
   "cell_type": "code",
   "execution_count": 157,
   "id": "4a6ad695-ecc5-4b19-84f2-5cab1a3b1929",
   "metadata": {},
   "outputs": [
    {
     "data": {
      "text/plain": [
       "7"
      ]
     },
     "execution_count": 157,
     "metadata": {},
     "output_type": "execute_result"
    }
   ],
   "source": [
    "len(book_list)#gives count of elements in list"
   ]
  },
  {
   "cell_type": "code",
   "execution_count": 159,
   "id": "b4bf5b11-82bf-4f7a-8a1d-aa5481756228",
   "metadata": {},
   "outputs": [
    {
     "data": {
      "text/plain": [
       "2"
      ]
     },
     "execution_count": 159,
     "metadata": {},
     "output_type": "execute_result"
    }
   ],
   "source": [
    "book_list.count(\"GOT\")#count gives the count of a  specific element in a list"
   ]
  },
  {
   "cell_type": "code",
   "execution_count": 160,
   "id": "6b6ed0eb-af6d-49fc-9b97-4cd900c3bdee",
   "metadata": {},
   "outputs": [],
   "source": [
    "#TO REMOVE SOMETHING FROM LIST WE USE .remove()\n",
    "book_list.remove(\"GOT\")"
   ]
  },
  {
   "cell_type": "code",
   "execution_count": 161,
   "id": "4940240b-e1f7-4406-8a74-6a76013876a3",
   "metadata": {},
   "outputs": [
    {
     "data": {
      "text/plain": [
       "['Web', 'Dev', 'Physio', 'HOTD', 'hello', 'GOT']"
      ]
     },
     "execution_count": 161,
     "metadata": {},
     "output_type": "execute_result"
    }
   ],
   "source": [
    "book_list"
   ]
  },
  {
   "cell_type": "code",
   "execution_count": 162,
   "id": "16907fab-b20b-4b65-9439-b0d63409cc3b",
   "metadata": {},
   "outputs": [],
   "source": [
    "book_list.sort()"
   ]
  },
  {
   "cell_type": "code",
   "execution_count": 163,
   "id": "e8ca5171-c444-4d68-98cc-8473e1305726",
   "metadata": {},
   "outputs": [
    {
     "data": {
      "text/plain": [
       "['Dev', 'GOT', 'HOTD', 'Physio', 'Web', 'hello']"
      ]
     },
     "execution_count": 163,
     "metadata": {},
     "output_type": "execute_result"
    }
   ],
   "source": [
    "book_list"
   ]
  },
  {
   "cell_type": "code",
   "execution_count": 164,
   "id": "c10f8ab3-88f2-4cd6-b15f-c5f550115a7f",
   "metadata": {},
   "outputs": [],
   "source": [
    "del book_list #DELETES THE VARIABLE"
   ]
  },
  {
   "cell_type": "code",
   "execution_count": 167,
   "id": "488b2bb3-8966-486a-bee1-499cdf5898f0",
   "metadata": {},
   "outputs": [],
   "source": [
    "#sorting list\n",
    "book_list = [\"Web\",\"Dev\",\"Physio\",\"hello\",\"hello\"]\n",
    "book_list.clear()#IT CLEARS THE CONTENT FROM LIST BUT DOES NOT DELETE THE VARIABLE LIST "
   ]
  },
  {
   "cell_type": "code",
   "execution_count": 168,
   "id": "e2feaafa-3a35-4893-9d97-dfc924503ab3",
   "metadata": {},
   "outputs": [
    {
     "data": {
      "text/plain": [
       "[]"
      ]
     },
     "execution_count": 168,
     "metadata": {},
     "output_type": "execute_result"
    }
   ],
   "source": [
    "book_list"
   ]
  },
  {
   "cell_type": "code",
   "execution_count": 169,
   "id": "01fa4cf1-d221-4f3e-ab6f-d1090efbacf4",
   "metadata": {},
   "outputs": [
    {
     "data": {
      "text/plain": [
       "'hello'"
      ]
     },
     "execution_count": 169,
     "metadata": {},
     "output_type": "execute_result"
    }
   ],
   "source": [
    "book_list = [\"Web\",\"Dev\",\"Physio\",\"hello\",\"hello\"]\n",
    "book_list.pop()"
   ]
  },
  {
   "cell_type": "code",
   "execution_count": 171,
   "id": "adfa3a51-4de1-4c82-baf0-0469972da312",
   "metadata": {},
   "outputs": [
    {
     "data": {
      "text/plain": [
       "'Web'"
      ]
     },
     "execution_count": 171,
     "metadata": {},
     "output_type": "execute_result"
    }
   ],
   "source": [
    "book_list.pop(0)"
   ]
  },
  {
   "cell_type": "code",
   "execution_count": 172,
   "id": "a7f1ff02-53d2-43c9-a15a-ca91be3f8803",
   "metadata": {},
   "outputs": [
    {
     "data": {
      "text/plain": [
       "['Dev', 'Physio', 'hello']"
      ]
     },
     "execution_count": 172,
     "metadata": {},
     "output_type": "execute_result"
    }
   ],
   "source": [
    "book_list"
   ]
  },
  {
   "cell_type": "code",
   "execution_count": 173,
   "id": "8c451136-49ab-40ee-924e-3c880099d46e",
   "metadata": {},
   "outputs": [],
   "source": [
    "#list comprehension\n",
    "cost = [10,20,30,40,50]\n",
    "doubled_price = []\n",
    "for i in cost:\n",
    "    doubled_price.append(i*2)"
   ]
  },
  {
   "cell_type": "code",
   "execution_count": 174,
   "id": "fe17237d-0d46-4a46-80c7-a17f6cdcad25",
   "metadata": {},
   "outputs": [
    {
     "data": {
      "text/plain": [
       "[20, 40, 60, 80, 100]"
      ]
     },
     "execution_count": 174,
     "metadata": {},
     "output_type": "execute_result"
    }
   ],
   "source": [
    "doubled_price"
   ]
  },
  {
   "cell_type": "code",
   "execution_count": 178,
   "id": "cb6c77b2-670f-42b1-a202-c41dec57b4f9",
   "metadata": {},
   "outputs": [
    {
     "data": {
      "text/plain": [
       "[40, 80, 120, 160, 200]"
      ]
     },
     "execution_count": 178,
     "metadata": {},
     "output_type": "execute_result"
    }
   ],
   "source": [
    "#DOING ABOVE CODE IN  MORE EASY WAY\n",
    "[cost * 2 for cost  in doubled_price]"
   ]
  },
  {
   "cell_type": "code",
   "execution_count": 195,
   "id": "b28ce633-bab7-4119-910c-ec3d0e9e0edc",
   "metadata": {},
   "outputs": [
    {
     "name": "stdout",
     "output_type": "stream",
     "text": [
      "['Abhi', 'Aadi', 'Abhay', 'Ishan']\n"
     ]
    }
   ],
   "source": [
    "names = [\"abhi\", \"aadi\", \"abhay\", \"ishan\"]\n",
    "capitalized_names = [name.capitalize() for name in names]\n",
    "print(capitalized_names)\n"
   ]
  },
  {
   "cell_type": "code",
   "execution_count": 196,
   "id": "6201e361-cd3f-43fc-84be-457abbaae303",
   "metadata": {},
   "outputs": [
    {
     "name": "stdout",
     "output_type": "stream",
     "text": [
      "['Hello', 'Hi', 'Namaste', 'Bonjour', 'Hola']\n"
     ]
    }
   ],
   "source": [
    "greetings = [\"hello\",\"Hi\",\"Namaste\",\"Bonjour\",\"Hola\"]\n",
    "greet1 = [greet.capitalize() for greet in greetings]\n",
    "print(greet1)"
   ]
  },
  {
   "cell_type": "code",
   "execution_count": 197,
   "id": "e646bd54-f0b7-4535-b704-f3e82dcfc4ae",
   "metadata": {},
   "outputs": [
    {
     "name": "stdout",
     "output_type": "stream",
     "text": [
      "['hello', 'hi', 'namaste', 'bonjour', 'hola']\n"
     ]
    }
   ],
   "source": [
    "greetings = [\"hello\",\"Hi\",\"Namaste\",\"Bonjour\",\"Hola\"]\n",
    "greet1 = [greet.lower() for greet in greetings]\n",
    "print(greet1)"
   ]
  },
  {
   "cell_type": "code",
   "execution_count": 198,
   "id": "fcc4208c-79d2-40b7-84f7-c1067d0212f7",
   "metadata": {},
   "outputs": [
    {
     "name": "stdout",
     "output_type": "stream",
     "text": [
      "['HELLO', 'HI', 'NAMASTE', 'BONJOUR', 'HOLA']\n"
     ]
    }
   ],
   "source": [
    "greetings = [\"hello\",\"Hi\",\"Namaste\",\"Bonjour\",\"Hola\"]\n",
    "greet1 = [greet.upper() for greet in greetings]\n",
    "print(greet1)"
   ]
  },
  {
   "cell_type": "code",
   "execution_count": 207,
   "id": "de471e63-8db5-4793-88df-6df55036f747",
   "metadata": {},
   "outputs": [
    {
     "name": "stdout",
     "output_type": "stream",
     "text": [
      "[1, 4, 9, 16, 25]\n"
     ]
    }
   ],
   "source": [
    "numbers = [1, 2, 3, 4, 5]\n",
    "numbers_power = [(num**2) for num in numbers]\n",
    "print(numbers_power)\n"
   ]
  },
  {
   "cell_type": "code",
   "execution_count": 209,
   "id": "fdaa422e-b353-437a-89b8-143251211a61",
   "metadata": {},
   "outputs": [
    {
     "data": {
      "text/plain": [
       "'ppt'"
      ]
     },
     "execution_count": 209,
     "metadata": {},
     "output_type": "execute_result"
    }
   ],
   "source": [
    "string_1 = \"Doc_1.ppt\"\n",
    "string_1.split(\".\")[-1]"
   ]
  },
  {
   "cell_type": "code",
   "execution_count": 212,
   "id": "179259ae-030b-4784-b741-9e166394657a",
   "metadata": {},
   "outputs": [
    {
     "data": {
      "text/plain": [
       "['ppt', 'ipynb', 'jpg', 'py', 'java']"
      ]
     },
     "execution_count": 212,
     "metadata": {},
     "output_type": "execute_result"
    }
   ],
   "source": [
    "file_name = [\"Doc_2.ppt\",\"Doc3.ipynb\",\"Doc4.jpg\",\"Doc55.py\",\"Doc6.java\"]\n",
    "[file.split(\".\")[-1] for file in file_name]"
   ]
  },
  {
   "cell_type": "code",
   "execution_count": 213,
   "id": "63ac6f63-37d0-4610-a897-b03c3ad9ba87",
   "metadata": {},
   "outputs": [
    {
     "data": {
      "text/plain": [
       "['Ar@yahoo.com']"
      ]
     },
     "execution_count": 213,
     "metadata": {},
     "output_type": "execute_result"
    }
   ],
   "source": [
    "email1 = [\"abhi@gmail.com\",\"Pa@gmail.com\",\"Ar@yahoo.com\",\"Ma@gmail.com\"]\n",
    "[email for email in email1 if email.endswith(\"@yahoo.com\")]"
   ]
  },
  {
   "cell_type": "code",
   "execution_count": 214,
   "id": "b61c21c5-22eb-40dd-abd9-ee1b84dc1706",
   "metadata": {},
   "outputs": [
    {
     "data": {
      "text/plain": [
       "['abhi@gmail.com', 'Pa@gmail.com', 'Ma@gmail.com']"
      ]
     },
     "execution_count": 214,
     "metadata": {},
     "output_type": "execute_result"
    }
   ],
   "source": [
    "email1 = [\"abhi@gmail.com\",\"Pa@gmail.com\",\"Ar@yahoo.com\",\"Ma@gmail.com\"]\n",
    "[email for email in email1 if email.endswith(\"@gmail.com\")]"
   ]
  },
  {
   "cell_type": "code",
   "execution_count": 215,
   "id": "41033c88-1165-4874-b868-1f9472ea005c",
   "metadata": {},
   "outputs": [
    {
     "data": {
      "text/plain": [
       "[[1, 4], [1, 5], [1, 6], [2, 4], [2, 5], [2, 6], [3, 4], [3, 5], [3, 6]]"
      ]
     },
     "execution_count": 215,
     "metadata": {},
     "output_type": "execute_result"
    }
   ],
   "source": [
    "#nested list comprehension\n",
    "pairs = []\n",
    "for x in [1,2,3]:\n",
    "    for y in [4,5,6]:\n",
    "        pairs.append([x,y])\n",
    "pairs\n",
    "    \n"
   ]
  },
  {
   "cell_type": "code",
   "execution_count": 218,
   "id": "6f93b5d3-3305-4283-9760-05b5568e8212",
   "metadata": {},
   "outputs": [
    {
     "data": {
      "text/plain": [
       "[['AB', '@mail.com'],\n",
       " ['AB', '@yahoo.com'],\n",
       " ['AB', '@gmail.com'],\n",
       " ['CD', '@mail.com'],\n",
       " ['CD', '@yahoo.com'],\n",
       " ['CD', '@gmail.com'],\n",
       " ['EF', '@mail.com'],\n",
       " ['EF', '@yahoo.com'],\n",
       " ['EF', '@gmail.com']]"
      ]
     },
     "execution_count": 218,
     "metadata": {},
     "output_type": "execute_result"
    }
   ],
   "source": [
    "mails = [[x,y] for x in [\"AB\",\"CD\",\"EF\"] for y in [\"@mail.com\",\"@yahoo.com\",\"@gmail.com\"]]\n",
    "mails"
   ]
  },
  {
   "cell_type": "code",
   "execution_count": 225,
   "id": "394eed73-d3f7-4046-9de2-93968db1fbf5",
   "metadata": {},
   "outputs": [
    {
     "name": "stdout",
     "output_type": "stream",
     "text": [
      "['AB@mail.com', 'AB@yahoo.com', 'AB@gmail.com']\n"
     ]
    }
   ],
   "source": [
    "mails = [x + y for x in [\"AB\", \"CD\", \"EF\"] for y in [\"@mail.com\", \"@yahoo.com\", \"@gmail.com\"]]\n",
    "\n",
    "z = [mail for mail in mails if mail.startswith(\"A\")]\n",
    "\n",
    "print(z)\n"
   ]
  },
  {
   "cell_type": "code",
   "execution_count": 226,
   "id": "2ffd43a5-1da9-4b81-b67d-fb4c3336d055",
   "metadata": {},
   "outputs": [
    {
     "name": "stdout",
     "output_type": "stream",
     "text": [
      "[['AB', '@mail.com'], ['AB', '@yahoo.com'], ['AB', '@gmail.com']]\n"
     ]
    }
   ],
   "source": [
    "mails = [[x, y] for x in [\"AB\", \"CD\", \"EF\"] for y in [\"@mail.com\", \"@yahoo.com\", \"@gmail.com\"]]\n",
    "\n",
    "# Filter for names starting with 'A'\n",
    "z = [mail for mail in mails if mail[0].startswith(\"A\")]\n",
    "\n",
    "print(z)\n"
   ]
  },
  {
   "cell_type": "code",
   "execution_count": 1,
   "id": "91eebcda-32c8-4903-9774-2d06f5fe5e9b",
   "metadata": {},
   "outputs": [
    {
     "data": {
      "text/plain": [
       "[[1, 4], [1, 5], [1, 6], [2, 4], [2, 5], [2, 6], [3, 4], [3, 5], [3, 6]]"
      ]
     },
     "execution_count": 1,
     "metadata": {},
     "output_type": "execute_result"
    }
   ],
   "source": [
    " [[x,y]for x in [1,2,3] for y in [4,5,6]]"
   ]
  },
  {
   "cell_type": "code",
   "execution_count": 4,
   "id": "4d44e552-c4f6-4122-b643-0fb3e3f0793f",
   "metadata": {},
   "outputs": [
    {
     "name": "stdout",
     "output_type": "stream",
     "text": [
      "[['he', 'abhi', 'singh'], ['he', 'abhi', 'pandey'], ['he', 'abhi', 'chowdhary'], ['he', 'arush', 'singh'], ['he', 'arush', 'pandey'], ['he', 'arush', 'chowdhary'], ['he', 'abhay', 'singh'], ['he', 'abhay', 'pandey'], ['he', 'abhay', 'chowdhary']]\n"
     ]
    }
   ],
   "source": [
    "names2 = [[x,y,z] for x in [\"me\",\"he\",\"she\"] for y in [\"abhi\",\"arush\",\"abhay\"]for z in [\"singh\",\"pandey\",\"chowdhary\"]]\n",
    "z = [name for name in names2 if name[0].startswith(\"he\")]\n",
    "print(z)"
   ]
  },
  {
   "cell_type": "raw",
   "id": "7620e9bd-65f9-4c37-aa41-dc64569a5db8",
   "metadata": {},
   "source": [
    "#list as a STACK & QUEUE "
   ]
  },
  {
   "cell_type": "raw",
   "id": "414c2d52-a01c-4ccb-8ec8-5a9c87ba14dd",
   "metadata": {},
   "source": [
    "STACK = Last in first out[LIFO] "
   ]
  },
  {
   "cell_type": "code",
   "execution_count": 5,
   "id": "e9108b63-c7c0-4bdf-8e14-477153a287ef",
   "metadata": {},
   "outputs": [],
   "source": [
    "stack_of_plates = []\n",
    "stack_of_plates.append(\"plate1\")\n",
    "stack_of_plates.append(\"plate2\")\n",
    "stack_of_plates.append(\"plate3\")\n",
    "stack_of_plates.append(\"plate4\")"
   ]
  },
  {
   "cell_type": "code",
   "execution_count": 6,
   "id": "842630b0-dbd0-4d29-aa4b-5564e625091b",
   "metadata": {},
   "outputs": [
    {
     "data": {
      "text/plain": [
       "['plate1', 'plate2', 'plate3', 'plate4']"
      ]
     },
     "execution_count": 6,
     "metadata": {},
     "output_type": "execute_result"
    }
   ],
   "source": [
    "stack_of_plates"
   ]
  },
  {
   "cell_type": "code",
   "execution_count": 7,
   "id": "f5ed4d09-e7bf-4eb2-9f5a-ad41a2bdd73f",
   "metadata": {},
   "outputs": [
    {
     "data": {
      "text/plain": [
       "'plate4'"
      ]
     },
     "execution_count": 7,
     "metadata": {},
     "output_type": "execute_result"
    }
   ],
   "source": [
    "stack_of_plates.pop()#removes the last element from list"
   ]
  },
  {
   "cell_type": "code",
   "execution_count": 8,
   "id": "171735b1-efad-40ec-93b4-4622786f1e74",
   "metadata": {},
   "outputs": [
    {
     "data": {
      "text/plain": [
       "['plate1', 'plate2', 'plate3']"
      ]
     },
     "execution_count": 8,
     "metadata": {},
     "output_type": "execute_result"
    }
   ],
   "source": [
    "stack_of_plates"
   ]
  },
  {
   "cell_type": "code",
   "execution_count": 9,
   "id": "6e65b7e1-52e2-4706-98b8-62e6e3b807ed",
   "metadata": {},
   "outputs": [],
   "source": [
    "browsing_history = []\n",
    "browsing_history.append(\"home_page\")\n",
    "browsing_history.append(\"about us\")\n",
    "browsing_history.append(\"contact\")"
   ]
  },
  {
   "cell_type": "code",
   "execution_count": 10,
   "id": "1c152bfc-46fa-404c-a997-211a5073b5ae",
   "metadata": {},
   "outputs": [
    {
     "data": {
      "text/plain": [
       "['home_page', 'about us', 'contact']"
      ]
     },
     "execution_count": 10,
     "metadata": {},
     "output_type": "execute_result"
    }
   ],
   "source": [
    "browsing_history"
   ]
  },
  {
   "cell_type": "code",
   "execution_count": 11,
   "id": "ad9ae568-f85b-49b1-9cdb-1fa4066c97be",
   "metadata": {},
   "outputs": [
    {
     "data": {
      "text/plain": [
       "'contact'"
      ]
     },
     "execution_count": 11,
     "metadata": {},
     "output_type": "execute_result"
    }
   ],
   "source": [
    "browsing_history.pop()"
   ]
  },
  {
   "cell_type": "code",
   "execution_count": 12,
   "id": "fe8ce955-0f49-4ba4-918e-6e8c6b8262e4",
   "metadata": {},
   "outputs": [
    {
     "data": {
      "text/plain": [
       "['home_page', 'about us']"
      ]
     },
     "execution_count": 12,
     "metadata": {},
     "output_type": "execute_result"
    }
   ],
   "source": [
    "browsing_history"
   ]
  },
  {
   "cell_type": "raw",
   "id": "d5bf6fcb-6679-4f19-b1af-c9b863719d16",
   "metadata": {},
   "source": [
    "QUEUE = First in first out(FIFO)"
   ]
  },
  {
   "cell_type": "code",
   "execution_count": 13,
   "id": "cc6b3fd2-34c0-4d8e-8c44-00308ad1b415",
   "metadata": {},
   "outputs": [],
   "source": [
    "from collections import deque # LIBRARY IS A  COLLECTION OF PYTHON CODE(MODULE0\n",
    "#collection is a library and deque is module"
   ]
  },
  {
   "cell_type": "code",
   "execution_count": 15,
   "id": "5ec84e51-a133-4775-9db0-8bf871c352ec",
   "metadata": {},
   "outputs": [],
   "source": [
    "checkout = deque()\n",
    "checkout.append(\"cus1\")\n",
    "checkout.append(\"cus2\")\n",
    "checkout.append(\"cus3\")\n",
    "checkout.append(\"cus4\")\n",
    "checkout.append(\"cus5\")\n",
    "checkout.append(\"cus6\")"
   ]
  },
  {
   "cell_type": "code",
   "execution_count": 16,
   "id": "e016056e-1a37-4073-a861-52fdcbec95a2",
   "metadata": {},
   "outputs": [
    {
     "data": {
      "text/plain": [
       "deque(['cus1', 'cus2', 'cus3', 'cus4', 'cus5', 'cus6'])"
      ]
     },
     "execution_count": 16,
     "metadata": {},
     "output_type": "execute_result"
    }
   ],
   "source": [
    "checkout"
   ]
  },
  {
   "cell_type": "code",
   "execution_count": 17,
   "id": "b350e8ab-22d7-4be1-81bc-37992d30d01d",
   "metadata": {},
   "outputs": [
    {
     "name": "stdout",
     "output_type": "stream",
     "text": [
      "serving customer  cus1\n",
      "serving customer  cus2\n",
      "serving customer  cus3\n",
      "serving customer  cus4\n",
      "serving customer  cus5\n",
      "serving customer  cus6\n"
     ]
    }
   ],
   "source": [
    "while checkout:\n",
    "    customer = checkout.popleft()\n",
    "    print(\"serving customer \" , customer)"
   ]
  },
  {
   "cell_type": "code",
   "execution_count": 19,
   "id": "ca97aba9-ea2c-44ec-82cd-55c687d9afd0",
   "metadata": {},
   "outputs": [
    {
     "name": "stdout",
     "output_type": "stream",
     "text": [
      "printing print the 1 pdf for presenting\n",
      "printing print the 2 pdf for presenting\n",
      "printing print the 3 pdf for presenting\n",
      "printing print the 4 pdf for presenting\n",
      "printing print the 5 pdf for presenting\n"
     ]
    }
   ],
   "source": [
    "from queue import Queue\n",
    "print_queue = Queue()\n",
    "print_queue.put(\"print the 1 pdf for presenting\")#PUT IS SIMILAR TO PUSHH\n",
    "print_queue.put(\"print the 2 pdf for presenting\")\n",
    "print_queue.put(\"print the 3 pdf for presenting\")\n",
    "print_queue.put(\"print the 4 pdf for presenting\")\n",
    "print_queue.put(\"print the 5 pdf for presenting\")\n",
    "\n",
    "while not print_queue.empty():\n",
    "    print_job = print_queue.get() # SIMILAR TO POP\n",
    "    print(\"printing\" , print_job)\n",
    "    "
   ]
  },
  {
   "cell_type": "code",
   "execution_count": null,
   "id": "6097e910-e85e-40af-a277-32c2e33095ef",
   "metadata": {},
   "outputs": [],
   "source": []
  }
 ],
 "metadata": {
  "kernelspec": {
   "display_name": "Python [conda env:base] *",
   "language": "python",
   "name": "conda-base-py"
  },
  "language_info": {
   "codemirror_mode": {
    "name": "ipython",
    "version": 3
   },
   "file_extension": ".py",
   "mimetype": "text/x-python",
   "name": "python",
   "nbconvert_exporter": "python",
   "pygments_lexer": "ipython3",
   "version": "3.13.5"
  }
 },
 "nbformat": 4,
 "nbformat_minor": 5
}
