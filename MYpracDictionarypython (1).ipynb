{
 "cells": [
  {
   "cell_type": "raw",
   "id": "d4ac82b2-7355-4425-9e96-88ad59e6184f",
   "metadata": {},
   "source": [
    "DICTIONARY IS A DATA STRUCTURE THAT STORES DATA AS KEY VALUE PAIR\n",
    "KEYS ARE UNIQUE AND IMMUTABBLE\n",
    "\n",
    "#NOTE: They are unordered but from Python3.7 ver , they retain the order of insertion.\n"
   ]
  },
  {
   "cell_type": "code",
   "execution_count": 1,
   "id": "53c5573d-0e23-4e0a-a761-691a4e6ad095",
   "metadata": {},
   "outputs": [
    {
     "data": {
      "text/plain": [
       "dict"
      ]
     },
     "execution_count": 1,
     "metadata": {},
     "output_type": "execute_result"
    }
   ],
   "source": [
    "d = {}\n",
    "type(d)"
   ]
  },
  {
   "cell_type": "code",
   "execution_count": 2,
   "id": "6f8bc65a-e1ac-485a-bda4-c3a8eaf925e7",
   "metadata": {},
   "outputs": [],
   "source": [
    "d={\"name\":\"Ajay\" , \"email\":\"ab@gmail.com\" , \"contact\":123456789}"
   ]
  },
  {
   "cell_type": "code",
   "execution_count": 3,
   "id": "621df309-10fd-4730-8d35-61487626dd80",
   "metadata": {},
   "outputs": [
    {
     "data": {
      "text/plain": [
       "{'name': 'Ajay', 'email': 'ab@gmail.com', 'contact': 123456789}"
      ]
     },
     "execution_count": 3,
     "metadata": {},
     "output_type": "execute_result"
    }
   ],
   "source": [
    "d"
   ]
  },
  {
   "cell_type": "code",
   "execution_count": 4,
   "id": "e11ef6bf-730b-4a1f-9e4e-2d93e444f12b",
   "metadata": {},
   "outputs": [
    {
     "data": {
      "text/plain": [
       "dict"
      ]
     },
     "execution_count": 4,
     "metadata": {},
     "output_type": "execute_result"
    }
   ],
   "source": [
    "type(d)"
   ]
  },
  {
   "cell_type": "code",
   "execution_count": 5,
   "id": "b43caab2-2bad-4e65-b35f-cb42cf6ee68c",
   "metadata": {},
   "outputs": [
    {
     "data": {
      "text/plain": [
       "1"
      ]
     },
     "execution_count": 5,
     "metadata": {},
     "output_type": "execute_result"
    }
   ],
   "source": [
    "l = [1,2,3,4]\n",
    "l[0]"
   ]
  },
  {
   "cell_type": "code",
   "execution_count": 6,
   "id": "89f6337e-082c-4983-ba55-c082cbc0016e",
   "metadata": {},
   "outputs": [
    {
     "data": {
      "text/plain": [
       "'Ajay'"
      ]
     },
     "execution_count": 6,
     "metadata": {},
     "output_type": "execute_result"
    }
   ],
   "source": [
    "d[\"name\"]"
   ]
  },
  {
   "cell_type": "code",
   "execution_count": 7,
   "id": "3516f753-8592-449f-817f-2bb620c31fd5",
   "metadata": {},
   "outputs": [
    {
     "data": {
      "text/plain": [
       "'ab@gmail.com'"
      ]
     },
     "execution_count": 7,
     "metadata": {},
     "output_type": "execute_result"
    }
   ],
   "source": [
    "d[\"email\"]"
   ]
  },
  {
   "cell_type": "code",
   "execution_count": 8,
   "id": "c6c8d57a-c360-4109-bd74-8f2a9959c675",
   "metadata": {},
   "outputs": [
    {
     "data": {
      "text/plain": [
       "{'name': 'Ajay', 'email': 'ab@gmail.com', 'contact': 123456789}"
      ]
     },
     "execution_count": 8,
     "metadata": {},
     "output_type": "execute_result"
    }
   ],
   "source": [
    "d"
   ]
  },
  {
   "cell_type": "code",
   "execution_count": 9,
   "id": "ae9a8951-5694-4826-82b1-940033195871",
   "metadata": {},
   "outputs": [],
   "source": [
    "d[\"name\"] = \"Abhi\""
   ]
  },
  {
   "cell_type": "code",
   "execution_count": 10,
   "id": "ce4b13b1-cf9f-4b23-b536-2f683fb815c9",
   "metadata": {},
   "outputs": [
    {
     "data": {
      "text/plain": [
       "{'name': 'Abhi', 'email': 'ab@gmail.com', 'contact': 123456789}"
      ]
     },
     "execution_count": 10,
     "metadata": {},
     "output_type": "execute_result"
    }
   ],
   "source": [
    "d"
   ]
  },
  {
   "cell_type": "code",
   "execution_count": 12,
   "id": "b6230baa-2a0c-4ae8-9fbc-04b6910663b3",
   "metadata": {},
   "outputs": [
    {
     "data": {
      "text/plain": [
       "{'address': '1/2 LUCKNOW'}"
      ]
     },
     "execution_count": 12,
     "metadata": {},
     "output_type": "execute_result"
    }
   ],
   "source": [
    "d = {\"address\": \"1/2 LUCKNOW\"}\n",
    "d"
   ]
  },
  {
   "cell_type": "code",
   "execution_count": 14,
   "id": "ed5e2527-22a9-402f-b9ff-ff5a2ade4689",
   "metadata": {},
   "outputs": [],
   "source": [
    "d[\"address\"] = \"Chaaar Minaaar\""
   ]
  },
  {
   "cell_type": "code",
   "execution_count": 15,
   "id": "c2cbeb1b-5bfd-4134-989a-a213341683d1",
   "metadata": {},
   "outputs": [
    {
     "data": {
      "text/plain": [
       "{'address': 'Chaaar Minaaar'}"
      ]
     },
     "execution_count": 15,
     "metadata": {},
     "output_type": "execute_result"
    }
   ],
   "source": [
    "d"
   ]
  },
  {
   "cell_type": "code",
   "execution_count": 18,
   "id": "4c519002-ccc9-4cc6-bb2d-5a2d1e1d76fa",
   "metadata": {},
   "outputs": [
    {
     "data": {
      "text/plain": [
       "1"
      ]
     },
     "execution_count": 18,
     "metadata": {},
     "output_type": "execute_result"
    }
   ],
   "source": [
    "d = {\"key\":1}\n",
    "d[\"key\"] # CAN ONLY ACCESS VALUE USING KEY , ANYTHING ELSE IS NOT POSSIBLE"
   ]
  },
  {
   "cell_type": "code",
   "execution_count": 19,
   "id": "6a190b2b-5534-4ec7-b3cb-874876b9da8f",
   "metadata": {},
   "outputs": [
    {
     "data": {
      "text/plain": [
       "'abc'"
      ]
     },
     "execution_count": 19,
     "metadata": {},
     "output_type": "execute_result"
    }
   ],
   "source": [
    "#rules for defining keys\n",
    "d = {1:\"abc\"}#integers as key\n",
    "d[1]"
   ]
  },
  {
   "cell_type": "code",
   "execution_count": 20,
   "id": "e98888a4-a9af-41f3-972b-660f739fc7ef",
   "metadata": {},
   "outputs": [
    {
     "data": {
      "text/plain": [
       "dict"
      ]
     },
     "execution_count": 20,
     "metadata": {},
     "output_type": "execute_result"
    }
   ],
   "source": [
    "type(d)"
   ]
  },
  {
   "cell_type": "code",
   "execution_count": 21,
   "id": "b37cd450-d5ac-4241-b894-28001ba3eed3",
   "metadata": {},
   "outputs": [
    {
     "data": {
      "text/plain": [
       "'abc'"
      ]
     },
     "execution_count": 21,
     "metadata": {},
     "output_type": "execute_result"
    }
   ],
   "source": [
    "#rules for defining keys\n",
    "d = {1.2:\"abc\"}#Float as key\n",
    "d[1.2]"
   ]
  },
  {
   "cell_type": "code",
   "execution_count": 23,
   "id": "5c1c7aaf-c6ae-4b33-a944-96c42f3c41ab",
   "metadata": {},
   "outputs": [
    {
     "data": {
      "text/plain": [
       "' hello '"
      ]
     },
     "execution_count": 23,
     "metadata": {},
     "output_type": "execute_result"
    }
   ],
   "source": [
    "d = {True :\" hello \"}#Boolean can also become key of a value\n",
    "d[True]"
   ]
  },
  {
   "cell_type": "code",
   "execution_count": 24,
   "id": "1ee1094e-7870-482b-bbf9-ef8780123296",
   "metadata": {},
   "outputs": [
    {
     "ename": "_IncompleteInputError",
     "evalue": "incomplete input (1107963986.py, line 1)",
     "output_type": "error",
     "traceback": [
      "\u001b[1;36m  Cell \u001b[1;32mIn[24], line 1\u001b[1;36m\u001b[0m\n\u001b[1;33m    d ={ # :123} #cannot use hash as a key\u001b[0m\n\u001b[1;37m                                          ^\u001b[0m\n\u001b[1;31m_IncompleteInputError\u001b[0m\u001b[1;31m:\u001b[0m incomplete input\n"
     ]
    }
   ],
   "source": [
    "d ={ # :123} #cannot use hash as a key"
   ]
  },
  {
   "cell_type": "code",
   "execution_count": 25,
   "id": "bd54d334-a72b-4f82-b8f2-9bdad7e0b8b5",
   "metadata": {},
   "outputs": [
    {
     "ename": "TypeError",
     "evalue": "unhashable type: 'list'",
     "output_type": "error",
     "traceback": [
      "\u001b[1;31m---------------------------------------------------------------------------\u001b[0m",
      "\u001b[1;31mTypeError\u001b[0m                                 Traceback (most recent call last)",
      "Cell \u001b[1;32mIn[25], line 1\u001b[0m\n\u001b[1;32m----> 1\u001b[0m d \u001b[38;5;241m=\u001b[39m {[\u001b[38;5;241m1\u001b[39m,\u001b[38;5;241m2\u001b[39m,\u001b[38;5;241m3\u001b[39m] :\u001b[38;5;124m\"\u001b[39m\u001b[38;5;124mAbhi\u001b[39m\u001b[38;5;124m\"\u001b[39m}\n",
      "\u001b[1;31mTypeError\u001b[0m: unhashable type: 'list'"
     ]
    }
   ],
   "source": [
    "d = {[1,2,3] :\"Abhi\"}"
   ]
  },
  {
   "cell_type": "code",
   "execution_count": 26,
   "id": "7fa78d1f-aed8-4d07-a8d2-cc0de071cfde",
   "metadata": {},
   "outputs": [],
   "source": [
    "d = {(1,2,3):\"HEY\"}"
   ]
  },
  {
   "cell_type": "code",
   "execution_count": 28,
   "id": "728ebd44-15df-4c81-8bb0-a580bc64aa97",
   "metadata": {},
   "outputs": [
    {
     "data": {
      "text/plain": [
       "{(1, 2, 3): 'HEY'}"
      ]
     },
     "execution_count": 28,
     "metadata": {},
     "output_type": "execute_result"
    }
   ],
   "source": [
    "d"
   ]
  },
  {
   "cell_type": "code",
   "execution_count": 29,
   "id": "053f1380-a3b0-4617-9294-ac7a80993f4f",
   "metadata": {},
   "outputs": [
    {
     "ename": "TypeError",
     "evalue": "unhashable type: 'set'",
     "output_type": "error",
     "traceback": [
      "\u001b[1;31m---------------------------------------------------------------------------\u001b[0m",
      "\u001b[1;31mTypeError\u001b[0m                                 Traceback (most recent call last)",
      "Cell \u001b[1;32mIn[29], line 1\u001b[0m\n\u001b[1;32m----> 1\u001b[0m d \u001b[38;5;241m=\u001b[39m{{\u001b[38;5;241m1\u001b[39m,\u001b[38;5;241m2\u001b[39m,\u001b[38;5;241m3\u001b[39m}:\u001b[38;5;124m\"\u001b[39m\u001b[38;5;124mabc\u001b[39m\u001b[38;5;124m\"\u001b[39m}\n",
      "\u001b[1;31mTypeError\u001b[0m: unhashable type: 'set'"
     ]
    }
   ],
   "source": [
    "d ={{1,2,3}:\"abc\"}"
   ]
  },
  {
   "cell_type": "code",
   "execution_count": 30,
   "id": "d6db80ed-39a3-4d71-b180-9abc4ef3f2f8",
   "metadata": {},
   "outputs": [],
   "source": [
    "#ONLY STRING AND NUMBERS CAB BE USED AS A KEY OF A DICTIONARY"
   ]
  },
  {
   "cell_type": "code",
   "execution_count": 33,
   "id": "3540fc48-ca55-4885-b174-adccb391630e",
   "metadata": {},
   "outputs": [],
   "source": [
    "d={\"name\":\"Ajay\" , \"email\":\"ab@gmail.com\" , \"contact\":123456789 ,\"name\":\"Abhi\"}"
   ]
  },
  {
   "cell_type": "code",
   "execution_count": 34,
   "id": "176d0401-ee1f-4a7a-9b71-f464ee8af868",
   "metadata": {},
   "outputs": [
    {
     "data": {
      "text/plain": [
       "{'name': 'Abhi', 'email': 'ab@gmail.com', 'contact': 123456789}"
      ]
     },
     "execution_count": 34,
     "metadata": {},
     "output_type": "execute_result"
    }
   ],
   "source": [
    "d"
   ]
  },
  {
   "cell_type": "code",
   "execution_count": 35,
   "id": "76a3e0b1-df62-46a3-9e7e-92adfc8bc660",
   "metadata": {},
   "outputs": [],
   "source": [
    "d={\"family_members\":[\"Abhi\",\"Ajay\",\"Abhay\"] , \"email\":[\"ab@gmail.com\",\"as@gmail.com\",\"aj@gmail.com\"] , \"contact\":(123456789,1234512345,7382734982)}"
   ]
  },
  {
   "cell_type": "code",
   "execution_count": 36,
   "id": "d3679d13-9156-46d9-9a8f-585eb77ce9e5",
   "metadata": {},
   "outputs": [
    {
     "data": {
      "text/plain": [
       "{'family_members': ['Abhi', 'Ajay', 'Abhay'],\n",
       " 'email': ['ab@gmail.com', 'as@gmail.com', 'aj@gmail.com'],\n",
       " 'contact': (123456789, 1234512345, 7382734982)}"
      ]
     },
     "execution_count": 36,
     "metadata": {},
     "output_type": "execute_result"
    }
   ],
   "source": [
    "d"
   ]
  },
  {
   "cell_type": "code",
   "execution_count": 37,
   "id": "78485d7f-204f-44e1-aec5-e8e6e0b8f7c4",
   "metadata": {},
   "outputs": [
    {
     "data": {
      "text/plain": [
       "'Abhay'"
      ]
     },
     "execution_count": 37,
     "metadata": {},
     "output_type": "execute_result"
    }
   ],
   "source": [
    "d[\"family_members\"][2]"
   ]
  },
  {
   "cell_type": "code",
   "execution_count": 38,
   "id": "1109d2cb-36e4-4a65-b590-d78a0b5ce52f",
   "metadata": {},
   "outputs": [
    {
     "data": {
      "text/plain": [
       "7382734982"
      ]
     },
     "execution_count": 38,
     "metadata": {},
     "output_type": "execute_result"
    }
   ],
   "source": [
    "d[\"contact\"][2]"
   ]
  },
  {
   "cell_type": "code",
   "execution_count": 39,
   "id": "7c1d4501-f847-4c48-b04d-74461cb4f819",
   "metadata": {},
   "outputs": [],
   "source": [
    "d[\"address\"] = \"LUCKNOW\" #to create a new key value pair"
   ]
  },
  {
   "cell_type": "code",
   "execution_count": 40,
   "id": "a4de9cc5-2a63-4654-9e1c-df91d79cddeb",
   "metadata": {},
   "outputs": [
    {
     "data": {
      "text/plain": [
       "{'family_members': ['Abhi', 'Ajay', 'Abhay'],\n",
       " 'email': ['ab@gmail.com', 'as@gmail.com', 'aj@gmail.com'],\n",
       " 'contact': (123456789, 1234512345, 7382734982),\n",
       " 'address': 'LUCKNOW'}"
      ]
     },
     "execution_count": 40,
     "metadata": {},
     "output_type": "execute_result"
    }
   ],
   "source": [
    "d"
   ]
  },
  {
   "cell_type": "code",
   "execution_count": 41,
   "id": "98223424-2c60-4c14-a92c-c001ff78dc3a",
   "metadata": {},
   "outputs": [],
   "source": [
    "del d[\"address\"] #TO DELETE A KKEY VALUE PAIR"
   ]
  },
  {
   "cell_type": "code",
   "execution_count": 42,
   "id": "42555ef1-f13c-445c-a0d2-8ddb9bef60e2",
   "metadata": {},
   "outputs": [
    {
     "data": {
      "text/plain": [
       "{'family_members': ['Abhi', 'Ajay', 'Abhay'],\n",
       " 'email': ['ab@gmail.com', 'as@gmail.com', 'aj@gmail.com'],\n",
       " 'contact': (123456789, 1234512345, 7382734982)}"
      ]
     },
     "execution_count": 42,
     "metadata": {},
     "output_type": "execute_result"
    }
   ],
   "source": [
    "d"
   ]
  },
  {
   "cell_type": "code",
   "execution_count": 43,
   "id": "3b18b5f6-dc9d-4c2e-8ccf-319652f3f5b9",
   "metadata": {},
   "outputs": [],
   "source": [
    "del d #to del whole dict"
   ]
  },
  {
   "cell_type": "code",
   "execution_count": 44,
   "id": "7927041d-bad2-4ab6-8047-c8cf5fa4398c",
   "metadata": {},
   "outputs": [
    {
     "ename": "NameError",
     "evalue": "name 'd' is not defined",
     "output_type": "error",
     "traceback": [
      "\u001b[1;31m---------------------------------------------------------------------------\u001b[0m",
      "\u001b[1;31mNameError\u001b[0m                                 Traceback (most recent call last)",
      "Cell \u001b[1;32mIn[44], line 1\u001b[0m\n\u001b[1;32m----> 1\u001b[0m d\n",
      "\u001b[1;31mNameError\u001b[0m: name 'd' is not defined"
     ]
    }
   ],
   "source": [
    "d"
   ]
  },
  {
   "cell_type": "code",
   "execution_count": 48,
   "id": "6c8a01e0-3281-4b0a-9421-208c5b7cea90",
   "metadata": {},
   "outputs": [],
   "source": [
    "d={\"family_members\":[\"Abhi\",\"Ajay\",\"Abhay\"] , \"email\":[\"ab@gmail.com\",\"as@gmail.com\",\"aj@gmail.com\"] , \"contact\":(123456789,1234512345,7382734982)}"
   ]
  },
  {
   "cell_type": "code",
   "execution_count": 49,
   "id": "670b27b2-e611-49cb-9652-ac2a33ab548f",
   "metadata": {},
   "outputs": [],
   "source": [
    "d.clear()#To clear every item from dict"
   ]
  },
  {
   "cell_type": "code",
   "execution_count": 50,
   "id": "d79bd292-f372-4f73-b568-2d51cf607b43",
   "metadata": {},
   "outputs": [],
   "source": [
    "d={\"family_members\":[\"Abhi\",\"Ajay\",\"Abhay\"] , \"email\":[\"ab@gmail.com\",\"as@gmail.com\",\"aj@gmail.com\"] , \"contact\":(123456789,1234512345,7382734982)}"
   ]
  },
  {
   "cell_type": "code",
   "execution_count": 51,
   "id": "f16fe72a-68f0-4613-92c5-4e429086d1d3",
   "metadata": {},
   "outputs": [
    {
     "data": {
      "text/plain": [
       "{'family_members': ['Abhi', 'Ajay', 'Abhay'],\n",
       " 'email': ['ab@gmail.com', 'as@gmail.com', 'aj@gmail.com'],\n",
       " 'contact': (123456789, 1234512345, 7382734982)}"
      ]
     },
     "execution_count": 51,
     "metadata": {},
     "output_type": "execute_result"
    }
   ],
   "source": [
    "d"
   ]
  },
  {
   "cell_type": "code",
   "execution_count": 53,
   "id": "4cb9da01-eb40-4b80-a149-9f06c217d3a7",
   "metadata": {},
   "outputs": [
    {
     "data": {
      "text/plain": [
       "3"
      ]
     },
     "execution_count": 53,
     "metadata": {},
     "output_type": "execute_result"
    }
   ],
   "source": [
    "len(d)"
   ]
  },
  {
   "cell_type": "code",
   "execution_count": 54,
   "id": "ab2351d7-45fa-494a-89ca-19554761883d",
   "metadata": {},
   "outputs": [
    {
     "data": {
      "text/plain": [
       "dict_keys(['family_members', 'email', 'contact'])"
      ]
     },
     "execution_count": 54,
     "metadata": {},
     "output_type": "execute_result"
    }
   ],
   "source": [
    "d.keys()"
   ]
  },
  {
   "cell_type": "code",
   "execution_count": 55,
   "id": "13a201df-35e8-4c66-b7f5-21b6c046030d",
   "metadata": {},
   "outputs": [
    {
     "data": {
      "text/plain": [
       "dict_values([['Abhi', 'Ajay', 'Abhay'], ['ab@gmail.com', 'as@gmail.com', 'aj@gmail.com'], (123456789, 1234512345, 7382734982)])"
      ]
     },
     "execution_count": 55,
     "metadata": {},
     "output_type": "execute_result"
    }
   ],
   "source": [
    "d.values()"
   ]
  },
  {
   "cell_type": "code",
   "execution_count": 56,
   "id": "d8b7f8d0-5256-4c67-84f3-ce41ac66cb7a",
   "metadata": {},
   "outputs": [],
   "source": [
    "d1 = d.copy()"
   ]
  },
  {
   "cell_type": "code",
   "execution_count": 57,
   "id": "8e7a66e6-a33c-4145-a54c-1e9f71090458",
   "metadata": {},
   "outputs": [
    {
     "data": {
      "text/plain": [
       "{'family_members': ['Abhi', 'Ajay', 'Abhay'],\n",
       " 'email': ['ab@gmail.com', 'as@gmail.com', 'aj@gmail.com'],\n",
       " 'contact': (123456789, 1234512345, 7382734982)}"
      ]
     },
     "execution_count": 57,
     "metadata": {},
     "output_type": "execute_result"
    }
   ],
   "source": [
    "d1"
   ]
  },
  {
   "cell_type": "code",
   "execution_count": 58,
   "id": "d15ce0bf-30d8-425c-b356-4e2a63062670",
   "metadata": {},
   "outputs": [],
   "source": [
    "del d1"
   ]
  },
  {
   "cell_type": "code",
   "execution_count": 59,
   "id": "1b63ea5d-7bf5-4646-98fb-4c234f259604",
   "metadata": {},
   "outputs": [
    {
     "data": {
      "text/plain": [
       "{'family_members': ['Abhi', 'Ajay', 'Abhay'],\n",
       " 'email': ['ab@gmail.com', 'as@gmail.com', 'aj@gmail.com'],\n",
       " 'contact': (123456789, 1234512345, 7382734982)}"
      ]
     },
     "execution_count": 59,
     "metadata": {},
     "output_type": "execute_result"
    }
   ],
   "source": [
    "d"
   ]
  },
  {
   "cell_type": "code",
   "execution_count": 60,
   "id": "fedb5233-6bc2-4f8d-af74-2a2719ac6b29",
   "metadata": {},
   "outputs": [],
   "source": [
    "d1 = {\"course\":\"ds\"}"
   ]
  },
  {
   "cell_type": "code",
   "execution_count": 61,
   "id": "90aff64b-79b9-4a23-932b-eb7c94c30c5c",
   "metadata": {},
   "outputs": [],
   "source": [
    "d.update(d1)"
   ]
  },
  {
   "cell_type": "code",
   "execution_count": 62,
   "id": "aae4c87a-3ccb-4a31-a890-9ad2cff52f31",
   "metadata": {},
   "outputs": [
    {
     "data": {
      "text/plain": [
       "{'family_members': ['Abhi', 'Ajay', 'Abhay'],\n",
       " 'email': ['ab@gmail.com', 'as@gmail.com', 'aj@gmail.com'],\n",
       " 'contact': (123456789, 1234512345, 7382734982),\n",
       " 'course': 'ds'}"
      ]
     },
     "execution_count": 62,
     "metadata": {},
     "output_type": "execute_result"
    }
   ],
   "source": [
    "d"
   ]
  },
  {
   "cell_type": "code",
   "execution_count": 64,
   "id": "9b8f1c8b-f108-4019-9d72-cf6566c9f27d",
   "metadata": {},
   "outputs": [
    {
     "data": {
      "text/plain": [
       "['Abhi', 'Ajay', 'Abhay']"
      ]
     },
     "execution_count": 64,
     "metadata": {},
     "output_type": "execute_result"
    }
   ],
   "source": [
    "d[\"family_members\"]"
   ]
  },
  {
   "cell_type": "code",
   "execution_count": 65,
   "id": "d570cce4-22ee-4d92-b82a-3a8262e7bdfc",
   "metadata": {},
   "outputs": [
    {
     "data": {
      "text/plain": [
       "['Abhi', 'Ajay', 'Abhay']"
      ]
     },
     "execution_count": 65,
     "metadata": {},
     "output_type": "execute_result"
    }
   ],
   "source": [
    "d.get(\"family_members\")"
   ]
  },
  {
   "cell_type": "code",
   "execution_count": 66,
   "id": "c6c4ec8b-243a-4165-a72b-c3f323544162",
   "metadata": {},
   "outputs": [
    {
     "data": {
      "text/plain": [
       "{1: ('a', 'b', 'c'), 2: ('a', 'b', 'c'), 3: ('a', 'b', 'c')}"
      ]
     },
     "execution_count": 66,
     "metadata": {},
     "output_type": "execute_result"
    }
   ],
   "source": [
    "#from keys\n",
    "d.fromkeys((1,2,3),(\"a\",\"b\",\"c\"))"
   ]
  },
  {
   "cell_type": "code",
   "execution_count": 67,
   "id": "2de89469-d647-423c-9b56-339c968a81a5",
   "metadata": {},
   "outputs": [
    {
     "name": "stdout",
     "output_type": "stream",
     "text": [
      "('arun', 80)\n",
      "('abhi', 95)\n",
      "('abhay', 100)\n"
     ]
    }
   ],
   "source": [
    "#dicitonary comprehension\n",
    "#zip function\n",
    "students =[\"arun\",\"abhi\",\"abhay\"]\n",
    "marks = [80,95,100]\n",
    "for i in zip(students,marks):\n",
    "    print(i)"
   ]
  },
  {
   "cell_type": "code",
   "execution_count": 68,
   "id": "38fa9300-f071-410b-af57-5d4751f0268e",
   "metadata": {},
   "outputs": [],
   "source": [
    "#STORE ABOVE INFO IN KEY VALUE PAIR IN DICT"
   ]
  },
  {
   "cell_type": "code",
   "execution_count": 74,
   "id": "542bfe39-86f1-40f7-9150-1b6a68bbbabc",
   "metadata": {},
   "outputs": [],
   "source": [
    "#dicitonary comprehension\n",
    "#zip function\n",
    "students =[\"arun\",\"abhi\",\"abhay\"]\n",
    "marks = [80,95,100]\n",
    "students_marks = {}\n",
    "for student, mark in zip(students, marks):\n",
    "    students_marks[student] = mark"
   ]
  },
  {
   "cell_type": "code",
   "execution_count": 75,
   "id": "8c634f80-6034-4c70-a58b-c9c7cb64ecd7",
   "metadata": {},
   "outputs": [
    {
     "data": {
      "text/plain": [
       "{'arun': 80, 'abhi': 95, 'abhay': 100}"
      ]
     },
     "execution_count": 75,
     "metadata": {},
     "output_type": "execute_result"
    }
   ],
   "source": [
    "students_marks"
   ]
  },
  {
   "cell_type": "code",
   "execution_count": 79,
   "id": "23a57d47-8ccb-45cc-b012-65f57442f476",
   "metadata": {},
   "outputs": [
    {
     "data": {
      "text/plain": [
       "{'arun': 80, 'abhi': 95, 'abhay': 100}"
      ]
     },
     "execution_count": 79,
     "metadata": {},
     "output_type": "execute_result"
    }
   ],
   "source": [
    "#using dictionary comprehension method\n",
    "{student : marks for student , marks in zip(students,marks)}"
   ]
  },
  {
   "cell_type": "code",
   "execution_count": 83,
   "id": "46b9c741-cd4e-4b10-b5db-21458b69c30f",
   "metadata": {},
   "outputs": [],
   "source": [
    "user_id =[1,2,3]\n",
    "user_name =[\"arun\",\"abhi\",\"abhay\"]\n",
    "hey = {user_id : user_name for user_id  , user_name  in zip(user_id,user_name)}"
   ]
  },
  {
   "cell_type": "code",
   "execution_count": 84,
   "id": "9da026f0-204d-4d3b-a359-126cb6bc53be",
   "metadata": {},
   "outputs": [
    {
     "data": {
      "text/plain": [
       "'abhi'"
      ]
     },
     "execution_count": 84,
     "metadata": {},
     "output_type": "execute_result"
    }
   ],
   "source": [
    "hey.get(2)"
   ]
  },
  {
   "cell_type": "code",
   "execution_count": 88,
   "id": "0419c37e-0b42-4dde-902b-3c2b37fabb7a",
   "metadata": {},
   "outputs": [
    {
     "name": "stdout",
     "output_type": "stream",
     "text": [
      "arun\n",
      "abhi\n",
      "abhay\n"
     ]
    }
   ],
   "source": [
    "for key in user_name:\n",
    "    print(key)"
   ]
  },
  {
   "cell_type": "code",
   "execution_count": null,
   "id": "827c0985-a577-4a0a-8445-c5453d27e9fb",
   "metadata": {},
   "outputs": [],
   "source": [
    "for value in user_name:\n",
    "    print(value)"
   ]
  }
 ],
 "metadata": {
  "kernelspec": {
   "display_name": "Python [conda env:base] *",
   "language": "python",
   "name": "conda-base-py"
  },
  "language_info": {
   "codemirror_mode": {
    "name": "ipython",
    "version": 3
   },
   "file_extension": ".py",
   "mimetype": "text/x-python",
   "name": "python",
   "nbconvert_exporter": "python",
   "pygments_lexer": "ipython3",
   "version": "3.13.5"
  }
 },
 "nbformat": 4,
 "nbformat_minor": 5
}
