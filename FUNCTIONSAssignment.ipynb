{
  "nbformat": 4,
  "nbformat_minor": 0,
  "metadata": {
    "colab": {
      "provenance": []
    },
    "kernelspec": {
      "name": "python3",
      "display_name": "Python 3"
    },
    "language_info": {
      "name": "python"
    }
  },
  "cells": [
    {
      "cell_type": "markdown",
      "source": [
        "# ***FUNCTIONS*** **Assignment**"
      ],
      "metadata": {
        "id": "h_Xib3d-lrjI"
      }
    },
    {
      "cell_type": "markdown",
      "source": [
        "**Theory Questions:**"
      ],
      "metadata": {
        "id": "7AqZITf5l5PC"
      }
    },
    {
      "cell_type": "markdown",
      "source": [
        "1) What is the difference between a function and a method in Python?\n",
        "-  Function - A block of code defined using lambda or def that performs a task.\n",
        "-  Method - It is a function inside a class that  works on an object.\n",
        "\n",
        "Example -(Function) = def add(a,b): return a+b\n",
        "\n",
        "(Method) = \"hello\".upper()\n"
      ],
      "metadata": {
        "id": "ECXp_xRgl9G7"
      }
    },
    {
      "cell_type": "markdown",
      "source": [
        "2) Explain the concept of function arguments and parameters in Python?\n",
        "-  Arguments - Actual values you pass when calling the function.\n",
        "-  Parameters - Variables written in a function definition.\n",
        "\n",
        "Example-\n",
        "\n",
        "def greeting(name): #name here is parameter\n",
        "\n",
        "return f\"Hello, {name}\"\n",
        "\n",
        "print(greeting(\"Abhi\")) # \"Abhi\" is an argument passed"
      ],
      "metadata": {
        "id": "-gzzK8n7nwOs"
      }
    },
    {
      "cell_type": "markdown",
      "source": [
        "3. What are the different ways to define and call a function in Python?\n",
        "-  Ways to define and call a function are by using def or lambda.\n",
        "\n",
        "Example:  Using def-\n",
        "\n",
        "def add(a,b): return a+b\n",
        "\n",
        "print (add(3,4))\n",
        "\n",
        "Using lambda-\n",
        "\n",
        "f = lambda x:x*x\n",
        "\n",
        "print(f(2))"
      ],
      "metadata": {
        "id": "0fKDcqFBpPf5"
      }
    },
    {
      "cell_type": "markdown",
      "source": [
        "4. What is the purpose of the `return` statement in a Python function?\n",
        "-  Gives the result and if u dont use it , it give the result None.\n",
        "\n",
        "Example-\n",
        "def subtract(a,b): return a-b\n",
        "\n",
        "print(subtract(5,4))"
      ],
      "metadata": {
        "id": "BMwIbiZaqquF"
      }
    },
    {
      "cell_type": "markdown",
      "source": [
        " 5. What are iterators in Python and how do they differ from iterables?\n",
        " -  Iterable - An object that can return an iterator\n",
        " like list,tuple\n",
        " -  Iterator - An object with iter() and next() methods and it gives one value at a time\n",
        "\n",
        " Example:\n",
        " my_list=[1,3,5] #This is iterable\n",
        "\n",
        " a = next(my_list) # This is Iterator\n",
        "\n",
        " print(next(a))\n",
        "\n",
        " print(next(a))\n",
        "\n",
        " print(next(a))"
      ],
      "metadata": {
        "id": "P9DbbOuLrW9d"
      }
    },
    {
      "cell_type": "markdown",
      "source": [
        "6. Explain the concept of generators in Python and how they are defined?\n",
        "-  Generators - They are special functions that use yield. It produces one value at a time.\n",
        "\n",
        "Example - def num(n):\n",
        "\n",
        "while n>0:\n",
        "\n",
        "yeild n\n",
        "\n",
        "n -= 1"
      ],
      "metadata": {
        "id": "EbkWZr1ks7wP"
      }
    },
    {
      "cell_type": "markdown",
      "source": [
        " 7. What are the advantages of using generators over regular functions?\n",
        " -  Advantages are -  They are memory efficient , they produce value one by one which is good for very large datasets.\n",
        "\n",
        " Example - num = [x*x for x in range(10000000)]"
      ],
      "metadata": {
        "id": "7Kl2qeZ2ulPA"
      }
    },
    {
      "cell_type": "markdown",
      "source": [
        "8. What is a lambda function in Python and when is it typically used?\n",
        "-  Lambda function - It is an anonymous function generally used for short functions which returns the value in a single go.\n",
        "\n",
        "Example -\n",
        "\n",
        "square =  lambda x : x*x\n",
        "\n",
        "print(square(3))"
      ],
      "metadata": {
        "id": "4BGjRi4kvT1v"
      }
    },
    {
      "cell_type": "markdown",
      "source": [
        "9. Explain the purpose and usage of the `map()` function in Python?\n",
        "-  Applies the fuction to each element present.\n",
        "\n",
        "Example-  num = [1,2,3]\n",
        "\n",
        "square1 = lambda x: x*x\n",
        "\n",
        "print(list(map(square1,num)))"
      ],
      "metadata": {
        "id": "g2FxoGqXv-ZD"
      }
    },
    {
      "cell_type": "markdown",
      "source": [
        "10. What is the difference between `map()`, `reduce()`, and `filter()` functions in Python?\n",
        "-  map()- applies a function to each element\n",
        "\n",
        "-  reduce()- keeps only the elements where the function returns True\n",
        "\n",
        "-  fiter()- combines all elements into a single value\n",
        "\n",
        "Example-\n",
        "\n",
        "num = [1,2,3]\n",
        "\n",
        "print(list(map(lambda x : x*x , num)))\n",
        "print(list(filter(lambda x : x*2 > 4 , num)))\n",
        "print(reduce(lambda a,b : a*b , num))\n"
      ],
      "metadata": {
        "id": "0U6KvW5LxFSx"
      }
    },
    {
      "cell_type": "markdown",
      "source": [
        "\n",
        "11. Using pen & Paper write the internal mechanism for sum operation using  reduce function on this given list:[47,11,42,13];\n",
        "-  from functools import reduce\n",
        "\n",
        "list1 = [47,11,42,13]\n",
        "\n",
        "print(reduce(lambda x,y: x+y, list1))\n",
        "\n",
        "DRY-RUN\n",
        "\n",
        "1) first element x = 47 & y = 11\n",
        "\n",
        "so sum of x+y = 58\n",
        "\n",
        "2) now x = 58 whereas y = 42\n",
        "\n",
        "so sum of x+y = 100\n",
        "\n",
        "3) now x = 100 & y = 13\n",
        "\n",
        "so sum of x+y =  113\n",
        "\n",
        "FINAL ANSWER IS 113\n"
      ],
      "metadata": {
        "id": "r-Fx-03yyor9"
      }
    },
    {
      "cell_type": "markdown",
      "source": [
        "**PRACTICAL QUESTIONS**:"
      ],
      "metadata": {
        "id": "9aow7wQSz-IT"
      }
    },
    {
      "cell_type": "code",
      "source": [
        "#1. Write a Python function that takes a list of numbers as input and returns the sum of all even numbers in\n",
        "#the list.\n",
        "list1 = [1,2,3,4]\n",
        "def sumofeven(num):\n",
        "  return sum(x for x in num if x % 2 == 0)\n",
        "\n",
        "print(sumofeven(list1))"
      ],
      "metadata": {
        "colab": {
          "base_uri": "https://localhost:8080/"
        },
        "id": "pIk5C0lm0Lc6",
        "outputId": "0e910bfc-8eee-4363-a1ef-87ab3b75c386"
      },
      "execution_count": null,
      "outputs": [
        {
          "output_type": "stream",
          "name": "stdout",
          "text": [
            "6\n"
          ]
        }
      ]
    },
    {
      "cell_type": "code",
      "source": [
        "#2. Create a Python function that accepts a string and returns the reverse of that string.\n",
        "def reverse(s):\n",
        "  return s[::-1]\n",
        "\n",
        "print(reverse(\"Abhijeet\"))"
      ],
      "metadata": {
        "colab": {
          "base_uri": "https://localhost:8080/"
        },
        "id": "GCNL1tlR1uXl",
        "outputId": "b46302f7-6845-4e4d-cf90-c126de371ee4"
      },
      "execution_count": null,
      "outputs": [
        {
          "output_type": "stream",
          "name": "stdout",
          "text": [
            "teejihbA\n"
          ]
        }
      ]
    },
    {
      "cell_type": "code",
      "source": [
        "#3. Implement a Python function that takes a list of integers and returns a new list containing the squares of\n",
        "#each number.\n",
        "list2=[1,2,3,4,5]\n",
        "def list_square(num):\n",
        "  return[x*x for x in num]\n",
        "\n",
        "print(list_square(list2))"
      ],
      "metadata": {
        "colab": {
          "base_uri": "https://localhost:8080/"
        },
        "id": "5NlQQ5Hm2ATX",
        "outputId": "30c0424a-5d87-4edb-f00d-d9390f2baa04"
      },
      "execution_count": null,
      "outputs": [
        {
          "output_type": "stream",
          "name": "stdout",
          "text": [
            "[1, 4, 9, 16, 25]\n"
          ]
        }
      ]
    },
    {
      "cell_type": "code",
      "source": [
        "#4. Write a Python function that checks if a\n",
        "#given number is prime or not from 1 to 200.\n",
        "def check_prime(n):\n",
        "  if n < 2:\n",
        "    return False\n",
        "  for i in range(2,n):\n",
        "    if n% i == 0:\n",
        "      return False\n",
        "  return True\n",
        "\n",
        "primes=[]\n",
        "for n in range(1,201):\n",
        "  if check_prime(n):\n",
        "    primes.append(n)\n",
        "\n",
        "print(f\"Prime numbers from 1 to 200 are {primes}\")"
      ],
      "metadata": {
        "colab": {
          "base_uri": "https://localhost:8080/"
        },
        "id": "zAEpmKI42qEc",
        "outputId": "ba9af7ad-0166-4d09-8e2c-ea3ef67460b0"
      },
      "execution_count": null,
      "outputs": [
        {
          "output_type": "stream",
          "name": "stdout",
          "text": [
            "Prime numbers from 1 to 200 are [2, 3, 5, 7, 11, 13, 17, 19, 23, 29, 31, 37, 41, 43, 47, 53, 59, 61, 67, 71, 73, 79, 83, 89, 97, 101, 103, 107, 109, 113, 127, 131, 137, 139, 149, 151, 157, 163, 167, 173, 179, 181, 191, 193, 197, 199]\n"
          ]
        }
      ]
    },
    {
      "cell_type": "code",
      "source": [
        "#5. Create an iterator class in Python that generates the Fibonacci sequence up to a specified number of\n",
        "#terms.\n",
        "def fibonacci(n):\n",
        "    if n <= 0:\n",
        "        return[]\n",
        "    elif n == 1:\n",
        "        return [0]\n",
        "\n",
        "    a = [0,1]\n",
        "    for _ in range(2,n):\n",
        "        b = a[-1] + a[-2]\n",
        "        a.append(b)\n",
        "    return a\n",
        "\n",
        "\n",
        "fib_iter = iter(fibonacci(10))\n",
        "\n",
        "print(next(fib_iter))\n",
        "print(next(fib_iter))\n",
        "print(next(fib_iter))\n",
        "print(next(fib_iter))\n",
        "print(next(fib_iter))\n",
        "print(next(fib_iter))\n",
        "print(next(fib_iter))\n",
        "print(next(fib_iter))\n",
        "print(next(fib_iter))\n",
        "print(next(fib_iter))\n",
        "\n"
      ],
      "metadata": {
        "colab": {
          "base_uri": "https://localhost:8080/"
        },
        "id": "bOt4Kxtr6Egi",
        "outputId": "dc124ed7-7865-4c32-d6e3-88772b60d9e4"
      },
      "execution_count": null,
      "outputs": [
        {
          "output_type": "stream",
          "name": "stdout",
          "text": [
            "0\n",
            "1\n",
            "1\n",
            "2\n",
            "3\n",
            "5\n",
            "8\n",
            "13\n",
            "21\n",
            "34\n"
          ]
        }
      ]
    },
    {
      "cell_type": "code",
      "source": [
        "\n",
        " #6. Write a generator function in Python that yields the powers of 2 up to a given\n",
        " #exponent.\n",
        "def powers2(n):\n",
        "  for i in range(n):\n",
        "    yield 2**i\n",
        "print(list(powers2(4)))\n",
        "\n"
      ],
      "metadata": {
        "colab": {
          "base_uri": "https://localhost:8080/"
        },
        "id": "sLyk0B046OI4",
        "outputId": "2736fea9-1878-44fc-cd1f-cf311ffc078c"
      },
      "execution_count": null,
      "outputs": [
        {
          "output_type": "stream",
          "name": "stdout",
          "text": [
            "[1, 2, 4, 8]\n"
          ]
        }
      ]
    },
    {
      "cell_type": "code",
      "source": [
        "#7. Implement a generator function that reads a file line by line and yields each line as a\n",
        "#string.\n",
        "\n",
        "def read_file(file):\n",
        "  for line in open(file, \"r\"):\n",
        "    yield line.strip()\n",
        "\n",
        "for l in read_file(\"sample.text\"):\n",
        "  print(l)\n"
      ],
      "metadata": {
        "id": "_QBePB9B9fQS"
      },
      "execution_count": 51,
      "outputs": []
    },
    {
      "cell_type": "code",
      "source": [
        " #8. Use a lambda function in Python to sort a list of tuples based on the second element of each\n",
        " #tuple.\n",
        "mytuple = [(1,2),(3,6),(5,4)]\n",
        "mytuple.sort(key = lambda x:x[1])\n",
        "print(mytuple)"
      ],
      "metadata": {
        "colab": {
          "base_uri": "https://localhost:8080/"
        },
        "id": "qAPCjHif_DKB",
        "outputId": "f92ca5af-a00b-479b-c5a6-83fd73f19ed9"
      },
      "execution_count": 54,
      "outputs": [
        {
          "output_type": "stream",
          "name": "stdout",
          "text": [
            "[(1, 2), (5, 4), (3, 6)]\n"
          ]
        }
      ]
    },
    {
      "cell_type": "code",
      "source": [
        " #9. Write a Python program that uses `map()` to convert a list of temperatures from Celsius to\n",
        " #Fahrenheit.\n",
        "temp_in_celsius = [0,10,20,30,40]\n",
        "#Formula is (F = (x*9/5)+32)\n",
        "temp_in_fahrenheit = list(map(lambda x: (x*9/5)+32, temp_in_celsius))\n",
        "print(temp_in_fahrenheit)"
      ],
      "metadata": {
        "colab": {
          "base_uri": "https://localhost:8080/"
        },
        "id": "xzjwC6Cy_rMy",
        "outputId": "b6678528-3c5a-4962-de56-4888ea281f71"
      },
      "execution_count": 56,
      "outputs": [
        {
          "output_type": "stream",
          "name": "stdout",
          "text": [
            "[32.0, 50.0, 68.0, 86.0, 104.0]\n"
          ]
        }
      ]
    },
    {
      "cell_type": "code",
      "source": [
        " #10. Create a Python program that uses `filter()` to remove all the vowels from a given\n",
        " #string.\n",
        "sentence = \"This is Abhi\"\n",
        "result = \"\"\n",
        "\n",
        "for ch in sentence:\n",
        "    if ch.lower() not in \"aeiou\":\n",
        "        result += ch\n",
        "\n",
        "print(result)\n"
      ],
      "metadata": {
        "colab": {
          "base_uri": "https://localhost:8080/"
        },
        "id": "s8T2tTUlAWhp",
        "outputId": "5b6dc146-6927-4b53-ffc1-79a8ce0929a5"
      },
      "execution_count": 65,
      "outputs": [
        {
          "output_type": "stream",
          "name": "stdout",
          "text": [
            "Ths s bh\n"
          ]
        }
      ]
    },
    {
      "cell_type": "code",
      "source": [
        " #11) Imagine an accounting routine used in a book shop. It works on a list with sublists, which look like\n",
        " #this:\n",
        "orders = [\n",
        "     [34587, \"Learning Python, Mark Lutz\", 4, 40.95],\n",
        "     [98762, \"Programming Python, Mark Lutz\", 5, 56.80],\n",
        "     [77226, \"Head First Python, Paul Barry\", 3, 32.95],\n",
        "     [88112, \"Einführung in Python3, Bernd Klein\", 3, 24.99]\n",
        " ]\n",
        "total = list(map(lambda x: (x[0], x[2]*x[3]),orders))\n",
        "print(total)"
      ],
      "metadata": {
        "colab": {
          "base_uri": "https://localhost:8080/"
        },
        "id": "IY8MklYlBpON",
        "outputId": "dda5b27a-adc4-4b16-c11c-9657358626bd"
      },
      "execution_count": 66,
      "outputs": [
        {
          "output_type": "stream",
          "name": "stdout",
          "text": [
            "[(34587, 163.8), (98762, 284.0), (77226, 98.85000000000001), (88112, 74.97)]\n"
          ]
        }
      ]
    },
    {
      "cell_type": "code",
      "source": [],
      "metadata": {
        "id": "TuCCRQZpDvyJ"
      },
      "execution_count": null,
      "outputs": []
    }
  ]
}