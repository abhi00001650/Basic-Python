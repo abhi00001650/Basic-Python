{
 "cells": [
  {
   "cell_type": "code",
   "execution_count": 1,
   "id": "f756ba86-f145-4bac-85ce-dd9893f2b69a",
   "metadata": {},
   "outputs": [],
   "source": [
    "#Inheritance>> refers to process of child class receiving the properties of parent class\n",
    "#SYNTAX>> class Baseclass:\n",
    " #           #body of base class\n",
    "  #       class Derivedclass(BaseClass):\n",
    "   #         #body of derived class"
   ]
  },
  {
   "cell_type": "code",
   "execution_count": null,
   "id": "9006b117-26f4-4ef7-bd3a-2d3f7b0b13a1",
   "metadata": {},
   "outputs": [],
   "source": [
    "#SINGLE INHERITANCE >> when a derived class has only 1 parent class"
   ]
  },
  {
   "cell_type": "code",
   "execution_count": 4,
   "id": "50e71b8d-7a81-485e-abb0-69c99892d5c1",
   "metadata": {},
   "outputs": [],
   "source": [
    "#EXAMPLE\n",
    "class Father:\n",
    "    def father_property(self):\n",
    "        print(\"This is father property\")"
   ]
  },
  {
   "cell_type": "code",
   "execution_count": 5,
   "id": "273001e3-c880-4e66-b164-c6960b8947b2",
   "metadata": {},
   "outputs": [],
   "source": [
    "class Son(Father):\n",
    "    def job(self):\n",
    "        print(\"Son has property from job\")"
   ]
  },
  {
   "cell_type": "code",
   "execution_count": 7,
   "id": "0ba43d01-ff72-48c2-862b-f85640143414",
   "metadata": {},
   "outputs": [],
   "source": [
    "child_obj = Son() #Object/instance of  Son class"
   ]
  },
  {
   "cell_type": "code",
   "execution_count": 8,
   "id": "f6f81128-af5b-437c-9568-3f0d62d1f504",
   "metadata": {},
   "outputs": [
    {
     "name": "stdout",
     "output_type": "stream",
     "text": [
      "This is father property\n"
     ]
    }
   ],
   "source": [
    "#A child can have his property and also his father property\n",
    "child_obj.father_property()"
   ]
  },
  {
   "cell_type": "code",
   "execution_count": 9,
   "id": "05b42956-e31b-4570-8d52-f1e6be7f436e",
   "metadata": {},
   "outputs": [
    {
     "name": "stdout",
     "output_type": "stream",
     "text": [
      "Son has property from job\n"
     ]
    }
   ],
   "source": [
    "child_obj.job()"
   ]
  },
  {
   "cell_type": "code",
   "execution_count": 10,
   "id": "b4ed6102-750c-4556-a886-4e6f0286a472",
   "metadata": {},
   "outputs": [
    {
     "name": "stdout",
     "output_type": "stream",
     "text": [
      "This is father property\n"
     ]
    }
   ],
   "source": [
    "#A father will have only his property \n",
    "father_obj = Father()\n",
    "father_obj.father_property()"
   ]
  },
  {
   "cell_type": "code",
   "execution_count": 11,
   "id": "b2f76a2e-2b42-44a1-9998-453badcd2acc",
   "metadata": {},
   "outputs": [],
   "source": [
    "#Parent class will not have acces to the property of child class but child have access to both"
   ]
  },
  {
   "cell_type": "code",
   "execution_count": 26,
   "id": "9e5a5731-30cb-4f54-9804-4711fc362ded",
   "metadata": {},
   "outputs": [],
   "source": [
    "class Fruit:\n",
    "    def fruit_info(self):\n",
    "        print(\"Inside parent class\")\n",
    "\n",
    "class Apple(Fruit):\n",
    "    def apple_info(self):\n",
    "        print(\"Inside the child class\")"
   ]
  },
  {
   "cell_type": "code",
   "execution_count": 27,
   "id": "7db53086-ee94-41b3-a632-3b73be8b28da",
   "metadata": {},
   "outputs": [
    {
     "name": "stdout",
     "output_type": "stream",
     "text": [
      "Inside the child class\n"
     ]
    }
   ],
   "source": [
    "obj = Apple()\n",
    "obj.apple_info()"
   ]
  },
  {
   "cell_type": "code",
   "execution_count": 28,
   "id": "4cbbb1bf-78e9-4d71-b38a-82600d2b67d3",
   "metadata": {},
   "outputs": [
    {
     "name": "stdout",
     "output_type": "stream",
     "text": [
      "Inside parent class\n"
     ]
    }
   ],
   "source": [
    "obj.fruit_info()"
   ]
  },
  {
   "cell_type": "code",
   "execution_count": 20,
   "id": "f0e074a2-ed10-4f06-ae4c-08a8252b919e",
   "metadata": {},
   "outputs": [
    {
     "name": "stdout",
     "output_type": "stream",
     "text": [
      "Inside parent class\n"
     ]
    }
   ],
   "source": [
    "par = Fruit()\n",
    "par.fruit_info()"
   ]
  },
  {
   "cell_type": "code",
   "execution_count": 38,
   "id": "1708bc71-1e77-4976-920c-4ba3c1eb7a47",
   "metadata": {},
   "outputs": [],
   "source": [
    "#Method overriding\n",
    "class Fruit:\n",
    "    def fruit_info(self):\n",
    "        print(\"Inside parent class\")\n",
    "\n",
    "class Apple(Fruit):\n",
    "    def fruit_info(self):\n",
    "        print(\"Inside the child class\")\n",
    "    def apple_info(self):\n",
    "        print(\"Inside the child class\")\n",
    "\n",
    "#method overriding >> child class is very powerful \n",
    "#method overriding happened between two class"
   ]
  },
  {
   "cell_type": "code",
   "execution_count": 39,
   "id": "1601e3bc-b99c-4e4f-89fe-8dc5e5cf360e",
   "metadata": {},
   "outputs": [
    {
     "name": "stdout",
     "output_type": "stream",
     "text": [
      "Inside the child class\n"
     ]
    }
   ],
   "source": [
    "obja = Apple()\n",
    "obja.fruit_info()"
   ]
  },
  {
   "cell_type": "code",
   "execution_count": 40,
   "id": "c40e5444-f368-4d56-92cd-392e8d0aaea0",
   "metadata": {},
   "outputs": [
    {
     "name": "stdout",
     "output_type": "stream",
     "text": [
      "Inside the child class\n"
     ]
    }
   ],
   "source": [
    "obja = Apple()\n",
    "obja.apple_info()"
   ]
  },
  {
   "cell_type": "code",
   "execution_count": 44,
   "id": "c2267afe-0d42-43d9-a7cb-8438a60c03c9",
   "metadata": {},
   "outputs": [],
   "source": [
    "#MULTI-LEVEL INHERITANCE>> \n",
    "class Grandfather:\n",
    "    def Grandfather_info(self):\n",
    "        print(\"I am your Grand father\")\n",
    "\n",
    "class Father(Grandfather):\n",
    "    def father_info(self):\n",
    "        print(\"I am your father\")\n",
    "\n",
    "class Son(Father):\n",
    "    def son_info(self):\n",
    "        print(\"I am your son\")"
   ]
  },
  {
   "cell_type": "code",
   "execution_count": 45,
   "id": "67fec517-22df-41bc-b038-70916672587f",
   "metadata": {},
   "outputs": [
    {
     "name": "stdout",
     "output_type": "stream",
     "text": [
      "I am your Grand father\n"
     ]
    }
   ],
   "source": [
    "objGF = Grandfather()\n",
    "objGF.Grandfather_info()"
   ]
  },
  {
   "cell_type": "code",
   "execution_count": 56,
   "id": "d4c8303b-d964-4bc9-9fb6-ea083f701245",
   "metadata": {},
   "outputs": [
    {
     "name": "stdout",
     "output_type": "stream",
     "text": [
      "I am your Grand father\n",
      "I am your father\n"
     ]
    }
   ],
   "source": [
    "objF = Father()\n",
    "objF.Grandfather_info()\n",
    "objF.father_info()"
   ]
  },
  {
   "cell_type": "code",
   "execution_count": 50,
   "id": "a2df954a-343a-46c1-9d8f-d5dd489051ca",
   "metadata": {},
   "outputs": [
    {
     "name": "stdout",
     "output_type": "stream",
     "text": [
      "I am your Grand father\n",
      "I am your father\n",
      "I am your son\n"
     ]
    }
   ],
   "source": [
    "objS = Son()\n",
    "objS.Grandfather_info()\n",
    "objS.father_info()\n",
    "objS.son_info()"
   ]
  },
  {
   "cell_type": "code",
   "execution_count": 58,
   "id": "a8925f61-8cbd-4bf8-ae50-e3a8b5d26726",
   "metadata": {},
   "outputs": [],
   "source": [
    "#USE CASE\n",
    "class Vehicle:\n",
    "    def Vehicle_info(self):\n",
    "        print(\"Inside the vehicle class\")\n",
    "\n",
    "class Car(Vehicle):\n",
    "    def Car_info(self):\n",
    "        print(\"Inside the car class\")\n",
    "\n",
    "class SportsCar(Car):\n",
    "    def Sports_Car_info(self):\n",
    "        print(\"Inside Sports Car\")"
   ]
  },
  {
   "cell_type": "code",
   "execution_count": 60,
   "id": "c3fe7a0b-54bc-48a6-b225-413c7061c720",
   "metadata": {},
   "outputs": [
    {
     "name": "stdout",
     "output_type": "stream",
     "text": [
      "Inside Sports Car\n",
      "Inside the car class\n",
      "Inside the vehicle class\n"
     ]
    }
   ],
   "source": [
    "s1 = SportsCar()\n",
    "s1.Sports_Car_info()\n",
    "s1.Car_info()\n",
    "s1.Vehicle_info()"
   ]
  },
  {
   "cell_type": "code",
   "execution_count": 62,
   "id": "4c3be6a4-a3a3-4053-a5b3-b4958c4087ab",
   "metadata": {},
   "outputs": [
    {
     "name": "stdout",
     "output_type": "stream",
     "text": [
      "Inside the car class\n",
      "Inside the vehicle class\n"
     ]
    }
   ],
   "source": [
    "s2 = Car()\n",
    "s2.Car_info()\n",
    "s2.Vehicle_info()"
   ]
  },
  {
   "cell_type": "code",
   "execution_count": 64,
   "id": "82f21257-bd71-4b5b-8a7e-de90afb4e20c",
   "metadata": {},
   "outputs": [
    {
     "name": "stdout",
     "output_type": "stream",
     "text": [
      "Inside the vehicle class\n"
     ]
    }
   ],
   "source": [
    "s3 = Vehicle()\n",
    "s3.Vehicle_info() #method overriding >>child class  is most powerful"
   ]
  },
  {
   "cell_type": "code",
   "execution_count": 65,
   "id": "262a0128-6fe9-4dc3-8dc3-10440cd8077c",
   "metadata": {},
   "outputs": [],
   "source": [
    "#MULTIPLE INHERITANCE >> 1 child class may inherit the property of multiple parent class"
   ]
  },
  {
   "cell_type": "code",
   "execution_count": 66,
   "id": "c6c3440c-69ed-4f60-aebf-a09587b58ab2",
   "metadata": {},
   "outputs": [],
   "source": [
    "class ParentClass1:\n",
    "    def Method1(self):\n",
    "        print(\"Method1 of parent class 1\")\n",
    "class ParentClass2:\n",
    "    def Method2(self):\n",
    "        print(\"Method2 of parent class 2\")"
   ]
  },
  {
   "cell_type": "code",
   "execution_count": 70,
   "id": "a0e29db6-1697-41c3-a9ad-f02f4624dfa2",
   "metadata": {},
   "outputs": [],
   "source": [
    "class ChildClass(ParentClass1,ParentClass2):\n",
    "    def Method(Self):\n",
    "        print(\"Method of child class\")"
   ]
  },
  {
   "cell_type": "code",
   "execution_count": 71,
   "id": "a3e1ab63-5a67-4ca2-8b17-83e14d9cae1c",
   "metadata": {},
   "outputs": [
    {
     "name": "stdout",
     "output_type": "stream",
     "text": [
      "Method of child class\n",
      "Method1 of parent class 1\n",
      "Method2 of parent class 2\n"
     ]
    }
   ],
   "source": [
    "c1 = ChildClass()\n",
    "c1.Method()\n",
    "c1.Method1()\n",
    "c1.Method2()"
   ]
  },
  {
   "cell_type": "code",
   "execution_count": 72,
   "id": "3b8135bd-acb0-4843-bfce-ee515b3990ee",
   "metadata": {},
   "outputs": [],
   "source": [
    "#DIAMMOND PROBLEM - it occurs when inherit from 2 o more than 2 class>> will lead to ambuitguity in calling of methods\n",
    "#TO REMOVE THIS PROBLEM>> PYTHON USES MRO(method resolution order) algprithm  CALLED C3 LINEARIZATION\n",
    "#means that the class that is inherited first in the derived class that method will be called \n",
    "class ParentClass1:   #Changing the function name to sam for both parent1 and parent2 and checking which gets executed \n",
    "    def Method1(self):\n",
    "        print(\"Method1 of parent class 1\")\n",
    "class ParentClass2:\n",
    "    def Method1(self):\n",
    "        print(\"Method2 of parent class 2\")\n",
    "class ChildClass(ParentClass1,ParentClass2):\n",
    "    def Method(Self):\n",
    "        print(\"Method of child class\")"
   ]
  },
  {
   "cell_type": "code",
   "execution_count": 76,
   "id": "794b0866-a85b-489e-911d-f81e61848a8c",
   "metadata": {},
   "outputs": [
    {
     "name": "stdout",
     "output_type": "stream",
     "text": [
      "Method of child class\n",
      "Method1 of parent class 1\n"
     ]
    }
   ],
   "source": [
    "c1 = ChildClass()\n",
    "c1.Method()\n",
    "c1.Method1()#Gets executed from Parentclass1"
   ]
  },
  {
   "cell_type": "code",
   "execution_count": 80,
   "id": "862cf1e6-aa91-482a-acf9-81750568034a",
   "metadata": {},
   "outputs": [],
   "source": [
    "#DIAMOND PROBLEM\n",
    "class A:\n",
    "    def method(self):\n",
    "        print(\"Method of class A\")\n",
    "class B(A):\n",
    "    def method(self):\n",
    "        print(\"Method of class B\")\n",
    "class C(A):\n",
    "    def method(self):\n",
    "        print(\"Method of class C\")\n",
    "class D(B,C):\n",
    "    pass"
   ]
  },
  {
   "cell_type": "code",
   "execution_count": 81,
   "id": "bcca7b2b-a7ac-42ec-8e39-c9f3b15469d4",
   "metadata": {},
   "outputs": [
    {
     "name": "stdout",
     "output_type": "stream",
     "text": [
      "Method of class B\n"
     ]
    }
   ],
   "source": [
    "d = D()\n",
    "d.method()"
   ]
  },
  {
   "cell_type": "code",
   "execution_count": 82,
   "id": "e4d993b9-913a-483f-b729-1195c566c413",
   "metadata": {},
   "outputs": [],
   "source": [
    "#HEIRARCHICAL INHERITANCE>> 1 parent class and more than 2 child class"
   ]
  },
  {
   "cell_type": "code",
   "execution_count": 83,
   "id": "d41fe1ad-765f-417c-a470-92e7a80340c7",
   "metadata": {},
   "outputs": [],
   "source": [
    "class Parent:\n",
    "    def Property(self):\n",
    "        print(\"I am the parent\")\n",
    "class Child1(Parent):\n",
    "    def Child_property(self):\n",
    "        print(\"I am Child1\")\n",
    "class Child2(Parent):\n",
    "    def Child_property(self):\n",
    "        print(\"I am Child2\")"
   ]
  },
  {
   "cell_type": "code",
   "execution_count": 84,
   "id": "500c315b-c35a-4bbc-92db-e6794e4c1b5b",
   "metadata": {},
   "outputs": [
    {
     "name": "stdout",
     "output_type": "stream",
     "text": [
      "I am the parent\n"
     ]
    }
   ],
   "source": [
    "obj1 = Parent()\n",
    "obj1.Property()"
   ]
  },
  {
   "cell_type": "code",
   "execution_count": 85,
   "id": "2a6ba684-c86a-4f69-b0ac-789ad550bca8",
   "metadata": {},
   "outputs": [
    {
     "name": "stdout",
     "output_type": "stream",
     "text": [
      "I am Child1\n",
      "I am the parent\n"
     ]
    }
   ],
   "source": [
    "obj2 = Child1()\n",
    "obj2.Child_property()\n",
    "obj2.Property()"
   ]
  },
  {
   "cell_type": "code",
   "execution_count": 86,
   "id": "61090285-c136-434d-add9-3b56fa049223",
   "metadata": {},
   "outputs": [
    {
     "name": "stdout",
     "output_type": "stream",
     "text": [
      "I am Child2\n",
      "I am the parent\n"
     ]
    }
   ],
   "source": [
    "obj3 = Child2()\n",
    "obj3.Child_property()\n",
    "obj3.Property()"
   ]
  },
  {
   "cell_type": "code",
   "execution_count": 87,
   "id": "81fa49c4-6d01-4312-bf37-f0926ea00916",
   "metadata": {},
   "outputs": [],
   "source": [
    "class Vehicle:\n",
    "    def info(self):\n",
    "        print(\"This is vehicle\")\n",
    "class Car(Vehicle):\n",
    "    def car_info(self,name):\n",
    "        print(\"This is car info\" , name)\n",
    "class Truck(Vehicle):\n",
    "    def truck_info(self,name):\n",
    "        print(\"This is the Truck\" , name)"
   ]
  },
  {
   "cell_type": "code",
   "execution_count": 88,
   "id": "704e490a-2f37-45d9-a2e5-76b4cdf604ca",
   "metadata": {},
   "outputs": [
    {
     "name": "stdout",
     "output_type": "stream",
     "text": [
      "This is vehicle\n"
     ]
    }
   ],
   "source": [
    "c1 = Car()\n",
    "c1.info()"
   ]
  },
  {
   "cell_type": "code",
   "execution_count": 89,
   "id": "9a505357-c085-49a6-8b1a-f84b7aba11c4",
   "metadata": {},
   "outputs": [
    {
     "name": "stdout",
     "output_type": "stream",
     "text": [
      "This is car info BMW\n"
     ]
    }
   ],
   "source": [
    "c1.car_info(\"BMW\")"
   ]
  },
  {
   "cell_type": "code",
   "execution_count": 91,
   "id": "773c8b12-dfee-455f-a1f7-7ae09d96df81",
   "metadata": {},
   "outputs": [
    {
     "name": "stdout",
     "output_type": "stream",
     "text": [
      "This is vehicle\n",
      "This is the Truck Mahindra\n"
     ]
    }
   ],
   "source": [
    "obj2 = Truck()\n",
    "obj2.info()\n",
    "obj2.truck_info(\"Mahindra\")"
   ]
  },
  {
   "cell_type": "code",
   "execution_count": 92,
   "id": "d4d63c1c-d39e-475b-ba2b-747ff5750824",
   "metadata": {},
   "outputs": [],
   "source": [
    "#HYBRID INHERITANCE>> Multiple types or combination of different inheritance\n",
    "class Vehicle:\n",
    "    def vehicle_info(self):\n",
    "        print(\"Inside the vehicle class\")\n",
    "\n",
    "class Car(Vehicle):\n",
    "    def car_info(self):\n",
    "        print(\"Inside the car class\")\n",
    "\n",
    "class Truck(Vehicle):\n",
    "    def truck_info(self,name):\n",
    "        print(\"inside Truck info\" , name)\n",
    "\n",
    "class Sportscar(Car,Vehicle):\n",
    "    def sports_info(self):\n",
    "        print(\"Inside sports car class\")"
   ]
  },
  {
   "cell_type": "code",
   "execution_count": 93,
   "id": "c3f6c302-3e07-45a6-9820-ae186fcb09ec",
   "metadata": {},
   "outputs": [
    {
     "name": "stdout",
     "output_type": "stream",
     "text": [
      "Inside the car class\n"
     ]
    }
   ],
   "source": [
    "obj1 = Sportscar()\n",
    "obj1.car_info()"
   ]
  },
  {
   "cell_type": "code",
   "execution_count": 94,
   "id": "10925d77-4de0-44e7-9940-b9d1fa817003",
   "metadata": {},
   "outputs": [
    {
     "name": "stdout",
     "output_type": "stream",
     "text": [
      "Inside the vehicle class\n"
     ]
    }
   ],
   "source": [
    "obj1.vehicle_info()"
   ]
  },
  {
   "cell_type": "code",
   "execution_count": 95,
   "id": "6224f392-c113-49ac-bc98-c2483ee72f22",
   "metadata": {},
   "outputs": [
    {
     "name": "stdout",
     "output_type": "stream",
     "text": [
      "Inside the car class\n"
     ]
    }
   ],
   "source": [
    "obj1.car_info()"
   ]
  },
  {
   "cell_type": "code",
   "execution_count": 108,
   "id": "5123af8b-bf4b-455f-bf52-25d092673b94",
   "metadata": {},
   "outputs": [],
   "source": [
    "#ABSTARCTION>> CONCEPT OF HIDING COMPLEX IMPLEMENTATION\n",
    "#HIDING UNNEEDED DETAILS AND EXPOSING THE REQUIRED\n",
    "#ABSTRACT CLASS CAN NOT BE INSTANTIATED (CANNOT MAKE OBJECT OF IT)\n",
    "#ABSTRACT CLASSS SHOULD ALWAYS BE SUBCLASSED\n",
    "#ABSTRACT CLASS MAY CONTAIN METHODS THAT ARE JUST DECLARED AND NOT IMPLEMENTED IN ABSTRACT CLASS ITSELF,SUBCLASS ARE RESPONSIBLE FOR INPLEMENTING THESE ABSTRACT CLASS\n",
    "#IF IN INHERITED CLASS A METHOD IS NOT PRESENT FROM ABSTRACT CLASS IT WILL NOT THROW ERROR"
   ]
  },
  {
   "cell_type": "code",
   "execution_count": 109,
   "id": "88f4998f-c0ba-4746-a72b-1dd362ac5dba",
   "metadata": {},
   "outputs": [],
   "source": [
    "#EXAMPLE>> if you use pwskills to attend class. Do you see the backend code or just an interface to attend the class\n",
    "#you just interface"
   ]
  },
  {
   "cell_type": "code",
   "execution_count": 98,
   "id": "dba24a88-04e7-4e76-81f8-064fefbcf301",
   "metadata": {},
   "outputs": [],
   "source": [
    "#ABSTRACTION CAN BE ACHIEVED USING ABSTRACT CLASS>> IMPORT ABC"
   ]
  },
  {
   "cell_type": "code",
   "execution_count": 99,
   "id": "ef666305-e105-4311-9730-bccf6b2af8ae",
   "metadata": {},
   "outputs": [],
   "source": [
    "import abc # collection of multiple functions is a module"
   ]
  },
  {
   "cell_type": "code",
   "execution_count": 100,
   "id": "00e0655d-b04f-4a9e-ae92-8b688fbc10c0",
   "metadata": {},
   "outputs": [],
   "source": [
    "#USECASE\n",
    "#IN ANY CLASS AT PWSKILLS>> DSA/DATA SCIENCE/BACKEND/FULLSTACK, THE FOLLOWING THREE METHODS WILL BE COMMON\n",
    "class PwSkills:\n",
    "    \n",
    "    @abc.abstractmethod\n",
    "    def student_details(self):\n",
    "        pass\n",
    "    @abc.abstractmethod\n",
    "    def student_assignment(self):\n",
    "        pass\n",
    "    @abc.abstractmethod\n",
    "    def student_marks(self):\n",
    "        pass"
   ]
  },
  {
   "cell_type": "code",
   "execution_count": 101,
   "id": "cb6e6342-427a-4cd8-9eb1-4555d5e0bfbc",
   "metadata": {},
   "outputs": [],
   "source": [
    "class DataScience(PwSkills):\n",
    "    def student_details(self):\n",
    "        return \"Data Science Couse Details\"\n",
    "    def student_marks(self):\n",
    "        return \"Give Marks\"\n",
    "class WebDev(PwSkills):\n",
    "    def student_assignment(self):\n",
    "        return \"This will give webdev student assignment\"\n",
    "    def student_marks(self):\n",
    "        return \"WebDev student mark\"\n",
    "    "
   ]
  },
  {
   "cell_type": "code",
   "execution_count": 102,
   "id": "7e899b4e-4a24-4666-872b-900b5b4fdd93",
   "metadata": {},
   "outputs": [],
   "source": [
    "ds = DataScience()"
   ]
  },
  {
   "cell_type": "code",
   "execution_count": 104,
   "id": "2f12d07b-1eb1-49a0-a097-daa23be9218b",
   "metadata": {},
   "outputs": [],
   "source": [
    "ds.student_assignment() #IT WILL NOT GIVE ANY ERROR EVEN IF ANYMETHOD IS NOT DEFINED"
   ]
  },
  {
   "cell_type": "code",
   "execution_count": 105,
   "id": "777baab5-8339-43ed-bf3a-e95badd9f749",
   "metadata": {},
   "outputs": [
    {
     "data": {
      "text/plain": [
       "'Data Science Couse Details'"
      ]
     },
     "execution_count": 105,
     "metadata": {},
     "output_type": "execute_result"
    }
   ],
   "source": [
    "ds.student_details()"
   ]
  },
  {
   "cell_type": "code",
   "execution_count": 106,
   "id": "67bc5446-5f18-4219-b3cb-788747c3bf59",
   "metadata": {},
   "outputs": [
    {
     "data": {
      "text/plain": [
       "'This will give webdev student assignment'"
      ]
     },
     "execution_count": 106,
     "metadata": {},
     "output_type": "execute_result"
    }
   ],
   "source": [
    "w = WebDev()\n",
    "w.student_assignment()"
   ]
  },
  {
   "cell_type": "code",
   "execution_count": 107,
   "id": "1a226278-2b76-496e-87d6-797c700ed41f",
   "metadata": {},
   "outputs": [
    {
     "data": {
      "text/plain": [
       "'WebDev student mark'"
      ]
     },
     "execution_count": 107,
     "metadata": {},
     "output_type": "execute_result"
    }
   ],
   "source": [
    "w.student_marks()"
   ]
  },
  {
   "cell_type": "code",
   "execution_count": 111,
   "id": "78f31780-8e10-43b4-89dc-c3d5020ff79e",
   "metadata": {},
   "outputs": [],
   "source": [
    "#USE CASE\n",
    "class Shape:\n",
    "    @abc.abstractmethod\n",
    "    def calculate_area(self):\n",
    "        pass\n",
    "class Rectangle(Shape):\n",
    "    def calculate_area(self):\n",
    "        return \"Area is Len*breadth\"\n",
    "class Circle(Shape):\n",
    "    def calculate_area(self):\n",
    "        return \"Area is pi * r * r\""
   ]
  },
  {
   "cell_type": "code",
   "execution_count": 112,
   "id": "84fe0ee2-41c1-46a6-84ca-e3b9422dea76",
   "metadata": {},
   "outputs": [
    {
     "data": {
      "text/plain": [
       "'Area is Len*breadth'"
      ]
     },
     "execution_count": 112,
     "metadata": {},
     "output_type": "execute_result"
    }
   ],
   "source": [
    "rect = Rectangle()\n",
    "rect.calculate_area()"
   ]
  },
  {
   "cell_type": "code",
   "execution_count": 113,
   "id": "c4a692f8-a863-461d-808b-6eb0448a7ab5",
   "metadata": {},
   "outputs": [
    {
     "data": {
      "text/plain": [
       "'Area is pi * r * r'"
      ]
     },
     "execution_count": 113,
     "metadata": {},
     "output_type": "execute_result"
    }
   ],
   "source": [
    "c = Circle()\n",
    "c.calculate_area()"
   ]
  },
  {
   "cell_type": "code",
   "execution_count": 114,
   "id": "ff1b2eb2-075a-408a-a1ba-94e3c82cfbc7",
   "metadata": {},
   "outputs": [],
   "source": [
    "\"\"\"\n",
    "Question 1: Animal Sounds (Multiple Concrete Classes)\n",
    "\n",
    "Create an abstract class Animal with an abstract method make_sound().\n",
    "Then implement two subclasses:\n",
    "\n",
    "Dog – returns \"Bark\"\n",
    "\n",
    "Cat – returns \"Meow\"\n",
    "\n",
    "➕ Twist:\n",
    "\n",
    "Add a non-abstract method who_am_i() in the abstract class that prints \"I am an animal\".\n",
    "\"\"\"\n",
    "\n",
    "class Animal:\n",
    "    @abc.abstractmethod\n",
    "    def make_sound(self):\n",
    "        pass\n",
    "    def who_am_i(self):\n",
    "        return \"I am an Animal\"\n",
    "        \n",
    "class Dog(Animal):\n",
    "    def make_sound(self):\n",
    "        return \"Bark\"\n",
    "        \n",
    "class Cat(Animal):\n",
    "    def make_sound(self):\n",
    "        return \"Meow\"\n",
    "\n",
    "        "
   ]
  },
  {
   "cell_type": "code",
   "execution_count": 120,
   "id": "d70a76d8-cd7c-41da-a212-17f712168392",
   "metadata": {},
   "outputs": [
    {
     "data": {
      "text/plain": [
       "'I am an Animal'"
      ]
     },
     "execution_count": 120,
     "metadata": {},
     "output_type": "execute_result"
    }
   ],
   "source": [
    "a = Animal()\n",
    "a.who_am_i()"
   ]
  },
  {
   "cell_type": "code",
   "execution_count": 123,
   "id": "8bfea392-2619-4ddc-8dd5-c3982e1bbcb6",
   "metadata": {},
   "outputs": [
    {
     "data": {
      "text/plain": [
       "'Bark'"
      ]
     },
     "execution_count": 123,
     "metadata": {},
     "output_type": "execute_result"
    }
   ],
   "source": [
    "b = Dog()\n",
    "b.make_sound()"
   ]
  },
  {
   "cell_type": "code",
   "execution_count": 124,
   "id": "708b725f-e902-4866-965c-a9e633c4b5a8",
   "metadata": {},
   "outputs": [
    {
     "data": {
      "text/plain": [
       "'Meow'"
      ]
     },
     "execution_count": 124,
     "metadata": {},
     "output_type": "execute_result"
    }
   ],
   "source": [
    "c = Cat()\n",
    "c.make_sound()"
   ]
  },
  {
   "cell_type": "code",
   "execution_count": 139,
   "id": "9cc7e25a-786b-4f00-9af6-a5cdf3238228",
   "metadata": {},
   "outputs": [],
   "source": [
    "\"\"\"\n",
    "Question 2: Payment System\n",
    "\n",
    "Create an abstract class Payment with abstract methods:\n",
    "\n",
    "process_payment(amount)\n",
    "\n",
    "generate_receipt()\n",
    "\n",
    "Subclasses:\n",
    "\n",
    "CreditCard → adds an attribute card_number\n",
    "\n",
    "PayPal → adds an attribute email\n",
    "\n",
    "Each subclass implements both methods.\n",
    "\n",
    "➕ Twist:\n",
    "\n",
    "One method returns a string with the formatted payment info, not just plain text\n",
    "\"\"\"\n",
    "\n",
    "class Payment:\n",
    "    @abc.abstractmethod\n",
    "    def process_payment(self,amount):\n",
    "        pass\n",
    "    @abc.abstractmethod\n",
    "    def generate_receipt(self):\n",
    "        pass\n",
    "class Creditcard(Payment):\n",
    "    def __init__(self,cardnumber):\n",
    "        self.cardnumber = cardnumber\n",
    "    def process_payment(self, amount):\n",
    "        return f\"Processing credit card payment of £{amount} from card ending -{self.cardnumber[-4:]}\"\n",
    "\n",
    "    def generate_receipt(self):\n",
    "        return \"Receipt: Credit Card Payment Successful\"\n",
    "\n",
    "class PayPal(Payment):\n",
    "    def __init__(self,email):\n",
    "        self.email = email\n",
    "    def process_payment(self,amount):\n",
    "        return f\"Processing paypal payment of £{amount} from paypal account - {self.email}\"\n",
    "    def generate_receipt(self):\n",
    "        return \"Receipt: PayPal Payment Successful\"\n",
    "    "
   ]
  },
  {
   "cell_type": "code",
   "execution_count": 140,
   "id": "13962ff7-aa0f-4bbe-9b7e-39487f1dedd5",
   "metadata": {},
   "outputs": [
    {
     "name": "stdout",
     "output_type": "stream",
     "text": [
      "---- Credit Card Payment ----\n",
      "Processing credit card payment of £250 from card ending -3456\n",
      "Receipt: Credit Card Payment Successful\n"
     ]
    }
   ],
   "source": [
    "# Create a CreditCard payment object\n",
    "credit_payment = Creditcard(\"1234567890123456\")\n",
    "print(\"---- Credit Card Payment ----\")\n",
    "print(credit_payment.process_payment(250))\n",
    "print(credit_payment.generate_receipt())"
   ]
  },
  {
   "cell_type": "code",
   "execution_count": 141,
   "id": "ae47fd46-b2d1-4ce2-b5f9-edb9f8a3531f",
   "metadata": {},
   "outputs": [
    {
     "name": "stdout",
     "output_type": "stream",
     "text": [
      "----Paypal Payment----\n",
      "Processing paypal payment of £250 from paypal account - Abhi@paypal\n",
      "Receipt: PayPal Payment Successful\n"
     ]
    }
   ],
   "source": [
    "#Test for PayPal\n",
    "paypal = PayPal(\"Abhi@paypal\")\n",
    "print(\"----Paypal Payment----\")\n",
    "print(paypal.process_payment(250))\n",
    "print(paypal.generate_receipt())"
   ]
  },
  {
   "cell_type": "code",
   "execution_count": 142,
   "id": "3dfea9d8-ab8c-4dc1-ad7a-e882c237356a",
   "metadata": {},
   "outputs": [],
   "source": [
    "\"\"\"\n",
    "Question 3: Vehicle Fuel Efficiency\n",
    "\n",
    "Create an abstract class Vehicle with:\n",
    "\n",
    "Abstract method fuel_efficiency()\n",
    "Subclasses:\n",
    "\n",
    "Car → returns \"Fuel efficiency is 25 km/l\"\n",
    "\n",
    "Truck → returns \"Fuel efficiency is 10 km/l\"\n",
    "\n",
    "➕ Twist:\n",
    "\n",
    "Add a method vehicle_type() in each subclass (not abstract), and call it after calculating fuel efficiency.\n",
    "\"\"\"\n",
    "\n",
    "class Vehicle:\n",
    "    @abc.abstractmethod\n",
    "    def fuel_efficiency(self):\n",
    "        pass\n",
    "class Car(Vehice):\n",
    "    def fuel_efficiency(self):\n",
    "        return \"Fuel efficiency is 25 km/l\"\n",
    "    def vehicle_type(self):\n",
    "        return \"This is a Car\"\n",
    "class Truck(Vehicle):\n",
    "    def fuel_efficiency(self):\n",
    "        return \"Fuel efficiency is 10 km/l\"\n",
    "    def vehicle_type(self):\n",
    "        return \"This is a Truck\""
   ]
  },
  {
   "cell_type": "code",
   "execution_count": 147,
   "id": "a0e77f6f-0953-4d2c-b427-d711841c6fff",
   "metadata": {},
   "outputs": [
    {
     "name": "stdout",
     "output_type": "stream",
     "text": [
      "\n",
      "----- Car Info -----\n",
      "This is a Car\n",
      "Fuel efficiency is 25 km/l\n"
     ]
    }
   ],
   "source": [
    "#Test For Car\n",
    "car = Car()\n",
    "print(\"\\n----- Car Info -----\")\n",
    "print(car.vehicle_type())\n",
    "print(car.fuel_efficiency())"
   ]
  },
  {
   "cell_type": "code",
   "execution_count": 148,
   "id": "06a3648a-5a5f-49e7-84a3-d1f2e054ec36",
   "metadata": {},
   "outputs": [
    {
     "name": "stdout",
     "output_type": "stream",
     "text": [
      "\n",
      "----- Truck Info -----\n",
      "This is a Truck\n",
      "Fuel efficiency is 10 km/l\n"
     ]
    }
   ],
   "source": [
    "truck = Truck()\n",
    "print(\"\\n----- Truck Info -----\")\n",
    "print(truck.vehicle_type())\n",
    "print(truck.fuel_efficiency())"
   ]
  },
  {
   "cell_type": "code",
   "execution_count": 149,
   "id": "085e735d-bf15-4b51-8d51-e00626b8c63c",
   "metadata": {},
   "outputs": [],
   "source": [
    "\"\"\"\n",
    "Question 4: Document Rendering\n",
    "\n",
    "Create an abstract class Document with:\n",
    "\n",
    "Abstract method render()\n",
    "\n",
    "Subclasses:\n",
    "\n",
    "PDF → returns \"Rendering PDF Document\"\n",
    "\n",
    "Word → returns \"Rendering Word Document\"\n",
    "\n",
    "➕ Twist:\n",
    "\n",
    "Add a constructor in each subclass to take in a filename and include that in the render() output.\n",
    "\"\"\"\n",
    "\n",
    "class Document:\n",
    "    @abc.abstractmethod\n",
    "    def render(self):\n",
    "        pass\n",
    "class PDF(Document):\n",
    "    def __init__(self,filename):\n",
    "        self.filename = filename\n",
    "    def render(self):\n",
    "        return f\"Rendering pdf document - {self.filename}.pdf\"\n",
    "class Word(Document):\n",
    "    def __init__(self,filename):\n",
    "        self.filename = filename\n",
    "    def render(self):\n",
    "        return f\"Rendering Word document - {self.filename}.docx\""
   ]
  },
  {
   "cell_type": "code",
   "execution_count": 150,
   "id": "337ae214-2fef-482f-995d-d0f415fcb37e",
   "metadata": {},
   "outputs": [
    {
     "name": "stdout",
     "output_type": "stream",
     "text": [
      "PDF----RENDERING\n",
      "Rendering pdf document - project report.pdf\n"
     ]
    }
   ],
   "source": [
    "#Test Pdf:\n",
    "pdf = PDF(\"project report\")\n",
    "print(\"PDF----RENDERING\")\n",
    "print(pdf.render())"
   ]
  },
  {
   "cell_type": "code",
   "execution_count": 152,
   "id": "a8ce19c1-34a0-48cb-a3aa-8aca3fdbe992",
   "metadata": {},
   "outputs": [
    {
     "name": "stdout",
     "output_type": "stream",
     "text": [
      "Word----RENDERING\n",
      "Rendering Word document - MyWordDocument.docx\n"
     ]
    }
   ],
   "source": [
    "#Test Word\n",
    "word = Word(\"MyWordDocument\")\n",
    "print(\"Word----RENDERING\")\n",
    "print(word.render())"
   ]
  },
  {
   "cell_type": "code",
   "execution_count": 161,
   "id": "b3d6486a-59b9-438c-81d8-163b8d9bdca3",
   "metadata": {},
   "outputs": [],
   "source": [
    "\"\"\"\n",
    "Question 5: Game Character Abilities\n",
    "\n",
    "Create an abstract class GameCharacter with:\n",
    "\n",
    "Abstract methods: attack() and defend()\n",
    "\n",
    "Subclasses:\n",
    "\n",
    "Warrior\n",
    "\n",
    "Mage\n",
    "\n",
    "Each class must return different logic for attack and defense.\n",
    "\n",
    "➕ Twist:\n",
    "\n",
    "Have a method character_summary() in each subclass that prints both attack and defense capabilities together.\n",
    "\"\"\"\n",
    "\n",
    "class GameCharacter:\n",
    "    @abc.abstractmethod\n",
    "    def attack(self):\n",
    "        pass\n",
    "    @abc.abstractmethod\n",
    "    def defense(self):\n",
    "        pass\n",
    "class Warrior(GameCharacter):\n",
    "    def attack(self):\n",
    "        return \"Warrior Attacks with sword\"\n",
    "    def defense(self):\n",
    "        return \"Warrior Defends with Shield\"\n",
    "    def character_summary(self):\n",
    "        return f\"{self.attack()} | {self.defense()}\"\n",
    "class Mage(GameCharacter):\n",
    "    def attack(self):\n",
    "        return \"Mage casts a fireball\"\n",
    "    def defense(self):\n",
    "        return \"Mage conjures a magical barrier!\"\n",
    "    def character_summary(self):\n",
    "        return f\"{self.attack()} | {self.defense()}\""
   ]
  },
  {
   "cell_type": "code",
   "execution_count": 162,
   "id": "d914a9b2-f3d6-4600-9937-85b0242739ed",
   "metadata": {},
   "outputs": [
    {
     "name": "stdout",
     "output_type": "stream",
     "text": [
      "Character Type: Warrior\n",
      "Attack Ability: Warrior Attacks with sword\n",
      "Defense Ability: Warrior Defends with Shield\n",
      "Summary: Warrior Attacks with sword | Warrior Defends with Shield\n",
      "----------------------------------------\n",
      "Character Type: Mage\n",
      "Attack Ability: Mage casts a fireball\n",
      "Defense Ability: Mage conjures a magical barrier!\n",
      "Summary: Mage casts a fireball | Mage conjures a magical barrier!\n",
      "----------------------------------------\n"
     ]
    }
   ],
   "source": [
    "characters = [Warrior(), Mage()]\n",
    "\n",
    "# Loop through each character and display abilities\n",
    "for character in characters:\n",
    "    print(f\"Character Type: {character.__class__.__name__}\")\n",
    "    print(f\"Attack Ability: {character.attack()}\")\n",
    "    print(f\"Defense Ability: {character.defense()}\")\n",
    "    print(f\"Summary: {character.character_summary()}\")\n",
    "    print(\"-\" * 40)\n"
   ]
  },
  {
   "cell_type": "code",
   "execution_count": null,
   "id": "9c900759-91dc-4c3e-8f5d-9e574cdebadd",
   "metadata": {},
   "outputs": [],
   "source": []
  }
 ],
 "metadata": {
  "kernelspec": {
   "display_name": "Python [conda env:base] *",
   "language": "python",
   "name": "conda-base-py"
  },
  "language_info": {
   "codemirror_mode": {
    "name": "ipython",
    "version": 3
   },
   "file_extension": ".py",
   "mimetype": "text/x-python",
   "name": "python",
   "nbconvert_exporter": "python",
   "pygments_lexer": "ipython3",
   "version": "3.13.5"
  }
 },
 "nbformat": 4,
 "nbformat_minor": 5
}
