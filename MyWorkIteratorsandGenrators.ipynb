{
 "cells": [
  {
   "cell_type": "code",
   "execution_count": 3,
   "id": "11e10e27-db79-445a-97fd-c4d03559f8db",
   "metadata": {},
   "outputs": [
    {
     "name": "stdout",
     "output_type": "stream",
     "text": [
      "A\n",
      "b\n",
      "h\n",
      "i\n",
      "j\n",
      "e\n",
      "e\n",
      "t\n"
     ]
    }
   ],
   "source": [
    "for i in \"Abhijeet\":\n",
    "    print(i)"
   ]
  },
  {
   "cell_type": "code",
   "execution_count": 4,
   "id": "81b52ad8-b290-44c8-92b4-60cb8a8a1239",
   "metadata": {},
   "outputs": [
    {
     "name": "stdout",
     "output_type": "stream",
     "text": [
      "Apple\n",
      "Banana\n",
      "Strawberry\n"
     ]
    }
   ],
   "source": [
    "for i in [\"Apple\",\"Banana\",\"Strawberry\"]:\n",
    "    print(i)"
   ]
  },
  {
   "cell_type": "code",
   "execution_count": 8,
   "id": "f3836f22-b26b-4546-a696-c6cdc3acea9e",
   "metadata": {},
   "outputs": [
    {
     "name": "stdout",
     "output_type": "stream",
     "text": [
      "1\n",
      "2\n",
      "3\n",
      "4\n",
      "5\n",
      "6\n",
      "7\n",
      "8\n",
      "9\n",
      "10\n",
      "11\n",
      "12\n",
      "13\n",
      "14\n",
      "15\n",
      "16\n",
      "17\n",
      "18\n",
      "19\n",
      "20\n"
     ]
    }
   ],
   "source": [
    "for i in range(1,21):\n",
    "    print(i)"
   ]
  },
  {
   "cell_type": "code",
   "execution_count": 9,
   "id": "8cf13fc2-11b2-4375-a2d4-8824827bed00",
   "metadata": {},
   "outputs": [],
   "source": [
    "#ITERABLE>>\n",
    "#AN INTERABLE IS ANY PYTHON OBJECT/SEQUENTIAL STR/DATA STRUCTURE CAPABLE OF RETURNING ITS MEMBERS ONE AT A TIME\n",
    "#using A FOR LOOP \n",
    "#EXAMPLE - LIST , TUPLES\n"
   ]
  },
  {
   "cell_type": "code",
   "execution_count": 11,
   "id": "ddc382cc-8ece-4ec6-9504-62c153ab3132",
   "metadata": {},
   "outputs": [
    {
     "name": "stdout",
     "output_type": "stream",
     "text": [
      "1\n",
      "2\n",
      "3\n",
      "Abhi\n"
     ]
    }
   ],
   "source": [
    "lis = [1,2,3,\"Abhi\"]#list is iterable object\n",
    "for i in lis:\n",
    "    print(i)"
   ]
  },
  {
   "cell_type": "code",
   "execution_count": 14,
   "id": "6443e6c6-cb5d-41c3-b2a8-ef815036c2ab",
   "metadata": {},
   "outputs": [],
   "source": [
    "#ITERATION:\n",
    "#ITERATION IS A PROCESS OF LOOPING THORUGH THE ELEMENTS OF AN ITERABLE (LIST,STRING) USING LOOPS\n",
    "#THE PROCESS OF RETURNING ELEMENT ONE BY ONE ITERATION"
   ]
  },
  {
   "cell_type": "code",
   "execution_count": 15,
   "id": "f6d2ecc4-8f21-4eec-b972-cf182f8398b7",
   "metadata": {},
   "outputs": [
    {
     "name": "stdout",
     "output_type": "stream",
     "text": [
      "A\n",
      "b\n",
      "h\n",
      "i\n",
      "j\n",
      "e\n",
      "e\n",
      "t\n"
     ]
    }
   ],
   "source": [
    "for i in \"Abhijeet\":\n",
    "    print(i)"
   ]
  },
  {
   "cell_type": "code",
   "execution_count": 16,
   "id": "b02f35a6-227a-4120-9ad3-13800bff4a97",
   "metadata": {},
   "outputs": [],
   "source": [
    "#ITERATORS - AN ITERATOR IS AN OBJECT REPRESENTING A STREAM OF DATA AND THIS RETURNS THE DATA ONE BY ONE\n",
    "\n",
    "#ANALOGY\n",
    "#POTATO(ITERABLE) - IT CANNNOT BE COOKED IN ORIGINAL FORM \n",
    "#CHOP/WASH THE POTATO / READY FOR COOKING / ITERATOR\n",
    "#PROCESS OF COOKING IS ITERATION"
   ]
  },
  {
   "cell_type": "code",
   "execution_count": 17,
   "id": "09cafe39-608b-4633-9a05-3ac1f06bf049",
   "metadata": {},
   "outputs": [],
   "source": [
    "s = \"Abhijeet\" # string is iterable"
   ]
  },
  {
   "cell_type": "code",
   "execution_count": 19,
   "id": "19da2523-0716-4a5f-8550-028f9fdfece1",
   "metadata": {},
   "outputs": [
    {
     "name": "stdout",
     "output_type": "stream",
     "text": [
      "A\n",
      "b\n",
      "h\n",
      "i\n",
      "j\n",
      "e\n",
      "e\n",
      "t\n"
     ]
    }
   ],
   "source": [
    "for i in s: # how python decided that s should be iterated / comes the concept of iteration\n",
    "    print(i)"
   ]
  },
  {
   "cell_type": "code",
   "execution_count": 22,
   "id": "ba8d4208-45d3-4619-a1ae-dc4230bc2143",
   "metadata": {},
   "outputs": [
    {
     "data": {
      "text/plain": [
       "<str_ascii_iterator at 0x1d718bdf010>"
      ]
     },
     "execution_count": 22,
     "metadata": {},
     "output_type": "execute_result"
    }
   ],
   "source": [
    "#python / can i prepare s for iteration\n",
    "iter(s) #iterator object >> ready to be iterated"
   ]
  },
  {
   "cell_type": "code",
   "execution_count": 24,
   "id": "c075a471-4701-4077-bf13-82a69564e351",
   "metadata": {},
   "outputs": [
    {
     "data": {
      "text/plain": [
       "<str_ascii_iterator at 0x1d718bc9300>"
      ]
     },
     "execution_count": 24,
     "metadata": {},
     "output_type": "execute_result"
    }
   ],
   "source": [
    "a = iter(s)\n",
    "a"
   ]
  },
  {
   "cell_type": "code",
   "execution_count": 25,
   "id": "5eb94021-64b1-414e-a858-eac08cc30607",
   "metadata": {},
   "outputs": [
    {
     "data": {
      "text/plain": [
       "'A'"
      ]
     },
     "execution_count": 25,
     "metadata": {},
     "output_type": "execute_result"
    }
   ],
   "source": [
    "next(a)"
   ]
  },
  {
   "cell_type": "code",
   "execution_count": 26,
   "id": "51d800b2-eae6-4674-9375-7e641b2b6fad",
   "metadata": {},
   "outputs": [
    {
     "data": {
      "text/plain": [
       "'b'"
      ]
     },
     "execution_count": 26,
     "metadata": {},
     "output_type": "execute_result"
    }
   ],
   "source": [
    "next(a)"
   ]
  },
  {
   "cell_type": "code",
   "execution_count": 27,
   "id": "9b83bbe3-3437-45d1-a2c1-6c778c4551e2",
   "metadata": {},
   "outputs": [
    {
     "data": {
      "text/plain": [
       "'h'"
      ]
     },
     "execution_count": 27,
     "metadata": {},
     "output_type": "execute_result"
    }
   ],
   "source": [
    "next(a)"
   ]
  },
  {
   "cell_type": "code",
   "execution_count": 28,
   "id": "5cf369c4-7c11-4343-b405-6665844b848b",
   "metadata": {},
   "outputs": [
    {
     "data": {
      "text/plain": [
       "'i'"
      ]
     },
     "execution_count": 28,
     "metadata": {},
     "output_type": "execute_result"
    }
   ],
   "source": [
    "next(a)"
   ]
  },
  {
   "cell_type": "code",
   "execution_count": 29,
   "id": "19a253f0-9fed-46f0-8bdd-baf7f214f4e2",
   "metadata": {},
   "outputs": [
    {
     "data": {
      "text/plain": [
       "'j'"
      ]
     },
     "execution_count": 29,
     "metadata": {},
     "output_type": "execute_result"
    }
   ],
   "source": [
    "next(a)"
   ]
  },
  {
   "cell_type": "code",
   "execution_count": 30,
   "id": "5bf506c0-0614-4447-a8f0-a85637efcafb",
   "metadata": {},
   "outputs": [
    {
     "data": {
      "text/plain": [
       "'e'"
      ]
     },
     "execution_count": 30,
     "metadata": {},
     "output_type": "execute_result"
    }
   ],
   "source": [
    "next(a)"
   ]
  },
  {
   "cell_type": "code",
   "execution_count": 31,
   "id": "4a31acf1-5e27-46ab-8b23-d7d227e7a4c7",
   "metadata": {},
   "outputs": [
    {
     "data": {
      "text/plain": [
       "'e'"
      ]
     },
     "execution_count": 31,
     "metadata": {},
     "output_type": "execute_result"
    }
   ],
   "source": [
    "next(a)"
   ]
  },
  {
   "cell_type": "code",
   "execution_count": 32,
   "id": "f53f2749-f89c-49d9-a876-ae7b00f10cbf",
   "metadata": {},
   "outputs": [
    {
     "data": {
      "text/plain": [
       "'t'"
      ]
     },
     "execution_count": 32,
     "metadata": {},
     "output_type": "execute_result"
    }
   ],
   "source": [
    "next(a)"
   ]
  },
  {
   "cell_type": "code",
   "execution_count": 35,
   "id": "a7f0fffc-a3af-4585-bf0f-504e60d567ea",
   "metadata": {},
   "outputs": [
    {
     "data": {
      "text/plain": [
       "<list_iterator at 0x1d718bdedd0>"
      ]
     },
     "execution_count": 35,
     "metadata": {},
     "output_type": "execute_result"
    }
   ],
   "source": [
    "l = iter([1,2,3,4])\n",
    "l"
   ]
  },
  {
   "cell_type": "code",
   "execution_count": 36,
   "id": "d8726b38-7230-4f07-9e57-4456198ddb48",
   "metadata": {},
   "outputs": [
    {
     "data": {
      "text/plain": [
       "1"
      ]
     },
     "execution_count": 36,
     "metadata": {},
     "output_type": "execute_result"
    }
   ],
   "source": [
    "next(l)"
   ]
  },
  {
   "cell_type": "code",
   "execution_count": 37,
   "id": "ff8bc4c3-d1d2-4240-993a-f06e115e50a2",
   "metadata": {},
   "outputs": [
    {
     "data": {
      "text/plain": [
       "2"
      ]
     },
     "execution_count": 37,
     "metadata": {},
     "output_type": "execute_result"
    }
   ],
   "source": [
    "next(l)"
   ]
  },
  {
   "cell_type": "code",
   "execution_count": 38,
   "id": "0935b64b-828c-41c2-b1cd-cfc99c64b816",
   "metadata": {},
   "outputs": [
    {
     "data": {
      "text/plain": [
       "3"
      ]
     },
     "execution_count": 38,
     "metadata": {},
     "output_type": "execute_result"
    }
   ],
   "source": [
    "next(l)"
   ]
  },
  {
   "cell_type": "code",
   "execution_count": 39,
   "id": "cb62ddc3-80b6-4132-bba2-c6af0c01e636",
   "metadata": {},
   "outputs": [
    {
     "data": {
      "text/plain": [
       "4"
      ]
     },
     "execution_count": 39,
     "metadata": {},
     "output_type": "execute_result"
    }
   ],
   "source": [
    "next(l)"
   ]
  },
  {
   "cell_type": "code",
   "execution_count": 40,
   "id": "e6c73a8b-edca-4997-8109-95190790566c",
   "metadata": {},
   "outputs": [
    {
     "data": {
      "text/plain": [
       "<tuple_iterator at 0x1d718bc5ea0>"
      ]
     },
     "execution_count": 40,
     "metadata": {},
     "output_type": "execute_result"
    }
   ],
   "source": [
    "t = iter((1,2,3,4))\n",
    "t"
   ]
  },
  {
   "cell_type": "code",
   "execution_count": 41,
   "id": "54abaf22-467c-42cc-8095-7200297be768",
   "metadata": {},
   "outputs": [
    {
     "data": {
      "text/plain": [
       "<set_iterator at 0x1d71985f940>"
      ]
     },
     "execution_count": 41,
     "metadata": {},
     "output_type": "execute_result"
    }
   ],
   "source": [
    "s = iter({1,2,3,4})\n",
    "s"
   ]
  },
  {
   "cell_type": "code",
   "execution_count": 42,
   "id": "dd76f2b7-fa81-4caa-a13d-1349732e4223",
   "metadata": {},
   "outputs": [
    {
     "data": {
      "text/plain": [
       "<dict_keyiterator at 0x1d7196fa2f0>"
      ]
     },
     "execution_count": 42,
     "metadata": {},
     "output_type": "execute_result"
    }
   ],
   "source": [
    "d = iter({\"name\":\"Abhi\"})\n",
    "d"
   ]
  },
  {
   "cell_type": "code",
   "execution_count": 43,
   "id": "52c9b7bc-4e5b-4c1e-93a7-704bf399514b",
   "metadata": {},
   "outputs": [
    {
     "data": {
      "text/plain": [
       "'name'"
      ]
     },
     "execution_count": 43,
     "metadata": {},
     "output_type": "execute_result"
    }
   ],
   "source": [
    "next(d)"
   ]
  },
  {
   "cell_type": "code",
   "execution_count": 44,
   "id": "73fb0b9c-bee0-4602-a103-b48ff2647710",
   "metadata": {},
   "outputs": [],
   "source": [
    "#STUDYING THIS ITERATORS TO USE THIS FUNCTION IN GENERATORS "
   ]
  },
  {
   "cell_type": "code",
   "execution_count": 45,
   "id": "e189d70e-953b-4610-bb79-8d6a065b6ff7",
   "metadata": {},
   "outputs": [
    {
     "data": {
      "text/plain": [
       "[25, 100, 225]"
      ]
     },
     "execution_count": 45,
     "metadata": {},
     "output_type": "execute_result"
    }
   ],
   "source": [
    "#GENERATOR FUNCTION >> takes a list and gives square of each of the list\n",
    "def square_num(n):\n",
    "    result = []\n",
    "    for i in n:\n",
    "        result.append(i**2)\n",
    "    return result\n",
    "square_num([5,10,15])"
   ]
  },
  {
   "cell_type": "code",
   "execution_count": 48,
   "id": "cd8350a2-7e82-4708-9caf-2309d0a3182a",
   "metadata": {},
   "outputs": [
    {
     "data": {
      "text/plain": [
       "[0, 1, 4, 9, 16, 25, 36, 49, 64, 81]"
      ]
     },
     "execution_count": 48,
     "metadata": {},
     "output_type": "execute_result"
    }
   ],
   "source": [
    "#REGULAR FUNCTION CALCULATES THE SQUARE OF THE VALUES AND RETURN IN ONE GO\n",
    "#SINCE ITS RETURNING IN ONE GO >> MEMORY USAGE WILL BE MORE\n",
    "#IT WILL TAKE A LOT OF EXECUTION TIME IF THERE IS LOT OF COMPUTATION AS ALL THE COMPUTATION WILL BE DONE FIRST AND THEN THE CALCULATION WILL BE RETURNED IN ONE GO\n",
    "\n",
    "def square_num(n):\n",
    "    result = []\n",
    "    for i in range (n):\n",
    "        result.append(i**2)\n",
    "    return result\n",
    "square_num(10)"
   ]
  },
  {
   "cell_type": "code",
   "execution_count": 49,
   "id": "e1debb0c-b115-4948-9414-5079790e0e22",
   "metadata": {},
   "outputs": [],
   "source": [
    "#CAN WE HAVE SOMETHING TO GENERATE RESULT ONE BY ONE INSTEAD OF ONE GO\n",
    "#YIELD >> GENERAL FUNCTION USES RETURN STATEMENT BUT A GENERATOR FUNCTION USE YEILD  "
   ]
  },
  {
   "cell_type": "code",
   "execution_count": 50,
   "id": "30f3b943-c3a0-4471-8bfd-8d31ad3d074b",
   "metadata": {},
   "outputs": [
    {
     "data": {
      "text/plain": [
       "<generator object square_number_generator at 0x000001D718EA9A40>"
      ]
     },
     "execution_count": 50,
     "metadata": {},
     "output_type": "execute_result"
    }
   ],
   "source": [
    "def square_number_generator(n):\n",
    "    for i in range(n):\n",
    "        yield i**2#yeild is creating a generator similar to iterator object\n",
    "square_number_generator(10) # it is an iterator object"
   ]
  },
  {
   "cell_type": "code",
   "execution_count": 51,
   "id": "a6e6ea64-dad3-4041-a92f-a781fa407cdd",
   "metadata": {},
   "outputs": [],
   "source": [
    "gen = square_number_generator(10)"
   ]
  },
  {
   "cell_type": "code",
   "execution_count": 52,
   "id": "2199f99c-ae36-4e83-9d4d-43595ca2fbb2",
   "metadata": {},
   "outputs": [
    {
     "data": {
      "text/plain": [
       "0"
      ]
     },
     "execution_count": 52,
     "metadata": {},
     "output_type": "execute_result"
    }
   ],
   "source": [
    "next(gen)"
   ]
  },
  {
   "cell_type": "code",
   "execution_count": 53,
   "id": "9b35faf1-f6d9-4a0e-abc3-08b44c1b3d23",
   "metadata": {},
   "outputs": [
    {
     "data": {
      "text/plain": [
       "1"
      ]
     },
     "execution_count": 53,
     "metadata": {},
     "output_type": "execute_result"
    }
   ],
   "source": [
    "next(gen)"
   ]
  },
  {
   "cell_type": "code",
   "execution_count": 55,
   "id": "8591596a-4c9a-493a-b92c-d1d56852cc8b",
   "metadata": {},
   "outputs": [
    {
     "data": {
      "text/plain": [
       "9"
      ]
     },
     "execution_count": 55,
     "metadata": {},
     "output_type": "execute_result"
    }
   ],
   "source": [
    "next(gen)"
   ]
  },
  {
   "cell_type": "code",
   "execution_count": 54,
   "id": "deeac176-2163-43dc-98fa-02ff4ab0d08d",
   "metadata": {},
   "outputs": [
    {
     "data": {
      "text/plain": [
       "4"
      ]
     },
     "execution_count": 54,
     "metadata": {},
     "output_type": "execute_result"
    }
   ],
   "source": [
    "next(gen)"
   ]
  },
  {
   "cell_type": "code",
   "execution_count": 56,
   "id": "08a7a908-02a1-4022-9dab-6b40d052da63",
   "metadata": {},
   "outputs": [
    {
     "data": {
      "text/plain": [
       "16"
      ]
     },
     "execution_count": 56,
     "metadata": {},
     "output_type": "execute_result"
    }
   ],
   "source": [
    "next(gen)"
   ]
  },
  {
   "cell_type": "code",
   "execution_count": 57,
   "id": "4ae2c3c8-7591-4f73-b75b-88075aa4787f",
   "metadata": {},
   "outputs": [
    {
     "data": {
      "text/plain": [
       "25"
      ]
     },
     "execution_count": 57,
     "metadata": {},
     "output_type": "execute_result"
    }
   ],
   "source": [
    "next(gen)"
   ]
  },
  {
   "cell_type": "code",
   "execution_count": 58,
   "id": "8aee6e34-6ca3-40b3-a287-981428e11348",
   "metadata": {},
   "outputs": [
    {
     "data": {
      "text/plain": [
       "36"
      ]
     },
     "execution_count": 58,
     "metadata": {},
     "output_type": "execute_result"
    }
   ],
   "source": [
    "next(gen)"
   ]
  },
  {
   "cell_type": "code",
   "execution_count": 59,
   "id": "b997ebe8-4cb3-46b3-bdc8-da22e390c224",
   "metadata": {},
   "outputs": [
    {
     "data": {
      "text/plain": [
       "49"
      ]
     },
     "execution_count": 59,
     "metadata": {},
     "output_type": "execute_result"
    }
   ],
   "source": [
    "next(gen)\n"
   ]
  },
  {
   "cell_type": "code",
   "execution_count": 60,
   "id": "5198ba22-4bfb-495d-a5d0-ff4461832a5a",
   "metadata": {},
   "outputs": [
    {
     "data": {
      "text/plain": [
       "64"
      ]
     },
     "execution_count": 60,
     "metadata": {},
     "output_type": "execute_result"
    }
   ],
   "source": [
    "next(gen)"
   ]
  },
  {
   "cell_type": "code",
   "execution_count": 61,
   "id": "4e932688-b3ea-43e1-8b5d-c7b9bb6c344d",
   "metadata": {},
   "outputs": [
    {
     "data": {
      "text/plain": [
       "81"
      ]
     },
     "execution_count": 61,
     "metadata": {},
     "output_type": "execute_result"
    }
   ],
   "source": [
    "next(gen)"
   ]
  },
  {
   "cell_type": "code",
   "execution_count": 62,
   "id": "e82d9a5b-276d-4570-bf4f-feffa7cec6a9",
   "metadata": {},
   "outputs": [],
   "source": [
    "#FIBONAACHI SERIES\n",
    "def fib(n):\n",
    "    a = 0\n",
    "    b = 1\n",
    "    for i in range(n):# IF N=5 ,0,1,2,3,4\n",
    "        yield a\n",
    "        a,b = b, a+b"
   ]
  },
  {
   "cell_type": "code",
   "execution_count": 65,
   "id": "e365f498-a1b2-4b3c-8b3a-a5d94dba7870",
   "metadata": {},
   "outputs": [],
   "source": [
    "f = fib(1000000000)"
   ]
  },
  {
   "cell_type": "code",
   "execution_count": 66,
   "id": "d12c3885-e5ba-49e5-8ad1-d81ed273a7fe",
   "metadata": {},
   "outputs": [
    {
     "data": {
      "text/plain": [
       "0"
      ]
     },
     "execution_count": 66,
     "metadata": {},
     "output_type": "execute_result"
    }
   ],
   "source": [
    "next(f)"
   ]
  },
  {
   "cell_type": "code",
   "execution_count": null,
   "id": "16f19d0b-faab-4ef0-9774-1bd001f0f23c",
   "metadata": {},
   "outputs": [],
   "source": []
  }
 ],
 "metadata": {
  "kernelspec": {
   "display_name": "Python [conda env:base] *",
   "language": "python",
   "name": "conda-base-py"
  },
  "language_info": {
   "codemirror_mode": {
    "name": "ipython",
    "version": 3
   },
   "file_extension": ".py",
   "mimetype": "text/x-python",
   "name": "python",
   "nbconvert_exporter": "python",
   "pygments_lexer": "ipython3",
   "version": "3.13.5"
  }
 },
 "nbformat": 4,
 "nbformat_minor": 5
}
