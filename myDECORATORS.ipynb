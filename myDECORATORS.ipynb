{
 "cells": [
  {
   "cell_type": "code",
   "execution_count": 3,
   "id": "6a646354-06bf-4aa4-b4f1-1f56b1d0d7db",
   "metadata": {},
   "outputs": [],
   "source": [
    "#Decorators>> allows to modify or extend the behaviour or function/class without directly modifying there original code\n",
    "#similar to you decorating your room >> extends / decorates the basic behaviour of the rom"
   ]
  },
  {
   "cell_type": "code",
   "execution_count": 4,
   "id": "be0d5191-d17c-4389-ad81-28ab67710267",
   "metadata": {},
   "outputs": [],
   "source": [
    "#function decorators and class decorator"
   ]
  },
  {
   "cell_type": "code",
   "execution_count": 5,
   "id": "a552edba-cb99-4c60-97c6-38c4602943a8",
   "metadata": {},
   "outputs": [],
   "source": [
    "#FUNCTION DECORATORS\n"
   ]
  },
  {
   "cell_type": "code",
   "execution_count": 13,
   "id": "fd595b61-7126-4d9a-a081-729fc088204b",
   "metadata": {},
   "outputs": [],
   "source": [
    "#USE CASE TO UNDERSTAND >> you want to use line after computation \n",
    "#after each time you create a function or call function\n",
    "#So it will take a lot of time to type this linerepetitively\n",
    "#and thats why the concept of decorators comes into picture\n",
    "def my_decorator_func():\n",
    "    print(\"The line before computation\")\n",
    "    print(11*1200) # decoratiing actual computation with line above and line below\n",
    "    print(\"The line after computation\")\n",
    "#in above approach you have to write all the liine as many times as you are creating\n",
    "# lets see the decorator approach"
   ]
  },
  {
   "cell_type": "code",
   "execution_count": 14,
   "id": "8fb463ab-4c5b-4fcd-a150-b1fcb154b388",
   "metadata": {},
   "outputs": [
    {
     "name": "stdout",
     "output_type": "stream",
     "text": [
      "The line before computation\n",
      "13200\n",
      "The line after computation\n"
     ]
    }
   ],
   "source": [
    "my_decorator_func()"
   ]
  },
  {
   "cell_type": "code",
   "execution_count": 3,
   "id": "f5f086c2-1b88-4858-9a8d-50667270fddc",
   "metadata": {},
   "outputs": [],
   "source": [
    "#Decorator approach for function>> USE CASE 1\n",
    "def my_decorator(func):#Decorator function that texts another functi0on as argument\n",
    "    def wrapper():#adds the functionality before and after calling func\n",
    "        print(\"The line before computation\")\n",
    "        func() #say_hello will be executed here\n",
    "        \n",
    "        print(\"The line after computation\")\n",
    "    return wrapper"
   ]
  },
  {
   "cell_type": "code",
   "execution_count": 4,
   "id": "fa7699f3-0dcc-4e40-aaa6-aff0cefc488f",
   "metadata": {},
   "outputs": [],
   "source": [
    "@my_decorator\n",
    "def say_hello():\n",
    "    print(\"Hello\")"
   ]
  },
  {
   "cell_type": "code",
   "execution_count": 5,
   "id": "d0c5e3d6-6412-4d06-8518-e26ac8032178",
   "metadata": {},
   "outputs": [
    {
     "name": "stdout",
     "output_type": "stream",
     "text": [
      "The line before computation\n",
      "Hello\n",
      "The line after computation\n"
     ]
    }
   ],
   "source": [
    "say_hello()\n",
    "#when it is called it is actually calling the decorator method which in return is calling wrapper function and then the wrapper function is printing the line and calling the say hello functi0on"
   ]
  },
  {
   "cell_type": "code",
   "execution_count": 6,
   "id": "1e25cb2d-ee27-4314-81df-e7e61e0a502f",
   "metadata": {},
   "outputs": [
    {
     "name": "stdout",
     "output_type": "stream",
     "text": [
      "The line before computation\n",
      "Hello\n",
      "The line after computation\n"
     ]
    }
   ],
   "source": [
    "say_hello()\n"
   ]
  },
  {
   "cell_type": "code",
   "execution_count": 12,
   "id": "188307ee-27c6-4f12-abbf-3b8787d0042d",
   "metadata": {},
   "outputs": [],
   "source": [
    "#Anothe use case\n",
    "#run time of a code\n",
    "import time\n",
    "def timer_decorator(func):\n",
    "    def timer():\n",
    "        start = time.time()\n",
    "        func()\n",
    "        end = time.time()\n",
    "        print(\"The time for executing the code \" , end-start)\n",
    "    return timer"
   ]
  },
  {
   "cell_type": "code",
   "execution_count": 13,
   "id": "ca48b058-4ddf-408c-9a14-0f4deaf5344a",
   "metadata": {},
   "outputs": [],
   "source": [
    "@timer_decorator\n",
    "def func_test():\n",
    "    print(11*1000)"
   ]
  },
  {
   "cell_type": "code",
   "execution_count": 14,
   "id": "7397d278-a606-413c-8c1a-74ecff93cf1b",
   "metadata": {},
   "outputs": [
    {
     "name": "stdout",
     "output_type": "stream",
     "text": [
      "11000\n",
      "The time for executing the code  5.841255187988281e-05\n"
     ]
    }
   ],
   "source": [
    "func_test()"
   ]
  },
  {
   "cell_type": "code",
   "execution_count": 15,
   "id": "3828da13-f608-4d97-b38b-9f6917702bfc",
   "metadata": {},
   "outputs": [
    {
     "name": "stdout",
     "output_type": "stream",
     "text": [
      "13421000\n",
      "The time for executing the code  0.00023221969604492188\n"
     ]
    }
   ],
   "source": [
    "@timer_decorator\n",
    "def func_test1():\n",
    "    print(11111000 + 10000 * 231)\n",
    "\n",
    "func_test1()"
   ]
  },
  {
   "cell_type": "code",
   "execution_count": 16,
   "id": "d9eb3416-b74a-47a5-8eac-cc414cf23d81",
   "metadata": {},
   "outputs": [],
   "source": [
    "#why do we need decorator ?\n",
    "# reuseability of code >> reuse the common code\n",
    "#enhancing the functiion without modifying the original funvtion\n",
    "#use case>> execution time of code , logging , authorisation, validation"
   ]
  },
  {
   "cell_type": "code",
   "execution_count": 20,
   "id": "4658cc61-c17d-4d0c-96ea-54dab7d1a9ed",
   "metadata": {},
   "outputs": [],
   "source": [
    "#CLASS DECORATOR USE CASE\n",
    "class My_Decorator:\n",
    "    def __init__(self, func): # similar to function decorator you are passing func\n",
    "        self.func = func\n",
    "        \n",
    "    def __call__(self):#special method which is called or invoked when you call instance or object of a class as a function\n",
    "        print(\"Happening before function\")\n",
    "        self.func()\n",
    "        print(\"happening after function\")\n",
    "        "
   ]
  },
  {
   "cell_type": "code",
   "execution_count": 18,
   "id": "a655ae50-bad4-4be6-be06-28abae320aab",
   "metadata": {},
   "outputs": [
    {
     "name": "stdout",
     "output_type": "stream",
     "text": [
      "Happening before function\n",
      "hello\n",
      "happening after function\n"
     ]
    }
   ],
   "source": [
    "@My_Decorator\n",
    "def say_hello():\n",
    "    print(\"hello\")\n",
    "say_hello()"
   ]
  },
  {
   "cell_type": "code",
   "execution_count": 29,
   "id": "b76367c4-cd33-4969-9a70-c10cef61733c",
   "metadata": {},
   "outputs": [
    {
     "name": "stdout",
     "output_type": "stream",
     "text": [
      "Inside INIT\n"
     ]
    }
   ],
   "source": [
    "#CLASS DECORATOR USE CASE\n",
    "class My_Decorator:\n",
    "    def __init__(self): #func): # similar to function decorator you are passing func\n",
    "        #self.func = func\n",
    "        print(\"Inside INIT\")\n",
    "    def __call__(self):#special method which is called or invoked when you call instance or object of a class as a function\n",
    "        print(\"Happening before function\")\n",
    "        #self.func()\n",
    "        print(\"happening after function\")\n",
    "obj1 = My_Decorator() # when u make an object of the class init is executed first"
   ]
  },
  {
   "cell_type": "code",
   "execution_count": 30,
   "id": "962336b4-de50-4802-81d5-a8791aeae79b",
   "metadata": {},
   "outputs": [
    {
     "name": "stdout",
     "output_type": "stream",
     "text": [
      "Inside INIT\n"
     ]
    }
   ],
   "source": [
    "obj1 = My_Decorator() # when u make an object of the class init is executed first"
   ]
  },
  {
   "cell_type": "code",
   "execution_count": 32,
   "id": "7d27e956-3857-4010-a7d2-e3aab645ce71",
   "metadata": {},
   "outputs": [
    {
     "name": "stdout",
     "output_type": "stream",
     "text": [
      "Happening before function\n",
      "happening after function\n"
     ]
    }
   ],
   "source": [
    "obj1() # when u call an object of a class as a function the call method will be invoked"
   ]
  },
  {
   "cell_type": "code",
   "execution_count": 33,
   "id": "2d863d5b-71a7-4030-8f2f-08f93a792e44",
   "metadata": {},
   "outputs": [],
   "source": [
    "#some inbuild decorators >>>\n",
    "#@classmethod >> The method that takes the class itself as the first argument"
   ]
  },
  {
   "cell_type": "code",
   "execution_count": 37,
   "id": "1b35f36c-d619-47c5-8272-0d0bae5a1531",
   "metadata": {},
   "outputs": [],
   "source": [
    "class Math:\n",
    "    @classmethod #takes referance to the class itself to modify and access class level attributes\n",
    "    def add(cls,x,y):\n",
    "        return cls.__name__,x + y # cls.__name__ > referring to class math\n"
   ]
  },
  {
   "cell_type": "code",
   "execution_count": 38,
   "id": "73fcab3f-a3e4-40e0-b36a-e521c12bd01a",
   "metadata": {},
   "outputs": [
    {
     "data": {
      "text/plain": [
       "('Math', 8)"
      ]
     },
     "execution_count": 38,
     "metadata": {},
     "output_type": "execute_result"
    }
   ],
   "source": [
    "#dont need even in it method to take data\n",
    "Math.add(3,5)\n"
   ]
  },
  {
   "cell_type": "code",
   "execution_count": 39,
   "id": "1d2e4e3e-8dcc-46fb-abe3-b344b9108bec",
   "metadata": {},
   "outputs": [],
   "source": [
    "#class method is bound to class and not the instance of the class\n",
    "#class itself as the first argumnent >> conventionally cls"
   ]
  },
  {
   "cell_type": "code",
   "execution_count": 40,
   "id": "366d98c9-1654-45ed-9f7c-3e7cebc23fe4",
   "metadata": {},
   "outputs": [],
   "source": [
    "# next inbuilt decoratos is static method\n",
    "#static method>> the method which can be called without  creating any instance3e of the class or using self"
   ]
  },
  {
   "cell_type": "code",
   "execution_count": 41,
   "id": "26b39da0-f6c7-4a24-ad5f-5e1aa45c22d5",
   "metadata": {},
   "outputs": [],
   "source": [
    "#EARLIER\n",
    "class Math:\n",
    "    def add(self , x, y):\n",
    "        return x+y"
   ]
  },
  {
   "cell_type": "code",
   "execution_count": 44,
   "id": "783a265c-c39d-4c80-845d-756515a5f340",
   "metadata": {},
   "outputs": [],
   "source": [
    "A = Math()"
   ]
  },
  {
   "cell_type": "code",
   "execution_count": 45,
   "id": "dabaea0b-94f8-4cf5-bb5a-a8d2efb778f3",
   "metadata": {},
   "outputs": [
    {
     "data": {
      "text/plain": [
       "5"
      ]
     },
     "execution_count": 45,
     "metadata": {},
     "output_type": "execute_result"
    }
   ],
   "source": [
    "A.add(2,3)"
   ]
  },
  {
   "cell_type": "code",
   "execution_count": 49,
   "id": "da6cdc5a-641e-4433-8d04-37cf0fb60c0f",
   "metadata": {},
   "outputs": [],
   "source": [
    "#uSE Of STATIC METHOD\n",
    "class Math:\n",
    "    @staticmethod\n",
    "    def add(x,y): #no need of self or cls\n",
    "        return x+y"
   ]
  },
  {
   "cell_type": "code",
   "execution_count": 50,
   "id": "474a28d0-e7ef-424e-a0d2-fac11241ea88",
   "metadata": {},
   "outputs": [
    {
     "data": {
      "text/plain": [
       "5"
      ]
     },
     "execution_count": 50,
     "metadata": {},
     "output_type": "execute_result"
    }
   ],
   "source": [
    "Math.add(2,3) # no need to make any object"
   ]
  },
  {
   "cell_type": "code",
   "execution_count": 51,
   "id": "5b1ec381-6c35-47c1-b768-c1a5b2c5c702",
   "metadata": {},
   "outputs": [],
   "source": [
    "#class method to be used when you want to modify class level data\n",
    "#static method when you dont want to interact with class level data"
   ]
  },
  {
   "cell_type": "code",
   "execution_count": 52,
   "id": "0b1d6a20-78d6-4f4f-bb90-96530ffcadf1",
   "metadata": {},
   "outputs": [],
   "source": [
    "#property decorator>> It allows method to be accessed as attribute"
   ]
  },
  {
   "cell_type": "code",
   "execution_count": 53,
   "id": "5ffb3049-83e6-426b-a8b6-2025c10885f5",
   "metadata": {},
   "outputs": [],
   "source": [
    "class Circle:\n",
    "    def __init__(self, radius):\n",
    "        self.radius = radius"
   ]
  },
  {
   "cell_type": "code",
   "execution_count": 54,
   "id": "0b0ad412-7bc5-4953-9520-854228c18718",
   "metadata": {},
   "outputs": [],
   "source": [
    "obj = Circle(5)"
   ]
  },
  {
   "cell_type": "code",
   "execution_count": 56,
   "id": "839406ca-09de-4589-8958-81b83b848460",
   "metadata": {},
   "outputs": [
    {
     "data": {
      "text/plain": [
       "5"
      ]
     },
     "execution_count": 56,
     "metadata": {},
     "output_type": "execute_result"
    }
   ],
   "source": [
    "obj.radius#accessing data"
   ]
  },
  {
   "cell_type": "code",
   "execution_count": 65,
   "id": "bf9d5f91-0aaa-46c2-9386-c211de099849",
   "metadata": {},
   "outputs": [],
   "source": [
    "class Circle:\n",
    "    def __init__(self, radius):\n",
    "        self.radius = radius\n",
    "    def area(self):\n",
    "        radius =self.radius\n",
    "        return 3.14 * (radius ** 2)"
   ]
  },
  {
   "cell_type": "code",
   "execution_count": 66,
   "id": "d27be123-d13a-487c-8531-37d705ad63ed",
   "metadata": {},
   "outputs": [
    {
     "data": {
      "text/plain": [
       "5"
      ]
     },
     "execution_count": 66,
     "metadata": {},
     "output_type": "execute_result"
    }
   ],
   "source": [
    "obj = Circle(5)\n",
    "obj.radius"
   ]
  },
  {
   "cell_type": "code",
   "execution_count": 67,
   "id": "d87bcbb7-0172-4894-86f2-6ad1a79cea89",
   "metadata": {},
   "outputs": [
    {
     "data": {
      "text/plain": [
       "78.5"
      ]
     },
     "execution_count": 67,
     "metadata": {},
     "output_type": "execute_result"
    }
   ],
   "source": [
    "obj.area() #earlier"
   ]
  },
  {
   "cell_type": "code",
   "execution_count": 68,
   "id": "e3a43ce4-510f-4541-8cb1-5dd09846fadd",
   "metadata": {},
   "outputs": [],
   "source": [
    "#Using property decorator\n",
    "class Circle:\n",
    "    def __init__(self, radius):\n",
    "        self.radius = radius\n",
    "    @property\n",
    "    def area(self):\n",
    "        radius =self.radius\n",
    "        return 3.14 * (radius ** 2)"
   ]
  },
  {
   "cell_type": "code",
   "execution_count": 69,
   "id": "e7e99412-f489-4866-ba7e-a9cd9aa17e1a",
   "metadata": {},
   "outputs": [
    {
     "data": {
      "text/plain": [
       "5"
      ]
     },
     "execution_count": 69,
     "metadata": {},
     "output_type": "execute_result"
    }
   ],
   "source": [
    "obj1 = Circle(5)\n",
    "obj1.radius"
   ]
  },
  {
   "cell_type": "code",
   "execution_count": 71,
   "id": "98a6443d-81bf-4665-be48-38856b356f17",
   "metadata": {},
   "outputs": [
    {
     "data": {
      "text/plain": [
       "78.5"
      ]
     },
     "execution_count": 71,
     "metadata": {},
     "output_type": "execute_result"
    }
   ],
   "source": [
    "obj1 = Circle(5)\n",
    "obj1.area"
   ]
  },
  {
   "cell_type": "code",
   "execution_count": 72,
   "id": "a5aca308-73b2-4dd6-b2bc-b63051cf69ef",
   "metadata": {},
   "outputs": [],
   "source": [
    "#MORE EXAMPLES OF PROPERTY DECORATOR AND USE CASES\n"
   ]
  },
  {
   "cell_type": "code",
   "execution_count": 73,
   "id": "f74dd15b-44fb-48cd-841e-8b909b949993",
   "metadata": {},
   "outputs": [],
   "source": [
    "class Student:\n",
    "    def __init__(self,name,price):\n",
    "        self.__name = name\n",
    "        self.__price = price"
   ]
  },
  {
   "cell_type": "code",
   "execution_count": 75,
   "id": "3d53a1cd-17b9-415d-8083-88c544f14d13",
   "metadata": {},
   "outputs": [],
   "source": [
    "# the name and price are private variable which u will not be able to access from outside the class\n",
    "a = Student(\"Abhi\" , 200)"
   ]
  },
  {
   "cell_type": "code",
   "execution_count": 77,
   "id": "05172fb3-192c-438e-8795-0fee77bc2b84",
   "metadata": {},
   "outputs": [
    {
     "ename": "AttributeError",
     "evalue": "'Student' object has no attribute 'name'",
     "output_type": "error",
     "traceback": [
      "\u001b[1;31m---------------------------------------------------------------------------\u001b[0m",
      "\u001b[1;31mAttributeError\u001b[0m                            Traceback (most recent call last)",
      "Cell \u001b[1;32mIn[77], line 1\u001b[0m\n\u001b[1;32m----> 1\u001b[0m a\u001b[38;5;241m.\u001b[39mname\n",
      "\u001b[1;31mAttributeError\u001b[0m: 'Student' object has no attribute 'name'"
     ]
    }
   ],
   "source": [
    "a.name #error as name and prcie are private variable"
   ]
  },
  {
   "cell_type": "code",
   "execution_count": 81,
   "id": "159d5986-8521-4ae4-8ab0-a1359427dd40",
   "metadata": {},
   "outputs": [
    {
     "data": {
      "text/plain": [
       "'Abhi'"
      ]
     },
     "execution_count": 81,
     "metadata": {},
     "output_type": "execute_result"
    }
   ],
   "source": [
    "#still you can access private variable if you know the strucutre of the class\n",
    "a._Student__name #using class name and exact variable\n"
   ]
  },
  {
   "cell_type": "code",
   "execution_count": 82,
   "id": "f4e75cdf-6372-4166-9ba4-47bc80c5bf9f",
   "metadata": {},
   "outputs": [
    {
     "data": {
      "text/plain": [
       "200"
      ]
     },
     "execution_count": 82,
     "metadata": {},
     "output_type": "execute_result"
    }
   ],
   "source": [
    "a._Student__price"
   ]
  },
  {
   "cell_type": "code",
   "execution_count": 83,
   "id": "6bdd3732-f3e6-459c-9ac5-f63bcfa0a42c",
   "metadata": {},
   "outputs": [],
   "source": [
    "#another way to expose private variables using property decorators \n",
    "class Student:\n",
    "    def __init__(self,name,price):\n",
    "        self.__name = name\n",
    "        self.__price = price\n",
    "    @property\n",
    "    def access_price(self):\n",
    "        return self.__price"
   ]
  },
  {
   "cell_type": "code",
   "execution_count": 85,
   "id": "34a6bf17-233e-4e68-849c-1437b1759d51",
   "metadata": {},
   "outputs": [],
   "source": [
    "a = Student(\"Abhi\" , 3000)"
   ]
  },
  {
   "cell_type": "code",
   "execution_count": 87,
   "id": "625a9c44-fb3d-4a72-808e-f7d35119f43d",
   "metadata": {},
   "outputs": [
    {
     "data": {
      "text/plain": [
       "3000"
      ]
     },
     "execution_count": 87,
     "metadata": {},
     "output_type": "execute_result"
    }
   ],
   "source": [
    "a.access_price"
   ]
  },
  {
   "cell_type": "code",
   "execution_count": 88,
   "id": "702ab0af-47ba-4cd4-9317-d5cc021f8906",
   "metadata": {},
   "outputs": [],
   "source": [
    "#another way to expose private variables using property decorators \n",
    "#modify the price\n",
    "class Student:\n",
    "    def __init__(self,name,price):\n",
    "        self.__name = name\n",
    "        self.__price = price\n",
    "    @property\n",
    "    def access_price(self):\n",
    "        return self.__price\n",
    "        \n",
    "    @access_price.setter\n",
    "    def price_set(self,price_new):\n",
    "        self.__price = price_new"
   ]
  },
  {
   "cell_type": "code",
   "execution_count": 89,
   "id": "ab1b1176-9e30-4b2f-8d87-b0333eb51ec0",
   "metadata": {},
   "outputs": [],
   "source": [
    "a = Student(\"Abhi\" , 3000)"
   ]
  },
  {
   "cell_type": "code",
   "execution_count": 90,
   "id": "3f40a8d5-5dd7-43e2-b647-95aefac326cb",
   "metadata": {},
   "outputs": [
    {
     "data": {
      "text/plain": [
       "3000"
      ]
     },
     "execution_count": 90,
     "metadata": {},
     "output_type": "execute_result"
    }
   ],
   "source": [
    "a.access_price"
   ]
  },
  {
   "cell_type": "code",
   "execution_count": 92,
   "id": "f956641d-ab34-4157-b508-ffed7b082a11",
   "metadata": {},
   "outputs": [],
   "source": [
    "a.price_set = 5000"
   ]
  },
  {
   "cell_type": "code",
   "execution_count": 93,
   "id": "39e7a2f7-df3c-453c-9a7f-a823e21fb96c",
   "metadata": {},
   "outputs": [
    {
     "data": {
      "text/plain": [
       "5000"
      ]
     },
     "execution_count": 93,
     "metadata": {},
     "output_type": "execute_result"
    }
   ],
   "source": [
    "a.access_price"
   ]
  },
  {
   "cell_type": "code",
   "execution_count": 108,
   "id": "5b3c63e8-c47f-4642-8fdc-bf75268d376f",
   "metadata": {},
   "outputs": [],
   "source": [
    "#del a variable\n",
    "#another way to expose private variables using property decorators \n",
    "#modify the price\n",
    "class Student:\n",
    "    def __init__(self,name,price):\n",
    "        self.__name = name\n",
    "        self.__price = price\n",
    "    @property\n",
    "    def access_price(self):\n",
    "        return self.__price\n",
    "        \n",
    "    @access_price.setter\n",
    "    def access_set(self,price_new):\n",
    "        self.__price = price_new\n",
    "        \n",
    "    @access_price.deleter\n",
    "    def access_price(self):\n",
    "        del self.__price"
   ]
  },
  {
   "cell_type": "code",
   "execution_count": 109,
   "id": "93388ff1-11dd-4b5b-971c-920159d073b1",
   "metadata": {},
   "outputs": [],
   "source": [
    "a = Student(\"Abhi\" , 3000)"
   ]
  },
  {
   "cell_type": "code",
   "execution_count": 110,
   "id": "27371065-9913-433d-928a-fc371257b69d",
   "metadata": {},
   "outputs": [
    {
     "data": {
      "text/plain": [
       "3000"
      ]
     },
     "execution_count": 110,
     "metadata": {},
     "output_type": "execute_result"
    }
   ],
   "source": [
    "a.access_price"
   ]
  },
  {
   "cell_type": "code",
   "execution_count": 111,
   "id": "87e06d72-2242-4aa1-bfb7-e573a41d1f74",
   "metadata": {},
   "outputs": [],
   "source": [
    "a.price_set = 6000"
   ]
  },
  {
   "cell_type": "code",
   "execution_count": 112,
   "id": "a7798161-eb3a-43f0-bf9e-1bc63e8f1d41",
   "metadata": {},
   "outputs": [
    {
     "data": {
      "text/plain": [
       "3000"
      ]
     },
     "execution_count": 112,
     "metadata": {},
     "output_type": "execute_result"
    }
   ],
   "source": [
    "a.access_price"
   ]
  },
  {
   "cell_type": "code",
   "execution_count": 115,
   "id": "3a18bf10-71b0-47ad-a8cd-323b28d4b593",
   "metadata": {},
   "outputs": [
    {
     "data": {
      "text/plain": [
       "3000"
      ]
     },
     "execution_count": 115,
     "metadata": {},
     "output_type": "execute_result"
    }
   ],
   "source": [
    "a.access_price"
   ]
  },
  {
   "cell_type": "code",
   "execution_count": 116,
   "id": "bb030d87-1520-4019-9ae4-d2df4358cbfa",
   "metadata": {},
   "outputs": [
    {
     "data": {
      "text/plain": [
       "3000"
      ]
     },
     "execution_count": 116,
     "metadata": {},
     "output_type": "execute_result"
    }
   ],
   "source": [
    "a.access_price"
   ]
  },
  {
   "cell_type": "code",
   "execution_count": 117,
   "id": "8ff0e7b2-2900-41c5-a3f5-ab6020932444",
   "metadata": {},
   "outputs": [],
   "source": [
    "del a.access_price"
   ]
  },
  {
   "cell_type": "code",
   "execution_count": 118,
   "id": "a460a1aa-97d7-4e8a-9c7e-3ef142b16f51",
   "metadata": {},
   "outputs": [
    {
     "ename": "AttributeError",
     "evalue": "'Student' object has no attribute '_Student__price'",
     "output_type": "error",
     "traceback": [
      "\u001b[1;31m---------------------------------------------------------------------------\u001b[0m",
      "\u001b[1;31mAttributeError\u001b[0m                            Traceback (most recent call last)",
      "Cell \u001b[1;32mIn[118], line 1\u001b[0m\n\u001b[1;32m----> 1\u001b[0m a\u001b[38;5;241m.\u001b[39maccess_price\n",
      "Cell \u001b[1;32mIn[108], line 10\u001b[0m, in \u001b[0;36mStudent.access_price\u001b[1;34m(self)\u001b[0m\n\u001b[0;32m      8\u001b[0m \u001b[38;5;129m@property\u001b[39m\n\u001b[0;32m      9\u001b[0m \u001b[38;5;28;01mdef\u001b[39;00m\u001b[38;5;250m \u001b[39m\u001b[38;5;21maccess_price\u001b[39m(\u001b[38;5;28mself\u001b[39m):\n\u001b[1;32m---> 10\u001b[0m     \u001b[38;5;28;01mreturn\u001b[39;00m \u001b[38;5;28mself\u001b[39m\u001b[38;5;241m.\u001b[39m__price\n",
      "\u001b[1;31mAttributeError\u001b[0m: 'Student' object has no attribute '_Student__price'"
     ]
    }
   ],
   "source": [
    "a.access_price"
   ]
  },
  {
   "cell_type": "code",
   "execution_count": 136,
   "id": "43349b9b-44ad-426b-8281-2ba5e70b5e08",
   "metadata": {},
   "outputs": [],
   "source": [
    "#Use Case\n",
    "class Circle:\n",
    "    def __init__(self,radius):\n",
    "        self.__radius = radius\n",
    "\n",
    "    @property\n",
    "    def radius(self):\n",
    "        return self.__radius\n",
    "    @radius.setter\n",
    "    def radius(self, value):\n",
    "        if value <= 0:\n",
    "            raise ValueError(\"Radius is not positive\")\n",
    "        self.__radius = value\n",
    "    @radius.deleter\n",
    "    def radius(self):\n",
    "        del self.__radius\n",
    "    def area(self):\n",
    "        return 3.14*(self.__radius*self.__radius) #\n",
    "    "
   ]
  },
  {
   "cell_type": "code",
   "execution_count": 130,
   "id": "3bc94578-418f-431f-bf1b-2bfd71ca1276",
   "metadata": {},
   "outputs": [],
   "source": [
    "c = Circle(5)"
   ]
  },
  {
   "cell_type": "code",
   "execution_count": 131,
   "id": "6905941e-a214-4252-9e1f-e9546ec0f2eb",
   "metadata": {},
   "outputs": [
    {
     "data": {
      "text/plain": [
       "5"
      ]
     },
     "execution_count": 131,
     "metadata": {},
     "output_type": "execute_result"
    }
   ],
   "source": [
    "c.radius"
   ]
  },
  {
   "cell_type": "code",
   "execution_count": 134,
   "id": "e5dd4085-f846-4180-a2fa-27c7a4413c45",
   "metadata": {},
   "outputs": [],
   "source": [
    "c.radius = 10"
   ]
  },
  {
   "cell_type": "code",
   "execution_count": 135,
   "id": "7c872e4d-3585-4f07-af2e-db8ed5ca9fce",
   "metadata": {},
   "outputs": [
    {
     "data": {
      "text/plain": [
       "314.0"
      ]
     },
     "execution_count": 135,
     "metadata": {},
     "output_type": "execute_result"
    }
   ],
   "source": [
    "c.area()"
   ]
  },
  {
   "cell_type": "code",
   "execution_count": null,
   "id": "17354341-39e3-4355-af1e-94ec1290ac23",
   "metadata": {},
   "outputs": [],
   "source": []
  }
 ],
 "metadata": {
  "kernelspec": {
   "display_name": "Python [conda env:base] *",
   "language": "python",
   "name": "conda-base-py"
  },
  "language_info": {
   "codemirror_mode": {
    "name": "ipython",
    "version": 3
   },
   "file_extension": ".py",
   "mimetype": "text/x-python",
   "name": "python",
   "nbconvert_exporter": "python",
   "pygments_lexer": "ipython3",
   "version": "3.13.5"
  }
 },
 "nbformat": 4,
 "nbformat_minor": 5
}
