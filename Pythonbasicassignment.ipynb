{
  "nbformat": 4,
  "nbformat_minor": 0,
  "metadata": {
    "colab": {
      "provenance": []
    },
    "kernelspec": {
      "name": "python3",
      "display_name": "Python 3"
    },
    "language_info": {
      "name": "python"
    }
  },
  "cells": [
    {
      "cell_type": "markdown",
      "source": [
        "**THEORY QUESTIONS:**"
      ],
      "metadata": {
        "id": "moqGTZw0qjXy"
      }
    },
    {
      "cell_type": "markdown",
      "source": [
        "1) What is Python, and why is it popular?\n",
        "- Python is a high level language which is easy to learn and is popular because of its simplicity and versatility."
      ],
      "metadata": {
        "id": "n3WxrAhXpFeP"
      }
    },
    {
      "cell_type": "markdown",
      "source": [
        "2) What is an interpreter in Python?\n",
        "- Interpreter is the program that reads, converts code in machine readable form and executes code line by line."
      ],
      "metadata": {
        "id": "mwRXj_OEqFK1"
      }
    },
    {
      "cell_type": "markdown",
      "source": [
        "3) What are pre-defined keywords in Python?\n",
        "- The keywords which are already defined in python language and are reserved and have special meaning in language like if , else , elif , while , etc. We cannot use them as identifiers."
      ],
      "metadata": {
        "id": "q4SP26WFrFbW"
      }
    },
    {
      "cell_type": "markdown",
      "source": [
        "4) Can keywords be used as variable names?\n",
        "- No , They are already reserved and cannot be used as variables name."
      ],
      "metadata": {
        "id": "QaUo3b4PsCiD"
      }
    },
    {
      "cell_type": "markdown",
      "source": [
        "5) What is mutability in Python?\n",
        "- It means the ability of an object to be changed after creation or declaration."
      ],
      "metadata": {
        "id": "IgkGz0ecslXz"
      }
    },
    {
      "cell_type": "markdown",
      "source": [
        "6) Why are lists mutable, but tuples are immutable?\n",
        "- Lists allow modification that is why they are mutable whereas tuples do not so they are immutable.\n"
      ],
      "metadata": {
        "id": "lRLabGQRs1IC"
      }
    },
    {
      "cell_type": "markdown",
      "source": [
        "7) What is the difference between “==” and “is” operators in Python?\n",
        "- \"==\" check whether the value is equal or not like (a==1)  while \"is\" checks identity."
      ],
      "metadata": {
        "id": "N3qhdjs7tN2K"
      }
    },
    {
      "cell_type": "markdown",
      "source": [
        "8) What are logical operators in Python?\n",
        "- They are used to combine or check reverse conditions . For ex: AND , OR , NOT"
      ],
      "metadata": {
        "id": "UK_UaT3St6Nj"
      }
    },
    {
      "cell_type": "markdown",
      "source": [
        "9) What is type casting in Python?\n",
        "- It means converting one datatype to another."
      ],
      "metadata": {
        "id": "dTWSbsj6ultz"
      }
    },
    {
      "cell_type": "markdown",
      "source": [
        "10) What is the difference between implicit and explicit type casting?\n",
        "- Implicit - It is done automatically by python.\n",
        "- Explicit - It is done by the user manually."
      ],
      "metadata": {
        "id": "wEbPBOPgu4NC"
      }
    },
    {
      "cell_type": "markdown",
      "source": [
        "11) What is the purpose of conditional statements in Python?\n",
        "- It is used to make decisions and execute the code according to the given conditions."
      ],
      "metadata": {
        "id": "PL7dcxdjvMIK"
      }
    },
    {
      "cell_type": "markdown",
      "source": [
        "12) How does the elif statement work?\n",
        "- It checks for another given condition if the previous if condition was false.\n"
      ],
      "metadata": {
        "id": "Qaz0n16VvgPB"
      }
    },
    {
      "cell_type": "markdown",
      "source": [
        "13) What is the difference between for and while loops?\n",
        "- for - used when the number of iterations is known\n",
        "- while - used when the number of iterations depend upon condition"
      ],
      "metadata": {
        "id": "H-VbsPkNvylM"
      }
    },
    {
      "cell_type": "markdown",
      "source": [
        "14) Describe a scenario where a while loop is more suitable than a for loop?\n",
        "- at the time of unknown iterations when waiting for user to input a value"
      ],
      "metadata": {
        "id": "tIj_UleRwGFR"
      }
    },
    {
      "cell_type": "markdown",
      "source": [
        "**PRACTICAL** **QUESTIONS :**"
      ],
      "metadata": {
        "id": "qhp__UekwZSK"
      }
    },
    {
      "cell_type": "code",
      "source": [
        "# 1) Write a Python program to print \"Hello, World!\n",
        "print(\"Hello World\")"
      ],
      "metadata": {
        "colab": {
          "base_uri": "https://localhost:8080/"
        },
        "id": "bMO6MntXwd5y",
        "outputId": "af4d5f22-ac0e-40c9-95cb-b29d8a6f502f"
      },
      "execution_count": 1,
      "outputs": [
        {
          "output_type": "stream",
          "name": "stdout",
          "text": [
            "Hello World\n"
          ]
        }
      ]
    },
    {
      "cell_type": "code",
      "source": [
        "# 2) Write a Python program that displays your name and age\n",
        "name = \"Abhi\"\n",
        "age = 18\n",
        "print(\"Name - \" , name)\n",
        "print(\"Age - \" , age)"
      ],
      "metadata": {
        "colab": {
          "base_uri": "https://localhost:8080/"
        },
        "id": "vmgmOUptwtng",
        "outputId": "3fa747b6-46f4-4d1e-e4b4-3d2dccc3e485"
      },
      "execution_count": 4,
      "outputs": [
        {
          "output_type": "stream",
          "name": "stdout",
          "text": [
            "Name -  Abhi\n",
            "Age -  18\n"
          ]
        }
      ]
    },
    {
      "cell_type": "code",
      "source": [
        "# 3) Write code to print all the pre-defined keywords in Python using the keyword library\n",
        "import keyword\n",
        "print(keyword.kwlist)"
      ],
      "metadata": {
        "colab": {
          "base_uri": "https://localhost:8080/"
        },
        "id": "Z338flZ0xTki",
        "outputId": "119f984c-886e-4b4c-fd50-a9e1e956d5e8"
      },
      "execution_count": 5,
      "outputs": [
        {
          "output_type": "stream",
          "name": "stdout",
          "text": [
            "['False', 'None', 'True', 'and', 'as', 'assert', 'async', 'await', 'break', 'class', 'continue', 'def', 'del', 'elif', 'else', 'except', 'finally', 'for', 'from', 'global', 'if', 'import', 'in', 'is', 'lambda', 'nonlocal', 'not', 'or', 'pass', 'raise', 'return', 'try', 'while', 'with', 'yield']\n"
          ]
        }
      ]
    },
    {
      "cell_type": "code",
      "source": [
        "# 4) Write a program that checks if a given word is a Python keyword.\n",
        "import keyword\n",
        "word = input(\"Enter the word :\")\n",
        "print(word, \"is a keyword?\" , keyword.iskeyword(word))"
      ],
      "metadata": {
        "colab": {
          "base_uri": "https://localhost:8080/"
        },
        "id": "sNzMpRywxm5J",
        "outputId": "13a2c57f-3a4f-4ce2-e739-73692e244471"
      },
      "execution_count": 6,
      "outputs": [
        {
          "output_type": "stream",
          "name": "stdout",
          "text": [
            "Enter the word :for\n",
            "for is a keyword? True\n"
          ]
        }
      ]
    },
    {
      "cell_type": "code",
      "source": [
        "# 5) Create a list and tuple in Python, and demonstrate how attempting to change an element works differently\n",
        "#    for each.\n",
        "my_list=[1,2,3]\n",
        "my_tuple=(1,2,3)\n",
        "\n",
        "my_list[0]=10\n",
        "print(\"My list after changing the value :\" , my_list)\n",
        "\n",
        "\n",
        "'''\n",
        "my_tuple[0]=10\n",
        "print(\"My list after changing the value :\" , my_tuple)\n",
        "'''\n",
        "\n",
        "\n"
      ],
      "metadata": {
        "colab": {
          "base_uri": "https://localhost:8080/",
          "height": 53
        },
        "id": "IUliMWLryV75",
        "outputId": "d25b2707-4e0d-450c-e703-ecfcd93ac546"
      },
      "execution_count": 11,
      "outputs": [
        {
          "output_type": "stream",
          "name": "stdout",
          "text": [
            "My list after changing the value : [10, 2, 3]\n"
          ]
        },
        {
          "output_type": "execute_result",
          "data": {
            "text/plain": [
              "'\\nmy_tuple[0]=10\\nprint(\"My list after changing the value :\" , my_tuple)\\n'"
            ],
            "application/vnd.google.colaboratory.intrinsic+json": {
              "type": "string"
            }
          },
          "metadata": {},
          "execution_count": 11
        }
      ]
    },
    {
      "cell_type": "code",
      "source": [
        "# 6) Write a function to demonstrate the behavior of mutable and immutable arguments\n",
        "def a_list(lst):\n",
        "  lst.append(4)\n",
        "\n",
        "def b_number(num):\n",
        "  num += 5\n",
        "\n",
        "my_list = [1,2,3]\n",
        "my_number = 5\n",
        "\n",
        "a_list(my_list)\n",
        "b_number(my_number)\n",
        "print (\"Updated list : \" , my_list , \"Updated number : \" , my_number)"
      ],
      "metadata": {
        "colab": {
          "base_uri": "https://localhost:8080/"
        },
        "id": "ZSef28mUzYhz",
        "outputId": "a507a5b5-6af1-4252-802d-7962f627f130"
      },
      "execution_count": 62,
      "outputs": [
        {
          "output_type": "stream",
          "name": "stdout",
          "text": [
            "Updated list :  [1, 2, 3, 4] Updated number :  5\n"
          ]
        }
      ]
    },
    {
      "cell_type": "code",
      "source": [
        "# 7) Write a program that performs basic arithmetic operations on two user-input numbers.\n",
        "a = int(input(\"Enter value of a :\"))\n",
        "b = int(input(\"Enter value of b :\"))\n",
        "print(\"Additon = \", a+b)\n",
        "print(\"Subtraction = \", a-b)\n",
        "print(\"Multiply = \", a*b)\n",
        "print(\"Division = \", a/b)"
      ],
      "metadata": {
        "colab": {
          "base_uri": "https://localhost:8080/"
        },
        "id": "CVIALUoS0Dgx",
        "outputId": "746ef69f-d8c3-46fe-8b15-f6ab06fb6ec5"
      },
      "execution_count": 13,
      "outputs": [
        {
          "output_type": "stream",
          "name": "stdout",
          "text": [
            "Enter value of a :5\n",
            "Enter value of b :5\n",
            "Additon =  10\n",
            "Subtraction =  0\n",
            "Multiply =  25\n",
            "Division =  1.0\n"
          ]
        }
      ]
    },
    {
      "cell_type": "code",
      "source": [
        "# 8) Write a program to demonstrate the use of logical operators\n",
        "a = 50\n",
        "print(a >10 and a<100)\n",
        "print(a >10 or a == 100)\n",
        "print(not(a==50))\n"
      ],
      "metadata": {
        "colab": {
          "base_uri": "https://localhost:8080/"
        },
        "id": "1VH3wt7908ma",
        "outputId": "cfeb8e62-b5a3-44d6-aa96-15b5ebf9485e"
      },
      "execution_count": 19,
      "outputs": [
        {
          "output_type": "stream",
          "name": "stdout",
          "text": [
            "True\n",
            "True\n",
            "False\n"
          ]
        }
      ]
    },
    {
      "cell_type": "code",
      "source": [
        "# 9) Write a Python program to convert user input from string to integer, float, and boolean types.\n",
        "num = input(\"Enter the number :\")\n",
        "print(\"For integer :\", int(num))\n",
        "print(\"For String :\", num)#As value entered is already stored in string\n",
        "print(\"For float :\", float(num))\n",
        "print(\"For boolean :\", bool(num))"
      ],
      "metadata": {
        "colab": {
          "base_uri": "https://localhost:8080/"
        },
        "id": "apXPwM5g2iOQ",
        "outputId": "0801b2e6-3a51-4e36-adde-5112e52f99cc"
      },
      "execution_count": 26,
      "outputs": [
        {
          "output_type": "stream",
          "name": "stdout",
          "text": [
            "Enter the number :5\n",
            "For integer : 5\n",
            "For String : 5\n",
            "For float : 5.0\n",
            "For boolean : True\n"
          ]
        }
      ]
    },
    {
      "cell_type": "code",
      "source": [
        "# 10) Write code to demonstrate type casting with list elements.\n",
        "a_list= [\"1\",\"2\",\"3\",\"4\"]\n",
        "\n",
        "print(\" casting :\", a_list)\n"
      ],
      "metadata": {
        "colab": {
          "base_uri": "https://localhost:8080/"
        },
        "id": "V_3DDXTf3pJ4",
        "outputId": "333c823e-7058-4524-d1a2-eeb8fdaca381"
      },
      "execution_count": 40,
      "outputs": [
        {
          "output_type": "stream",
          "name": "stdout",
          "text": [
            " casting : ['1', '2', '3', '4']\n"
          ]
        }
      ]
    },
    {
      "cell_type": "code",
      "source": [
        "# 11) Write a program that checks if a number is positive, negative, or zero\n",
        "a = 0\n",
        "if(a>=1):\n",
        "  print(\"Positive number\")\n",
        "elif(a<0):\n",
        "  print(\"Negative number\")\n",
        "else:\n",
        "  print(\"Number entered is zero\")"
      ],
      "metadata": {
        "colab": {
          "base_uri": "https://localhost:8080/"
        },
        "id": "ATPovZcs5akZ",
        "outputId": "52e5ffab-8651-4f8b-c739-d2b0a574d4c1"
      },
      "execution_count": 44,
      "outputs": [
        {
          "output_type": "stream",
          "name": "stdout",
          "text": [
            "Number entered is zero\n"
          ]
        }
      ]
    },
    {
      "cell_type": "code",
      "source": [
        "# 12)  Write a for loop to print numbers from 1 to 10.\n",
        "for i in range(1,11):\n",
        "  print(i)"
      ],
      "metadata": {
        "colab": {
          "base_uri": "https://localhost:8080/"
        },
        "id": "0VwLWg2B543v",
        "outputId": "83151fb4-ae84-4d92-c5e6-01725b96c98d"
      },
      "execution_count": 46,
      "outputs": [
        {
          "output_type": "stream",
          "name": "stdout",
          "text": [
            "1\n",
            "2\n",
            "3\n",
            "4\n",
            "5\n",
            "6\n",
            "7\n",
            "8\n",
            "9\n",
            "10\n"
          ]
        }
      ]
    },
    {
      "cell_type": "code",
      "source": [
        "# 13) Write a Python program to find the sum of all even numbers between 1 and 50.\n",
        "sum=0\n",
        "for i in range(2,51,2):\n",
        "  sum += i\n",
        "print(\"Sum of all even numbers :\", sum)"
      ],
      "metadata": {
        "colab": {
          "base_uri": "https://localhost:8080/"
        },
        "id": "lU_N-dyy6lRn",
        "outputId": "13b8e8c1-b620-4aa5-a9c8-9fda24c5547c"
      },
      "execution_count": 54,
      "outputs": [
        {
          "output_type": "stream",
          "name": "stdout",
          "text": [
            "Sum of all even numbers : 650\n"
          ]
        }
      ]
    },
    {
      "cell_type": "code",
      "source": [
        "# 14) Write a program to reverse a string using a while loop.\n",
        "word = input(\"Enter a word :\")\n",
        "print(\"Reversed word \" , word[::-1] )\n"
      ],
      "metadata": {
        "colab": {
          "base_uri": "https://localhost:8080/"
        },
        "id": "T82SAHK77ikY",
        "outputId": "7ca18d30-07fb-4672-dc19-b0fbdb7345c6"
      },
      "execution_count": 55,
      "outputs": [
        {
          "output_type": "stream",
          "name": "stdout",
          "text": [
            "Enter a word :abhijeet\n",
            "Reversed word  teejihba\n"
          ]
        }
      ]
    },
    {
      "cell_type": "code",
      "source": [
        "# 15) Write a Python program to calculate the factorial of a number provided by the user using a while loop\n",
        "i = int(input(\"Enter the value to print factorial of it : \"))\n",
        "f = 1\n",
        "while i>0:\n",
        "  f *= i\n",
        "  i -= 1\n",
        "print(\"Factorial is : \" , f)"
      ],
      "metadata": {
        "colab": {
          "base_uri": "https://localhost:8080/"
        },
        "id": "Rx3AgXaU8Yz4",
        "outputId": "8497383b-9466-4b17-8e1e-1162997600b5"
      },
      "execution_count": 61,
      "outputs": [
        {
          "output_type": "stream",
          "name": "stdout",
          "text": [
            "Enter the value to print factorial of it : 4\n",
            "Factorial is :  24\n"
          ]
        }
      ]
    }
  ]
}