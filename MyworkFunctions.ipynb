{
 "cells": [
  {
   "cell_type": "code",
   "execution_count": 1,
   "id": "282cf673-fe56-4c34-af13-60d31f72209a",
   "metadata": {},
   "outputs": [
    {
     "name": "stdout",
     "output_type": "stream",
     "text": [
      "Hello world\n"
     ]
    }
   ],
   "source": [
    "print(\"Hello world\")"
   ]
  },
  {
   "cell_type": "code",
   "execution_count": 2,
   "id": "f87afedb-a5b9-421c-b06c-25ff1c7c8c4c",
   "metadata": {},
   "outputs": [
    {
     "data": {
      "text/plain": [
       "8"
      ]
     },
     "execution_count": 2,
     "metadata": {},
     "output_type": "execute_result"
    }
   ],
   "source": [
    "len(\"Abhijeet\")"
   ]
  },
  {
   "cell_type": "code",
   "execution_count": 3,
   "id": "26db02d4-66f7-4452-9b86-d9be0a22aa5e",
   "metadata": {},
   "outputs": [
    {
     "data": {
      "text/plain": [
       "int"
      ]
     },
     "execution_count": 3,
     "metadata": {},
     "output_type": "execute_result"
    }
   ],
   "source": [
    "type(5)"
   ]
  },
  {
   "cell_type": "code",
   "execution_count": 4,
   "id": "76976db7-3c3b-47c0-be7a-084d82139ad6",
   "metadata": {},
   "outputs": [
    {
     "data": {
      "text/plain": [
       "float"
      ]
     },
     "execution_count": 4,
     "metadata": {},
     "output_type": "execute_result"
    }
   ],
   "source": [
    "type(9.9)"
   ]
  },
  {
   "cell_type": "code",
   "execution_count": 5,
   "id": "bb97b180-d939-4539-be1d-553ad2f36916",
   "metadata": {},
   "outputs": [],
   "source": [
    "#THEY ARE PREDEFINED FUNCTIONS >> len,print,type i.e they are inbuilt python functions"
   ]
  },
  {
   "cell_type": "code",
   "execution_count": 12,
   "id": "3712d8ea-a978-4bd5-8816-97f7ab328a91",
   "metadata": {},
   "outputs": [],
   "source": [
    "#CEIL FUNCTION - returns nearest highest whole no. values \n",
    "#FLOOR FUNCTION - returns nearest lowest whole no. values\n",
    "import math as m # math is a collection of functions"
   ]
  },
  {
   "cell_type": "code",
   "execution_count": 13,
   "id": "47951b12-ffff-4637-b507-0012e5ab0d0f",
   "metadata": {},
   "outputs": [
    {
     "data": {
      "text/plain": [
       "10"
      ]
     },
     "execution_count": 13,
     "metadata": {},
     "output_type": "execute_result"
    }
   ],
   "source": [
    "m.ceil(9.7)"
   ]
  },
  {
   "cell_type": "code",
   "execution_count": 14,
   "id": "8b060960-81de-4ccf-a000-5b35c536cb35",
   "metadata": {},
   "outputs": [
    {
     "data": {
      "text/plain": [
       "6"
      ]
     },
     "execution_count": 14,
     "metadata": {},
     "output_type": "execute_result"
    }
   ],
   "source": [
    "m.floor(6.5)"
   ]
  },
  {
   "cell_type": "code",
   "execution_count": 15,
   "id": "da4c8720-d9ab-4651-bff3-d86dcd8d7569",
   "metadata": {},
   "outputs": [
    {
     "data": {
      "text/plain": [
       "6"
      ]
     },
     "execution_count": 15,
     "metadata": {},
     "output_type": "execute_result"
    }
   ],
   "source": [
    "m.floor(6.6)"
   ]
  },
  {
   "cell_type": "code",
   "execution_count": null,
   "id": "fa89d654-1972-4adb-88f0-917da5aa9386",
   "metadata": {},
   "outputs": [],
   "source": [
    "#functions>> INBUILT FUNCTION\n",
    "#USER defined function - coming now"
   ]
  },
  {
   "cell_type": "code",
   "execution_count": 17,
   "id": "b74820d0-9fb4-41a0-af85-9bbc304562d0",
   "metadata": {},
   "outputs": [],
   "source": [
    "#SYNTAX OF FUNCTION\n",
    "#def fun():\n",
    "    #do something>> body of function"
   ]
  },
  {
   "cell_type": "code",
   "execution_count": 20,
   "id": "59a76f25-dcea-4b45-a5ef-2e0c1b5d9eea",
   "metadata": {},
   "outputs": [],
   "source": [
    "#function is a block of code which performs some specific task/computation\n",
    "#why function -  the functions(code) are reusable,neat clean and organised.Saves time as well."
   ]
  },
  {
   "cell_type": "code",
   "execution_count": 21,
   "id": "335f8574-679f-4133-afd1-206c10c9f187",
   "metadata": {},
   "outputs": [
    {
     "name": "stdout",
     "output_type": "stream",
     "text": [
      "Welcome to the office Abhi\n",
      "Welcome to the office Abhay\n",
      "Welcome to the office Khush\n"
     ]
    }
   ],
   "source": [
    "print(\"Welcome to the office Abhi\")\n",
    "print(\"Welcome to the office Abhay\")\n",
    "print(\"Welcome to the office Khush\")"
   ]
  },
  {
   "cell_type": "code",
   "execution_count": 22,
   "id": "62e7794f-f5a7-4cd8-afe1-f978fd4b9242",
   "metadata": {},
   "outputs": [],
   "source": [
    "#Making first function to keep the above done work in neat and clean way and also to save time\n",
    "def greet():\n",
    "    print(\"Welcome to the office\")"
   ]
  },
  {
   "cell_type": "code",
   "execution_count": 23,
   "id": "56fd2bdf-0ed7-405b-bb87-65b4f541ea45",
   "metadata": {},
   "outputs": [
    {
     "name": "stdout",
     "output_type": "stream",
     "text": [
      "Welcome to the office\n"
     ]
    }
   ],
   "source": [
    "greet()"
   ]
  },
  {
   "cell_type": "code",
   "execution_count": 24,
   "id": "ee843732-1a4b-4b27-96af-62097c6c2592",
   "metadata": {},
   "outputs": [],
   "source": [
    "def greet(name):#passing a variable inside function >> positional argument \n",
    "    print(\"Welcome to the office\" , name)"
   ]
  },
  {
   "cell_type": "code",
   "execution_count": 25,
   "id": "305ef3d9-c2f9-475c-be39-ec701b99e77a",
   "metadata": {},
   "outputs": [
    {
     "name": "stdout",
     "output_type": "stream",
     "text": [
      "Welcome to the office Abhi\n"
     ]
    }
   ],
   "source": [
    "greet(\"Abhi\")"
   ]
  },
  {
   "cell_type": "code",
   "execution_count": 26,
   "id": "3cdf3a83-fd88-42ee-91c5-b15f466706a3",
   "metadata": {},
   "outputs": [
    {
     "name": "stdout",
     "output_type": "stream",
     "text": [
      "Welcome to the office Kartik\n"
     ]
    }
   ],
   "source": [
    "greet(\"Kartik\")"
   ]
  },
  {
   "cell_type": "code",
   "execution_count": 27,
   "id": "a41d81d1-0e26-4536-a57d-230f6b3b7350",
   "metadata": {},
   "outputs": [
    {
     "ename": "TypeError",
     "evalue": "greet() missing 1 required positional argument: 'name'",
     "output_type": "error",
     "traceback": [
      "\u001b[1;31m---------------------------------------------------------------------------\u001b[0m",
      "\u001b[1;31mTypeError\u001b[0m                                 Traceback (most recent call last)",
      "Cell \u001b[1;32mIn[27], line 1\u001b[0m\n\u001b[1;32m----> 1\u001b[0m greet()\n",
      "\u001b[1;31mTypeError\u001b[0m: greet() missing 1 required positional argument: 'name'"
     ]
    }
   ],
   "source": [
    "greet() #it gives an error"
   ]
  },
  {
   "cell_type": "code",
   "execution_count": 28,
   "id": "37f3ec78-97c3-4bae-9bd2-d4f642df0189",
   "metadata": {},
   "outputs": [
    {
     "name": "stdout",
     "output_type": "stream",
     "text": [
      "This is my first function\n"
     ]
    }
   ],
   "source": [
    "def func():\n",
    "    print(\"This is my first function\")\n",
    "\n",
    "func()"
   ]
  },
  {
   "cell_type": "code",
   "execution_count": 30,
   "id": "025bcd4e-d9eb-428e-bfcb-73e53660dd25",
   "metadata": {},
   "outputs": [
    {
     "data": {
      "text/plain": [
       "'This is my first function in python'"
      ]
     },
     "execution_count": 30,
     "metadata": {},
     "output_type": "execute_result"
    }
   ],
   "source": [
    "\"This is my first function\" + \" in python\""
   ]
  },
  {
   "cell_type": "code",
   "execution_count": 33,
   "id": "52985807-7a93-47d7-aceb-367814ea3fd4",
   "metadata": {},
   "outputs": [
    {
     "name": "stdout",
     "output_type": "stream",
     "text": [
      "This is my first function\n"
     ]
    },
    {
     "ename": "TypeError",
     "evalue": "unsupported operand type(s) for +: 'NoneType' and 'str'",
     "output_type": "error",
     "traceback": [
      "\u001b[1;31m---------------------------------------------------------------------------\u001b[0m",
      "\u001b[1;31mTypeError\u001b[0m                                 Traceback (most recent call last)",
      "Cell \u001b[1;32mIn[33], line 1\u001b[0m\n\u001b[1;32m----> 1\u001b[0m func() \u001b[38;5;241m+\u001b[39m \u001b[38;5;124m\"\u001b[39m\u001b[38;5;124m in python\u001b[39m\u001b[38;5;124m\"\u001b[39m\n",
      "\u001b[1;31mTypeError\u001b[0m: unsupported operand type(s) for +: 'NoneType' and 'str'"
     ]
    }
   ],
   "source": [
    "func() + \" in python\""
   ]
  },
  {
   "cell_type": "code",
   "execution_count": 34,
   "id": "821d686f-c487-40e7-aa20-e7102084eb5d",
   "metadata": {},
   "outputs": [
    {
     "name": "stdout",
     "output_type": "stream",
     "text": [
      "This is my first function\n",
      "<class 'NoneType'>\n"
     ]
    }
   ],
   "source": [
    "print(type(func()))"
   ]
  },
  {
   "cell_type": "code",
   "execution_count": 38,
   "id": "20268446-149f-4fb8-8df3-2fefc0131de4",
   "metadata": {},
   "outputs": [
    {
     "data": {
      "text/plain": [
       "'This is my first function in python'"
      ]
     },
     "execution_count": 38,
     "metadata": {},
     "output_type": "execute_result"
    }
   ],
   "source": [
    "def func(): #returns output of a function\n",
    "    #do something here\n",
    "    return \"This is my first function\"\n",
    "\n",
    "func() + \" in python\""
   ]
  },
  {
   "cell_type": "code",
   "execution_count": 42,
   "id": "df68a0e9-42d6-44f3-a6b0-cc7291b56d2c",
   "metadata": {},
   "outputs": [
    {
     "data": {
      "text/plain": [
       "('This is my first function', 1, 2.2, True, (5+9j))"
      ]
     },
     "execution_count": 42,
     "metadata": {},
     "output_type": "execute_result"
    }
   ],
   "source": [
    "def func():\n",
    "    return \"This is my first function\" , 1,2.2,True,5+9j\n",
    "\n",
    "func()"
   ]
  },
  {
   "cell_type": "code",
   "execution_count": 43,
   "id": "576691ae-2a1a-4eb1-a551-be36ac7f4dd7",
   "metadata": {},
   "outputs": [
    {
     "data": {
      "text/plain": [
       "tuple"
      ]
     },
     "execution_count": 43,
     "metadata": {},
     "output_type": "execute_result"
    }
   ],
   "source": [
    "a = func()\n",
    "type(a)"
   ]
  },
  {
   "cell_type": "code",
   "execution_count": 44,
   "id": "4715c75c-4304-4e45-a7f6-f339216aeeb9",
   "metadata": {},
   "outputs": [
    {
     "data": {
      "text/plain": [
       "('This is my first function', 1, 2.2, True, (5+9j))"
      ]
     },
     "execution_count": 44,
     "metadata": {},
     "output_type": "execute_result"
    }
   ],
   "source": [
    "#To assign all the above tuple value in different variable\n",
    "func()"
   ]
  },
  {
   "cell_type": "code",
   "execution_count": 45,
   "id": "f0469d5e-60ae-4ef7-99f5-c7d85ecd8a68",
   "metadata": {},
   "outputs": [],
   "source": [
    "a,b,c,d,e = func()"
   ]
  },
  {
   "cell_type": "code",
   "execution_count": 47,
   "id": "2a302ac5-7349-4c68-b541-285c9a19563a",
   "metadata": {},
   "outputs": [
    {
     "data": {
      "text/plain": [
       "'This is my first function'"
      ]
     },
     "execution_count": 47,
     "metadata": {},
     "output_type": "execute_result"
    }
   ],
   "source": [
    "a"
   ]
  },
  {
   "cell_type": "code",
   "execution_count": 48,
   "id": "8ea2851f-8dd5-4b4c-bd9f-314646995320",
   "metadata": {},
   "outputs": [
    {
     "data": {
      "text/plain": [
       "1"
      ]
     },
     "execution_count": 48,
     "metadata": {},
     "output_type": "execute_result"
    }
   ],
   "source": [
    "b"
   ]
  },
  {
   "cell_type": "code",
   "execution_count": 49,
   "id": "35427cb1-6ef3-4fec-ae9d-dcd9afae0d8f",
   "metadata": {},
   "outputs": [
    {
     "data": {
      "text/plain": [
       "2.2"
      ]
     },
     "execution_count": 49,
     "metadata": {},
     "output_type": "execute_result"
    }
   ],
   "source": [
    "c"
   ]
  },
  {
   "cell_type": "code",
   "execution_count": 50,
   "id": "4cc84a45-207e-487e-8c82-e1275967c0c2",
   "metadata": {},
   "outputs": [
    {
     "data": {
      "text/plain": [
       "True"
      ]
     },
     "execution_count": 50,
     "metadata": {},
     "output_type": "execute_result"
    }
   ],
   "source": [
    "d"
   ]
  },
  {
   "cell_type": "code",
   "execution_count": 51,
   "id": "1e09b575-7e78-404d-94ec-3c8455f0821a",
   "metadata": {},
   "outputs": [
    {
     "data": {
      "text/plain": [
       "(5+9j)"
      ]
     },
     "execution_count": 51,
     "metadata": {},
     "output_type": "execute_result"
    }
   ],
   "source": [
    "e"
   ]
  },
  {
   "cell_type": "code",
   "execution_count": 52,
   "id": "595668fa-8ac3-44f3-930c-93b89bf8b571",
   "metadata": {},
   "outputs": [
    {
     "data": {
      "text/plain": [
       "('This is my first function', 1, 2.2, True, (5+9j))"
      ]
     },
     "execution_count": 52,
     "metadata": {},
     "output_type": "execute_result"
    }
   ],
   "source": [
    "a = func()\n",
    "a"
   ]
  },
  {
   "cell_type": "code",
   "execution_count": 53,
   "id": "5638b6cd-70e7-4fa8-8af5-edb53a1dfddb",
   "metadata": {},
   "outputs": [
    {
     "data": {
      "text/plain": [
       "'This is my first function'"
      ]
     },
     "execution_count": 53,
     "metadata": {},
     "output_type": "execute_result"
    }
   ],
   "source": [
    "a[0]"
   ]
  },
  {
   "cell_type": "code",
   "execution_count": 54,
   "id": "0f7c6f54-6414-4ab6-8995-aa229a199c3e",
   "metadata": {},
   "outputs": [
    {
     "data": {
      "text/plain": [
       "1"
      ]
     },
     "execution_count": 54,
     "metadata": {},
     "output_type": "execute_result"
    }
   ],
   "source": [
    "a[1]"
   ]
  },
  {
   "cell_type": "code",
   "execution_count": 58,
   "id": "a58d89bb-e602-4949-8506-dddab8ff4bd3",
   "metadata": {},
   "outputs": [],
   "source": [
    "def func():\n",
    "    calc = 2+3+6*5\n",
    "    return calc"
   ]
  },
  {
   "cell_type": "code",
   "execution_count": 60,
   "id": "e7365595-3bac-465b-8422-f8a631a7a2f3",
   "metadata": {},
   "outputs": [
    {
     "data": {
      "text/plain": [
       "int"
      ]
     },
     "execution_count": 60,
     "metadata": {},
     "output_type": "execute_result"
    }
   ],
   "source": [
    "type(func())"
   ]
  },
  {
   "cell_type": "code",
   "execution_count": 61,
   "id": "adfa0012-4477-487d-ac3f-2704137a236a",
   "metadata": {},
   "outputs": [
    {
     "data": {
      "text/plain": [
       "35"
      ]
     },
     "execution_count": 61,
     "metadata": {},
     "output_type": "execute_result"
    }
   ],
   "source": [
    "func()"
   ]
  },
  {
   "cell_type": "code",
   "execution_count": 62,
   "id": "8b687547-e589-4eb1-9fb7-26da86e91333",
   "metadata": {},
   "outputs": [],
   "source": [
    "def square_no(a): # a is called as an argument\n",
    "    return a*a"
   ]
  },
  {
   "cell_type": "code",
   "execution_count": 63,
   "id": "da0af807-4405-460f-a2ad-42f73dbe5b7b",
   "metadata": {},
   "outputs": [
    {
     "data": {
      "text/plain": [
       "25"
      ]
     },
     "execution_count": 63,
     "metadata": {},
     "output_type": "execute_result"
    }
   ],
   "source": [
    "square_no(5)"
   ]
  },
  {
   "cell_type": "code",
   "execution_count": 64,
   "id": "d117fe2c-bc99-4fcc-be47-36912ba83d67",
   "metadata": {},
   "outputs": [],
   "source": [
    "def addition(a, b): \n",
    "    return a+b"
   ]
  },
  {
   "cell_type": "code",
   "execution_count": 65,
   "id": "1a0b2057-3829-4720-b03d-8e00c270023d",
   "metadata": {},
   "outputs": [
    {
     "data": {
      "text/plain": [
       "11"
      ]
     },
     "execution_count": 65,
     "metadata": {},
     "output_type": "execute_result"
    }
   ],
   "source": [
    "addition(5 , 6) #Addition when int value given"
   ]
  },
  {
   "cell_type": "code",
   "execution_count": 66,
   "id": "636df4e5-6d5b-4528-a1be-8d530cc211ff",
   "metadata": {},
   "outputs": [
    {
     "data": {
      "text/plain": [
       "'Hello|Abhijeet'"
      ]
     },
     "execution_count": 66,
     "metadata": {},
     "output_type": "execute_result"
    }
   ],
   "source": [
    "addition(\"Hello|\" , \"Abhijeet\") # Concatenate when str value given"
   ]
  },
  {
   "cell_type": "code",
   "execution_count": 69,
   "id": "877885e3-8ce5-451a-a795-9838fea5a8ed",
   "metadata": {},
   "outputs": [
    {
     "data": {
      "text/plain": [
       "[1, 2, 3, 4, 5, 6]"
      ]
     },
     "execution_count": 69,
     "metadata": {},
     "output_type": "execute_result"
    }
   ],
   "source": [
    "addition([1,2,3],[4,5,6]) # concatenate lists when list is provided"
   ]
  },
  {
   "cell_type": "code",
   "execution_count": 71,
   "id": "7378304e-05f4-445f-be1a-6ba5881bc788",
   "metadata": {},
   "outputs": [
    {
     "data": {
      "text/plain": [
       "'jeetAbhi'"
      ]
     },
     "execution_count": 71,
     "metadata": {},
     "output_type": "execute_result"
    }
   ],
   "source": [
    "addition(\"jeet\" , \"Abhi\") # Positional arguments - means the position  in which user provide the argumment it will used in same order in function "
   ]
  },
  {
   "cell_type": "code",
   "execution_count": 72,
   "id": "51fdad2a-6368-4644-8805-7aa1891d25aa",
   "metadata": {},
   "outputs": [],
   "source": [
    "# a and b are positional arguments so it maintains the order \n",
    "def addition(b, a): \n",
    "    return a+b"
   ]
  },
  {
   "cell_type": "code",
   "execution_count": 73,
   "id": "572036f4-92ea-4721-aeca-72bf45ea9e7c",
   "metadata": {},
   "outputs": [
    {
     "data": {
      "text/plain": [
       "'Abhijeet'"
      ]
     },
     "execution_count": 73,
     "metadata": {},
     "output_type": "execute_result"
    }
   ],
   "source": [
    "addition(\"jeet\" , \"Abhi\")"
   ]
  },
  {
   "cell_type": "code",
   "execution_count": 74,
   "id": "265b671b-a795-40db-b7c3-df6b56d89032",
   "metadata": {},
   "outputs": [
    {
     "data": {
      "text/plain": [
       "'Abhijeet'"
      ]
     },
     "execution_count": 74,
     "metadata": {},
     "output_type": "execute_result"
    }
   ],
   "source": [
    "#or u can assign value for each arguments like\n",
    "addition(a = \"Abhi\" , b = \"jeet\")"
   ]
  },
  {
   "cell_type": "code",
   "execution_count": 75,
   "id": "15fc11b0-c488-4bc2-a27a-cbaa458455c5",
   "metadata": {},
   "outputs": [],
   "source": [
    "def sum1(a,b,c):\n",
    "    return a+b+c"
   ]
  },
  {
   "cell_type": "code",
   "execution_count": 76,
   "id": "87f48458-9f84-4407-9597-3965de46293f",
   "metadata": {},
   "outputs": [
    {
     "data": {
      "text/plain": [
       "6"
      ]
     },
     "execution_count": 76,
     "metadata": {},
     "output_type": "execute_result"
    }
   ],
   "source": [
    "sum1(1,2,3)"
   ]
  },
  {
   "cell_type": "code",
   "execution_count": 78,
   "id": "23cf1bde-63a0-437d-970a-b813929a3854",
   "metadata": {},
   "outputs": [],
   "source": [
    "#INCASE IF THERE S NO VALUE PROVIDED FOR ANY OF THE VARIABBLES SO WE USE DEFAULT ARGUMENTS\n",
    "def sum1(b,c,a = 0):\n",
    "    return a+b+c"
   ]
  },
  {
   "cell_type": "code",
   "execution_count": 82,
   "id": "c851e8c9-e20c-49d0-993e-d45c0b0c319e",
   "metadata": {},
   "outputs": [
    {
     "data": {
      "text/plain": [
       "8"
      ]
     },
     "execution_count": 82,
     "metadata": {},
     "output_type": "execute_result"
    }
   ],
   "source": [
    "sum1(3,5)#a value not given so it is getting default "
   ]
  },
  {
   "cell_type": "code",
   "execution_count": 84,
   "id": "438b731c-d416-4ed0-8471-da567034e843",
   "metadata": {},
   "outputs": [],
   "source": [
    "def sum1(a,b,c=0):# The default value should always be present in the last\n",
    "    return a+b+c"
   ]
  },
  {
   "cell_type": "code",
   "execution_count": 86,
   "id": "8895bae7-9fe3-461a-99a3-cebdc289d868",
   "metadata": {},
   "outputs": [
    {
     "data": {
      "text/plain": [
       "6"
      ]
     },
     "execution_count": 86,
     "metadata": {},
     "output_type": "execute_result"
    }
   ],
   "source": [
    "sum1(1,2,3)#if the value is given then it changes from default to the given one"
   ]
  },
  {
   "cell_type": "code",
   "execution_count": 87,
   "id": "6355da1d-4b98-41e9-ba55-48d8af1298e4",
   "metadata": {},
   "outputs": [],
   "source": [
    "def sum1(a=0,b=0,c=0):# The default value should always be present in the last\n",
    "    return a+b+c"
   ]
  },
  {
   "cell_type": "code",
   "execution_count": 88,
   "id": "8712f1d5-8270-4b9c-a566-d455efc6ebb9",
   "metadata": {},
   "outputs": [
    {
     "data": {
      "text/plain": [
       "1"
      ]
     },
     "execution_count": 88,
     "metadata": {},
     "output_type": "execute_result"
    }
   ],
   "source": [
    "sum1(1)"
   ]
  },
  {
   "cell_type": "code",
   "execution_count": 90,
   "id": "97f97109-a966-4b81-8e5b-331d38e57c72",
   "metadata": {},
   "outputs": [
    {
     "data": {
      "text/plain": [
       "8"
      ]
     },
     "execution_count": 90,
     "metadata": {},
     "output_type": "execute_result"
    }
   ],
   "source": [
    "sum1(1,7)"
   ]
  },
  {
   "cell_type": "code",
   "execution_count": 91,
   "id": "64008508-5691-4624-af1d-5eca445ab5d5",
   "metadata": {},
   "outputs": [],
   "source": [
    "#ADD 2 VAL. BUT TAKING INPUT FROM THE USER\n",
    "def add_two_number():\n",
    "    a = int(input(\"Enter value a :\"))\n",
    "    b = int(input(\"Enter value b :\"))\n",
    "    return a+b"
   ]
  },
  {
   "cell_type": "code",
   "execution_count": 92,
   "id": "c7f9a207-710a-4384-a0c0-66b6b022f841",
   "metadata": {},
   "outputs": [
    {
     "name": "stdin",
     "output_type": "stream",
     "text": [
      "Enter value a 5\n",
      "Enter value b 10\n"
     ]
    },
    {
     "data": {
      "text/plain": [
       "15"
      ]
     },
     "execution_count": 92,
     "metadata": {},
     "output_type": "execute_result"
    }
   ],
   "source": [
    "add_two_number()"
   ]
  },
  {
   "cell_type": "code",
   "execution_count": 97,
   "id": "21eaa03e-92af-47ae-af4a-fb353cd0b154",
   "metadata": {},
   "outputs": [],
   "source": [
    "#Write a function that takes list as an input and return all numeric values in a list\n",
    "def a_numeric(a):\n",
    "    a_list = []\n",
    "    for i in a:\n",
    "        if type(i) == int or type(i) == float:\n",
    "            a_list.append(i)\n",
    "    return a_list"
   ]
  },
  {
   "cell_type": "code",
   "execution_count": 98,
   "id": "1bc55783-d243-4b2b-b18d-b29c926df9ac",
   "metadata": {},
   "outputs": [
    {
     "data": {
      "text/plain": [
       "[1, 2.2, 9.9, 99]"
      ]
     },
     "execution_count": 98,
     "metadata": {},
     "output_type": "execute_result"
    }
   ],
   "source": [
    "a_numeric([1, 2.2,\"Abhi\",9.9,99,True,False])"
   ]
  },
  {
   "cell_type": "code",
   "execution_count": 3,
   "id": "1341f0b2-2178-4be8-af60-b4459a4fc411",
   "metadata": {},
   "outputs": [],
   "source": [
    "#Now in input take nested list as well\n",
    "#Write a function that takes list as an input and return all numeric values in a list\n",
    "def b_numeric(a):\n",
    "    a_list = []\n",
    "    for i in a:\n",
    "        if type(i) == list:\n",
    "            for j in i:\n",
    "                if(type(j) == int or type(j) == float):\n",
    "                    a_list.append(j)\n",
    "        else:\n",
    "            if type(i) == int or type(i) == float :\n",
    "                a_list.append(i)\n",
    "    return a_list"
   ]
  },
  {
   "cell_type": "code",
   "execution_count": 4,
   "id": "c11038d0-faad-40e7-a93b-72a1ce9b4b95",
   "metadata": {},
   "outputs": [
    {
     "data": {
      "text/plain": [
       "[1, 2, 1, 2.2, 9.9, 99]"
      ]
     },
     "execution_count": 4,
     "metadata": {},
     "output_type": "execute_result"
    }
   ],
   "source": [
    "b_numeric([[1,2,\"Abhi\"],1, 2.2,\"Abhi\",9.9,99,True,False])"
   ]
  },
  {
   "cell_type": "code",
   "execution_count": 5,
   "id": "3e6489f6-444a-4e95-a120-1ab13d66635e",
   "metadata": {},
   "outputs": [],
   "source": [
    "def c_stringonly(a):#Gives this error as there was only 1 argument given\n",
    "    a_list =[]\n",
    "    for i in a:\n",
    "        if type(i)== list:\n",
    "            for j in i :\n",
    "                if type(j) == str:\n",
    "                    a_list.append(j)\n",
    "        else:\n",
    "            if type(i) == str:\n",
    "                a_list.append(i)\n",
    "    return a_list"
   ]
  },
  {
   "cell_type": "code",
   "execution_count": 6,
   "id": "d31f31cb-db95-46a7-8528-52c747f146d0",
   "metadata": {},
   "outputs": [
    {
     "ename": "TypeError",
     "evalue": "c_stringonly() takes 1 positional argument but 3 were given",
     "output_type": "error",
     "traceback": [
      "\u001b[1;31m---------------------------------------------------------------------------\u001b[0m",
      "\u001b[1;31mTypeError\u001b[0m                                 Traceback (most recent call last)",
      "Cell \u001b[1;32mIn[6], line 1\u001b[0m\n\u001b[1;32m----> 1\u001b[0m c_stringonly([\u001b[38;5;124m\"\u001b[39m\u001b[38;5;124mHello\u001b[39m\u001b[38;5;124m\"\u001b[39m,\u001b[38;5;241m3\u001b[39m,\u001b[38;5;241m5\u001b[39m,\u001b[38;5;241m2\u001b[39m,\u001b[38;5;124m\"\u001b[39m\u001b[38;5;124mI\u001b[39m\u001b[38;5;124m\"\u001b[39m],\u001b[38;5;124m\"\u001b[39m\u001b[38;5;124mAM\u001b[39m\u001b[38;5;124m\"\u001b[39m,[\u001b[38;5;241m3\u001b[39m,\u001b[38;5;241m4\u001b[39m,\u001b[38;5;241m1\u001b[39m,\u001b[38;5;124m\"\u001b[39m\u001b[38;5;124mABHI\u001b[39m\u001b[38;5;124m\"\u001b[39m])\n",
      "\u001b[1;31mTypeError\u001b[0m: c_stringonly() takes 1 positional argument but 3 were given"
     ]
    }
   ],
   "source": [
    "c_stringonly([\"Hello\",3,5,2,\"I\"],\"AM\",[3,4,1,\"ABHI\"])"
   ]
  },
  {
   "cell_type": "code",
   "execution_count": 7,
   "id": "333bd1b4-1427-4033-aa21-599f8b65f496",
   "metadata": {},
   "outputs": [],
   "source": [
    "def c_stringonly(*a):#fixed it after adding * to it as it is used for multiple arguments\n",
    "    a_list = []\n",
    "    for i in a:\n",
    "        if type(i) == list:\n",
    "            for j in i:\n",
    "                if type(j) == str:\n",
    "                    a_list.append(j)\n",
    "        else:\n",
    "            if type(i) == str:\n",
    "                a_list.append(i)\n",
    "    return a_list"
   ]
  },
  {
   "cell_type": "code",
   "execution_count": 8,
   "id": "3bc9eada-532a-4f30-9688-48b4685f6edc",
   "metadata": {},
   "outputs": [
    {
     "data": {
      "text/plain": [
       "['Hello', 'I', 'AM', 'ABHI']"
      ]
     },
     "execution_count": 8,
     "metadata": {},
     "output_type": "execute_result"
    }
   ],
   "source": [
    "c_stringonly([\"Hello\",3,5,2,\"I\"],\"AM\",[3,4,1,\"ABHI\"])"
   ]
  },
  {
   "cell_type": "code",
   "execution_count": 9,
   "id": "d1c51684-a40c-4592-b9cc-29714cacb716",
   "metadata": {},
   "outputs": [],
   "source": [
    "#A function which can take any number of values and return the sum\n",
    "def sum_infinity(*a):\n",
    "    s = 0\n",
    "    for i in a:\n",
    "        s = s+i\n",
    "    return s"
   ]
  },
  {
   "cell_type": "code",
   "execution_count": 10,
   "id": "7e2cb118-7ff8-4228-997e-95588d0cd0b0",
   "metadata": {},
   "outputs": [
    {
     "data": {
      "text/plain": [
       "15"
      ]
     },
     "execution_count": 10,
     "metadata": {},
     "output_type": "execute_result"
    }
   ],
   "source": [
    "sum_infinity(1,2,3,4,5)"
   ]
  },
  {
   "cell_type": "code",
   "execution_count": 11,
   "id": "f743bcd8-a3f3-4237-8ca2-b4500dd36502",
   "metadata": {},
   "outputs": [],
   "source": [
    "#Variable argument with default argument\n",
    "def test(*args,a):\n",
    "    return args,a"
   ]
  },
  {
   "cell_type": "code",
   "execution_count": 12,
   "id": "1a904494-96ac-44df-bfa0-386bf6ad53ae",
   "metadata": {},
   "outputs": [
    {
     "data": {
      "text/plain": [
       "((1, 2, 3, 4), 'Ram')"
      ]
     },
     "execution_count": 12,
     "metadata": {},
     "output_type": "execute_result"
    }
   ],
   "source": [
    "test(1,2,3,4,a = \"Ram\")##If a is not provided it will give an error"
   ]
  },
  {
   "cell_type": "code",
   "execution_count": 13,
   "id": "2b0fefd5-e4a3-419b-9d69-c3e2b3480b65",
   "metadata": {},
   "outputs": [],
   "source": [
    "#Variable argument takes any number of argument\n",
    "#Positional argument takes fixed argument"
   ]
  },
  {
   "cell_type": "code",
   "execution_count": 14,
   "id": "b050732b-a934-49e4-bc71-b4a66ccc115a",
   "metadata": {},
   "outputs": [],
   "source": [
    "#Write a function which can take any number of values and returns the list"
   ]
  },
  {
   "cell_type": "code",
   "execution_count": 15,
   "id": "ad773037-2704-4bf6-a051-05d9f0bffc60",
   "metadata": {},
   "outputs": [],
   "source": [
    "def returnlist(*args):\n",
    "    l = []\n",
    "    for i in args:\n",
    "        if type(i) == list:\n",
    "            l.append(i)\n",
    "    return l"
   ]
  },
  {
   "cell_type": "code",
   "execution_count": 16,
   "id": "6ed323c4-66e8-4f6d-8f1c-209ad678c11c",
   "metadata": {},
   "outputs": [
    {
     "data": {
      "text/plain": [
       "[[1, 2, 3], ['HELLO', 'ABHI'], [4, 5, 9, 7, 8, 9]]"
      ]
     },
     "execution_count": 16,
     "metadata": {},
     "output_type": "execute_result"
    }
   ],
   "source": [
    "returnlist([1,2,3],[\"HELLO\",\"ABHI\"],5,7,9,[4,5,9 ,7,8,9])"
   ]
  },
  {
   "cell_type": "code",
   "execution_count": 17,
   "id": "042f8c97-9a5e-44a0-bf46-af0e7020f7a4",
   "metadata": {},
   "outputs": [],
   "source": [
    "def team(name,project):\n",
    "    return f\"{name} is working on {project}.\""
   ]
  },
  {
   "cell_type": "code",
   "execution_count": 18,
   "id": "029e9379-9d7b-4b57-97e0-70761b000178",
   "metadata": {},
   "outputs": [
    {
     "data": {
      "text/plain": [
       "'Abhi is working on Data.'"
      ]
     },
     "execution_count": 18,
     "metadata": {},
     "output_type": "execute_result"
    }
   ],
   "source": [
    "team(\"Abhi\",\"Data\")"
   ]
  },
  {
   "cell_type": "code",
   "execution_count": 19,
   "id": "998f41a5-aa29-4935-9463-7d4479732318",
   "metadata": {},
   "outputs": [],
   "source": [
    "#variable length and keyword argument together\n",
    "def test1(*args, **args1):\n",
    "    return args,args1"
   ]
  },
  {
   "cell_type": "code",
   "execution_count": 20,
   "id": "b38579ed-37fc-429f-834d-ef0b996a858b",
   "metadata": {},
   "outputs": [
    {
     "data": {
      "text/plain": [
       "((1, 2, 3, 4), {'a': 10, 'b': 20})"
      ]
     },
     "execution_count": 20,
     "metadata": {},
     "output_type": "execute_result"
    }
   ],
   "source": [
    "test1(1,2,3,4,a=10,b=20)"
   ]
  },
  {
   "cell_type": "code",
   "execution_count": 21,
   "id": "600bd963-a4cc-4c7b-b191-8e29c7a8dbfa",
   "metadata": {},
   "outputs": [],
   "source": [
    "def test1(*args, **args1):\n",
    "    return args,args1"
   ]
  },
  {
   "cell_type": "code",
   "execution_count": 22,
   "id": "7f0cc8a9-46cc-4cae-9ad6-9b66306f444b",
   "metadata": {},
   "outputs": [
    {
     "data": {
      "text/plain": [
       "((), {})"
      ]
     },
     "execution_count": 22,
     "metadata": {},
     "output_type": "execute_result"
    }
   ],
   "source": [
    "test1()"
   ]
  },
  {
   "cell_type": "code",
   "execution_count": 23,
   "id": "a603385c-6088-4dcb-a500-2f3b157683aa",
   "metadata": {},
   "outputs": [],
   "source": [
    "#PYHTON NAMESPACE \n",
    "def greet():\n",
    "    message =\"hello, welcome!\" #MESSAGE VARIABLE IS A LOCAL VARIABLE SO U CAN NOT CALL IT ANYWHERE ONLY IN FUCNTION IT CAN BE CALLED\n",
    "    print(message)"
   ]
  },
  {
   "cell_type": "code",
   "execution_count": 24,
   "id": "56552823-4763-4525-bac2-bd4ed3927e47",
   "metadata": {},
   "outputs": [
    {
     "name": "stdout",
     "output_type": "stream",
     "text": [
      "hello, welcome!\n"
     ]
    }
   ],
   "source": [
    "greet()"
   ]
  },
  {
   "cell_type": "code",
   "execution_count": 25,
   "id": "e5e8933e-20f9-4f9e-ba63-1d7491696a09",
   "metadata": {},
   "outputs": [],
   "source": [
    "subpart = \" to the course\" # GLOBAL VARIABLE CAN BE ACCESSED OUTSIDE THE FUNCTION AS WELL\n",
    "def greet():\n",
    "    message = \"hello, welcome \" + subpart\n",
    "    print(message)"
   ]
  },
  {
   "cell_type": "code",
   "execution_count": 26,
   "id": "a35ab247-0140-4b35-8535-cb33ded1f55c",
   "metadata": {},
   "outputs": [
    {
     "name": "stdout",
     "output_type": "stream",
     "text": [
      "hello, welcome  to the course\n"
     ]
    }
   ],
   "source": [
    "greet()"
   ]
  },
  {
   "cell_type": "code",
   "execution_count": 27,
   "id": "a121617c-75a4-4d62-b1b5-4898a87fea4a",
   "metadata": {},
   "outputs": [],
   "source": [
    "#LOCAL VARIABLE - A FUNCTION DEFINED INSIDE A FUCNTION THAT CAN BE ACCESSED ONLY IN THAT FUNCTION\n",
    "#GLOBAL VARIABLE - A FUNCTION DEFINED OUTSIDE A FUCNTION THAT CAN BE ACCESSED ANYWHERE OUTSIDE OR INSIDE FUNCTION"
   ]
  },
  {
   "cell_type": "code",
   "execution_count": 28,
   "id": "ef2c249a-7774-4730-a701-76ce79179900",
   "metadata": {},
   "outputs": [],
   "source": [
    "#DEFINE FUNCTION INSIDE A FUNCTION\n",
    "def marksinsub(**kwargs):\n",
    "    def totalmarks(marks_list):#THIS FUCNTION ACTING AS A LOCAL FUNCTION\n",
    "        return sum(marks_list)   \n",
    "    marks_list = []\n",
    "    for sub, marks in kwargs.items():\n",
    "        marks_list.append(marks)\n",
    "    return totalmarks(marks_list)"
   ]
  },
  {
   "cell_type": "code",
   "execution_count": 29,
   "id": "6310b43f-a526-47c6-a187-cd81950028ff",
   "metadata": {},
   "outputs": [
    {
     "data": {
      "text/plain": [
       "120"
      ]
     },
     "execution_count": 29,
     "metadata": {},
     "output_type": "execute_result"
    }
   ],
   "source": [
    "marksinsub(a = 90 , b = 30)"
   ]
  },
  {
   "cell_type": "code",
   "execution_count": 30,
   "id": "b40e35c1-4d88-4f47-8446-fdadb95a6bd3",
   "metadata": {},
   "outputs": [],
   "source": [
    "#CALL FUNCTION FROM OUTSIDE\n",
    "def totalmarks(marks_list):#NOW IT ACTS LIKE A GLOBAL FUNCTION\n",
    "        return sum(marks_list)\n",
    "def marksinsub(**kwargs):   \n",
    "    marks_list = []\n",
    "    for sub, marks in kwargs.items():\n",
    "        marks_list.append(marks)\n",
    "    return totalmarks(marks_list)"
   ]
  },
  {
   "cell_type": "code",
   "execution_count": 31,
   "id": "d45f07e5-e2fe-4786-b685-d0bb38fa8a3a",
   "metadata": {},
   "outputs": [
    {
     "data": {
      "text/plain": [
       "220"
      ]
     },
     "execution_count": 31,
     "metadata": {},
     "output_type": "execute_result"
    }
   ],
   "source": [
    "marksinsub(a = 90 , b = 30 , C =100)"
   ]
  },
  {
   "cell_type": "code",
   "execution_count": 32,
   "id": "48da45b8-5ca5-4d7c-a577-26c6aa5f8688",
   "metadata": {},
   "outputs": [],
   "source": [
    "def find_power(num,power):\n",
    "    return num**power"
   ]
  },
  {
   "cell_type": "code",
   "execution_count": 33,
   "id": "e83cd391-1828-45c2-8b19-a27f3d370b5c",
   "metadata": {},
   "outputs": [
    {
     "data": {
      "text/plain": [
       "16"
      ]
     },
     "execution_count": 33,
     "metadata": {},
     "output_type": "execute_result"
    }
   ],
   "source": [
    "find_power(2,4)"
   ]
  },
  {
   "cell_type": "code",
   "execution_count": 34,
   "id": "02d5f68a-af89-490b-affa-fbb41999347f",
   "metadata": {},
   "outputs": [],
   "source": [
    "def find_power(num,power):\n",
    "    \"\"\"\n",
    "    THIS FUNCTION RETURNS POWER OF NUMBER\n",
    "    Args:\n",
    "        num(int): provide any integer as input\n",
    "        power(int): provide power as integer\n",
    "    Returns:\n",
    "        integer: power of no.\n",
    "    \"\"\"\n",
    "    return num**power"
   ]
  },
  {
   "cell_type": "code",
   "execution_count": 35,
   "id": "06caefcd-8159-4381-b9e8-8e4e792f3f73",
   "metadata": {},
   "outputs": [
    {
     "data": {
      "text/plain": [
       "27"
      ]
     },
     "execution_count": 35,
     "metadata": {},
     "output_type": "execute_result"
    }
   ],
   "source": [
    "find_power(3,3)"
   ]
  },
  {
   "cell_type": "code",
   "execution_count": 65,
   "id": "48714359-ba18-47f7-a37f-a47c0c9fcb4f",
   "metadata": {},
   "outputs": [],
   "source": [
    "def is_palindrome(*a):\n",
    "    \"\"\"\n",
    "    The function checkes whether the number is palindrome or  not\n",
    "    args:\n",
    "        provide any list of numbers \n",
    "    return:\n",
    "        checks  whether number is palindrome or not\n",
    "    \"\"\"\n",
    "    if a == (a)[::-1]:\n",
    "        print(\"Palindrome number\")\n",
    "    else:\n",
    "        print(\"Not a palindrome\")\n",
    "    return"
   ]
  },
  {
   "cell_type": "code",
   "execution_count": 66,
   "id": "2c1ec10e-2a11-4ac7-b611-9e88648fb6c1",
   "metadata": {},
   "outputs": [
    {
     "name": "stdout",
     "output_type": "stream",
     "text": [
      "Palindrome number\n"
     ]
    }
   ],
   "source": [
    "is_palindrome(1,2,2,1)"
   ]
  },
  {
   "cell_type": "code",
   "execution_count": 77,
   "id": "37b904db-231d-43c1-9026-1477e4bb4bd9",
   "metadata": {},
   "outputs": [],
   "source": [
    "def factorial(n):\n",
    "    \"\"\"\n",
    "    Calculates the factorial of a non-negative integer n.\n",
    "\n",
    "    A factorial is the product of all positive integers less than or equal to n.\n",
    "    For example, factorial(5) = 5 × 4 × 3 × 2 × 1 = 120.\n",
    "\n",
    "    Parameters:\n",
    "        n (int): A non-negative integer whose factorial is to be computed.\n",
    "\n",
    "    Returns:\n",
    "        int: The factorial of the given number if n >= 0.\n",
    "        If n is negative, it prints a message that factorial is undefined.\n",
    "    \"\"\"\n",
    "    if n<0:\n",
    "        print(\"undefined for negative number\")\n",
    "    else:\n",
    "        result = 1\n",
    "        for i in range(1,1+n):\n",
    "            result *= i\n",
    "        return result    "
   ]
  },
  {
   "cell_type": "code",
   "execution_count": 81,
   "id": "fb8ab574-3033-4252-b7b9-ec8142ba375c",
   "metadata": {},
   "outputs": [
    {
     "data": {
      "text/plain": [
       "120"
      ]
     },
     "execution_count": 81,
     "metadata": {},
     "output_type": "execute_result"
    }
   ],
   "source": [
    "factorial(5)"
   ]
  },
  {
   "cell_type": "code",
   "execution_count": 91,
   "id": "3011377c-8e77-49ff-8e8c-3a3b92efff22",
   "metadata": {},
   "outputs": [],
   "source": [
    "def count_vowels(s):\n",
    "    \"\"\"\n",
    "    Counts the number of vowels in a given string.\n",
    "    \n",
    "    Parameters:\n",
    "        s (str): The input string.\n",
    "        \n",
    "    Returns:\n",
    "        int: Number of vowels in the string.\n",
    "    \"\"\"\n",
    "    vowels = \"aeiouAEIOU\"\n",
    "    count = 0\n",
    "    for char in s:\n",
    "        if char in vowels:\n",
    "            count += 1\n",
    "    return count"
   ]
  },
  {
   "cell_type": "code",
   "execution_count": 92,
   "id": "88437783-db20-4372-ab02-e62404489336",
   "metadata": {},
   "outputs": [
    {
     "data": {
      "text/plain": [
       "4"
      ]
     },
     "execution_count": 92,
     "metadata": {},
     "output_type": "execute_result"
    }
   ],
   "source": [
    "count_vowels(\"ABhijeet\")"
   ]
  },
  {
   "cell_type": "code",
   "execution_count": 120,
   "id": "726bc679-cc77-4a1d-b74f-f06e35dc7d47",
   "metadata": {},
   "outputs": [],
   "source": [
    "def list_squares(a, b):\n",
    "    \"\"\"\n",
    "    Returns a list of square numbers from a to b (inclusive).\n",
    "\n",
    "    Parameters:\n",
    "        a (int): The starting number of the range.\n",
    "        b (int): The ending number of the range.\n",
    "\n",
    "    Returns:\n",
    "        list: A list containing the squares of numbers from a to b.\n",
    "    \n",
    "    Example:\n",
    "        list_squares(1, 5) -> [1, 4, 9, 16, 25]\n",
    "    \"\"\"\n",
    "    list_c = []\n",
    "    for i in range(a, b + 1):\n",
    "        c = i * i\n",
    "        list_c.append(c)\n",
    "    return list_c"
   ]
  },
  {
   "cell_type": "code",
   "execution_count": 121,
   "id": "82f680cd-f035-4ded-bbd9-1a1065ebc774",
   "metadata": {},
   "outputs": [
    {
     "data": {
      "text/plain": [
       "[1,\n",
       " 4,\n",
       " 9,\n",
       " 16,\n",
       " 25,\n",
       " 36,\n",
       " 49,\n",
       " 64,\n",
       " 81,\n",
       " 100,\n",
       " 121,\n",
       " 144,\n",
       " 169,\n",
       " 196,\n",
       " 225,\n",
       " 256,\n",
       " 289,\n",
       " 324,\n",
       " 361,\n",
       " 400]"
      ]
     },
     "execution_count": 121,
     "metadata": {},
     "output_type": "execute_result"
    }
   ],
   "source": [
    "list_squares(1,20)"
   ]
  },
  {
   "cell_type": "code",
   "execution_count": 122,
   "id": "b0fde016-e4ce-4fc2-a962-39dee38bf4c4",
   "metadata": {},
   "outputs": [],
   "source": [
    "def find_max(*nums):\n",
    "    \"\"\"\n",
    "    Returns the maximum number in a list without using the built-in max() function.\n",
    "\n",
    "    Parameters:\n",
    "        nums (list): A list of numeric values (int or float).\n",
    "\n",
    "    Returns:\n",
    "        number: The maximum number in the list.\n",
    "    \"\"\"\n",
    "    if not nums:\n",
    "        return \"List empty\"\n",
    "    max_num = nums[0]\n",
    "    for num in nums:\n",
    "        if num > max_num:\n",
    "            max_num = num\n",
    "    return max_num"
   ]
  },
  {
   "cell_type": "code",
   "execution_count": 123,
   "id": "fa9d446f-2ff5-429c-9d78-1098ef69a77b",
   "metadata": {},
   "outputs": [
    {
     "data": {
      "text/plain": [
       "9"
      ]
     },
     "execution_count": 123,
     "metadata": {},
     "output_type": "execute_result"
    }
   ],
   "source": [
    "find_max(1,2,3,9,5,5,6)"
   ]
  },
  {
   "cell_type": "code",
   "execution_count": 124,
   "id": "84e742fd-6f60-4895-a9eb-0e17a1a56c86",
   "metadata": {},
   "outputs": [],
   "source": [
    "def fibonacci(n):\n",
    "    \"\"\"\n",
    "    Returns a list containing the Fibonacci sequence up to n terms.\n",
    "\n",
    "    Parameters:\n",
    "        n (int): Number of terms to generate.\n",
    "\n",
    "    Returns:\n",
    "        list: Fibonacci sequence as a list of integers.\n",
    "    \"\"\"\n",
    "    if n <= 0:\n",
    "        return[]\n",
    "    elif n == 1:\n",
    "        return [0]\n",
    "        \n",
    "    a = [0,1]\n",
    "    for _ in range(2,n):\n",
    "        b = a[-1] + a[-2]\n",
    "        a.append(b)\n",
    "    return a\n",
    "    "
   ]
  },
  {
   "cell_type": "code",
   "execution_count": 125,
   "id": "08c7629f-9519-404c-9abe-b4e4905f3130",
   "metadata": {},
   "outputs": [
    {
     "data": {
      "text/plain": [
       "[0, 1, 1, 2, 3, 5, 8, 13, 21, 34]"
      ]
     },
     "execution_count": 125,
     "metadata": {},
     "output_type": "execute_result"
    }
   ],
   "source": [
    "fibonacci(10)"
   ]
  },
  {
   "cell_type": "code",
   "execution_count": 134,
   "id": "a8a5d23a-b0f3-419d-9d9c-9ea561982068",
   "metadata": {},
   "outputs": [],
   "source": [
    "def remove_duplicate(*lst):\n",
    "    \"\"\"\n",
    "    Removes all duplicate elements from a list while preserving the original order.\n",
    "\n",
    "    Parameters:\n",
    "        lst (list): The input list.\n",
    "\n",
    "    Returns:\n",
    "        list: A new list containing only unique elements from the original list.\n",
    "    \"\"\"\n",
    "    a = []\n",
    "    for item in lst:\n",
    "        if item not in a:\n",
    "            a.append(item)\n",
    "    return a"
   ]
  },
  {
   "cell_type": "code",
   "execution_count": 133,
   "id": "2dbddad0-f66a-4b37-80b7-51733263511c",
   "metadata": {},
   "outputs": [
    {
     "data": {
      "text/plain": [
       "[1, 8, 2, 3, 4, 5]"
      ]
     },
     "execution_count": 133,
     "metadata": {},
     "output_type": "execute_result"
    }
   ],
   "source": [
    "remove_duplicate(1, 8, 2, 2, 3, 4, 4, 5)"
   ]
  },
  {
   "cell_type": "code",
   "execution_count": 129,
   "id": "ac79db6a-7402-4ca4-b377-0ec8e10ad1a2",
   "metadata": {},
   "outputs": [
    {
     "data": {
      "text/plain": [
       "['apple', 'banana', 'cherry']"
      ]
     },
     "execution_count": 129,
     "metadata": {},
     "output_type": "execute_result"
    }
   ],
   "source": [
    "remove_duplicate(\"apple\", \"banana\", \"apple\", \"cherry\")"
   ]
  },
  {
   "cell_type": "code",
   "execution_count": 135,
   "id": "d555b10f-ea52-4b7a-bd25-8dc904de3ffa",
   "metadata": {},
   "outputs": [],
   "source": [
    "def only_even(*a):\n",
    "    b = []\n",
    "    for num in a:\n",
    "        if num % 2 == 0:\n",
    "            b.append(num)\n",
    "    return b"
   ]
  },
  {
   "cell_type": "code",
   "execution_count": 136,
   "id": "3bef124e-f1a7-4d77-b09f-7fef9343a344",
   "metadata": {},
   "outputs": [
    {
     "data": {
      "text/plain": [
       "[2, 4, 6, 8]"
      ]
     },
     "execution_count": 136,
     "metadata": {},
     "output_type": "execute_result"
    }
   ],
   "source": [
    "only_even(1,2,3,4,5,6,7,8,9)"
   ]
  },
  {
   "cell_type": "code",
   "execution_count": null,
   "id": "f8dd8da8-d53c-4db6-bfc4-99e31aaf2260",
   "metadata": {},
   "outputs": [],
   "source": []
  }
 ],
 "metadata": {
  "kernelspec": {
   "display_name": "Python [conda env:base] *",
   "language": "python",
   "name": "conda-base-py"
  },
  "language_info": {
   "codemirror_mode": {
    "name": "ipython",
    "version": 3
   },
   "file_extension": ".py",
   "mimetype": "text/x-python",
   "name": "python",
   "nbconvert_exporter": "python",
   "pygments_lexer": "ipython3",
   "version": "3.13.5"
  }
 },
 "nbformat": 4,
 "nbformat_minor": 5
}
