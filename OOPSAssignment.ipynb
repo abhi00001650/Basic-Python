{
  "nbformat": 4,
  "nbformat_minor": 0,
  "metadata": {
    "colab": {
      "provenance": []
    },
    "kernelspec": {
      "name": "python3",
      "display_name": "Python 3"
    },
    "language_info": {
      "name": "python"
    }
  },
  "cells": [
    {
      "cell_type": "markdown",
      "source": [
        "**Python OOPs Questions**"
      ],
      "metadata": {
        "id": "uMVAhkrKwoqB"
      }
    },
    {
      "cell_type": "markdown",
      "source": [
        "QUESTIONS/ANSWERS:-"
      ],
      "metadata": {
        "id": "JTsrGm5FwrmJ"
      }
    },
    {
      "cell_type": "markdown",
      "source": [
        "1) What is Object-Oriented Programming (OOP)\n",
        "-  OOP is a way of programming where we use objects that have data and actions."
      ],
      "metadata": {
        "id": "44bWKy4fwu4w"
      }
    },
    {
      "cell_type": "markdown",
      "source": [
        "2) What is a class in OOP?\n",
        "-  A class is a blueprint to make objects. It defines attributes and methods that its object will have."
      ],
      "metadata": {
        "id": "fmFz3V7gxCix"
      }
    },
    {
      "cell_type": "markdown",
      "source": [
        "3) What is an object in OOP?\n",
        "-  An object is an instance of a class. It represents a real world entity and has variables and methods."
      ],
      "metadata": {
        "id": "q30AgmH2xLub"
      }
    },
    {
      "cell_type": "markdown",
      "source": [
        "4)  What is the difference between abstraction and encapsulation?\n",
        "-  Abstraction - Shows only what is needed , hides details\n",
        "-  Encapsulation - Hides data inside the class and cojntrols access"
      ],
      "metadata": {
        "id": "UqoTqCFyx74Q"
      }
    },
    {
      "cell_type": "markdown",
      "source": [
        "5) What are dunder methods in Python?\n",
        "-  They are special methods with double underscore like __init__.\n",
        "We use them for special action"
      ],
      "metadata": {
        "id": "TtUkyI6fyN_a"
      }
    },
    {
      "cell_type": "markdown",
      "source": [
        "6)  Explain the concept of inheritance in OOP?\n",
        "-  It means a class take features from antoher class and the term is known as inheritance."
      ],
      "metadata": {
        "id": "eMg5BNEryaY5"
      }
    },
    {
      "cell_type": "markdown",
      "source": [
        "7)  What is polymorphism in OOP?\n",
        "-  It means same function name can work differently for different classes i.e same method name but different behaviour."
      ],
      "metadata": {
        "id": "QUWiL0-jypKr"
      }
    },
    {
      "cell_type": "markdown",
      "source": [
        "8) How is encapsulation achieved in Python?\n",
        "-  It is achieved by using access modifiers like :- self.var , _var , __var"
      ],
      "metadata": {
        "id": "0leM-gp7y70J"
      }
    },
    {
      "cell_type": "markdown",
      "source": [
        "9) What is a constructor in Python?\n",
        "-  The constructor is the __init__ method which gets called automatically when creating a new object to initialize attributes"
      ],
      "metadata": {
        "id": "9aapiFUJzL2Z"
      }
    },
    {
      "cell_type": "markdown",
      "source": [
        "10) What are class and static methods in Python?\n",
        "-  Classmethod - @classmethod , works with the class itself , takes cls as the first argument\n",
        "-  Staticmethod - @staticmethod , a utility function does not use self or cls"
      ],
      "metadata": {
        "id": "XQAwpKyhzat6"
      }
    },
    {
      "cell_type": "markdown",
      "source": [
        "11)  What is method overloading in Python?\n",
        "-  Python doesnot support it , but we can definately fake it using default values"
      ],
      "metadata": {
        "id": "uICm-l8Dz5p5"
      }
    },
    {
      "cell_type": "markdown",
      "source": [
        "12) What is method overriding in OOP?\n",
        "-  When a child class changes a method that already exists in parent class"
      ],
      "metadata": {
        "id": "tfDB-r4j0Jp5"
      }
    },
    {
      "cell_type": "markdown",
      "source": [
        "13) What is a property decorator in Python?\n",
        "-  @property allows defining getter/setter methods while accessing them like attributes , improving encapsulation"
      ],
      "metadata": {
        "id": "Ks7_y64z0VbR"
      }
    },
    {
      "cell_type": "markdown",
      "source": [
        "14)  Why is polymorphism important in OOP?\n",
        "-  It enables flexibilty , reusability , and scalability by allowing object of different types to be treated through a common interface"
      ],
      "metadata": {
        "id": "EBbVHLsi0mWJ"
      }
    },
    {
      "cell_type": "markdown",
      "source": [
        "15) What is an abstract class in Python?\n",
        "-  A class that cannot be used directly . Other classes must be build on it and fill in the missing methods"
      ],
      "metadata": {
        "id": "pD7Uhk-j03Q3"
      }
    },
    {
      "cell_type": "markdown",
      "source": [
        "16) What are the advantages of OOP?\n",
        "-  Easy to reuse , easier to manage big projects , helps keep code neat and clean"
      ],
      "metadata": {
        "id": "qrDK31vQ1HtQ"
      }
    },
    {
      "cell_type": "markdown",
      "source": [
        "17) What is the difference between a class variable and an instance variable?\n",
        "-  Class variable- Shared by all objects\n",
        "-  Instance variable - Different for each object"
      ],
      "metadata": {
        "id": "lSw4kAlq1ToJ"
      }
    },
    {
      "cell_type": "markdown",
      "source": [
        "18) What is multiple inheritance in Python?\n",
        "-  When a class inherits from a more than one parent class"
      ],
      "metadata": {
        "id": "fWiQrTdn1f4P"
      }
    },
    {
      "cell_type": "markdown",
      "source": [
        "19) Explain the purpose of ‘’__str__’ and ‘__repr__’ ‘ methods in Python?\n",
        "-  __str__ - how the object looks for user\n",
        "-  __repr__ - how object looks for developer"
      ],
      "metadata": {
        "id": "1R9V7urT1tP3"
      }
    },
    {
      "cell_type": "markdown",
      "source": [
        "20) What is the significance of the ‘super()’ function in Python?\n",
        "-  It lets us call methods from parent class inside child class"
      ],
      "metadata": {
        "id": "BoRvqt-w2AgA"
      }
    },
    {
      "cell_type": "markdown",
      "source": [
        "21) What is the significance of the __del__ method in Python?\n",
        "-  It is used to delete an object. Mostly used for cleaning"
      ],
      "metadata": {
        "id": "yZ2zHML72Juu"
      }
    },
    {
      "cell_type": "markdown",
      "source": [
        "22) What is the difference between @staticmethod and @classmethod in Python?\n",
        "-  Classmethod - @classmethod , works with the class itself , takes cls as the first argument\n",
        "-  Staticmethod - @staticmethod , a utility function does not use self or cls"
      ],
      "metadata": {
        "id": "I-xWvv2p2XIw"
      }
    },
    {
      "cell_type": "markdown",
      "source": [
        "23)  How does polymorphism work in Python with inheritance?\n",
        "-  A child class can change parent class method and it will be executed when the child class is called"
      ],
      "metadata": {
        "id": "FMYKYDf_2jw-"
      }
    },
    {
      "cell_type": "markdown",
      "source": [
        "24)  What is method chaining in Python OOP?\n",
        "-  when methods return the object itself , so we can call multiple methods in one line"
      ],
      "metadata": {
        "id": "HNtIS-uW22Xu"
      }
    },
    {
      "cell_type": "markdown",
      "source": [
        "25)  What is the purpose of the __call__ method in Python?\n",
        "-  This methods makes an object callable like a function"
      ],
      "metadata": {
        "id": "6RoDAurv3AqH"
      }
    },
    {
      "cell_type": "markdown",
      "source": [
        "PRACTICAL QUESTIONS:"
      ],
      "metadata": {
        "id": "9OY3Geii3RvG"
      }
    },
    {
      "cell_type": "code",
      "source": [
        "\"\"\"\n",
        " 1. Create a parent class Animal with a method speak() that prints a generic message. Create a child class Dog\n",
        "that overrides the speak() method to print \"Bark!\".\n",
        "\"\"\"\n",
        "class Animal:\n",
        "    def speak(self):\n",
        "        print(\"Generic animal sound\")\n",
        "\n",
        "class Dog(Animal):\n",
        "    def speak(self):\n",
        "        print(\"Bark!\")\n"
      ],
      "metadata": {
        "id": "N4ZgqnRI3ZYm"
      },
      "execution_count": 5,
      "outputs": []
    },
    {
      "cell_type": "code",
      "source": [
        "# TEST Q1\n",
        "\n",
        "animal = Animal()\n",
        "animal.speak()\n",
        "\n",
        "dog = Dog()\n",
        "dog.speak()\n"
      ],
      "metadata": {
        "colab": {
          "base_uri": "https://localhost:8080/"
        },
        "id": "JUM7MX3I3tG3",
        "outputId": "baecc808-80c2-4c93-973d-93fedafcc206"
      },
      "execution_count": 6,
      "outputs": [
        {
          "output_type": "stream",
          "name": "stdout",
          "text": [
            "Generic animal sound\n",
            "Bark!\n"
          ]
        }
      ]
    },
    {
      "cell_type": "code",
      "source": [
        "\"\"\"\n",
        "2. Write a program to create an abstract class Shape with a method area(). Derive classes Circle and Rectangle\n",
        "from it and implement the area() method in both.\n",
        "\"\"\"\n",
        "from abc import ABC, abstractmethod\n",
        "\n",
        "class Shape(ABC):\n",
        "    @abstractmethod\n",
        "    def area(self):\n",
        "        pass\n",
        "\n",
        "class Circle(Shape):\n",
        "    def __init__(self, radius):\n",
        "        self.radius = radius\n",
        "\n",
        "    def area(self):\n",
        "        return 3.14 * self.radius * self.radius\n",
        "\n",
        "class Rectangle(Shape):\n",
        "    def __init__(self, length, width):\n",
        "        self.length = length\n",
        "        self.width = width\n",
        "\n",
        "    def area(self):\n",
        "        return self.length * self.width\n"
      ],
      "metadata": {
        "id": "0XgYnCur31ln"
      },
      "execution_count": 17,
      "outputs": []
    },
    {
      "cell_type": "code",
      "source": [
        "#TEST\n",
        "circle = Circle(10)\n",
        "print(circle.area())\n",
        "\n",
        "rectangle = Rectangle(5,10)\n",
        "print(rectangle.area())"
      ],
      "metadata": {
        "colab": {
          "base_uri": "https://localhost:8080/"
        },
        "id": "n9zC-MQB4cJO",
        "outputId": "649455c0-5d9a-4aae-bcb8-be98e44295ae"
      },
      "execution_count": 18,
      "outputs": [
        {
          "output_type": "stream",
          "name": "stdout",
          "text": [
            "314.0\n",
            "50\n"
          ]
        }
      ]
    },
    {
      "cell_type": "code",
      "source": [
        "\"\"\"\n",
        " 3. Implement a multi-level inheritance scenario where a class Vehicle has an attribute type. Derive a class Car\n",
        "and further derive a class ElectricCar that adds a battery attribute.\n",
        "\"\"\"\n",
        "class Vehicle:\n",
        "    def __init__(self, vehicle_type):\n",
        "        self.type = vehicle_type\n",
        "\n",
        "class Car(Vehicle):\n",
        "    def __init__(self, car_type ,brand):\n",
        "        super().__init__(\"Car\")\n",
        "        self.brand = brand\n",
        "\n",
        "class ElectricCar(Car):\n",
        "    def __init__(self, car_type, brand, battery_capacity):\n",
        "        super().__init__(car_type, brand)\n",
        "        self.battery_capacity = battery_capacity"
      ],
      "metadata": {
        "id": "7-GQLs7n4fQW"
      },
      "execution_count": 24,
      "outputs": []
    },
    {
      "cell_type": "code",
      "source": [
        "#Test\n",
        "car = ElectricCar(\"Sedan\", \"Tesla\", 75)\n",
        "print(car.type)\n",
        "print(car.brand)\n",
        "print(car.battery_capacity)"
      ],
      "metadata": {
        "colab": {
          "base_uri": "https://localhost:8080/"
        },
        "id": "6WLZFHfN5GRm",
        "outputId": "335f612f-cefc-4546-aeb0-042ef8adfb11"
      },
      "execution_count": 27,
      "outputs": [
        {
          "output_type": "stream",
          "name": "stdout",
          "text": [
            "Car\n",
            "Tesla\n",
            "75\n"
          ]
        }
      ]
    },
    {
      "cell_type": "code",
      "source": [
        "\"\"\"\n",
        " 4. Demonstrate polymorphism by creating a base class Bird with a method fly(). Create two derived classes\n",
        "Sparrow and Penguin that override the fly() method.\n",
        "\"\"\"\n",
        "\n",
        "class Bird:\n",
        "  def fly(self):\n",
        "    print(\"Bird is flying\")\n",
        "\n",
        "class Sparrow(Bird):\n",
        "  def fly(self):\n",
        "    print(\"Sparrow is flying\")\n",
        "\n",
        "class Penguin(Bird):\n",
        "  def fly(self):\n",
        "    print(\"Penguin is not flying\")"
      ],
      "metadata": {
        "id": "uFEY26825IVO"
      },
      "execution_count": 30,
      "outputs": []
    },
    {
      "cell_type": "code",
      "source": [
        "#Test\n",
        "bird = Bird()\n",
        "bird.fly()\n",
        "sparrow = Sparrow()\n",
        "sparrow.fly()\n",
        "penguin = Penguin()\n",
        "penguin.fly()"
      ],
      "metadata": {
        "colab": {
          "base_uri": "https://localhost:8080/"
        },
        "id": "mI4ouYRK5cg2",
        "outputId": "e25a1eff-d42b-402e-a4a9-8ff2f373222e"
      },
      "execution_count": 33,
      "outputs": [
        {
          "output_type": "stream",
          "name": "stdout",
          "text": [
            "Bird is flying\n",
            "Sparrow is flying\n",
            "Penguin is not flying\n"
          ]
        }
      ]
    },
    {
      "cell_type": "code",
      "source": [
        "\"\"\"\n",
        "5. Write a program to demonstrate encapsulation by creating a class BankAccount with private attributes\n",
        "balance and methods to deposit, withdraw, and check balance.\n",
        "\"\"\"\n",
        "class BankAccount:\n",
        "    def __init__(self, balance):\n",
        "        self.__balance = balance\n",
        "\n",
        "    def deposit(self, amount):\n",
        "        self.__balance += amount\n",
        "\n",
        "    def withdraw(self, amount):\n",
        "        if self.__balance >= amount:\n",
        "            self.__balance -= amount\n",
        "        else:\n",
        "            print(\"Insufficient balance\")\n",
        "    def check_balance(self):\n",
        "        return self.__balance"
      ],
      "metadata": {
        "id": "dJ0VxjcU5hDW"
      },
      "execution_count": 36,
      "outputs": []
    },
    {
      "cell_type": "code",
      "source": [
        "#Test\n",
        "a = BankAccount(1000)\n",
        "a.deposit(500)\n",
        "a.withdraw(200)\n",
        "print(a.check_balance())"
      ],
      "metadata": {
        "colab": {
          "base_uri": "https://localhost:8080/"
        },
        "id": "Hu4WPG-358L1",
        "outputId": "f97e3957-3cf6-4284-97a8-ba2844caaaec"
      },
      "execution_count": 38,
      "outputs": [
        {
          "output_type": "stream",
          "name": "stdout",
          "text": [
            "1300\n"
          ]
        }
      ]
    },
    {
      "cell_type": "code",
      "source": [
        "\"\"\"\n",
        " 6. Demonstrate runtime polymorphism using a method play() in a base class Instrument. Derive classes Guitar\n",
        "and Piano that implement their own version of play().\n",
        "\"\"\"\n",
        "class Instrument:\n",
        "    def play(self):\n",
        "        print(\"Instrument is playing\")\n",
        "\n",
        "class Guitar(Instrument):\n",
        "    def play(self):\n",
        "        print(\"Guitar is playing\")\n",
        "\n",
        "class Piano(Instrument):\n",
        "    def play(self):\n",
        "        print(\"Piano is playing\")"
      ],
      "metadata": {
        "id": "-NNKCtJ56NCV"
      },
      "execution_count": 42,
      "outputs": []
    },
    {
      "cell_type": "code",
      "source": [
        "#Test\n",
        "music = Instrument()\n",
        "music.play()\n",
        "guitar = Guitar()\n",
        "guitar.play()\n",
        "piano = Piano()\n",
        "piano.play()"
      ],
      "metadata": {
        "colab": {
          "base_uri": "https://localhost:8080/"
        },
        "id": "gJhduZ7P6dn2",
        "outputId": "578b6075-1297-4fb7-8938-975e031a07f2"
      },
      "execution_count": 45,
      "outputs": [
        {
          "output_type": "stream",
          "name": "stdout",
          "text": [
            "Instrument is playing\n",
            "Guitar is playing\n",
            "Piano is playing\n"
          ]
        }
      ]
    },
    {
      "cell_type": "code",
      "source": [
        "\"\"\"\n",
        " 7. Create a class MathOperations with a class method add_numbers() to add two numbers and a static\n",
        "method subtract_numbers() to subtract two numbers.\n",
        "\"\"\"\n",
        "class MathOperations:\n",
        "    @classmethod\n",
        "    def add_numbers(cls, a, b):\n",
        "        return a + b\n",
        "\n",
        "    @staticmethod\n",
        "    def subtract_numbers(a, b):\n",
        "        return a - b\n",
        ""
      ],
      "metadata": {
        "id": "h-ulFzbX6fOV"
      },
      "execution_count": 46,
      "outputs": []
    },
    {
      "cell_type": "code",
      "source": [
        "#Test\n",
        "print(MathOperations.add_numbers(2,3))\n",
        "print(MathOperations.subtract_numbers(10,3))"
      ],
      "metadata": {
        "colab": {
          "base_uri": "https://localhost:8080/"
        },
        "id": "lrffge0Z62AN",
        "outputId": "b166411b-2049-49b0-aaf5-d0dcfe3e6753"
      },
      "execution_count": 49,
      "outputs": [
        {
          "output_type": "stream",
          "name": "stdout",
          "text": [
            "5\n",
            "7\n"
          ]
        }
      ]
    },
    {
      "cell_type": "code",
      "source": [
        "\"\"\"\n",
        "8. Implement a class Person with a class method to count the total number of persons created.\n",
        "\"\"\"\n",
        "class Person:\n",
        "    count = 0\n",
        "    def __init__(self, name):\n",
        "        self.name = name\n",
        "        Person.count += 1\n",
        "    @classmethod\n",
        "    def total_persons(cls):\n",
        "        return cls.count"
      ],
      "metadata": {
        "id": "FWhLoUGn65l9"
      },
      "execution_count": 57,
      "outputs": []
    },
    {
      "cell_type": "code",
      "source": [
        "#Test\n",
        "p1 = Person(\"Abhi\")\n",
        "p2 = Person(\"Khush\")\n",
        "print(Person.total_persons())"
      ],
      "metadata": {
        "colab": {
          "base_uri": "https://localhost:8080/"
        },
        "id": "eIVIeZW_7Lut",
        "outputId": "42d31f30-cdb5-49e1-b72c-652e58a868fa"
      },
      "execution_count": 58,
      "outputs": [
        {
          "output_type": "stream",
          "name": "stdout",
          "text": [
            "2\n"
          ]
        }
      ]
    },
    {
      "cell_type": "code",
      "source": [
        "\"\"\"\n",
        "9. Write a class Fraction with attributes numerator and denominator. Override the str method to display the\n",
        "fraction as \"numerator/denominator\".\n",
        "\"\"\"\n",
        "class Fraction:\n",
        "    def __init__(self, numerator, denominator):\n",
        "        self.numerator = numerator\n",
        "        self.denominator = denominator\n",
        "\n",
        "    def __str__(self):\n",
        "        return f\"{self.numerator}/{self.denominator}\"\n",
        "\n"
      ],
      "metadata": {
        "id": "xv0XU7Oj7UA9"
      },
      "execution_count": 61,
      "outputs": []
    },
    {
      "cell_type": "code",
      "source": [
        "#Test\n",
        "f = Fraction(2,3)\n",
        "print(f)"
      ],
      "metadata": {
        "colab": {
          "base_uri": "https://localhost:8080/"
        },
        "id": "ZJZBGbVT7zjl",
        "outputId": "b9620ea5-5131-4179-d50c-8ded04509484"
      },
      "execution_count": 62,
      "outputs": [
        {
          "output_type": "stream",
          "name": "stdout",
          "text": [
            "2/3\n"
          ]
        }
      ]
    },
    {
      "cell_type": "code",
      "source": [
        "\"\"\"\n",
        "10. Demonstrate operator overloading by creating a class Vector and overriding the add method to add two\n",
        "vectors.\n",
        "\"\"\"\n",
        "class Vector:\n",
        "    def __init__(self, x, y):\n",
        "        self.x = x\n",
        "        self.y = y\n",
        "\n",
        "    def __add__(self, other):\n",
        "        return Vector(self.x + other.x, self.y + other.y)"
      ],
      "metadata": {
        "id": "MWIBqhbq75eN"
      },
      "execution_count": 66,
      "outputs": []
    },
    {
      "cell_type": "code",
      "source": [
        "#test\n",
        "v1 = Vector(1,2)\n",
        "v2 = Vector(3,4)\n",
        "v3 = v1 + v2\n",
        "print(v3.x, v3.y)"
      ],
      "metadata": {
        "colab": {
          "base_uri": "https://localhost:8080/"
        },
        "id": "1qi6x6DX8Dkc",
        "outputId": "e1ab9125-0c0f-4196-d1ae-67db7e7f97b1"
      },
      "execution_count": 68,
      "outputs": [
        {
          "output_type": "stream",
          "name": "stdout",
          "text": [
            "4 6\n"
          ]
        }
      ]
    },
    {
      "cell_type": "code",
      "source": [
        "\"\"\"\n",
        "11. Create a class Person with attributes name and age. Add a method greet() that prints \"Hello, my name is\n",
        "{name} and I am {age} years old.\"\n",
        "\"\"\"\n",
        "class Person:\n",
        "    def __init__(self, name, age):\n",
        "        self.name = name\n",
        "        self.age = age\n",
        "\n",
        "    def greet(self):\n",
        "        print(f\"Hello, my name is {self.name} and I am {self.age} years old.\")"
      ],
      "metadata": {
        "id": "k3U_DH8Z8G3N"
      },
      "execution_count": 69,
      "outputs": []
    },
    {
      "cell_type": "code",
      "source": [
        "#test\n",
        "a = Person(\"Abhi\", 20)\n",
        "a.greet()"
      ],
      "metadata": {
        "colab": {
          "base_uri": "https://localhost:8080/"
        },
        "id": "V966T0Y78Q71",
        "outputId": "7befcf0a-d05f-4e6b-988d-c858b525e73b"
      },
      "execution_count": 70,
      "outputs": [
        {
          "output_type": "stream",
          "name": "stdout",
          "text": [
            "Hello, my name is Abhi and I am 20 years old.\n"
          ]
        }
      ]
    },
    {
      "cell_type": "code",
      "source": [
        "\"\"\"\n",
        "12. Implement a class Student with attributes name and grades. Create a method average_grade() to compute\n",
        "the average of the grades.\n",
        "\"\"\"\n",
        "class Student:\n",
        "    def __init__(self, name, grades):\n",
        "        self.name = name\n",
        "        self.grades = grades\n",
        "\n",
        "    def average_grade(self):\n",
        "        return sum(self.grades) / len(self.grades)"
      ],
      "metadata": {
        "id": "GyRrw6PL8VrE"
      },
      "execution_count": 74,
      "outputs": []
    },
    {
      "cell_type": "code",
      "source": [
        "s = Student(\"Abhi\", [10,20,30])\n",
        "print(s.average_grade())"
      ],
      "metadata": {
        "colab": {
          "base_uri": "https://localhost:8080/"
        },
        "id": "xIEIoYxC8pDc",
        "outputId": "95169a87-b315-4c9d-816c-f88290bd7e47"
      },
      "execution_count": 79,
      "outputs": [
        {
          "output_type": "stream",
          "name": "stdout",
          "text": [
            "20.0\n"
          ]
        }
      ]
    },
    {
      "cell_type": "code",
      "source": [
        "\"\"\"\n",
        " 13. Create a class Rectangle with methods set_dimensions() to set the dimensions and area() to calculate the\n",
        "area.\n",
        "\"\"\"\n",
        "\n",
        "class Rectangle:\n",
        "  def set_dimensions(self,length,width):\n",
        "    self.length = length\n",
        "    self.width = width\n",
        "  def area(self):\n",
        "    return self.length * self.width\n"
      ],
      "metadata": {
        "id": "MBNZI5Wi8sPU"
      },
      "execution_count": 82,
      "outputs": []
    },
    {
      "cell_type": "code",
      "source": [
        "#Test\n",
        "r = Rectangle()\n",
        "r.set_dimensions(20,30)\n",
        "print(r.area())"
      ],
      "metadata": {
        "colab": {
          "base_uri": "https://localhost:8080/"
        },
        "id": "isBAuCuL9Ia1",
        "outputId": "2513d61d-a42d-4f75-e9c9-d203da1a777d"
      },
      "execution_count": 84,
      "outputs": [
        {
          "output_type": "stream",
          "name": "stdout",
          "text": [
            "600\n"
          ]
        }
      ]
    },
    {
      "cell_type": "code",
      "source": [
        "\"\"\"\n",
        "14. Create a class Employee with a method calculate_salary() that computes the salary based on hours worked\n",
        "and hourly rate. Create a derived class Manager that adds a bonus to the salary.\n",
        "\"\"\"\n",
        "class Employee:\n",
        "    def calculate_salary(self, hours_worked, hourly_rate):\n",
        "        return hours_worked * hourly_rate\n",
        "\n",
        "class Manager(Employee):\n",
        "    def calculate_salary(self, hours_worked, hourly_rate, bonus):\n",
        "        return super().calculate_salary(hours_worked, hourly_rate) + bonus\n"
      ],
      "metadata": {
        "id": "kgNEl0Fj9Qn0"
      },
      "execution_count": 91,
      "outputs": []
    },
    {
      "cell_type": "code",
      "source": [
        "#Test\n",
        "e = Employee()\n",
        "print(e.calculate_salary(10,2000))\n",
        "m = Manager()\n",
        "print(m.calculate_salary(10,2000,1000))"
      ],
      "metadata": {
        "colab": {
          "base_uri": "https://localhost:8080/"
        },
        "id": "XRqiUc1n9h8k",
        "outputId": "0587f4a8-4ab5-4d2c-c3f0-8b9485cf3cff"
      },
      "execution_count": 93,
      "outputs": [
        {
          "output_type": "stream",
          "name": "stdout",
          "text": [
            "20000\n",
            "21000\n"
          ]
        }
      ]
    },
    {
      "cell_type": "code",
      "source": [
        "\"\"\"\n",
        "15. Create a class Product with attributes name, price, and quantity. Implement a method total_price() that\n",
        "calculates the total price of the product.\n",
        "\"\"\"\n",
        "class Product:\n",
        "    def __init__(self, name, price, quantity):\n",
        "        self.name = name\n",
        "        self.price = price\n",
        "        self.quantity = quantity\n",
        "\n",
        "    def total_price(self):\n",
        "        return self.price * self.quantity\n",
        ""
      ],
      "metadata": {
        "id": "Smmqse7y9sN8"
      },
      "execution_count": 95,
      "outputs": []
    },
    {
      "cell_type": "code",
      "source": [
        "#Test\n",
        "p = Product(\"i-Phone\", 100000, 2)\n",
        "print(p.total_price())"
      ],
      "metadata": {
        "colab": {
          "base_uri": "https://localhost:8080/"
        },
        "id": "CNj-jWWa92bl",
        "outputId": "9f8eed28-5c52-4daf-f931-3420e9d4726d"
      },
      "execution_count": 96,
      "outputs": [
        {
          "output_type": "stream",
          "name": "stdout",
          "text": [
            "200000\n"
          ]
        }
      ]
    },
    {
      "cell_type": "code",
      "source": [
        "\"\"\"\n",
        " 16. Create a class Animal with an abstract method sound(). Create two derived classes Cow and Sheep that\n",
        "implement the sound() method.\n",
        "\"\"\"\n",
        "class Animal:\n",
        "    def sound(self):\n",
        "        pass\n",
        "\n",
        "class Cow(Animal):\n",
        "    def sound(self):\n",
        "        return \"Moo\"\n",
        "\n",
        "class Sheep(Animal):\n",
        "    def sound(self):\n",
        "        return \"Baa\""
      ],
      "metadata": {
        "id": "j6eAMWmc-A67"
      },
      "execution_count": 97,
      "outputs": []
    },
    {
      "cell_type": "code",
      "source": [
        "#Test\n",
        "a = Animal()\n",
        "print(a.sound())\n",
        "c = Cow()\n",
        "print(c.sound())\n",
        "s = Sheep()\n",
        "print(s.sound())"
      ],
      "metadata": {
        "colab": {
          "base_uri": "https://localhost:8080/"
        },
        "id": "GeobOzAE-L9c",
        "outputId": "66e87a03-d58e-45a8-dc2f-3b34d4d7483d"
      },
      "execution_count": 98,
      "outputs": [
        {
          "output_type": "stream",
          "name": "stdout",
          "text": [
            "None\n",
            "Moo\n",
            "Baa\n"
          ]
        }
      ]
    },
    {
      "cell_type": "code",
      "source": [
        "\"\"\"\n",
        " 17. Create a class Book with attributes title, author, and year_published. Add a method get_book_info() that\n",
        "returns a formatted string with the book's details.\n",
        "\"\"\"\n",
        "class Book:\n",
        "    def __init__(self, title, author, year_published):\n",
        "        self.title = title\n",
        "        self.author = author\n",
        "        self.year_published = year_published\n",
        "\n",
        "    def get_book_info(self):\n",
        "        return f\"Title: {self.title}\\nAuthor: {self.author}\\nYear Published: {self.year_published}\""
      ],
      "metadata": {
        "id": "OcELTvJG-PKc"
      },
      "execution_count": 101,
      "outputs": []
    },
    {
      "cell_type": "code",
      "source": [
        "#Test\n",
        "b = Book(\"Harry Potter\", \"J.K. Rowling\", \"2010\")\n",
        "print(b.get_book_info())"
      ],
      "metadata": {
        "colab": {
          "base_uri": "https://localhost:8080/"
        },
        "id": "KL2SPaS4-a3s",
        "outputId": "5b00724b-5977-4832-c93d-7321e9bcc087"
      },
      "execution_count": 103,
      "outputs": [
        {
          "output_type": "stream",
          "name": "stdout",
          "text": [
            "Title: Harry Potter\n",
            "Author: J.K. Rowling\n",
            "Year Published: 2010\n"
          ]
        }
      ]
    },
    {
      "cell_type": "code",
      "source": [
        "\"\"\"\n",
        " 18. Create a class House with attributes address and price. Create a derived class Mansion that adds an\n",
        "attribute number_of_rooms.\n",
        "\"\"\"\n",
        "class House:\n",
        "    def __init__(self, address, price):\n",
        "        self.address = address\n",
        "        self.price = price\n",
        "\n",
        "class Mansion(House):\n",
        "    def __init__(self, address, price, number_of_rooms):\n",
        "        super().__init__(address, price)"
      ],
      "metadata": {
        "id": "dWy4_aku-fUk"
      },
      "execution_count": 106,
      "outputs": []
    },
    {
      "cell_type": "code",
      "source": [
        "#test\n",
        "m = Mansion(\"Delhi\", 1000000, 10)\n",
        "print(m.address)\n",
        "print(m.price)"
      ],
      "metadata": {
        "colab": {
          "base_uri": "https://localhost:8080/"
        },
        "id": "gISpPwfA-yWr",
        "outputId": "f72b438e-157e-4239-ebd5-76f7649466cc"
      },
      "execution_count": 107,
      "outputs": [
        {
          "output_type": "stream",
          "name": "stdout",
          "text": [
            "Delhi\n",
            "1000000\n"
          ]
        }
      ]
    },
    {
      "cell_type": "code",
      "source": [],
      "metadata": {
        "id": "mM7vOGRe-0S7"
      },
      "execution_count": null,
      "outputs": []
    }
  ]
}