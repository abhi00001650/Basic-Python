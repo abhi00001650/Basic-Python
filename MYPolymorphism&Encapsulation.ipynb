{
 "cells": [
  {
   "cell_type": "code",
   "execution_count": 1,
   "id": "3ed101ca-aa0b-4e93-8814-932f9581f3ae",
   "metadata": {},
   "outputs": [],
   "source": [
    "#POLYMORPHISM >> poly means meaning and morphism means forms/states\n",
    "#refers to an object taking several form depending on the method/data"
   ]
  },
  {
   "cell_type": "code",
   "execution_count": 2,
   "id": "c2e1f40f-8fda-4bae-a593-9477235e849a",
   "metadata": {},
   "outputs": [
    {
     "data": {
      "text/plain": [
       "4"
      ]
     },
     "execution_count": 2,
     "metadata": {},
     "output_type": "execute_result"
    }
   ],
   "source": [
    "len(\"Abhi\")"
   ]
  },
  {
   "cell_type": "code",
   "execution_count": 3,
   "id": "a3bb4df0-41bf-4ae5-add7-c7b39ab2cb36",
   "metadata": {},
   "outputs": [
    {
     "data": {
      "text/plain": [
       "5"
      ]
     },
     "execution_count": 3,
     "metadata": {},
     "output_type": "execute_result"
    }
   ],
   "source": [
    "len([1,2,3,4,5])"
   ]
  },
  {
   "cell_type": "code",
   "execution_count": 4,
   "id": "9a902318-9a52-4bc4-afaf-c8b83c4a7531",
   "metadata": {},
   "outputs": [
    {
     "data": {
      "text/plain": [
       "2"
      ]
     },
     "execution_count": 4,
     "metadata": {},
     "output_type": "execute_result"
    }
   ],
   "source": [
    "len((1,2))"
   ]
  },
  {
   "cell_type": "code",
   "execution_count": 5,
   "id": "5c09005c-3827-465f-8023-f470b4ddc043",
   "metadata": {},
   "outputs": [],
   "source": [
    "def func(a,b):\n",
    "    return a+b"
   ]
  },
  {
   "cell_type": "code",
   "execution_count": 6,
   "id": "5c1d3415-8ca1-44f5-81e1-e9588f929e45",
   "metadata": {},
   "outputs": [
    {
     "data": {
      "text/plain": [
       "5"
      ]
     },
     "execution_count": 6,
     "metadata": {},
     "output_type": "execute_result"
    }
   ],
   "source": [
    "func(2,3) #Addition"
   ]
  },
  {
   "cell_type": "code",
   "execution_count": 7,
   "id": "93b621ce-be3b-4068-b33c-862746712b48",
   "metadata": {},
   "outputs": [
    {
     "data": {
      "text/plain": [
       "'abhi'"
      ]
     },
     "execution_count": 7,
     "metadata": {},
     "output_type": "execute_result"
    }
   ],
   "source": [
    "func(\"ab\",\"hi\") # Concatenation"
   ]
  },
  {
   "cell_type": "code",
   "execution_count": 8,
   "id": "fda880a1-2f5c-4598-806d-5344519af3af",
   "metadata": {},
   "outputs": [
    {
     "data": {
      "text/plain": [
       "[1, 2, 3, 1, 2, 3]"
      ]
     },
     "execution_count": 8,
     "metadata": {},
     "output_type": "execute_result"
    }
   ],
   "source": [
    "func([1,2,3],[1,2,3]) # List concatenation"
   ]
  },
  {
   "cell_type": "code",
   "execution_count": 9,
   "id": "b085dd31-264e-4bb5-88e9-a166e56f9b44",
   "metadata": {},
   "outputs": [],
   "source": [
    "#OBSERVATION>> func is taking different form with respect to different data passed"
   ]
  },
  {
   "cell_type": "code",
   "execution_count": 16,
   "id": "2e754363-fea0-45bc-877b-03fa1465ed62",
   "metadata": {},
   "outputs": [],
   "source": [
    "class Teacher_lecture:\n",
    "    def lec_info(self):\n",
    "        print(\"This is lec info with teacher perspective\")\n",
    "class Student_lecture:\n",
    "    def lec_info(self):\n",
    "        print(\"This is lec info with student perspective\")\n"
   ]
  },
  {
   "cell_type": "code",
   "execution_count": 17,
   "id": "b87547a9-5f25-4f45-b399-7b78cf425840",
   "metadata": {},
   "outputs": [],
   "source": [
    "obj1 = Teacher_lecture()\n",
    "obj2 = Student_lecture()\n",
    "class_obj = [obj1 , obj2]"
   ]
  },
  {
   "cell_type": "code",
   "execution_count": 18,
   "id": "de2317e2-c2dc-4a83-be13-3b315fccf722",
   "metadata": {},
   "outputs": [],
   "source": [
    "def parcel(class_obj):\n",
    "    for i in class_obj:\n",
    "        i.lec_info()"
   ]
  },
  {
   "cell_type": "code",
   "execution_count": 19,
   "id": "64441ab0-723f-47c9-9cfa-dc3198a59601",
   "metadata": {},
   "outputs": [
    {
     "name": "stdout",
     "output_type": "stream",
     "text": [
      "This is lec info with teacher perspective\n",
      "This is lec info with student perspective\n"
     ]
    }
   ],
   "source": [
    "parcel(class_obj)"
   ]
  },
  {
   "cell_type": "code",
   "execution_count": 20,
   "id": "96f7e023-199e-406b-8e45-3d5ad3828aea",
   "metadata": {},
   "outputs": [],
   "source": [
    "#POLYMORPHISM in OOPS takes place in two ways:\n",
    "#Method  overloading >>Python doesnt support true method overloading\n",
    "#Method overriding >>"
   ]
  },
  {
   "cell_type": "code",
   "execution_count": 21,
   "id": "ef43b512-c2f6-4517-b44c-40907ffb83a8",
   "metadata": {},
   "outputs": [],
   "source": [
    "#METHOD OVERLOADING>> HAPPENS IN THE SAME CLASS"
   ]
  },
  {
   "cell_type": "code",
   "execution_count": 61,
   "id": "6645f0a2-f5ae-4be4-bc10-4f7e8153ee84",
   "metadata": {},
   "outputs": [],
   "source": [
    "class Student:\n",
    "    def student(self):\n",
    "        print(\"Welcome to Abhi's class\")\n",
    "    def student(self, name = \"\"):\n",
    "        print(f\"Welcome to Abhi's class -{name}\")\n",
    "    def student(self, name = \"\",course = \"\"):\n",
    "        print(f\"Welcome to Abhi's class -{name} | {course} \")"
   ]
  },
  {
   "cell_type": "code",
   "execution_count": 62,
   "id": "85562db9-ad7b-4e57-b267-c6fde1d06932",
   "metadata": {},
   "outputs": [
    {
     "name": "stdout",
     "output_type": "stream",
     "text": [
      "Welcome to Abhi's class - |  \n"
     ]
    }
   ],
   "source": [
    "stud = Student()\n",
    "stud.student()"
   ]
  },
  {
   "cell_type": "code",
   "execution_count": 63,
   "id": "f7880b84-cec1-4a63-84af-2cdd62ac17c0",
   "metadata": {},
   "outputs": [
    {
     "name": "stdout",
     "output_type": "stream",
     "text": [
      "Welcome to Abhi's class -Abhi |  \n"
     ]
    }
   ],
   "source": [
    "stud.student(\"Abhi\")"
   ]
  },
  {
   "cell_type": "code",
   "execution_count": 64,
   "id": "b8d89d80-fd2a-4c22-be26-73508a551d9d",
   "metadata": {},
   "outputs": [
    {
     "name": "stdout",
     "output_type": "stream",
     "text": [
      "Welcome to Abhi's class -Abhi | CS \n"
     ]
    }
   ],
   "source": [
    "stud.student(\"Abhi\",\"CS\")"
   ]
  },
  {
   "cell_type": "code",
   "execution_count": 69,
   "id": "c010c269-9a60-4544-8b89-1e497eb7754c",
   "metadata": {},
   "outputs": [],
   "source": [
    "class Student:\n",
    "    def student(self, name = \"\",course = \"\"):\n",
    "        print(f\"Welcome to Abhi's class -{name} | {course} \")"
   ]
  },
  {
   "cell_type": "code",
   "execution_count": 70,
   "id": "56a3e4bd-732b-4057-8d0a-6098b52e9334",
   "metadata": {},
   "outputs": [
    {
     "name": "stdout",
     "output_type": "stream",
     "text": [
      "Welcome to Abhi's class -Abhi doing  course\n"
     ]
    }
   ],
   "source": [
    "stud.student(\"Abhi\")"
   ]
  },
  {
   "cell_type": "code",
   "execution_count": 71,
   "id": "695ec5f1-3d9b-4428-98d5-3de869ddda29",
   "metadata": {},
   "outputs": [
    {
     "name": "stdout",
     "output_type": "stream",
     "text": [
      "Welcome to Abhi's class - |  \n"
     ]
    }
   ],
   "source": [
    "stud = Student()\n",
    "stud.student()"
   ]
  },
  {
   "cell_type": "code",
   "execution_count": 72,
   "id": "2d28d545-52d0-4c96-b5cb-7b1db47f8b46",
   "metadata": {},
   "outputs": [
    {
     "name": "stdout",
     "output_type": "stream",
     "text": [
      "Welcome to Abhi's class -Abhi |  \n"
     ]
    }
   ],
   "source": [
    "stud.student(\"Abhi\")"
   ]
  },
  {
   "cell_type": "code",
   "execution_count": 73,
   "id": "1bf27e9c-eb2f-4e05-b22c-bf07a46eb3c6",
   "metadata": {},
   "outputs": [
    {
     "name": "stdout",
     "output_type": "stream",
     "text": [
      "Welcome to Abhi's class -Abhi | WEBDEV \n"
     ]
    }
   ],
   "source": [
    "stud.student(\"Abhi\",\"WEBDEV\")"
   ]
  },
  {
   "cell_type": "code",
   "execution_count": 74,
   "id": "5ec1cf9b-61c0-4443-b800-c299a8beb446",
   "metadata": {},
   "outputs": [],
   "source": [
    "# METHOD OVERRIDING>> METHOD IN PARENT CLASS AND CHILD CLASS WITH SAME SIGNATUREE, TH"
   ]
  },
  {
   "cell_type": "code",
   "execution_count": 1,
   "id": "8bfd37c6-1bec-4880-9c09-e520fdc7744e",
   "metadata": {},
   "outputs": [],
   "source": [
    "class Animal:\n",
    "    def sound(self):\n",
    "        print(\"Animal sound\")\n",
    "class Cat(Animal):\n",
    "    def sound(self):\n",
    "        print(\"Cat meows\")\n",
    "        "
   ]
  },
  {
   "cell_type": "code",
   "execution_count": 4,
   "id": "924f5f9e-4ac5-4116-9aaf-54a4e1432414",
   "metadata": {},
   "outputs": [
    {
     "name": "stdout",
     "output_type": "stream",
     "text": [
      "Animal sound\n"
     ]
    }
   ],
   "source": [
    "animal = Animal()\n",
    "animal.sound() # Animal Class"
   ]
  },
  {
   "cell_type": "code",
   "execution_count": 6,
   "id": "72ae70de-0164-4c4f-afb6-33cae7d55d45",
   "metadata": {},
   "outputs": [
    {
     "name": "stdout",
     "output_type": "stream",
     "text": [
      "Cat meows\n"
     ]
    }
   ],
   "source": [
    "cat = Cat()\n",
    "cat.sound() # Cat class"
   ]
  },
  {
   "cell_type": "code",
   "execution_count": 22,
   "id": "e8b1199b-1ed6-4012-99fa-74daf6681661",
   "metadata": {},
   "outputs": [],
   "source": [
    "#Encapsulation>> means hiding something\n",
    "#bundling of data and methods of a class\n",
    "#access meodifier>> public ,protected,private\n",
    "#Accesible from anywhere from outside / inside of class"
   ]
  },
  {
   "cell_type": "code",
   "execution_count": 8,
   "id": "bc6df013-9fe4-4272-b04d-8f84a105bf07",
   "metadata": {},
   "outputs": [],
   "source": [
    "class Student:\n",
    "    def __init__(self,name,degree):\n",
    "        self.name = name\n",
    "        self.degree = degree\n",
    "        "
   ]
  },
  {
   "cell_type": "code",
   "execution_count": 12,
   "id": "89781c40-a67b-4fb2-bd2c-895ceee89f7c",
   "metadata": {},
   "outputs": [],
   "source": [
    "stud1 = Student(\"Abhi\",\"Masters\")"
   ]
  },
  {
   "cell_type": "code",
   "execution_count": 15,
   "id": "158a9089-860a-4f6c-bbe4-a6138ade244b",
   "metadata": {},
   "outputs": [
    {
     "data": {
      "text/plain": [
       "'Abhi'"
      ]
     },
     "execution_count": 15,
     "metadata": {},
     "output_type": "execute_result"
    }
   ],
   "source": [
    "stud1.name"
   ]
  },
  {
   "cell_type": "code",
   "execution_count": 16,
   "id": "37cc904b-a0bc-4931-9cba-23a2119b2c9f",
   "metadata": {},
   "outputs": [
    {
     "data": {
      "text/plain": [
       "'Masters'"
      ]
     },
     "execution_count": 16,
     "metadata": {},
     "output_type": "execute_result"
    }
   ],
   "source": [
    "stud1.degree"
   ]
  },
  {
   "cell_type": "code",
   "execution_count": 17,
   "id": "1e1a7c2a-a3fc-4b57-8b7b-5f2c3aa0190f",
   "metadata": {},
   "outputs": [],
   "source": [
    "stud2 = Student(\"Abhay\",\"PHD\")"
   ]
  },
  {
   "cell_type": "code",
   "execution_count": 18,
   "id": "4470dd95-f99a-4210-91e4-fe8272c80074",
   "metadata": {},
   "outputs": [
    {
     "data": {
      "text/plain": [
       "'Abhay'"
      ]
     },
     "execution_count": 18,
     "metadata": {},
     "output_type": "execute_result"
    }
   ],
   "source": [
    "stud2.name"
   ]
  },
  {
   "cell_type": "code",
   "execution_count": 19,
   "id": "6c4f4047-00aa-4cfc-9b5c-1e28736e2e75",
   "metadata": {},
   "outputs": [
    {
     "data": {
      "text/plain": [
       "'PHD'"
      ]
     },
     "execution_count": 19,
     "metadata": {},
     "output_type": "execute_result"
    }
   ],
   "source": [
    "stud2.degree"
   ]
  },
  {
   "cell_type": "code",
   "execution_count": 20,
   "id": "3b6af7e3-8904-4c3d-bc52-0dea0948bc92",
   "metadata": {},
   "outputs": [],
   "source": [
    "stud2.degree = \"Bachelors\""
   ]
  },
  {
   "cell_type": "code",
   "execution_count": 21,
   "id": "1f158247-c6b1-474e-808d-b7290911ec95",
   "metadata": {},
   "outputs": [
    {
     "data": {
      "text/plain": [
       "'Bachelors'"
      ]
     },
     "execution_count": 21,
     "metadata": {},
     "output_type": "execute_result"
    }
   ],
   "source": [
    "stud2.degree"
   ]
  },
  {
   "cell_type": "code",
   "execution_count": 24,
   "id": "9f30ee7d-189f-4bc0-9ed6-c978dd810bb9",
   "metadata": {},
   "outputs": [],
   "source": [
    "#PRIVATE #How to define a private\n",
    "# DATA ONLY ACCESSIBLOE WITHIN NA CLASS\n",
    "# USE __ TO MAKE PRIVATE"
   ]
  },
  {
   "cell_type": "code",
   "execution_count": 36,
   "id": "9f82ca55-cca7-485b-a459-da6e2ca04c44",
   "metadata": {},
   "outputs": [],
   "source": [
    "class Student:\n",
    "    def __init__(self,name,degree):\n",
    "        self.name = name\n",
    "        self.__degree = degree # Private variable\n",
    "    def show(self):\n",
    "        #accessing the private and public data members\n",
    "        print(\"name\",self.name,\" - \",'degree',self.__degree)"
   ]
  },
  {
   "cell_type": "code",
   "execution_count": 30,
   "id": "76f3a02c-0e4c-4719-9d45-d7586ad19197",
   "metadata": {},
   "outputs": [],
   "source": [
    "aj = Student(\"Abhi\" , \"Bachelors\")"
   ]
  },
  {
   "cell_type": "code",
   "execution_count": 31,
   "id": "fb0a85ce-d6aa-460f-8bdd-06e7a2b945f2",
   "metadata": {},
   "outputs": [
    {
     "name": "stdout",
     "output_type": "stream",
     "text": [
      "name Abhi  -  degree Bachelors\n"
     ]
    }
   ],
   "source": [
    "aj.show()"
   ]
  },
  {
   "cell_type": "code",
   "execution_count": 34,
   "id": "0a94598f-9870-46dd-b0fa-6782afa8c37c",
   "metadata": {},
   "outputs": [
    {
     "data": {
      "text/plain": [
       "'Abhi'"
      ]
     },
     "execution_count": 34,
     "metadata": {},
     "output_type": "execute_result"
    }
   ],
   "source": [
    "aj.name"
   ]
  },
  {
   "cell_type": "code",
   "execution_count": 35,
   "id": "685b84ea-849e-4412-b48d-c2b9c5b2a71a",
   "metadata": {},
   "outputs": [
    {
     "data": {
      "text/plain": [
       "'Bachelors'"
      ]
     },
     "execution_count": 35,
     "metadata": {},
     "output_type": "execute_result"
    }
   ],
   "source": [
    "aj.degree"
   ]
  },
  {
   "cell_type": "code",
   "execution_count": 38,
   "id": "49a3dacf-e2a7-4ad8-b3fa-cb2676a139ca",
   "metadata": {},
   "outputs": [],
   "source": [
    "ab = Student(\"Abhi\",\"PHD\")"
   ]
  },
  {
   "cell_type": "code",
   "execution_count": 40,
   "id": "ad824278-bf9b-4076-9ba8-88d2d92fb7cd",
   "metadata": {},
   "outputs": [
    {
     "data": {
      "text/plain": [
       "'Abhi'"
      ]
     },
     "execution_count": 40,
     "metadata": {},
     "output_type": "execute_result"
    }
   ],
   "source": [
    "ab.name"
   ]
  },
  {
   "cell_type": "code",
   "execution_count": 42,
   "id": "441a9421-1b2e-4282-9446-3995cb3f2785",
   "metadata": {},
   "outputs": [
    {
     "name": "stdout",
     "output_type": "stream",
     "text": [
      "name Abhi  -  degree PHD\n"
     ]
    }
   ],
   "source": [
    "ab.show()"
   ]
  },
  {
   "cell_type": "code",
   "execution_count": 47,
   "id": "b93b72e4-2c76-4fd0-a0e7-c6ccdedda255",
   "metadata": {},
   "outputs": [
    {
     "ename": "AttributeError",
     "evalue": "'Student' object has no attribute '__degree'",
     "output_type": "error",
     "traceback": [
      "\u001b[1;31m---------------------------------------------------------------------------\u001b[0m",
      "\u001b[1;31mAttributeError\u001b[0m                            Traceback (most recent call last)",
      "Cell \u001b[1;32mIn[47], line 1\u001b[0m\n\u001b[1;32m----> 1\u001b[0m ab\u001b[38;5;241m.\u001b[39m__degree\n",
      "\u001b[1;31mAttributeError\u001b[0m: 'Student' object has no attribute '__degree'"
     ]
    }
   ],
   "source": [
    "ab.__degree #Gives error as degree is private data"
   ]
  },
  {
   "cell_type": "code",
   "execution_count": 45,
   "id": "c6fe9227-2d60-434e-b528-1f7533a88573",
   "metadata": {},
   "outputs": [],
   "source": [
    "aj.degree = \"PHD\""
   ]
  },
  {
   "cell_type": "code",
   "execution_count": 46,
   "id": "c3e5231e-3d0e-4291-a3e1-684650459c5e",
   "metadata": {},
   "outputs": [
    {
     "data": {
      "text/plain": [
       "'PHD'"
      ]
     },
     "execution_count": 46,
     "metadata": {},
     "output_type": "execute_result"
    }
   ],
   "source": [
    "aj.degree"
   ]
  },
  {
   "cell_type": "code",
   "execution_count": 48,
   "id": "d7c840af-a42a-4963-bc8b-f56691d522e8",
   "metadata": {},
   "outputs": [
    {
     "data": {
      "text/plain": [
       "'PHD'"
      ]
     },
     "execution_count": 48,
     "metadata": {},
     "output_type": "execute_result"
    }
   ],
   "source": [
    "aj.degree"
   ]
  },
  {
   "cell_type": "code",
   "execution_count": 52,
   "id": "34fb76bd-bae5-4228-8f67-cf7224820e6b",
   "metadata": {},
   "outputs": [
    {
     "data": {
      "text/plain": [
       "'PHD'"
      ]
     },
     "execution_count": 52,
     "metadata": {},
     "output_type": "execute_result"
    }
   ],
   "source": [
    "ab._Student__degree #say u want to acess the private varibale using this obj._classname__variablename"
   ]
  },
  {
   "cell_type": "code",
   "execution_count": 53,
   "id": "c9afd7fb-86d2-4f37-aacb-e663b7b501d4",
   "metadata": {},
   "outputs": [],
   "source": [
    "class Student:\n",
    "    def __init__(self,name,degree):\n",
    "        self.name = name\n",
    "        self.__degree = degree # Private variable\n",
    "    def show(self):\n",
    "        #accessing the private and public data members\n",
    "        print(\"name\",self.name,\" - \",'degree',self.__degree)\n",
    "    def __private_method(self):\n",
    "        print(\"This is a private method\")\n",
    "        \n",
    "        "
   ]
  },
  {
   "cell_type": "code",
   "execution_count": 54,
   "id": "a86de677-cd2b-4f21-a664-151d88e65463",
   "metadata": {},
   "outputs": [],
   "source": [
    "obj1 = Student(\"Abhi\",\"PHD\")"
   ]
  },
  {
   "cell_type": "code",
   "execution_count": 55,
   "id": "38362e90-8ce5-47a0-916a-93402eee6bb4",
   "metadata": {},
   "outputs": [
    {
     "ename": "AttributeError",
     "evalue": "'Student' object has no attribute 'private_method'",
     "output_type": "error",
     "traceback": [
      "\u001b[1;31m---------------------------------------------------------------------------\u001b[0m",
      "\u001b[1;31mAttributeError\u001b[0m                            Traceback (most recent call last)",
      "Cell \u001b[1;32mIn[55], line 1\u001b[0m\n\u001b[1;32m----> 1\u001b[0m obj1\u001b[38;5;241m.\u001b[39mprivate_method()\n",
      "\u001b[1;31mAttributeError\u001b[0m: 'Student' object has no attribute 'private_method'"
     ]
    }
   ],
   "source": [
    "obj1.private_method() #Throws error"
   ]
  },
  {
   "cell_type": "code",
   "execution_count": 56,
   "id": "9513e7b2-60ea-4ea8-a5a6-23f41e1d2f5c",
   "metadata": {},
   "outputs": [
    {
     "ename": "AttributeError",
     "evalue": "'Student' object has no attribute '__private_method'",
     "output_type": "error",
     "traceback": [
      "\u001b[1;31m---------------------------------------------------------------------------\u001b[0m",
      "\u001b[1;31mAttributeError\u001b[0m                            Traceback (most recent call last)",
      "Cell \u001b[1;32mIn[56], line 1\u001b[0m\n\u001b[1;32m----> 1\u001b[0m obj1\u001b[38;5;241m.\u001b[39m__private_method()\n",
      "\u001b[1;31mAttributeError\u001b[0m: 'Student' object has no attribute '__private_method'"
     ]
    }
   ],
   "source": [
    "obj1.__private_method() #Throws error"
   ]
  },
  {
   "cell_type": "code",
   "execution_count": 62,
   "id": "86cc34b9-2e27-4121-9c89-de647975c863",
   "metadata": {},
   "outputs": [
    {
     "name": "stdout",
     "output_type": "stream",
     "text": [
      "This is a private method\n"
     ]
    }
   ],
   "source": [
    "obj1._Student__private_method() # accessing private method using class name"
   ]
  },
  {
   "cell_type": "code",
   "execution_count": null,
   "id": "7868250a-5603-4613-a253-0ca11327d986",
   "metadata": {},
   "outputs": [],
   "source": [
    "#way to provide an option to see the private method >> a wrapper"
   ]
  },
  {
   "cell_type": "code",
   "execution_count": 59,
   "id": "ec1a8fea-376b-4393-8133-42c44aa06b38",
   "metadata": {},
   "outputs": [],
   "source": [
    "class Student:\n",
    "    def __init__(self,name,degree):\n",
    "        self.name = name\n",
    "        self.__degree = degree # Private variable\n",
    "    def show(self):\n",
    "        #accessing the private and public data members\n",
    "        print(\"name\",self.name,\" - \",'degree',self.__degree)\n",
    "    def __private_method(self):\n",
    "        print(\"This is a private method\")\n",
    "    def access_private_method(self):\n",
    "        self.__private_method()\n",
    "        "
   ]
  },
  {
   "cell_type": "code",
   "execution_count": 61,
   "id": "f044f4c7-f7cb-4834-b1f0-de350d707a79",
   "metadata": {},
   "outputs": [
    {
     "name": "stdout",
     "output_type": "stream",
     "text": [
      "This is a private method\n"
     ]
    }
   ],
   "source": [
    "obj1 = Student(\"AK\",\"PHD\")\n",
    "obj1.access_private_method()"
   ]
  },
  {
   "cell_type": "code",
   "execution_count": 65,
   "id": "cf664084-1c84-4238-8283-c1344ca6b8ef",
   "metadata": {},
   "outputs": [],
   "source": [
    "#Another use case - Creating all variables a private\n",
    "#Another use case for modifying the private\n",
    "class Car:\n",
    "    def __init__(self,year,make,speed,model):\n",
    "        self.__year = year\n",
    "        self.__make = make\n",
    "        self.__speed = speed\n",
    "        self.__model = model\n",
    "        "
   ]
  },
  {
   "cell_type": "code",
   "execution_count": 66,
   "id": "a05b7701-f918-4b2f-b1e3-592fad51f345",
   "metadata": {},
   "outputs": [
    {
     "ename": "AttributeError",
     "evalue": "'Car' object has no attribute 'year'",
     "output_type": "error",
     "traceback": [
      "\u001b[1;31m---------------------------------------------------------------------------\u001b[0m",
      "\u001b[1;31mAttributeError\u001b[0m                            Traceback (most recent call last)",
      "Cell \u001b[1;32mIn[66], line 2\u001b[0m\n\u001b[0;32m      1\u001b[0m c1 \u001b[38;5;241m=\u001b[39m Car(\u001b[38;5;124m\"\u001b[39m\u001b[38;5;124m1995\u001b[39m\u001b[38;5;124m\"\u001b[39m,\u001b[38;5;124m\"\u001b[39m\u001b[38;5;124mBMW\u001b[39m\u001b[38;5;124m\"\u001b[39m,\u001b[38;5;124m\"\u001b[39m\u001b[38;5;124m280km/h\u001b[39m\u001b[38;5;124m\"\u001b[39m,\u001b[38;5;124m\"\u001b[39m\u001b[38;5;124mZ4\u001b[39m\u001b[38;5;124m\"\u001b[39m)\n\u001b[1;32m----> 2\u001b[0m c1\u001b[38;5;241m.\u001b[39myear\n",
      "\u001b[1;31mAttributeError\u001b[0m: 'Car' object has no attribute 'year'"
     ]
    }
   ],
   "source": [
    "c1 = Car(\"1995\",\"BMW\",\"280km/h\",\"Z4\")\n",
    "c1.year # since all variables are private , it will show error"
   ]
  },
  {
   "cell_type": "code",
   "execution_count": 68,
   "id": "166ea55b-cc1c-4b1a-a91d-cbba3b11894d",
   "metadata": {},
   "outputs": [],
   "source": [
    "#Another use case - Creating all variables a private\n",
    "class Car:\n",
    "    def __init__(self,year,make,speed,model):\n",
    "        self.__year = year\n",
    "        self.__make = make\n",
    "        self.__speed = speed\n",
    "        self.__model = model\n",
    "    def set_speed(self,speed):\n",
    "        self.__speed = 0 if speed < 0 else speed\n",
    "    def get_speed(self):\n",
    "        return self.__speed"
   ]
  },
  {
   "cell_type": "code",
   "execution_count": 69,
   "id": "72f31083-fa71-4c3f-92ab-f0e458694ee8",
   "metadata": {},
   "outputs": [
    {
     "data": {
      "text/plain": [
       "'280km/h'"
      ]
     },
     "execution_count": 69,
     "metadata": {},
     "output_type": "execute_result"
    }
   ],
   "source": [
    "c1 = Car(\"1995\",\"BMW\",\"280km/h\",\"Z4\")\n",
    "c1.get_speed()"
   ]
  },
  {
   "cell_type": "code",
   "execution_count": 70,
   "id": "2bead6bc-b13a-4a80-abe6-4a096da12534",
   "metadata": {},
   "outputs": [],
   "source": [
    "c1.set_speed(200)"
   ]
  },
  {
   "cell_type": "code",
   "execution_count": 71,
   "id": "b194c091-c57c-44fd-b4a2-ee5323dda8f0",
   "metadata": {},
   "outputs": [
    {
     "data": {
      "text/plain": [
       "200"
      ]
     },
     "execution_count": 71,
     "metadata": {},
     "output_type": "execute_result"
    }
   ],
   "source": [
    "c1.get_speed()"
   ]
  },
  {
   "cell_type": "code",
   "execution_count": 81,
   "id": "98bc0106-8087-4d0d-84b7-377e890437fe",
   "metadata": {},
   "outputs": [],
   "source": [
    "#Another use case\n",
    "class Bank:\n",
    "    def __init__(self,balance):\n",
    "        self.__balance = balance #Private variable\n",
    "    def deposit(self, amount): # amount is new deposit\n",
    "        self.__balance = self.__balance + amount\n",
    "    def withdraw(self,amount):\n",
    "        if self.__balance >= amount:\n",
    "            self.__balance =  self.__balance - amount\n",
    "            return True\n",
    "        else:\n",
    "            return False\n",
    "    def get_balance(self):\n",
    "        return self.__balance"
   ]
  },
  {
   "cell_type": "code",
   "execution_count": 82,
   "id": "078ca822-c08c-43ea-aa50-b5aec93df0cb",
   "metadata": {},
   "outputs": [],
   "source": [
    "acc1 = Bank(1000)"
   ]
  },
  {
   "cell_type": "code",
   "execution_count": 83,
   "id": "1678b135-d3d2-4e6e-be46-24d80b8e5ab3",
   "metadata": {},
   "outputs": [
    {
     "data": {
      "text/plain": [
       "1000"
      ]
     },
     "execution_count": 83,
     "metadata": {},
     "output_type": "execute_result"
    }
   ],
   "source": [
    "acc1.get_balance()"
   ]
  },
  {
   "cell_type": "code",
   "execution_count": 84,
   "id": "2b772c22-cff8-470c-94e1-53c274c6aa05",
   "metadata": {},
   "outputs": [],
   "source": [
    "acc1.deposit(200)"
   ]
  },
  {
   "cell_type": "code",
   "execution_count": 85,
   "id": "3d0d79e3-7c9d-40bc-ab68-98a0210a8b5d",
   "metadata": {},
   "outputs": [
    {
     "data": {
      "text/plain": [
       "1200"
      ]
     },
     "execution_count": 85,
     "metadata": {},
     "output_type": "execute_result"
    }
   ],
   "source": [
    "acc1.get_balance()"
   ]
  },
  {
   "cell_type": "code",
   "execution_count": 86,
   "id": "726e8edf-bd3e-4df1-9d13-fb7d8f2df505",
   "metadata": {},
   "outputs": [
    {
     "data": {
      "text/plain": [
       "True"
      ]
     },
     "execution_count": 86,
     "metadata": {},
     "output_type": "execute_result"
    }
   ],
   "source": [
    "acc1.withdraw(1000)"
   ]
  },
  {
   "cell_type": "code",
   "execution_count": 87,
   "id": "0a3f53de-7130-48ef-9ce1-cc91a21cb260",
   "metadata": {},
   "outputs": [
    {
     "data": {
      "text/plain": [
       "200"
      ]
     },
     "execution_count": 87,
     "metadata": {},
     "output_type": "execute_result"
    }
   ],
   "source": [
    "acc1.get_balance()"
   ]
  },
  {
   "cell_type": "code",
   "execution_count": 88,
   "id": "392b9702-95b1-42e8-87ab-4e67dac3893e",
   "metadata": {},
   "outputs": [],
   "source": [
    "acc1.deposit(5000)"
   ]
  },
  {
   "cell_type": "code",
   "execution_count": 89,
   "id": "ec2f4a8d-6b40-4cf9-96b2-149d8cfbbd39",
   "metadata": {},
   "outputs": [
    {
     "data": {
      "text/plain": [
       "5200"
      ]
     },
     "execution_count": 89,
     "metadata": {},
     "output_type": "execute_result"
    }
   ],
   "source": [
    "acc1.get_balance()"
   ]
  },
  {
   "cell_type": "code",
   "execution_count": 90,
   "id": "77b37e03-f90c-44be-a1e1-2f5dfdece08c",
   "metadata": {},
   "outputs": [],
   "source": [
    "#PROTECTED>> can be accessed within the class and its subclass, _variable name   --usecase"
   ]
  },
  {
   "cell_type": "code",
   "execution_count": 99,
   "id": "17f371f4-0537-443a-9cd1-b14f2f266fd8",
   "metadata": {},
   "outputs": [],
   "source": [
    "class College:\n",
    "    def __init__(self):\n",
    "        self._college_name = \"OXFORD\"\n",
    "class Student(College):\n",
    "    def __init__(self,name):\n",
    "        self.name = name\n",
    "        College.__init__(self) # accessing variable of base class>> classname __init__(self)\n",
    "\n",
    "    def show(self):\n",
    "        print(\"Name\", self.name ,\"college\", self._college_name) # using 1 underscore"
   ]
  },
  {
   "cell_type": "code",
   "execution_count": 100,
   "id": "b32d00a6-35fb-4911-bb51-1ddcc01fc637",
   "metadata": {},
   "outputs": [],
   "source": [
    "obj1 = Student(\"Abhi\")"
   ]
  },
  {
   "cell_type": "code",
   "execution_count": 101,
   "id": "d4e811b0-07dc-45d9-ba69-9a438f84b9aa",
   "metadata": {},
   "outputs": [
    {
     "data": {
      "text/plain": [
       "'Abhi'"
      ]
     },
     "execution_count": 101,
     "metadata": {},
     "output_type": "execute_result"
    }
   ],
   "source": [
    "obj1.name"
   ]
  },
  {
   "cell_type": "code",
   "execution_count": 102,
   "id": "78e51c29-67c7-41f4-8300-1cebf8ea6723",
   "metadata": {},
   "outputs": [
    {
     "name": "stdout",
     "output_type": "stream",
     "text": [
      "Name Abhi college OXFORD\n"
     ]
    }
   ],
   "source": [
    "obj1.show()"
   ]
  },
  {
   "cell_type": "code",
   "execution_count": 103,
   "id": "ee9245f5-ffcd-479e-b213-3ff4ca6e1219",
   "metadata": {},
   "outputs": [
    {
     "data": {
      "text/plain": [
       "'OXFORD'"
      ]
     },
     "execution_count": 103,
     "metadata": {},
     "output_type": "execute_result"
    }
   ],
   "source": [
    "college = College()\n",
    "college._college_name # accessing the protected variable"
   ]
  },
  {
   "cell_type": "code",
   "execution_count": 114,
   "id": "4930db3b-22cf-426a-aae3-8239797b918e",
   "metadata": {},
   "outputs": [],
   "source": [
    "#another way to access the data of base class using super() class\n",
    "class College:\n",
    "    def __init__(self):\n",
    "        self._college_name = \"OXFORD\"\n",
    "class Student(College):\n",
    "    def __init__(self,name):\n",
    "        self.name = name\n",
    "        super().__init__() # accessing variable of base class>> classname __init__(self)\n",
    "        #Include Super and remove self, base class is super class\n",
    "\n",
    "    def show(self):\n",
    "        print(\"Name\", self.name ,\"college\", self._college_name) # using 1 underscore"
   ]
  },
  {
   "cell_type": "code",
   "execution_count": 115,
   "id": "3d18b567-31e7-4d67-b2dd-0ac6878feda4",
   "metadata": {},
   "outputs": [],
   "source": [
    "stu1 = Student(\"abhi\")"
   ]
  },
  {
   "cell_type": "code",
   "execution_count": 116,
   "id": "868653dd-0429-4ddd-b710-1f9d3e05b1eb",
   "metadata": {},
   "outputs": [
    {
     "name": "stdout",
     "output_type": "stream",
     "text": [
      "Name abhi college OXFORD\n"
     ]
    }
   ],
   "source": [
    "stu1.show()"
   ]
  },
  {
   "cell_type": "code",
   "execution_count": 120,
   "id": "2451a20c-c30d-481c-a778-e93e8fb9fd47",
   "metadata": {},
   "outputs": [],
   "source": [
    "College._college_name = \"ABC\""
   ]
  },
  {
   "cell_type": "code",
   "execution_count": 121,
   "id": "1c3a6e8c-4d63-42da-b2ba-b6ab87b75620",
   "metadata": {},
   "outputs": [],
   "source": [
    "c1 = College()"
   ]
  },
  {
   "cell_type": "code",
   "execution_count": 123,
   "id": "451c8dc4-6a1a-4e7c-9fb7-13710dcf1f47",
   "metadata": {},
   "outputs": [
    {
     "data": {
      "text/plain": [
       "'ABC'"
      ]
     },
     "execution_count": 123,
     "metadata": {},
     "output_type": "execute_result"
    }
   ],
   "source": [
    "College._college_name #Accessing the value stored by syntax ---> Superclass._Variable name"
   ]
  },
  {
   "cell_type": "code",
   "execution_count": 126,
   "id": "0545286f-ee3b-4eb3-bfc9-e70b8c2ace18",
   "metadata": {},
   "outputs": [],
   "source": [
    "\"\"\"\n",
    "Question 1: Car Fuel Management\n",
    "\n",
    "Design a class Car that keeps track of a car's brand and fuel level.\n",
    "\n",
    "The car should consume 0.1 liters of fuel per kilometer driven.\n",
    "\n",
    "It should have methods to drive, refuel, and check its current fuel level.\n",
    "\n",
    "Driving should only be allowed if enough fuel is available.\n",
    "\"\"\"\n",
    "\n",
    "class Car:\n",
    "    def __init__(self,brand,fuel):\n",
    "        self.__brand = brand\n",
    "        self.__fuel = fuel\n",
    "    def drive(self, distance):\n",
    "        fuel_needed = distance * 0.1 \n",
    "        if self.__fuel >= fuel_needed:\n",
    "            self.__fuel -= fuel_needed\n",
    "            return True\n",
    "        else:\n",
    "            return False\n",
    "    def refuel(self, liters):\n",
    "        self.__fuel += liters\n",
    "\n",
    "    def get_status_fuel(self):\n",
    "        return f\"{self.__brand} has {self.__fuel} liters of fuel left\"\n",
    "        "
   ]
  },
  {
   "cell_type": "code",
   "execution_count": 127,
   "id": "b7cbdde1-da3a-4aa8-a20a-2996c92e13e4",
   "metadata": {},
   "outputs": [
    {
     "name": "stdout",
     "output_type": "stream",
     "text": [
      "True\n",
      "Toyota has 5.0 liters of fuel left\n",
      "Toyota has 8.0 liters of fuel left\n",
      "False\n"
     ]
    }
   ],
   "source": [
    "car1 = Car(\"Toyota\", 10)\n",
    "print(car1.drive(50))         \n",
    "print(car1.get_status_fuel())  \n",
    "car1.refuel(3)\n",
    "print(car1.get_status_fuel())  \n",
    "print(car1.drive(90))"
   ]
  },
  {
   "cell_type": "code",
   "execution_count": 128,
   "id": "3f385baf-a6f9-49c8-b0d7-6757db48ae4f",
   "metadata": {},
   "outputs": [],
   "source": [
    "\"\"\"\n",
    "Question 2: Library Book Inventory\n",
    "\n",
    "Create a class Library that manages book inventory.\n",
    "\n",
    "It should allow adding books with a number of copies.\n",
    "\n",
    "Users should be able to borrow a book (if available) and return it.\n",
    "\n",
    "A method should return the current stock of all books in the library\n",
    "\"\"\"\n",
    "\n",
    "class Library:\n",
    "    def __init__(self):\n",
    "        self.__books = {}\n",
    "\n",
    "    def add_book(self,title,copies):\n",
    "        if title in self.__books:\n",
    "            self.__books[title] += copies\n",
    "        else:\n",
    "            self.__books[title] = copies\n",
    "    def borrow_book(self,title):\n",
    "        if self.__books.get(title,0) > 0:\n",
    "            self.__books[title] -= 1\n",
    "            return True\n",
    "        else:\n",
    "            return False\n",
    "    def return_book(self,title):\n",
    "        if title in self.__books:\n",
    "            self.__books[title] += 1\n",
    "        else:\n",
    "            self.__books[title] = 1\n",
    "    def get_books(self):\n",
    "        return self.__books\n",
    "        "
   ]
  },
  {
   "cell_type": "code",
   "execution_count": 129,
   "id": "2a0960d5-43ce-436f-9b99-8c997d871a02",
   "metadata": {},
   "outputs": [
    {
     "name": "stdout",
     "output_type": "stream",
     "text": [
      "Initial stock: {'Harry Potter': 5, 'The Hobbit': 2}\n",
      "Borrow Harry Potter: True\n",
      "Borrow The Hobbit: True\n",
      "Borrow Unknown Book: False\n",
      "Stock after borrowing: {'Harry Potter': 4, 'The Hobbit': 1}\n",
      "Stock after returns: {'Harry Potter': 5, 'The Hobbit': 1, '1984': 1}\n"
     ]
    }
   ],
   "source": [
    "lib = Library()\n",
    "\n",
    "# AddING books\n",
    "lib.add_book(\"Harry Potter\", 3)\n",
    "lib.add_book(\"The Hobbit\", 2)\n",
    "lib.add_book(\"Harry Potter\", 2)  # Adding more copies of an existing book\n",
    "\n",
    "# Print current stock\n",
    "print(\"Initial stock:\", lib.get_books())\n",
    "# Expected: {'Harry Potter': 5, 'The Hobbit': 2}\n",
    "\n",
    "# Borrow books\n",
    "print(\"Borrow Harry Potter:\", lib.borrow_book(\"Harry Potter\"))  # True\n",
    "print(\"Borrow The Hobbit:\", lib.borrow_book(\"The Hobbit\"))      # True\n",
    "print(\"Borrow Unknown Book:\", lib.borrow_book(\"1984\"))          # False\n",
    "\n",
    "# Print stock after borrowing\n",
    "print(\"Stock after borrowing:\", lib.get_books())\n",
    "# Expected: {'Harry Potter': 4, 'The Hobbit': 1}\n",
    "\n",
    "# Return books\n",
    "lib.return_book(\"Harry Potter\")\n",
    "lib.return_book(\"1984\")  # Returning a book not previously in the library\n",
    "\n",
    "# Print stock after returns\n",
    "print(\"Stock after returns:\", lib.get_books())\n",
    "# Expected: {'Harry Potter': 5, 'The Hobbit': 1, '1984': 1}\n"
   ]
  },
  {
   "cell_type": "code",
   "execution_count": 130,
   "id": "300b329c-fa7b-4cfb-9795-878827f47423",
   "metadata": {},
   "outputs": [],
   "source": [
    "\"\"\"\n",
    "Question 3: Warehouse Inventory System\n",
    "\n",
    "Create a class Warehouse that manages the stock of products.\n",
    "\n",
    "Each product has a name and quantity.\n",
    "\n",
    "The class should allow adding new products, restocking existing ones, and shipping items out.\n",
    "\n",
    "A method should return the current inventory.\n",
    "\"\"\"\n",
    "\n",
    "class Warehouse:\n",
    "    def __init__(self):\n",
    "        self.__inventory = {}\n",
    "    def add_product(self,product_name,quantity):\n",
    "        if product_name in self.__inventory:\n",
    "            self.__inventory[product_name] += quantity\n",
    "        else:\n",
    "            self.__inventory[product_name] = quantity\n",
    "    def restock_products(self,product_name,quantity):\n",
    "        self.add_product(product_name,quantity)\n",
    "    def ship_product(self,product_name,quantity):\n",
    "        if self.__inventory.get(product_name,0) >= quantity:\n",
    "            self.__inventory[product_name] -= quantity\n",
    "            return True\n",
    "        else:\n",
    "            return False\n",
    "    def get_inventory(self):\n",
    "        return self.__inventory"
   ]
  },
  {
   "cell_type": "code",
   "execution_count": 132,
   "id": "a12b22e6-ac4c-42be-b6e6-ff3e7cb33044",
   "metadata": {},
   "outputs": [
    {
     "name": "stdout",
     "output_type": "stream",
     "text": [
      "{'Laptops': 15, 'Keyboards': 5}\n",
      "True\n",
      "False\n",
      "{'Laptops': 8, 'Keyboards': 5}\n"
     ]
    }
   ],
   "source": [
    "w = Warehouse()\n",
    "w.add_product(\"Laptops\", 10)\n",
    "w.add_product(\"Keyboards\", 5)\n",
    "w.restock_products(\"Laptops\", 5)\n",
    "print(w.get_inventory())  # {'Laptops': 15, 'Keyboards': 5}\n",
    "print(w.ship_product(\"Laptops\", 7))  # True\n",
    "print(w.ship_product(\"Keyboards\", 10))  # False\n",
    "print(w.get_inventory())  # {'Laptops': 8, 'Keyboards': 5}\n"
   ]
  },
  {
   "cell_type": "code",
   "execution_count": 133,
   "id": "cae6a3b6-ee5e-47b8-bfa6-2e3218b997eb",
   "metadata": {},
   "outputs": [],
   "source": [
    "\"\"\"\n",
    "Question 4: Game Player Stats\n",
    "\n",
    "Create a class Player to track a game character’s statistics.\n",
    "\n",
    "Each player has a name, health, and experience points (XP).\n",
    "\n",
    "Include methods to take damage (reducing health), gain experience, and display current stats.\n",
    "\n",
    "Ensure health never goes below 0.\n",
    "\"\"\"\n",
    "\n",
    "class Player:\n",
    "    def __init__(self,name,health,xp):\n",
    "        self.__name = name\n",
    "        self.__health = health\n",
    "        self.__xp = xp\n",
    "    def damage(self,damage):\n",
    "        if damage >= self.__health:\n",
    "            self.__health = 0\n",
    "        else:\n",
    "            self.__health -= damage\n",
    "    def gain_xp(self,amount):\n",
    "        self.__xp += amount\n",
    "    def get_stats(self):\n",
    "        return f\"{self.__name} has {self.__health} health and {self.__xp} XP\""
   ]
  },
  {
   "cell_type": "code",
   "execution_count": 134,
   "id": "4d767957-cbe7-441b-822a-21c6ca32016e",
   "metadata": {},
   "outputs": [
    {
     "name": "stdout",
     "output_type": "stream",
     "text": [
      "Knight has 70 health and 0 XP\n",
      "Knight has 70 health and 50 XP\n",
      "Knight has 0 health and 50 XP\n"
     ]
    }
   ],
   "source": [
    "p1 = Player(\"Knight\",100,0)\n",
    "p1.damage(30)\n",
    "print(p1.get_stats())\n",
    "p1.gain_xp(50)\n",
    "print(p1.get_stats())\n",
    "p1.damage(100)\n",
    "print(p1.get_stats())"
   ]
  },
  {
   "cell_type": "code",
   "execution_count": 137,
   "id": "ba4369d0-779c-4160-8b8a-a9aa45580a56",
   "metadata": {},
   "outputs": [],
   "source": [
    "\"\"\"\n",
    "Question 5: Hotel Room Booking\n",
    "\n",
    "Design a class Hotel that manages room bookings.\n",
    "\n",
    "Each room can be either available or booked.\n",
    "\n",
    "Allow booking a room, releasing (checking out) a room, and checking the status of all rooms.\n",
    "\n",
    "Optionally, support room types (e.g., single, double).\n",
    "\"\"\"\n",
    "\n",
    "class Hotel:\n",
    "    def __init__(self):\n",
    "        self.__rooms = {}\n",
    "\n",
    "    def add_room(self, room_number,room_type):\n",
    "        self.__rooms[room_number] = {\"type\" : room_type , \"booked\": False}\n",
    "    def book_room(self, room_number):\n",
    "        if room_number in self.__rooms and not self.__rooms[room_number][\"booked\"]:\n",
    "            self.__rooms[room_number][\"booked\"] = True\n",
    "            return True\n",
    "        else:\n",
    "            return False\n",
    "    def release_room(self,room_number):\n",
    "        if room_number in self.__rooms and self.__rooms[room_number][\"booked\"]:\n",
    "            self.__rooms[room_number][\"booked\"] = False\n",
    "            return True\n",
    "        else:\n",
    "            return False\n",
    "    def get_status(self):\n",
    "        return self.__rooms"
   ]
  },
  {
   "cell_type": "code",
   "execution_count": 138,
   "id": "e5bdafdd-a4b2-4573-a4bc-b0fc3cd2c072",
   "metadata": {},
   "outputs": [
    {
     "name": "stdout",
     "output_type": "stream",
     "text": [
      "True\n",
      "False\n",
      "True\n",
      "{101: {'type': 'single', 'booked': False}, 102: {'type': 'double', 'booked': False}}\n"
     ]
    }
   ],
   "source": [
    "h = Hotel()\n",
    "h.add_room(101, \"single\")\n",
    "h.add_room(102, \"double\")\n",
    "print(h.book_room(101))     # True\n",
    "print(h.book_room(101))     # False\n",
    "print(h.release_room(101))  # True\n",
    "print(h.get_status())       \n",
    "# Output: {101: {'type': 'single', 'booked': False}, 102: {'type': 'double', 'booked': False}}\n"
   ]
  },
  {
   "cell_type": "code",
   "execution_count": null,
   "id": "6ca12de6-4e63-40ec-abca-83c914ae62c2",
   "metadata": {},
   "outputs": [],
   "source": []
  }
 ],
 "metadata": {
  "kernelspec": {
   "display_name": "Python [conda env:base] *",
   "language": "python",
   "name": "conda-base-py"
  },
  "language_info": {
   "codemirror_mode": {
    "name": "ipython",
    "version": 3
   },
   "file_extension": ".py",
   "mimetype": "text/x-python",
   "name": "python",
   "nbconvert_exporter": "python",
   "pygments_lexer": "ipython3",
   "version": "3.13.5"
  }
 },
 "nbformat": 4,
 "nbformat_minor": 5
}
