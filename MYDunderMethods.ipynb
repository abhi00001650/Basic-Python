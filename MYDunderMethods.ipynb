{
 "cells": [
  {
   "cell_type": "code",
   "execution_count": 3,
   "id": "4de87e44-ab32-4bdf-a572-84418f96fc32",
   "metadata": {},
   "outputs": [],
   "source": [
    "#Dunder/methods/special method\n",
    "#"
   ]
  },
  {
   "cell_type": "code",
   "execution_count": 5,
   "id": "8d40cd00-0ad5-4719-bb28-7c6aef0c28cc",
   "metadata": {},
   "outputs": [
    {
     "name": "stdout",
     "output_type": "stream",
     "text": [
      "hello world\n"
     ]
    }
   ],
   "source": [
    "print(\"hello world\") # Print is a keyword/inbuilT function >> builtin keyword"
   ]
  },
  {
   "cell_type": "code",
   "execution_count": 6,
   "id": "fc5cab6c-9c06-41ee-8897-c38b186358ae",
   "metadata": {},
   "outputs": [],
   "source": [
    "#DUNDER/MAGIC/SPECIAL METHODS ARE THE METHODS DEFINED BY BUILT-IN CLASSESS IN PYTHON\n",
    "#CLASSES DEFINE THIS TYPE OF METHHODS FOR CREATING CUSTOM OBJECTS\n",
    "#IMPLEMENTING OPERATOR OVERLOADING IN PYTHON"
   ]
  },
  {
   "cell_type": "code",
   "execution_count": 7,
   "id": "a753c007-a3d3-4ed0-82f8-d1c23afc67b2",
   "metadata": {},
   "outputs": [],
   "source": [
    "#DUNDER >> D + UNDER \n",
    "#D -> DOUBLE  ; UNDER -> UNDERSCORE >> all the methods surrounding double underscore is a dunder method"
   ]
  },
  {
   "cell_type": "code",
   "execution_count": 8,
   "id": "fe7c42ed-949e-45de-ae9c-610287a94f6a",
   "metadata": {},
   "outputs": [
    {
     "data": {
      "text/plain": [
       "'Abhijeet'"
      ]
     },
     "execution_count": 8,
     "metadata": {},
     "output_type": "execute_result"
    }
   ],
   "source": [
    "a = \"Abhi\"\n",
    "b = \"jeet\"\n",
    "a + b"
   ]
  },
  {
   "cell_type": "code",
   "execution_count": 10,
   "id": "7f785712-776e-4ffc-8884-2300537f8ed4",
   "metadata": {},
   "outputs": [
    {
     "data": {
      "text/plain": [
       "'Abhijeet'"
      ]
     },
     "execution_count": 10,
     "metadata": {},
     "output_type": "execute_result"
    }
   ],
   "source": [
    "a.__add__(b)# DUNDER METHOD/ MAGIC METHOD TO ADD ASSOCIATED WITH STRING"
   ]
  },
  {
   "cell_type": "code",
   "execution_count": 11,
   "id": "e0a21a3c-857f-42a1-b158-5524c10bda57",
   "metadata": {},
   "outputs": [
    {
     "data": {
      "text/plain": [
       "['__add__',\n",
       " '__class__',\n",
       " '__contains__',\n",
       " '__delattr__',\n",
       " '__dir__',\n",
       " '__doc__',\n",
       " '__eq__',\n",
       " '__format__',\n",
       " '__ge__',\n",
       " '__getattribute__',\n",
       " '__getitem__',\n",
       " '__getnewargs__',\n",
       " '__getstate__',\n",
       " '__gt__',\n",
       " '__hash__',\n",
       " '__init__',\n",
       " '__init_subclass__',\n",
       " '__iter__',\n",
       " '__le__',\n",
       " '__len__',\n",
       " '__lt__',\n",
       " '__mod__',\n",
       " '__mul__',\n",
       " '__ne__',\n",
       " '__new__',\n",
       " '__reduce__',\n",
       " '__reduce_ex__',\n",
       " '__repr__',\n",
       " '__rmod__',\n",
       " '__rmul__',\n",
       " '__setattr__',\n",
       " '__sizeof__',\n",
       " '__str__',\n",
       " '__subclasshook__',\n",
       " 'capitalize',\n",
       " 'casefold',\n",
       " 'center',\n",
       " 'count',\n",
       " 'encode',\n",
       " 'endswith',\n",
       " 'expandtabs',\n",
       " 'find',\n",
       " 'format',\n",
       " 'format_map',\n",
       " 'index',\n",
       " 'isalnum',\n",
       " 'isalpha',\n",
       " 'isascii',\n",
       " 'isdecimal',\n",
       " 'isdigit',\n",
       " 'isidentifier',\n",
       " 'islower',\n",
       " 'isnumeric',\n",
       " 'isprintable',\n",
       " 'isspace',\n",
       " 'istitle',\n",
       " 'isupper',\n",
       " 'join',\n",
       " 'ljust',\n",
       " 'lower',\n",
       " 'lstrip',\n",
       " 'maketrans',\n",
       " 'partition',\n",
       " 'removeprefix',\n",
       " 'removesuffix',\n",
       " 'replace',\n",
       " 'rfind',\n",
       " 'rindex',\n",
       " 'rjust',\n",
       " 'rpartition',\n",
       " 'rsplit',\n",
       " 'rstrip',\n",
       " 'split',\n",
       " 'splitlines',\n",
       " 'startswith',\n",
       " 'strip',\n",
       " 'swapcase',\n",
       " 'title',\n",
       " 'translate',\n",
       " 'upper',\n",
       " 'zfill']"
      ]
     },
     "execution_count": 11,
     "metadata": {},
     "output_type": "execute_result"
    }
   ],
   "source": [
    "#all dunder methods associated with strings\n",
    "dir(str)"
   ]
  },
  {
   "cell_type": "code",
   "execution_count": 12,
   "id": "ba0f5557-492f-4140-8af4-a7f30f725cb9",
   "metadata": {},
   "outputs": [
    {
     "data": {
      "text/plain": [
       "8"
      ]
     },
     "execution_count": 12,
     "metadata": {},
     "output_type": "execute_result"
    }
   ],
   "source": [
    "3+5"
   ]
  },
  {
   "cell_type": "code",
   "execution_count": 13,
   "id": "7c7a44a8-66d5-4669-bef8-1f99bc8e3512",
   "metadata": {},
   "outputs": [],
   "source": [
    "a = 3\n",
    "b = 5 "
   ]
  },
  {
   "cell_type": "code",
   "execution_count": 14,
   "id": "0931dec2-6be3-4a65-9867-2b784ac07394",
   "metadata": {},
   "outputs": [
    {
     "data": {
      "text/plain": [
       "8"
      ]
     },
     "execution_count": 14,
     "metadata": {},
     "output_type": "execute_result"
    }
   ],
   "source": [
    "a.__add__(b)"
   ]
  },
  {
   "cell_type": "code",
   "execution_count": 15,
   "id": "31045e95-a1e6-4db9-a86c-a3e4cc507cf3",
   "metadata": {},
   "outputs": [
    {
     "data": {
      "text/plain": [
       "['__abs__',\n",
       " '__add__',\n",
       " '__and__',\n",
       " '__bool__',\n",
       " '__ceil__',\n",
       " '__class__',\n",
       " '__delattr__',\n",
       " '__dir__',\n",
       " '__divmod__',\n",
       " '__doc__',\n",
       " '__eq__',\n",
       " '__float__',\n",
       " '__floor__',\n",
       " '__floordiv__',\n",
       " '__format__',\n",
       " '__ge__',\n",
       " '__getattribute__',\n",
       " '__getnewargs__',\n",
       " '__getstate__',\n",
       " '__gt__',\n",
       " '__hash__',\n",
       " '__index__',\n",
       " '__init__',\n",
       " '__init_subclass__',\n",
       " '__int__',\n",
       " '__invert__',\n",
       " '__le__',\n",
       " '__lshift__',\n",
       " '__lt__',\n",
       " '__mod__',\n",
       " '__mul__',\n",
       " '__ne__',\n",
       " '__neg__',\n",
       " '__new__',\n",
       " '__or__',\n",
       " '__pos__',\n",
       " '__pow__',\n",
       " '__radd__',\n",
       " '__rand__',\n",
       " '__rdivmod__',\n",
       " '__reduce__',\n",
       " '__reduce_ex__',\n",
       " '__repr__',\n",
       " '__rfloordiv__',\n",
       " '__rlshift__',\n",
       " '__rmod__',\n",
       " '__rmul__',\n",
       " '__ror__',\n",
       " '__round__',\n",
       " '__rpow__',\n",
       " '__rrshift__',\n",
       " '__rshift__',\n",
       " '__rsub__',\n",
       " '__rtruediv__',\n",
       " '__rxor__',\n",
       " '__setattr__',\n",
       " '__sizeof__',\n",
       " '__str__',\n",
       " '__sub__',\n",
       " '__subclasshook__',\n",
       " '__truediv__',\n",
       " '__trunc__',\n",
       " '__xor__',\n",
       " 'as_integer_ratio',\n",
       " 'bit_count',\n",
       " 'bit_length',\n",
       " 'conjugate',\n",
       " 'denominator',\n",
       " 'from_bytes',\n",
       " 'imag',\n",
       " 'is_integer',\n",
       " 'numerator',\n",
       " 'real',\n",
       " 'to_bytes']"
      ]
     },
     "execution_count": 15,
     "metadata": {},
     "output_type": "execute_result"
    }
   ],
   "source": [
    "dir(int)"
   ]
  },
  {
   "cell_type": "code",
   "execution_count": 18,
   "id": "f3114761-7b8e-44b8-8521-4e7d59d2e2c3",
   "metadata": {},
   "outputs": [],
   "source": [
    "#USEFUL DUNDER METHODS\n",
    "#__init__ >> to take data with respect to object\n",
    "class Student:\n",
    "    def __init__(self,name):\n",
    "        print(name ,\"This is first thing that will be executed when u make instance/object of the class\")"
   ]
  },
  {
   "cell_type": "code",
   "execution_count": 20,
   "id": "dd04a4c2-f341-48bb-b2ac-983121df8df7",
   "metadata": {},
   "outputs": [
    {
     "name": "stdout",
     "output_type": "stream",
     "text": [
      "Abhi This is first thing that will be executed when u make instance/object of the class\n"
     ]
    }
   ],
   "source": [
    "obj1 = Student(\"Abhi\")"
   ]
  },
  {
   "cell_type": "code",
   "execution_count": 21,
   "id": "3ee82b16-4b31-4573-9e86-4ac5b4707525",
   "metadata": {},
   "outputs": [
    {
     "name": "stdout",
     "output_type": "stream",
     "text": [
      "Abhay This is first thing that will be executed when u make instance/object of the class\n"
     ]
    }
   ],
   "source": [
    "obj2 = Student(\"Abhay\")"
   ]
  },
  {
   "cell_type": "code",
   "execution_count": 22,
   "id": "3002c1c1-98c5-485d-9fc7-c8e2cde30f64",
   "metadata": {},
   "outputs": [],
   "source": [
    "#another magic method>>  __new__ \n",
    "class Student:\n",
    "    #__new__ is responsible for creating a new instance of the class\n",
    "    def __new__(cls): # since cls so it will be refering to the class\n",
    "        print(\"This will be executed even before init\")\n",
    "    #used to intialise the newly created instance/object>> it sets up any initial state/properties of the object\n",
    "    def __init__(self,name):\n",
    "        print(name ,\"This is first thing that will be executed when u make instance/object of the class\")"
   ]
  },
  {
   "cell_type": "code",
   "execution_count": 27,
   "id": "fc16de3b-f4af-4f38-a0cc-bd04c7320b89",
   "metadata": {},
   "outputs": [
    {
     "name": "stdout",
     "output_type": "stream",
     "text": [
      "This will be executed even before init\n"
     ]
    }
   ],
   "source": [
    "obj = Student()"
   ]
  },
  {
   "cell_type": "code",
   "execution_count": 28,
   "id": "3ee423c1-5e7c-4015-b735-55842c074895",
   "metadata": {},
   "outputs": [],
   "source": [
    "#another dunder method >> __str__\n",
    "class Student:\n",
    "    def __init__(self):\n",
    "        self.phone = 9999999999"
   ]
  },
  {
   "cell_type": "code",
   "execution_count": 30,
   "id": "f1146077-ba15-4e19-b2a1-d950448117cd",
   "metadata": {},
   "outputs": [
    {
     "data": {
      "text/plain": [
       "<__main__.Student at 0x1a6a5d33c50>"
      ]
     },
     "execution_count": 30,
     "metadata": {},
     "output_type": "execute_result"
    }
   ],
   "source": [
    "Student()#hexadecimal representation of memory of student object "
   ]
  },
  {
   "cell_type": "code",
   "execution_count": 31,
   "id": "2fb5f589-f126-48b5-808e-58a76a057ce4",
   "metadata": {},
   "outputs": [
    {
     "name": "stdout",
     "output_type": "stream",
     "text": [
      "<__main__.Student object at 0x000001A6A5EC4050>\n"
     ]
    }
   ],
   "source": [
    "print(Student())"
   ]
  },
  {
   "cell_type": "code",
   "execution_count": 32,
   "id": "9b4a7e3a-de36-4a7d-826b-e523558d3169",
   "metadata": {},
   "outputs": [],
   "source": [
    "#another dunder method >> __str__\n",
    "class Student:\n",
    "    def __init__(self):\n",
    "        self.phone = 9999999999\n",
    "    def __str__(self): # it will return a string representation of student object\n",
    "        return \"This method overloads the print statement of object method\""
   ]
  },
  {
   "cell_type": "code",
   "execution_count": 33,
   "id": "a7947359-34a0-4e79-a964-32e1421f4018",
   "metadata": {},
   "outputs": [],
   "source": [
    "obj1 = Student()"
   ]
  },
  {
   "cell_type": "code",
   "execution_count": 34,
   "id": "c1c499f4-9289-4ed6-9ecf-e8441da75245",
   "metadata": {},
   "outputs": [
    {
     "name": "stdout",
     "output_type": "stream",
     "text": [
      "This method overloads the print statement of object method\n"
     ]
    }
   ],
   "source": [
    "print(obj1)"
   ]
  },
  {
   "cell_type": "code",
   "execution_count": 41,
   "id": "3e33e938-5cf9-4f7d-980d-c84339b2986d",
   "metadata": {},
   "outputs": [],
   "source": [
    "#another dunder method >> __repr__ >> means representation of the class\n",
    "# it returns unambiguitious string representation of the object as it is that can be used to recreate the object"
   ]
  },
  {
   "cell_type": "code",
   "execution_count": 42,
   "id": "6127ec1b-8835-455a-b394-0663d92c893f",
   "metadata": {},
   "outputs": [],
   "source": [
    "class MyClass:\n",
    "    def __init__(self,x):\n",
    "        self.x = x\n",
    "    def __repr__(self):\n",
    "        return f\"My Class ({self.x})\""
   ]
  },
  {
   "cell_type": "code",
   "execution_count": 43,
   "id": "e5849cf4-b91d-4266-8147-dc7745444884",
   "metadata": {},
   "outputs": [],
   "source": [
    "obj2 = MyClass(5)"
   ]
  },
  {
   "cell_type": "code",
   "execution_count": 44,
   "id": "f2c150a4-f4b6-459a-a52f-260626150e3e",
   "metadata": {},
   "outputs": [
    {
     "data": {
      "text/plain": [
       "My Class (5)"
      ]
     },
     "execution_count": 44,
     "metadata": {},
     "output_type": "execute_result"
    }
   ],
   "source": [
    "obj2"
   ]
  },
  {
   "cell_type": "code",
   "execution_count": 45,
   "id": "5692957e-d002-4c4c-870a-1d900adc290b",
   "metadata": {},
   "outputs": [
    {
     "name": "stdout",
     "output_type": "stream",
     "text": [
      "My Class (5)\n"
     ]
    }
   ],
   "source": [
    "print(repr(obj2))"
   ]
  },
  {
   "cell_type": "code",
   "execution_count": 46,
   "id": "48046e33-1493-47f5-a061-fb4b7693ef74",
   "metadata": {},
   "outputs": [
    {
     "data": {
      "text/plain": [
       "True"
      ]
     },
     "execution_count": 46,
     "metadata": {},
     "output_type": "execute_result"
    }
   ],
   "source": [
    "#__eq__\n",
    "True == True"
   ]
  },
  {
   "cell_type": "code",
   "execution_count": 47,
   "id": "97110f67-a506-4a05-ba06-821fd3ffccb9",
   "metadata": {},
   "outputs": [
    {
     "data": {
      "text/plain": [
       "True"
      ]
     },
     "execution_count": 47,
     "metadata": {},
     "output_type": "execute_result"
    }
   ],
   "source": [
    "3 == 3"
   ]
  },
  {
   "cell_type": "code",
   "execution_count": 48,
   "id": "f04a2ab9-2ab1-4cbb-8466-b7b50cefb50c",
   "metadata": {},
   "outputs": [
    {
     "data": {
      "text/plain": [
       "True"
      ]
     },
     "execution_count": 48,
     "metadata": {},
     "output_type": "execute_result"
    }
   ],
   "source": [
    "a = 3\n",
    "b = 3\n",
    "a.__eq__(b)"
   ]
  },
  {
   "cell_type": "code",
   "execution_count": 49,
   "id": "ccf12d4a-bf67-403f-8086-f9062f31f2b7",
   "metadata": {},
   "outputs": [],
   "source": [
    "#use case of this\n",
    "class Point:\n",
    "    def __init__(self,x,y):\n",
    "        self.x = x\n",
    "        self.y = y\n",
    "    def __eq__(self,other):\n",
    "        return self.x == other.x and self.y == other.y"
   ]
  },
  {
   "cell_type": "code",
   "execution_count": 55,
   "id": "d4039b9f-03df-4eaa-b284-dc66e06d6ec1",
   "metadata": {},
   "outputs": [
    {
     "name": "stdout",
     "output_type": "stream",
     "text": [
      "True\n"
     ]
    }
   ],
   "source": [
    "p1 = Point(1,2)\n",
    "p2 = Point(1,2)\n",
    "print(p1 == p2) #COMPARING BOTH OF THE OBJECTS"
   ]
  },
  {
   "cell_type": "code",
   "execution_count": 56,
   "id": "e541e5c5-95f5-41f8-a9e4-f7e0b5024852",
   "metadata": {},
   "outputs": [
    {
     "name": "stdout",
     "output_type": "stream",
     "text": [
      "False\n"
     ]
    }
   ],
   "source": [
    "p1 = Point(1,2)\n",
    "p2 = Point(1,3)\n",
    "print(p1 == p2)"
   ]
  },
  {
   "cell_type": "code",
   "execution_count": 59,
   "id": "b7a103bf-5541-4b95-a9fb-ecf132e0262e",
   "metadata": {},
   "outputs": [],
   "source": [
    "#__add__\n",
    "class Point:\n",
    "    def __init__(self,x,y):\n",
    "        self.x = x\n",
    "        self.y = y\n",
    "    def __add__(self,other):\n",
    "        return Point(self.x + other.x , self.y + other.y)"
   ]
  },
  {
   "cell_type": "code",
   "execution_count": 60,
   "id": "2fc9d292-f854-4c1a-9d4d-01daa8a55107",
   "metadata": {},
   "outputs": [
    {
     "name": "stdout",
     "output_type": "stream",
     "text": [
      "2 4\n"
     ]
    }
   ],
   "source": [
    "p1 = Point(1,2)\n",
    "p2 = Point(1,2)\n",
    "p3 = p1 + p2 #when you are using\n",
    "print(p3.x,p3.y)"
   ]
  },
  {
   "cell_type": "code",
   "execution_count": 61,
   "id": "c11a4de5-5ed0-4c76-a14b-3afc016aeca3",
   "metadata": {},
   "outputs": [
    {
     "name": "stdout",
     "output_type": "stream",
     "text": [
      "4 6\n"
     ]
    }
   ],
   "source": [
    "p1 = Point(1,2)\n",
    "p2 = Point(3,4)\n",
    "p3 = p1 + p2\n",
    "print(p3.x,p3.y)"
   ]
  },
  {
   "cell_type": "code",
   "execution_count": null,
   "id": "adaad62b-0507-46cb-b9bf-65b39f610201",
   "metadata": {},
   "outputs": [],
   "source": []
  }
 ],
 "metadata": {
  "kernelspec": {
   "display_name": "Python [conda env:base] *",
   "language": "python",
   "name": "conda-base-py"
  },
  "language_info": {
   "codemirror_mode": {
    "name": "ipython",
    "version": 3
   },
   "file_extension": ".py",
   "mimetype": "text/x-python",
   "name": "python",
   "nbconvert_exporter": "python",
   "pygments_lexer": "ipython3",
   "version": "3.13.5"
  }
 },
 "nbformat": 4,
 "nbformat_minor": 5
}
