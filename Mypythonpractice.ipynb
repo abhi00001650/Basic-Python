{
 "cells": [
  {
   "cell_type": "code",
   "execution_count": 2,
   "id": "43d285ed-6703-445f-a130-cea649b383b9",
   "metadata": {},
   "outputs": [
    {
     "data": {
      "text/plain": [
       "'Hello World'"
      ]
     },
     "execution_count": 2,
     "metadata": {},
     "output_type": "execute_result"
    }
   ],
   "source": [
    "\"Hello\" + \" World\"\n"
   ]
  },
  {
   "cell_type": "code",
   "execution_count": 12,
   "id": "9bf13862-49a0-4516-a188-8d347ce92f85",
   "metadata": {},
   "outputs": [
    {
     "data": {
      "text/plain": [
       "'My Name Is Abhi'"
      ]
     },
     "execution_count": 12,
     "metadata": {},
     "output_type": "execute_result"
    }
   ],
   "source": [
    "string1=\"My Name Is Abhi\"\n",
    "string1[0:]"
   ]
  },
  {
   "cell_type": "code",
   "execution_count": 33,
   "id": "29018d9f-7f39-41a5-b3d3-5178306928b0",
   "metadata": {},
   "outputs": [],
   "source": [
    "string3=\"laila\" "
   ]
  },
  {
   "cell_type": "code",
   "execution_count": 34,
   "id": "ac818804-ad6c-4bde-920f-823db4366ae0",
   "metadata": {},
   "outputs": [
    {
     "data": {
      "text/plain": [
       "'ila'"
      ]
     },
     "execution_count": 34,
     "metadata": {},
     "output_type": "execute_result"
    }
   ],
   "source": [
    "string3[-3:]"
   ]
  },
  {
   "cell_type": "code",
   "execution_count": 32,
   "id": "2dfb07c3-d237-4704-8b0a-a46d9f90afd4",
   "metadata": {},
   "outputs": [
    {
     "data": {
      "text/plain": [
       "'dlroW olleH'"
      ]
     },
     "execution_count": 32,
     "metadata": {},
     "output_type": "execute_result"
    }
   ],
   "source": [
    "string2 = \"Hello World\"\n",
    "#it means start from the end , move to start and step backwards by one character\n",
    "string2[::-1]"
   ]
  },
  {
   "cell_type": "code",
   "execution_count": 36,
   "id": "fb25b865-cfd4-441d-bea8-d8614bec811a",
   "metadata": {},
   "outputs": [
    {
     "data": {
      "text/plain": [
       "14"
      ]
     },
     "execution_count": 36,
     "metadata": {},
     "output_type": "execute_result"
    }
   ],
   "source": [
    "s=\"I am A student\"\n",
    "len(s)"
   ]
  },
  {
   "cell_type": "code",
   "execution_count": 37,
   "id": "a0373653-33b9-4e2a-a307-177c0e01f61d",
   "metadata": {},
   "outputs": [
    {
     "data": {
      "text/plain": [
       "'I am A teacher'"
      ]
     },
     "execution_count": 37,
     "metadata": {},
     "output_type": "execute_result"
    }
   ],
   "source": [
    "s=\"I am A student\"\n",
    "s.replace(\"student\",\"teacher\")"
   ]
  },
  {
   "cell_type": "code",
   "execution_count": 38,
   "id": "bdf9847b-a05a-4421-9bde-3fe396661f15",
   "metadata": {},
   "outputs": [
    {
     "data": {
      "text/plain": [
       "'LE2 7PT, London , United Kingdom'"
      ]
     },
     "execution_count": 38,
     "metadata": {},
     "output_type": "execute_result"
    }
   ],
   "source": [
    "address = \"LE2 7PT, Leicester , United Kingdom\"\n",
    "address.replace(\"Leicester\", \"London\")"
   ]
  },
  {
   "cell_type": "code",
   "execution_count": 39,
   "id": "0c3926f8-9b65-49b8-8fce-bcab7c0304eb",
   "metadata": {},
   "outputs": [
    {
     "data": {
      "text/plain": [
       "'LE1 5YB, London , UNITED KINGDOM'"
      ]
     },
     "execution_count": 39,
     "metadata": {},
     "output_type": "execute_result"
    }
   ],
   "source": [
    "address = \"LE2 7PT, Leicester , United Kingdom\"\n",
    "address.replace(\"Leicester\", \"London\").replace(\"LE2 7PT\",\"LE1 5YB\").replace(\"United Kingdom\",\"UNITED KINGDOM\")"
   ]
  },
  {
   "cell_type": "code",
   "execution_count": 41,
   "id": "00db6b71-cd91-4069-bb7f-ffcf119aabd4",
   "metadata": {},
   "outputs": [
    {
     "data": {
      "text/plain": [
       "'HELLO WORLD'"
      ]
     },
     "execution_count": 41,
     "metadata": {},
     "output_type": "execute_result"
    }
   ],
   "source": [
    "text=\"hello World\"\n",
    "text.upper()"
   ]
  },
  {
   "cell_type": "code",
   "execution_count": 43,
   "id": "65fc10c8-fa1c-42b7-8563-3efacc146d48",
   "metadata": {},
   "outputs": [
    {
     "data": {
      "text/plain": [
       "'Hello World'"
      ]
     },
     "execution_count": 43,
     "metadata": {},
     "output_type": "execute_result"
    }
   ],
   "source": [
    "text.title()"
   ]
  },
  {
   "cell_type": "code",
   "execution_count": 44,
   "id": "b622cb57-06b0-435e-b4f4-1fd607906250",
   "metadata": {},
   "outputs": [
    {
     "data": {
      "text/plain": [
       "'HELLO wORLD'"
      ]
     },
     "execution_count": 44,
     "metadata": {},
     "output_type": "execute_result"
    }
   ],
   "source": [
    "text.swapcase()"
   ]
  },
  {
   "cell_type": "code",
   "execution_count": 45,
   "id": "162710b2-5edf-48f0-b699-e502822b7046",
   "metadata": {},
   "outputs": [
    {
     "data": {
      "text/plain": [
       "'Hello world'"
      ]
     },
     "execution_count": 45,
     "metadata": {},
     "output_type": "execute_result"
    }
   ],
   "source": [
    "text.capitalize()"
   ]
  },
  {
   "cell_type": "code",
   "execution_count": 46,
   "id": "7c999acf-755a-4e01-8168-6b0f5951f482",
   "metadata": {},
   "outputs": [
    {
     "data": {
      "text/plain": [
       "True"
      ]
     },
     "execution_count": 46,
     "metadata": {},
     "output_type": "execute_result"
    }
   ],
   "source": [
    "sentence=\"I am a student at DMU\"\n",
    "\"am\" in sentence"
   ]
  },
  {
   "cell_type": "code",
   "execution_count": 47,
   "id": "3a5554a1-be47-456e-b288-1c78c6f618d1",
   "metadata": {},
   "outputs": [
    {
     "data": {
      "text/plain": [
       "False"
      ]
     },
     "execution_count": 47,
     "metadata": {},
     "output_type": "execute_result"
    }
   ],
   "source": [
    "sentence=\"I am a student at DMU\"\n",
    "\"AM\" in sentence"
   ]
  },
  {
   "cell_type": "code",
   "execution_count": 58,
   "id": "bd6cc686-13fd-45ff-90eb-c49418ea1cda",
   "metadata": {},
   "outputs": [
    {
     "name": "stdout",
     "output_type": "stream",
     "text": [
      "Word is present\n",
      "length of sentence is:  21\n"
     ]
    }
   ],
   "source": [
    "sentence=\"I am a student at DMU\"\n",
    "a = \"am\" \n",
    "b = len(sentence)\n",
    "\n",
    "if a in sentence:\n",
    "    print(\"Word is present\")\n",
    "    print(\"length of sentence is: \" , b )\n",
    "else:\n",
    "    print(\"Not present\")"
   ]
  },
  {
   "cell_type": "code",
   "execution_count": 60,
   "id": "cdb071f0-4d45-44d3-a2f9-ceab9c28b496",
   "metadata": {},
   "outputs": [
    {
     "name": "stdout",
     "output_type": "stream",
     "text": [
      "Not Valid email\n"
     ]
    }
   ],
   "source": [
    "email = \"abhi1234mail.com\"\n",
    "if \"@\" in email:\n",
    "    print(\"Vaild email\")\n",
    "else:\n",
    "    print(\"Not Valid email\")\n"
   ]
  },
  {
   "cell_type": "code",
   "execution_count": 61,
   "id": "662d164a-3e75-48f9-9243-0c64fc832f55",
   "metadata": {},
   "outputs": [
    {
     "name": "stdout",
     "output_type": "stream",
     "text": [
      "valid document\n"
     ]
    }
   ],
   "source": [
    "doc = \"Myfile.pdf\"\n",
    "if \".pdf\" in doc:\n",
    "    print(\"valid document\")\n",
    "else:\n",
    "    print(\"Not a valid document\")"
   ]
  },
  {
   "cell_type": "code",
   "execution_count": 62,
   "id": "3a71b8f7-feb6-420a-bdf7-b7da0f2b2969",
   "metadata": {},
   "outputs": [
    {
     "name": "stdout",
     "output_type": "stream",
     "text": [
      "Not a valid document\n"
     ]
    }
   ],
   "source": [
    "doc = \"Myfile.img\"\n",
    "if \".pdf\" in doc:\n",
    "    print(\"valid document\")\n",
    "else:\n",
    "    print(\"Not a valid document\")"
   ]
  },
  {
   "cell_type": "code",
   "execution_count": 63,
   "id": "3486775c-2985-4975-8417-dc40054bf259",
   "metadata": {},
   "outputs": [
    {
     "data": {
      "text/plain": [
       "True"
      ]
     },
     "execution_count": 63,
     "metadata": {},
     "output_type": "execute_result"
    }
   ],
   "source": [
    "str1=\"Hello\"\n",
    "str2=\"Hello\"\n",
    "str1==str2"
   ]
  },
  {
   "cell_type": "code",
   "execution_count": 64,
   "id": "1352f622-c445-49b7-b65d-3ddb9d6c87ce",
   "metadata": {},
   "outputs": [
    {
     "data": {
      "text/plain": [
       "True"
      ]
     },
     "execution_count": 64,
     "metadata": {},
     "output_type": "execute_result"
    }
   ],
   "source": [
    "str1=\"Hello\"\n",
    "str2=\"Hello\"\n",
    "str1.lower()==str2.lower()"
   ]
  },
  {
   "cell_type": "code",
   "execution_count": 66,
   "id": "dbde85e0-cae0-4eca-96b9-2581fdeb0cbe",
   "metadata": {},
   "outputs": [
    {
     "data": {
      "text/plain": [
       "True"
      ]
     },
     "execution_count": 66,
     "metadata": {},
     "output_type": "execute_result"
    }
   ],
   "source": [
    "str1=\"Hello\"\n",
    "str2=\"heLLo\"\n",
    "str1.lower()==str2.lower()"
   ]
  },
  {
   "cell_type": "code",
   "execution_count": 68,
   "id": "e6f0633e-be14-40ea-82f8-6dabd4622c30",
   "metadata": {},
   "outputs": [
    {
     "name": "stdout",
     "output_type": "stream",
     "text": [
      "Unique name\n"
     ]
    }
   ],
   "source": [
    "reg_username =[\"Abhi\",\"Khush\",\"Kartik\",\"Adi\",\"Soni\",\"Ishan\"]\n",
    "new_user = \"Basanti\"\n",
    "if new_user in reg_username:\n",
    "    print(\"Your Username is not unique please add numbers and characters to make it unique\")\n",
    "else:\n",
    "    print(\"Unique name\")"
   ]
  },
  {
   "cell_type": "code",
   "execution_count": 71,
   "id": "d331d392-dd26-4743-9b18-781e608e052a",
   "metadata": {},
   "outputs": [
    {
     "name": "stdout",
     "output_type": "stream",
     "text": [
      "Your Username is not unique please add numbers and characters to make it unique\n"
     ]
    }
   ],
   "source": [
    "reg_username =[\"Abhi\",\"Khush\",\"Kartik\",\"Adi\",\"Soni\",\"Ishan\"]\n",
    "reg_username\n",
    "new_user = \"Soni\"\n",
    "if new_user in reg_username:\n",
    "    print(\"Your Username is not unique please add numbers and characters to make it unique\")\n",
    "else:\n",
    "    print(\"Unique name\")"
   ]
  },
  {
   "cell_type": "code",
   "execution_count": 75,
   "id": "6dc8a153-11dc-466e-b2ee-ac8dedc9e18d",
   "metadata": {},
   "outputs": [
    {
     "name": "stdin",
     "output_type": "stream",
     "text": [
      "Scan the product code 36126\n"
     ]
    },
    {
     "name": "stdout",
     "output_type": "stream",
     "text": [
      "Talk to receptionist\n"
     ]
    }
   ],
   "source": [
    "product_code =\"1234\"\n",
    "scanned_code = input(\"Scan the product code\")\n",
    "if product_code == scanned_code:\n",
    "    print(\"The price is 100\")\n",
    "else:\n",
    "    print(\"Talk to receptionist\")"
   ]
  },
  {
   "cell_type": "code",
   "execution_count": 107,
   "id": "4baacf96-2205-40f5-b3b1-bf4ce4aaff4e",
   "metadata": {},
   "outputs": [
    {
     "data": {
      "text/plain": [
       "['Abhi', 'Adi', 'Ishan', 'Kartik', 'Khush', 'Soni']"
      ]
     },
     "execution_count": 107,
     "metadata": {},
     "output_type": "execute_result"
    }
   ],
   "source": [
    "#sorting name \n",
    "call =[\"Abhi\",\"Khush\",\"Kartik\",\"Adi\",\"Soni\",\"Ishan\"]\n",
    "sorted(call)"
   ]
  },
  {
   "cell_type": "code",
   "execution_count": 108,
   "id": "682d7114-9117-4f84-a740-7dd61ff87d33",
   "metadata": {},
   "outputs": [
    {
     "data": {
      "text/plain": [
       "['a', 'b', 'c', 'd', 'e', 'f', 'g']"
      ]
     },
     "execution_count": 108,
     "metadata": {},
     "output_type": "execute_result"
    }
   ],
   "source": [
    "movie_playlist = [\"b\",\"c\",\"d\",\"a\",\"e\",\"g\",\"f\"]\n",
    "sorted(movie_playlist)\n"
   ]
  },
  {
   "cell_type": "code",
   "execution_count": 109,
   "id": "ca89e473-1dea-45e9-849f-a6ed6873da32",
   "metadata": {},
   "outputs": [
    {
     "data": {
      "text/plain": [
       "'          Abhay                '"
      ]
     },
     "execution_count": 109,
     "metadata": {},
     "output_type": "execute_result"
    }
   ],
   "source": [
    "naam = \"          Abhay                \"\n",
    "naam"
   ]
  },
  {
   "cell_type": "code",
   "execution_count": 110,
   "id": "c390be8d-9f9d-4947-8b9a-4163010f3350",
   "metadata": {},
   "outputs": [
    {
     "data": {
      "text/plain": [
       "'Abhay'"
      ]
     },
     "execution_count": 110,
     "metadata": {},
     "output_type": "execute_result"
    }
   ],
   "source": [
    "naam.strip()"
   ]
  },
  {
   "cell_type": "code",
   "execution_count": 119,
   "id": "6879e010-79dd-42c9-90e0-3f5069b581e2",
   "metadata": {},
   "outputs": [
    {
     "data": {
      "text/plain": [
       "'Abhi, Data Science , Student'"
      ]
     },
     "execution_count": 119,
     "metadata": {},
     "output_type": "execute_result"
    }
   ],
   "source": [
    "data = \"Abhi, Data Science , Student\"\n",
    "data"
   ]
  },
  {
   "cell_type": "code",
   "execution_count": 120,
   "id": "b140dc43-92a3-4445-b6ec-d60234c49d9f",
   "metadata": {},
   "outputs": [
    {
     "data": {
      "text/plain": [
       "['Abhi', ' Data Science ', ' Student']"
      ]
     },
     "execution_count": 120,
     "metadata": {},
     "output_type": "execute_result"
    }
   ],
   "source": [
    "prf_info = data.split(',')\n",
    "prf_info"
   ]
  },
  {
   "cell_type": "code",
   "execution_count": 124,
   "id": "43f13edd-4b42-455d-ad0a-0a00c240312e",
   "metadata": {},
   "outputs": [
    {
     "name": "stdout",
     "output_type": "stream",
     "text": [
      "Name : Abhi | Subject :  Data Science  | Profession :  Student\n"
     ]
    }
   ],
   "source": [
    "name_1 = str(prf_info[0])\n",
    "subject = str(prf_info[1])\n",
    "Profession = str(prf_info[2])\n",
    "print(\"Name :\" , name_1 +\" | Subject :\" , subject +\" | Profession :\", Profession) "
   ]
  },
  {
   "cell_type": "code",
   "execution_count": 140,
   "id": "5b97c202-86ec-4274-b191-73a364f21c3e",
   "metadata": {},
   "outputs": [
    {
     "name": "stdout",
     "output_type": "stream",
     "text": [
      "Name\tSub\t\t\tProfession\n",
      "Abhi\tData Science\t\tStudent\n",
      "Abhay\tChemicals\t\tStudent\n",
      "Khush\tWeb-development\t\tStudent\n"
     ]
    }
   ],
   "source": [
    "#using \\t & \\n to  make a table \n",
    "hey = \"Name\\tSub\\t\\t\\tProfession\\nAbhi\\tData Science\\t\\tStudent\\nAbhay\\tChemicals\\t\\tStudent\\nKhush\\tWeb-development\\t\\tStudent\"\n",
    "print(hey)"
   ]
  },
  {
   "cell_type": "code",
   "execution_count": 141,
   "id": "b110e7ca-8e3d-428e-8872-d204daa6a7c1",
   "metadata": {},
   "outputs": [
    {
     "name": "stdout",
     "output_type": "stream",
     "text": [
      "Hello Abhi , how are you?\n"
     ]
    }
   ],
   "source": [
    "#F STRING\n",
    "name_2 = \"Abhi\"\n",
    "greetings = f\"Hello {name_2} , how are you?\"\n",
    "print(greetings)"
   ]
  },
  {
   "cell_type": "code",
   "execution_count": 142,
   "id": "98e65786-4d93-4d41-96cb-4ea65c9c302c",
   "metadata": {},
   "outputs": [
    {
     "name": "stdout",
     "output_type": "stream",
     "text": [
      "My course is AI + ML and its duration is 4 years.\n"
     ]
    }
   ],
   "source": [
    "course = \"AI + ML\"\n",
    "duration = 4\n",
    "print(f\"My course is {course} and its duration is {duration} years.\")"
   ]
  },
  {
   "cell_type": "code",
   "execution_count": 145,
   "id": "20ffbd20-e887-49af-a1ab-abaf20a2d38e",
   "metadata": {},
   "outputs": [
    {
     "name": "stdin",
     "output_type": "stream",
     "text": [
      "Enter your name : Abhijeet\n",
      "Enter your age : 21\n"
     ]
    },
    {
     "name": "stdout",
     "output_type": "stream",
     "text": [
      "My name is : Abhijeet and my age is : 21\n"
     ]
    }
   ],
   "source": [
    "my_name = input(\"Enter your name :\")\n",
    "my_age = input(\"Enter your age :\")\n",
    "print(f\"My name is : {my_name} and my age is : {my_age}\")"
   ]
  },
  {
   "cell_type": "code",
   "execution_count": 148,
   "id": "35de2bf0-abaf-4797-949d-c62cd379f1bc",
   "metadata": {},
   "outputs": [
    {
     "data": {
      "text/plain": [
       "True"
      ]
     },
     "execution_count": 148,
     "metadata": {},
     "output_type": "execute_result"
    }
   ],
   "source": [
    "str3 = \"Abhijeet\"\n",
    "str3.startswith(\"Abh\")"
   ]
  },
  {
   "cell_type": "code",
   "execution_count": 149,
   "id": "7a04a604-fde7-42c0-841a-54bf5eec5c4c",
   "metadata": {},
   "outputs": [
    {
     "data": {
      "text/plain": [
       "False"
      ]
     },
     "execution_count": 149,
     "metadata": {},
     "output_type": "execute_result"
    }
   ],
   "source": [
    "str3 = \"Abhijeet\"\n",
    "str3.startswith(\"b\")"
   ]
  },
  {
   "cell_type": "code",
   "execution_count": 158,
   "id": "d507d63e-8aee-4447-bdd6-5e2c4b412c1c",
   "metadata": {},
   "outputs": [
    {
     "name": "stdout",
     "output_type": "stream",
     "text": [
      "True\n"
     ]
    }
   ],
   "source": [
    "str4 = \"Abhijeet\"\n",
    "a = str4.lower()\n",
    "print(a.startswith(\"a\"))"
   ]
  },
  {
   "cell_type": "code",
   "execution_count": 2,
   "id": "e1770541-6c97-4058-9616-ed6e33eb6d55",
   "metadata": {},
   "outputs": [
    {
     "data": {
      "text/plain": [
       "True"
      ]
     },
     "execution_count": 2,
     "metadata": {},
     "output_type": "execute_result"
    }
   ],
   "source": [
    "word_1 =\"123\"\n",
    "word_1.isalnum()"
   ]
  },
  {
   "cell_type": "code",
   "execution_count": 3,
   "id": "f3c79a23-cb7d-485f-a458-4408ebf645c5",
   "metadata": {},
   "outputs": [
    {
     "data": {
      "text/plain": [
       "True"
      ]
     },
     "execution_count": 3,
     "metadata": {},
     "output_type": "execute_result"
    }
   ],
   "source": [
    "word_1 =\"123abc\"\n",
    "word_1.isalnum()"
   ]
  },
  {
   "cell_type": "code",
   "execution_count": 4,
   "id": "a40ae7ab-59ae-485e-ba1a-fd1755e61dc6",
   "metadata": {},
   "outputs": [
    {
     "data": {
      "text/plain": [
       "False"
      ]
     },
     "execution_count": 4,
     "metadata": {},
     "output_type": "execute_result"
    }
   ],
   "source": [
    "word_1 =\"@@@\"\n",
    "word_1.isalnum()"
   ]
  },
  {
   "cell_type": "code",
   "execution_count": 11,
   "id": "ba655ddd-ad48-42a9-b53f-46e30f252c51",
   "metadata": {},
   "outputs": [
    {
     "data": {
      "text/plain": [
       "14"
      ]
     },
     "execution_count": 11,
     "metadata": {},
     "output_type": "execute_result"
    }
   ],
   "source": [
    "word_2 = \"Abhijeet Kumar\"\n",
    "len(word_2)"
   ]
  },
  {
   "cell_type": "code",
   "execution_count": 12,
   "id": "11473a6d-0070-4f34-9116-cdf796da5c4c",
   "metadata": {},
   "outputs": [
    {
     "name": "stdout",
     "output_type": "stream",
     "text": [
      "A\n",
      "b\n",
      "h\n",
      "i\n",
      "j\n",
      "e\n",
      "e\n",
      "t\n",
      " \n",
      "K\n",
      "u\n",
      "m\n",
      "a\n",
      "r\n",
      "The total number of characters are : 14\n"
     ]
    }
   ],
   "source": [
    "count = 0\n",
    "for i in word_2:\n",
    "    print(i)\n",
    "    count += 1\n",
    "print(\"The total number of characters are :\" , count)"
   ]
  },
  {
   "cell_type": "code",
   "execution_count": null,
   "id": "eb493987-4e53-42e8-ac14-082b9ea6ffbd",
   "metadata": {},
   "outputs": [],
   "source": []
  }
 ],
 "metadata": {
  "kernelspec": {
   "display_name": "Python [conda env:base] *",
   "language": "python",
   "name": "conda-base-py"
  },
  "language_info": {
   "codemirror_mode": {
    "name": "ipython",
    "version": 3
   },
   "file_extension": ".py",
   "mimetype": "text/x-python",
   "name": "python",
   "nbconvert_exporter": "python",
   "pygments_lexer": "ipython3",
   "version": "3.13.5"
  }
 },
 "nbformat": 4,
 "nbformat_minor": 5
}
