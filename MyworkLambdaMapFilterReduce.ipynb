{
 "cells": [
  {
   "cell_type": "code",
   "execution_count": 10,
   "id": "a7733fea-8f87-43c9-b887-c1e0610fb991",
   "metadata": {},
   "outputs": [],
   "source": [
    "#LAMBDA FUNCTION >> anonymous function or short hand function\n",
    "#SYNTAX\n",
    "# lambda arguments : expression >> no need for return statement and def keyywords"
   ]
  },
  {
   "cell_type": "code",
   "execution_count": 89,
   "id": "9a0bdc42-6126-47da-b063-3134f9d922e8",
   "metadata": {},
   "outputs": [],
   "source": [
    "x = [1,2,3,4,5]\n",
    "def square(x):\n",
    "    sq = []\n",
    "    for i in x:\n",
    "        sq.append(i**2)\n",
    "    return sq"
   ]
  },
  {
   "cell_type": "code",
   "execution_count": 91,
   "id": "a4776e95-18bb-46c5-a746-a0036cf72cad",
   "metadata": {},
   "outputs": [
    {
     "data": {
      "text/plain": [
       "[1, 4, 9, 16, 25]"
      ]
     },
     "execution_count": 91,
     "metadata": {},
     "output_type": "execute_result"
    }
   ],
   "source": [
    "square(l)"
   ]
  },
  {
   "cell_type": "code",
   "execution_count": 4,
   "id": "a42b4165-a115-4fb3-94ee-b415d49e727c",
   "metadata": {},
   "outputs": [],
   "source": [
    "sq_lambda = lambda x: x**2"
   ]
  },
  {
   "cell_type": "code",
   "execution_count": 5,
   "id": "e6e86f35-8f15-433d-8b46-2074b3d363ba",
   "metadata": {},
   "outputs": [
    {
     "data": {
      "text/plain": [
       "4"
      ]
     },
     "execution_count": 5,
     "metadata": {},
     "output_type": "execute_result"
    }
   ],
   "source": [
    "sq_lambda(2)"
   ]
  },
  {
   "cell_type": "code",
   "execution_count": 6,
   "id": "ee7f9edd-78a9-48a3-8037-53e7caa7165f",
   "metadata": {},
   "outputs": [
    {
     "data": {
      "text/plain": [
       "36"
      ]
     },
     "execution_count": 6,
     "metadata": {},
     "output_type": "execute_result"
    }
   ],
   "source": [
    "sq_lambda(6)"
   ]
  },
  {
   "cell_type": "code",
   "execution_count": 8,
   "id": "f61c8298-12fe-4275-b51f-605afaf26af2",
   "metadata": {},
   "outputs": [],
   "source": [
    "add_lamda = lambda a,b : a+b"
   ]
  },
  {
   "cell_type": "code",
   "execution_count": 9,
   "id": "01f26fc4-acfe-4873-9294-b1c9284833f6",
   "metadata": {},
   "outputs": [
    {
     "data": {
      "text/plain": [
       "5"
      ]
     },
     "execution_count": 9,
     "metadata": {},
     "output_type": "execute_result"
    }
   ],
   "source": [
    "add_lamda(2,3)"
   ]
  },
  {
   "cell_type": "code",
   "execution_count": 11,
   "id": "36fd83b1-1f00-4aee-8113-a7a82a49549b",
   "metadata": {},
   "outputs": [],
   "source": [
    "is_even = lambda x: x % 2 == 0 "
   ]
  },
  {
   "cell_type": "code",
   "execution_count": 12,
   "id": "2c82a0d1-70d4-4ecf-9c05-338f27c6eb21",
   "metadata": {},
   "outputs": [
    {
     "data": {
      "text/plain": [
       "True"
      ]
     },
     "execution_count": 12,
     "metadata": {},
     "output_type": "execute_result"
    }
   ],
   "source": [
    "is_even(4)"
   ]
  },
  {
   "cell_type": "code",
   "execution_count": 13,
   "id": "056b06ab-6972-4f4f-99ed-e9c0ddd552ff",
   "metadata": {},
   "outputs": [
    {
     "data": {
      "text/plain": [
       "['Python', 'Data science', 'Abhi']"
      ]
     },
     "execution_count": 13,
     "metadata": {},
     "output_type": "execute_result"
    }
   ],
   "source": [
    "x = [\"Python\",\"Data science\",\"Abhi\"]\n",
    "x"
   ]
  },
  {
   "cell_type": "code",
   "execution_count": 16,
   "id": "871b4e07-b842-4532-bf9d-f98d67ef6f33",
   "metadata": {},
   "outputs": [
    {
     "data": {
      "text/plain": [
       "['Abhi', 'Data science', 'Python']"
      ]
     },
     "execution_count": 16,
     "metadata": {},
     "output_type": "execute_result"
    }
   ],
   "source": [
    "sorted(x)#By default based on alphabetical order in asc. order"
   ]
  },
  {
   "cell_type": "code",
   "execution_count": 18,
   "id": "30355a88-5e92-46f6-892b-b36db1259d63",
   "metadata": {},
   "outputs": [
    {
     "data": {
      "text/plain": [
       "4"
      ]
     },
     "execution_count": 18,
     "metadata": {},
     "output_type": "execute_result"
    }
   ],
   "source": [
    "#sort the list based on length of elements of list\n",
    "le = lambda x : len(x)\n",
    "le(\"Abhi\")"
   ]
  },
  {
   "cell_type": "code",
   "execution_count": 20,
   "id": "2af6e9a6-f7e1-4ed7-b349-0d382385aa8b",
   "metadata": {},
   "outputs": [
    {
     "data": {
      "text/plain": [
       "['Abhi', 'Python', 'Data science']"
      ]
     },
     "execution_count": 20,
     "metadata": {},
     "output_type": "execute_result"
    }
   ],
   "source": [
    "sorted(x, key = lambda x : len(x))"
   ]
  },
  {
   "cell_type": "code",
   "execution_count": 26,
   "id": "d77314fb-a9a8-4baf-8842-f2d1f373c9ad",
   "metadata": {},
   "outputs": [
    {
     "data": {
      "text/plain": [
       "[0, 1, 1, 2, 3]"
      ]
     },
     "execution_count": 26,
     "metadata": {},
     "output_type": "execute_result"
    }
   ],
   "source": [
    "#FIBONACCI\n",
    "fib = lambda n : n if n<=1 else fib(n-1) + fib(n-2)\n",
    "[fib(i) for i in range(5)]"
   ]
  },
  {
   "cell_type": "code",
   "execution_count": 28,
   "id": "e5974a5a-19cf-4c9d-b098-8239d0f07deb",
   "metadata": {},
   "outputs": [],
   "source": [
    "#FACTORIAL OF 5 >> 5*4*3*2*1\n",
    "def fact_num(n):\n",
    "    if n == 0:\n",
    "        return 1\n",
    "    else :\n",
    "        return n*fact_num(n-1)"
   ]
  },
  {
   "cell_type": "code",
   "execution_count": 29,
   "id": "58750263-4b55-42e3-bf70-9610a86b5026",
   "metadata": {},
   "outputs": [
    {
     "data": {
      "text/plain": [
       "120"
      ]
     },
     "execution_count": 29,
     "metadata": {},
     "output_type": "execute_result"
    }
   ],
   "source": [
    "fact_num(5)"
   ]
  },
  {
   "cell_type": "code",
   "execution_count": 38,
   "id": "863ecb86-076f-409a-bb6d-0e1428345006",
   "metadata": {},
   "outputs": [
    {
     "data": {
      "text/plain": [
       "120"
      ]
     },
     "execution_count": 38,
     "metadata": {},
     "output_type": "execute_result"
    }
   ],
   "source": [
    "fact = lambda n : 1 if n == 0 else n*fact(n-1) \n",
    "fact(5)"
   ]
  },
  {
   "cell_type": "code",
   "execution_count": 39,
   "id": "17c0aa19-de73-4737-88be-52a9229f1bea",
   "metadata": {},
   "outputs": [
    {
     "data": {
      "text/plain": [
       "120"
      ]
     },
     "execution_count": 39,
     "metadata": {},
     "output_type": "execute_result"
    }
   ],
   "source": [
    "fact(5)"
   ]
  },
  {
   "cell_type": "code",
   "execution_count": 43,
   "id": "1b194da1-755f-4e38-97e2-f68c9113a488",
   "metadata": {},
   "outputs": [
    {
     "data": {
      "text/plain": [
       "4"
      ]
     },
     "execution_count": 43,
     "metadata": {},
     "output_type": "execute_result"
    }
   ],
   "source": [
    "#TO DOUBLE ANY NUMBER\n",
    "double_it = lambda n : n+n\n",
    "double_it(2)"
   ]
  },
  {
   "cell_type": "code",
   "execution_count": 44,
   "id": "fe200765-3050-4ae6-ba96-d80061b307aa",
   "metadata": {},
   "outputs": [
    {
     "data": {
      "text/plain": [
       "20"
      ]
     },
     "execution_count": 44,
     "metadata": {},
     "output_type": "execute_result"
    }
   ],
   "source": [
    "double_it(10)"
   ]
  },
  {
   "cell_type": "code",
   "execution_count": 45,
   "id": "ab840582-4c04-415c-8885-ecdea05cd6d5",
   "metadata": {},
   "outputs": [],
   "source": [
    "#TO check if number is even or not\n",
    "check_even = lambda n : n%2 == 0"
   ]
  },
  {
   "cell_type": "code",
   "execution_count": 46,
   "id": "0c1eac56-85fe-4fed-9ddc-f42671d14b5f",
   "metadata": {},
   "outputs": [
    {
     "data": {
      "text/plain": [
       "True"
      ]
     },
     "execution_count": 46,
     "metadata": {},
     "output_type": "execute_result"
    }
   ],
   "source": [
    "check_even(4)"
   ]
  },
  {
   "cell_type": "code",
   "execution_count": 47,
   "id": "cba3bdbd-e228-4f53-be39-a08d96827063",
   "metadata": {},
   "outputs": [
    {
     "data": {
      "text/plain": [
       "False"
      ]
     },
     "execution_count": 47,
     "metadata": {},
     "output_type": "execute_result"
    }
   ],
   "source": [
    "check_even(5)"
   ]
  },
  {
   "cell_type": "code",
   "execution_count": 55,
   "id": "56857d4f-f4de-479c-8d97-cee377a180d8",
   "metadata": {},
   "outputs": [],
   "source": [
    "#SORTING BY ALPHABETS\n",
    "sort_words = lambda *n : sorted(n)"
   ]
  },
  {
   "cell_type": "code",
   "execution_count": 56,
   "id": "5b136631-3f6b-4ea9-a796-3e484042295a",
   "metadata": {},
   "outputs": [
    {
     "data": {
      "text/plain": [
       "['Abhijeet', 'Elephant', 'Horse']"
      ]
     },
     "execution_count": 56,
     "metadata": {},
     "output_type": "execute_result"
    }
   ],
   "source": [
    "sort_words(\"Abhijeet\",\"Horse\",\"Elephant\")"
   ]
  },
  {
   "cell_type": "code",
   "execution_count": 58,
   "id": "9b9699d2-d2d8-4ee3-ba9a-9aeff767d55a",
   "metadata": {},
   "outputs": [],
   "source": [
    "#SORTING BY LENGTH\n",
    "sort_words = sorted(x, key = lambda x : len(x))"
   ]
  },
  {
   "cell_type": "code",
   "execution_count": 67,
   "id": "5b5d95c8-f6c7-43d8-bd78-e257f8006baa",
   "metadata": {},
   "outputs": [],
   "source": [
    "x = [ \"Abhijeet\",\"Horse\",\"Elephant\" ]"
   ]
  },
  {
   "cell_type": "code",
   "execution_count": 75,
   "id": "ca9537f2-534b-4fe3-b024-5fe7f318aa07",
   "metadata": {},
   "outputs": [
    {
     "name": "stdout",
     "output_type": "stream",
     "text": [
      "['Ele', 'Horse', 'Abhijeet']\n"
     ]
    }
   ],
   "source": [
    "#SORTING BY LENGTH\n",
    "x = [ \"Abhijeet\",\"Horse\",\"Ele\" ]\n",
    "sort_words = sorted(x, key = lambda x : len(x))\n",
    "print(sort_words)"
   ]
  },
  {
   "cell_type": "code",
   "execution_count": 76,
   "id": "47df2261-20de-4f6e-bca6-cb217d09fb7e",
   "metadata": {},
   "outputs": [],
   "source": [
    "#MAP >>  executes a specified function for each of item of an iterable\n",
    "#SYNTAX >> map(func, *iterables)\n",
    "# SO >> IT TAKE ITERABLE VALUES AND CUSTOM FUNCTION AS AN INPUT AND "
   ]
  },
  {
   "cell_type": "code",
   "execution_count": 92,
   "id": "04127437-6679-4265-b20a-97e40f22acd6",
   "metadata": {},
   "outputs": [
    {
     "data": {
      "text/plain": [
       "<map at 0x2059ad45780>"
      ]
     },
     "execution_count": 92,
     "metadata": {},
     "output_type": "execute_result"
    }
   ],
   "source": [
    "l = [1,2,3,4,5]\n",
    "map(square, l)"
   ]
  },
  {
   "cell_type": "code",
   "execution_count": 93,
   "id": "8f120495-dcde-4f6f-a347-ea29f9c355ed",
   "metadata": {},
   "outputs": [],
   "source": [
    "def  sq(x):\n",
    "    return x**2"
   ]
  },
  {
   "cell_type": "code",
   "execution_count": 97,
   "id": "09bae85d-af63-4cee-b7fc-df41aac0e306",
   "metadata": {},
   "outputs": [
    {
     "data": {
      "text/plain": [
       "[1, 4, 9, 16, 25]"
      ]
     },
     "execution_count": 97,
     "metadata": {},
     "output_type": "execute_result"
    }
   ],
   "source": [
    "list(map(sq , l))"
   ]
  },
  {
   "cell_type": "code",
   "execution_count": 103,
   "id": "be70b7ae-2edf-4ec1-af73-f464194ae670",
   "metadata": {},
   "outputs": [],
   "source": [
    "def add_num(a):\n",
    "    return a+10"
   ]
  },
  {
   "cell_type": "code",
   "execution_count": 104,
   "id": "f00a16a9-43f2-4104-bafe-fec59f0cb4eb",
   "metadata": {},
   "outputs": [
    {
     "data": {
      "text/plain": [
       "[11, 12, 13, 14, 15]"
      ]
     },
     "execution_count": 104,
     "metadata": {},
     "output_type": "execute_result"
    }
   ],
   "source": [
    "list(map(add_num, l))"
   ]
  },
  {
   "cell_type": "code",
   "execution_count": 108,
   "id": "d18fb459-3db6-4ef6-8f95-b1e8997d649a",
   "metadata": {},
   "outputs": [
    {
     "data": {
      "text/plain": [
       "[1, 4, 9, 16, 25]"
      ]
     },
     "execution_count": 108,
     "metadata": {},
     "output_type": "execute_result"
    }
   ],
   "source": [
    "l = [1,2,3,4,5]\n",
    "#USING LAMBDA WITH MAP\n",
    "list(map(lambda x: x**2 , l))"
   ]
  },
  {
   "cell_type": "code",
   "execution_count": 109,
   "id": "84c2a0ef-6673-4f52-b61e-5903dc11cf29",
   "metadata": {},
   "outputs": [
    {
     "data": {
      "text/plain": [
       "[21, 22, 23, 24, 25]"
      ]
     },
     "execution_count": 109,
     "metadata": {},
     "output_type": "execute_result"
    }
   ],
   "source": [
    "list(map(lambda x: x+20 , l))"
   ]
  },
  {
   "cell_type": "code",
   "execution_count": 112,
   "id": "dcfc71de-5cfa-4acd-84de-3942445a3e93",
   "metadata": {},
   "outputs": [
    {
     "data": {
      "text/plain": [
       "[1, 2, 3]"
      ]
     },
     "execution_count": 112,
     "metadata": {},
     "output_type": "execute_result"
    }
   ],
   "source": [
    "l = [\"1\",\"2\",\"3\"]\n",
    "list(map(lambda x : int(x), l))"
   ]
  },
  {
   "cell_type": "code",
   "execution_count": 114,
   "id": "ac4e8dd9-049a-49a3-a9c6-160f5c63632a",
   "metadata": {},
   "outputs": [
    {
     "data": {
      "text/plain": [
       "[101, 202, 303, 404]"
      ]
     },
     "execution_count": 114,
     "metadata": {},
     "output_type": "execute_result"
    }
   ],
   "source": [
    "l1 = [100,200,300,400]\n",
    "l2 = [1,2,3,4]\n",
    "list(map(add_lamda, l1,l2)) "
   ]
  },
  {
   "cell_type": "code",
   "execution_count": 120,
   "id": "ddba012a-0cc1-4c77-bb27-639b2786bf5e",
   "metadata": {},
   "outputs": [
    {
     "data": {
      "text/plain": [
       "['A', 'B', 'H', 'I', 'J', 'E', 'E', 'T']"
      ]
     },
     "execution_count": 120,
     "metadata": {},
     "output_type": "execute_result"
    }
   ],
   "source": [
    "s = \"Abhijeet\"\n",
    "list(map(lambda x : x.upper(),s))"
   ]
  },
  {
   "cell_type": "code",
   "execution_count": 145,
   "id": "9a5adcfc-5c9f-49f8-a8a2-5f3c74d5d1aa",
   "metadata": {},
   "outputs": [
    {
     "data": {
      "text/plain": [
       "[['PYTHON'], ['ABHI']]"
      ]
     },
     "execution_count": 145,
     "metadata": {},
     "output_type": "execute_result"
    }
   ],
   "source": [
    "words = [ \"Python\" , \"Abhi\" ] \n",
    "list(map(to_uppercase , words))"
   ]
  },
  {
   "cell_type": "code",
   "execution_count": 143,
   "id": "30a2eb5a-3299-4b39-bce7-25cb2c569682",
   "metadata": {},
   "outputs": [],
   "source": [
    "def to_uppercase(*args):\n",
    "    return [word.upper() for word in args]"
   ]
  },
  {
   "cell_type": "code",
   "execution_count": 144,
   "id": "30130aa0-22da-46e8-a38a-a2d38f9edc40",
   "metadata": {},
   "outputs": [
    {
     "name": "stdout",
     "output_type": "stream",
     "text": [
      "['ABHIJEET', 'ABHI']\n"
     ]
    }
   ],
   "source": [
    "print(to_uppercase(\"Abhijeet\",\"Abhi\"))"
   ]
  },
  {
   "cell_type": "code",
   "execution_count": 146,
   "id": "5f8b5059-8176-44af-9107-da34aebbd914",
   "metadata": {},
   "outputs": [],
   "source": [
    "def to_capitalize(*args):\n",
    "    return[word.capitalize() for word in args]"
   ]
  },
  {
   "cell_type": "code",
   "execution_count": 147,
   "id": "68324117-a720-44cf-ba62-9c8e7ce6c609",
   "metadata": {},
   "outputs": [
    {
     "data": {
      "text/plain": [
       "[['Python'], ['Abhi']]"
      ]
     },
     "execution_count": 147,
     "metadata": {},
     "output_type": "execute_result"
    }
   ],
   "source": [
    "list(map(to_capitalize , words))"
   ]
  },
  {
   "cell_type": "code",
   "execution_count": 186,
   "id": "c66a0c3c-0eb6-48b5-aca0-001e2d7d0f98",
   "metadata": {},
   "outputs": [],
   "source": [
    "def to_cgpa(*args):\n",
    "    grades = [] \n",
    "    for i in args:\n",
    "        if i.upper() == \"A\":\n",
    "            grade = 4\n",
    "        elif i.upper() == \"B\":\n",
    "            grade = 3\n",
    "        elif i.upper() == \"C\":\n",
    "            grade = 2\n",
    "        else:\n",
    "            grade = 1\n",
    "        grades.append(grade)\n",
    "    return grades"
   ]
  },
  {
   "cell_type": "code",
   "execution_count": 194,
   "id": "ce0468e0-bef6-4a49-af95-5286027c26f8",
   "metadata": {},
   "outputs": [
    {
     "data": {
      "text/plain": [
       "[4, 1, 2, 3]"
      ]
     },
     "execution_count": 194,
     "metadata": {},
     "output_type": "execute_result"
    }
   ],
   "source": [
    "to_cgpa(\"a\",\"D\",\"c\",\"B\")"
   ]
  },
  {
   "cell_type": "code",
   "execution_count": 192,
   "id": "72eae48b-a5cf-4ccc-8c50-5a2aacfbd2ce",
   "metadata": {},
   "outputs": [
    {
     "data": {
      "text/plain": [
       "[[4], [3], [2], [1]]"
      ]
     },
     "execution_count": 192,
     "metadata": {},
     "output_type": "execute_result"
    }
   ],
   "source": [
    "list(map(to_cgpa , score ))"
   ]
  },
  {
   "cell_type": "code",
   "execution_count": 193,
   "id": "ce7dad51-850d-4cff-a6fc-5d4b8f8a6cbc",
   "metadata": {},
   "outputs": [],
   "source": [
    "score = (\"A\",\"b\",\"c\",\"D\")"
   ]
  },
  {
   "cell_type": "code",
   "execution_count": 203,
   "id": "138e2432-56f7-4b26-9e81-9516b4cd3009",
   "metadata": {},
   "outputs": [],
   "source": [
    "#reduce >> folding or reduction \n",
    "#Not a python function so we have to import it from -----from functools import reduce\n",
    "#SYNTAX >> reduce(func , iterable)\n",
    "#REDUCE WILL ALWAYS TAKE 2 ARGUMENTS FUNCTIONS"
   ]
  },
  {
   "cell_type": "code",
   "execution_count": 196,
   "id": "bb297953-260d-411a-8145-71d18e361627",
   "metadata": {},
   "outputs": [],
   "source": [
    "from functools import reduce"
   ]
  },
  {
   "cell_type": "code",
   "execution_count": 219,
   "id": "43bb1245-4f1f-449c-adce-63fd2f820f14",
   "metadata": {},
   "outputs": [
    {
     "data": {
      "text/plain": [
       "30"
      ]
     },
     "execution_count": 219,
     "metadata": {},
     "output_type": "execute_result"
    }
   ],
   "source": [
    "l = [2,1,3,4,4,5,6,5]\n",
    "reduce(add_lamda , l)"
   ]
  },
  {
   "cell_type": "code",
   "execution_count": 199,
   "id": "84fb4c26-3bc6-4c48-8d91-ad11e10cb753",
   "metadata": {},
   "outputs": [],
   "source": [
    "sub_lambda = lambda x,y : x-y"
   ]
  },
  {
   "cell_type": "code",
   "execution_count": 200,
   "id": "58e40ade-04e0-413f-8f63-da06b0984548",
   "metadata": {},
   "outputs": [
    {
     "data": {
      "text/plain": [
       "1"
      ]
     },
     "execution_count": 200,
     "metadata": {},
     "output_type": "execute_result"
    }
   ],
   "source": [
    "sub_lambda(6,5)"
   ]
  },
  {
   "cell_type": "code",
   "execution_count": 202,
   "id": "fa622f24-f737-4f31-bed6-52ee2cfb7854",
   "metadata": {},
   "outputs": [
    {
     "data": {
      "text/plain": [
       "-26"
      ]
     },
     "execution_count": 202,
     "metadata": {},
     "output_type": "execute_result"
    }
   ],
   "source": [
    "l = [2,1,3,4,4,5,6,5]\n",
    "reduce(sub_lambda , l)"
   ]
  },
  {
   "cell_type": "code",
   "execution_count": 207,
   "id": "65d2ccb8-4910-43c6-8465-3df5cb7eaf36",
   "metadata": {},
   "outputs": [],
   "source": [
    "multiply_num = lambda x,y : x*y\n",
    "l = [2,3]"
   ]
  },
  {
   "cell_type": "code",
   "execution_count": 208,
   "id": "361cfad2-e396-4b1c-baf0-78df3cbdc4d1",
   "metadata": {},
   "outputs": [
    {
     "data": {
      "text/plain": [
       "6"
      ]
     },
     "execution_count": 208,
     "metadata": {},
     "output_type": "execute_result"
    }
   ],
   "source": [
    "reduce(multiply_num, l)"
   ]
  },
  {
   "cell_type": "code",
   "execution_count": 209,
   "id": "9ec204bb-87ba-4e0b-be90-87d5b35bda1a",
   "metadata": {},
   "outputs": [
    {
     "data": {
      "text/plain": [
       "'Data Science courses'"
      ]
     },
     "execution_count": 209,
     "metadata": {},
     "output_type": "execute_result"
    }
   ],
   "source": [
    "words = [\"Data\",\"Science\",\"courses\"]\n",
    "reduce(lambda x,y : x+ \" \" +y,words)"
   ]
  },
  {
   "cell_type": "code",
   "execution_count": 210,
   "id": "a572720b-78c2-49ef-889e-f2e792801733",
   "metadata": {},
   "outputs": [],
   "source": [
    "to_merge = lambda x,y : x+\" \"+y"
   ]
  },
  {
   "cell_type": "code",
   "execution_count": 211,
   "id": "0731cdd4-8dca-455f-9cb8-343ac7da7cc5",
   "metadata": {},
   "outputs": [
    {
     "data": {
      "text/plain": [
       "'Data Science courses'"
      ]
     },
     "execution_count": 211,
     "metadata": {},
     "output_type": "execute_result"
    }
   ],
   "source": [
    "reduce(to_merge , words)"
   ]
  },
  {
   "cell_type": "code",
   "execution_count": 212,
   "id": "d23200a4-1dda-44d1-9b26-ee10b1d6d634",
   "metadata": {},
   "outputs": [
    {
     "data": {
      "text/plain": [
       "10000"
      ]
     },
     "execution_count": 212,
     "metadata": {},
     "output_type": "execute_result"
    }
   ],
   "source": [
    "numbers = [1,2,3,4,5,100,1000,6,10000]\n",
    "reduce(lambda x,y : x if x > y else y , numbers)"
   ]
  },
  {
   "cell_type": "code",
   "execution_count": 213,
   "id": "d5753d04-f209-4cc3-8fae-2d04ec381e47",
   "metadata": {},
   "outputs": [],
   "source": [
    "def factorial(n):\n",
    "    return reduce(lambda  x,y: x*y , range (1,n+1))"
   ]
  },
  {
   "cell_type": "code",
   "execution_count": 214,
   "id": "8d5347dd-2d48-401b-bc15-fe0582488556",
   "metadata": {},
   "outputs": [
    {
     "data": {
      "text/plain": [
       "120"
      ]
     },
     "execution_count": 214,
     "metadata": {},
     "output_type": "execute_result"
    }
   ],
   "source": [
    "factorial(5)"
   ]
  },
  {
   "cell_type": "code",
   "execution_count": 215,
   "id": "4a59173d-bb39-4286-8402-a29fb60c8938",
   "metadata": {},
   "outputs": [],
   "source": [
    "def fact(n):\n",
    "    return reduce(lambda x,y : x*y , range (1,n+1))"
   ]
  },
  {
   "cell_type": "code",
   "execution_count": 216,
   "id": "e7770127-f57e-4749-8dea-f9fa99491892",
   "metadata": {},
   "outputs": [
    {
     "data": {
      "text/plain": [
       "120"
      ]
     },
     "execution_count": 216,
     "metadata": {},
     "output_type": "execute_result"
    }
   ],
   "source": [
    "fact(5)"
   ]
  },
  {
   "cell_type": "code",
   "execution_count": 217,
   "id": "dc20e816-ee1a-4a7d-9e26-005623fbd5b8",
   "metadata": {},
   "outputs": [],
   "source": [
    "#FILTER FUNCTION >> USED TO FILTER ELEMETS FROM AN ITERABLE BASED ON SOME CONDITION\n",
    "#SYNTAX>> filter(funnction , iterable)"
   ]
  },
  {
   "cell_type": "code",
   "execution_count": 220,
   "id": "dc977f6e-ee42-4d1f-95cc-85acddbcf962",
   "metadata": {},
   "outputs": [
    {
     "data": {
      "text/plain": [
       "[2, 1, 3, 4, 4, 5, 6, 5]"
      ]
     },
     "execution_count": 220,
     "metadata": {},
     "output_type": "execute_result"
    }
   ],
   "source": [
    "l"
   ]
  },
  {
   "cell_type": "code",
   "execution_count": 224,
   "id": "48bf3f44-b84a-43d0-8385-f6e2bf78a075",
   "metadata": {},
   "outputs": [
    {
     "data": {
      "text/plain": [
       "[1, 3, 5, 5]"
      ]
     },
     "execution_count": 224,
     "metadata": {},
     "output_type": "execute_result"
    }
   ],
   "source": [
    "list(filter(lambda x: x%2 != 0 ,l))"
   ]
  },
  {
   "cell_type": "code",
   "execution_count": 225,
   "id": "bd12a8ce-6bb8-4433-bf70-3babf08c11c3",
   "metadata": {},
   "outputs": [
    {
     "data": {
      "text/plain": [
       "[2, 4, 4, 6]"
      ]
     },
     "execution_count": 225,
     "metadata": {},
     "output_type": "execute_result"
    }
   ],
   "source": [
    "list(filter(lambda x: x%2 == 0 ,l))"
   ]
  },
  {
   "cell_type": "code",
   "execution_count": 235,
   "id": "cf420f09-57e0-40fe-a1b7-5fe7d945d6a6",
   "metadata": {},
   "outputs": [
    {
     "data": {
      "text/plain": [
       "[-1, -34, -5, -2, -99]"
      ]
     },
     "execution_count": 235,
     "metadata": {},
     "output_type": "execute_result"
    }
   ],
   "source": [
    "l1 = [-1,-34,-5,6,7,-2,10,-99]\n",
    "list(filter(lambda x : x if x < 0 else 0, l1))"
   ]
  },
  {
   "cell_type": "code",
   "execution_count": 236,
   "id": "87328387-ff03-40ba-9dc1-afc45fddd1f4",
   "metadata": {},
   "outputs": [
    {
     "data": {
      "text/plain": [
       "[6, 7, 10]"
      ]
     },
     "execution_count": 236,
     "metadata": {},
     "output_type": "execute_result"
    }
   ],
   "source": [
    "l1 = [-1,-34,-5,6,7,-2,10,-99]\n",
    "list(filter(lambda x : x if x > 0 else 0, l1))"
   ]
  },
  {
   "cell_type": "code",
   "execution_count": 240,
   "id": "cd6ff206-080a-4cd9-85d8-9462113be306",
   "metadata": {},
   "outputs": [
    {
     "data": {
      "text/plain": [
       "['Abhijeet']"
      ]
     },
     "execution_count": 240,
     "metadata": {},
     "output_type": "execute_result"
    }
   ],
   "source": [
    "s = [\"Abhi\",\"Abhijeet\",\"Data\"]\n",
    "list(filter(lambda x : x if len(x) > 4 else 0 , s))"
   ]
  },
  {
   "cell_type": "code",
   "execution_count": 241,
   "id": "4e52d120-e0f3-4bb8-912e-1e7e2002e9fd",
   "metadata": {},
   "outputs": [
    {
     "data": {
      "text/plain": [
       "[-34, 6, -2, 10]"
      ]
     },
     "execution_count": 241,
     "metadata": {},
     "output_type": "execute_result"
    }
   ],
   "source": [
    "list(filter(check_even , l1))"
   ]
  },
  {
   "cell_type": "code",
   "execution_count": 242,
   "id": "a82db275-8f0d-48da-9bc1-d3b517d24106",
   "metadata": {},
   "outputs": [],
   "source": [
    "def only_even(n):\n",
    "    if n% 2 == 0:\n",
    "        return True\n",
    "    else:\n",
    "        return False"
   ]
  },
  {
   "cell_type": "code",
   "execution_count": 243,
   "id": "42e89d90-0cec-4b54-9f91-a53a1cc8c79a",
   "metadata": {},
   "outputs": [
    {
     "data": {
      "text/plain": [
       "True"
      ]
     },
     "execution_count": 243,
     "metadata": {},
     "output_type": "execute_result"
    }
   ],
   "source": [
    "only_even(100)"
   ]
  },
  {
   "cell_type": "code",
   "execution_count": 246,
   "id": "0f7f49d6-d3b0-48c5-88dc-6012a46e4a2d",
   "metadata": {},
   "outputs": [
    {
     "data": {
      "text/plain": [
       "[2, 4, 6, 6]"
      ]
     },
     "execution_count": 246,
     "metadata": {},
     "output_type": "execute_result"
    }
   ],
   "source": [
    "n = [1,2,3,4,5,6,6,7]\n",
    "list(filter(only_even , n ))"
   ]
  },
  {
   "cell_type": "code",
   "execution_count": 247,
   "id": "51c99d37-7cae-4293-8e52-bad533dfb810",
   "metadata": {},
   "outputs": [
    {
     "data": {
      "text/plain": [
       "['tiger', 'elephant']"
      ]
     },
     "execution_count": 247,
     "metadata": {},
     "output_type": "execute_result"
    }
   ],
   "source": [
    "words = [\"cat\", \"tiger\", \"lion\", \"elephant\", \"rat\"]\n",
    "list(filter(lambda x: x if len(x)>4 else 0 , words))"
   ]
  },
  {
   "cell_type": "code",
   "execution_count": 255,
   "id": "2f45525b-a2b9-4913-baf3-cecc9e5c74f0",
   "metadata": {},
   "outputs": [
    {
     "data": {
      "text/plain": [
       "['Bob', 'Charlie']"
      ]
     },
     "execution_count": 255,
     "metadata": {},
     "output_type": "execute_result"
    }
   ],
   "source": [
    "names = [\"Alice\", \"Eve\", \"Oscar\", \"Bob\", \"Uma\", \"Charlie\"]\n",
    "list(filter(lambda x : x if x[0].upper() not in ('A','E','I','O','U') else 0 , names))"
   ]
  },
  {
   "cell_type": "code",
   "execution_count": 256,
   "id": "89f1ae76-c636-4fc2-9d0e-8c2399ce8c15",
   "metadata": {},
   "outputs": [
    {
     "data": {
      "text/plain": [
       "[3, 9, 12, 15]"
      ]
     },
     "execution_count": 256,
     "metadata": {},
     "output_type": "execute_result"
    }
   ],
   "source": [
    "numbers = [3, 7, 9, 10, 12, 14, 15]\n",
    "list(filter(lambda x : x if x%3 == 0 else 0, numbers))"
   ]
  },
  {
   "cell_type": "code",
   "execution_count": 262,
   "id": "0d039746-b053-4413-84ef-878d0d87b41c",
   "metadata": {},
   "outputs": [
    {
     "data": {
      "text/plain": [
       "['madam', 'Racecar', 'level']"
      ]
     },
     "execution_count": 262,
     "metadata": {},
     "output_type": "execute_result"
    }
   ],
   "source": [
    "words = [\"madam\", \"Racecar\", \"apple\", \"level\", \"banana\"]\n",
    "list(filter(lambda x : x if x.upper() == x.upper()[::-1] else 0 , words))"
   ]
  },
  {
   "cell_type": "code",
   "execution_count": null,
   "id": "88a59f4a-23b5-4ef0-be82-74f9397441ec",
   "metadata": {},
   "outputs": [],
   "source": [
    "ages = [12, 17, 18, 21, 14, 30]\n",
    "filter(lambda x : x if x >= 18 else 0 , )"
   ]
  }
 ],
 "metadata": {
  "kernelspec": {
   "display_name": "Python [conda env:base] *",
   "language": "python",
   "name": "conda-base-py"
  },
  "language_info": {
   "codemirror_mode": {
    "name": "ipython",
    "version": 3
   },
   "file_extension": ".py",
   "mimetype": "text/x-python",
   "name": "python",
   "nbconvert_exporter": "python",
   "pygments_lexer": "ipython3",
   "version": "3.13.5"
  }
 },
 "nbformat": 4,
 "nbformat_minor": 5
}
