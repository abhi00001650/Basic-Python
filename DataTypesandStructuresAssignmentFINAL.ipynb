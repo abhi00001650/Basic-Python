{
  "nbformat": 4,
  "nbformat_minor": 0,
  "metadata": {
    "colab": {
      "provenance": []
    },
    "kernelspec": {
      "name": "python3",
      "display_name": "Python 3"
    },
    "language_info": {
      "name": "python"
    }
  },
  "cells": [
    {
      "cell_type": "markdown",
      "source": [
        "#DATA TYPE AND STRUCTURES ASSIGNMENT\n",
        "#**THEORY** **QUESTIONS**"
      ],
      "metadata": {
        "id": "x5hu-DzsqLsk"
      }
    },
    {
      "cell_type": "markdown",
      "source": [
        "1)What are data structures, and why are they important?\n",
        "- Data Structures are ways of organising and storing data. They are important as they are very efficient if you want to access or modify stored data."
      ],
      "metadata": {
        "id": "KjzxDUssqMss"
      }
    },
    {
      "cell_type": "markdown",
      "source": [
        "2) Explain the difference between mutable and immutable data types with examples?\n",
        "- Datatypes that can be modified are mutable whereas datatypes that cannot  be modified are immutable . Examples:- Mutable datatypes - LIST,DICT ; Immutable datatypes - Tuple"
      ],
      "metadata": {
        "id": "bwTPSiNNqMvM"
      }
    },
    {
      "cell_type": "markdown",
      "source": [
        "3) What are the main differences between lists and tuples in Python?\n",
        "\n",
        "- LISTS: Lists are mutable  and can be modified . TUPLE: Tuple are immutable and cannot be modifed."
      ],
      "metadata": {
        "id": "D2heI6XDqb-s"
      }
    },
    {
      "cell_type": "markdown",
      "source": [
        "4) Describe how dictionaries store data?\n",
        "- They store data in the form of key and value pairs using hashing . They are unordered so indexes dont work here and you use keys to access the data. Example - \"Course\" : \"Artificial Intelligence\""
      ],
      "metadata": {
        "id": "k-26IFNFqMxy"
      }
    },
    {
      "cell_type": "markdown",
      "source": [
        "5)  Why might you use a set instead of a list in Python?\n",
        "- SETS - They are used to store the unique values and are used for fast membership checking.\n",
        "Example: s= {1,2,3,3,2,1}\n",
        "         print(s)\n",
        "Output = {1,2,3}"
      ],
      "metadata": {
        "id": "DNyw-UJbqM2c"
      }
    },
    {
      "cell_type": "markdown",
      "source": [
        "6) What is a string in Python, and how is it different from a list?\n",
        "- String - Strings are sequence of characters( immutable ) .\n",
        "  Lists - List are sequence of elements (Mutable and can store any datatype)."
      ],
      "metadata": {
        "id": "ZZaRtmJqqM49"
      }
    },
    {
      "cell_type": "markdown",
      "source": [
        "7)How do tuples ensure data integrity in Python?\n",
        "- They are immutable so we cannot alter the data stored in tuple , which ensures data integrity."
      ],
      "metadata": {
        "id": "UpBfulSfqM9o"
      }
    },
    {
      "cell_type": "markdown",
      "source": [
        "8) What is a hash table, and how does it relate to dictionaries in Python?\n",
        "- It stores data using hash functions. Python Dictionaries are built on hash tables."
      ],
      "metadata": {
        "id": "wjUSx53EqM_9"
      }
    },
    {
      "cell_type": "markdown",
      "source": [
        "9) Can lists contain different data types in Python?\n",
        "- Yes, list can contain different incuding other lists . They are like the shopping bag ."
      ],
      "metadata": {
        "id": "B8WZHPu5qNDI"
      }
    },
    {
      "cell_type": "markdown",
      "source": [
        "10) Explain why strings are immutable in Python?\n",
        "- Strings are immutable to improve memory efficiency and security."
      ],
      "metadata": {
        "id": "irE-LgdTqNFN"
      }
    },
    {
      "cell_type": "markdown",
      "source": [
        "11) What advantages do dictionaries offer over lists for certain tasks?\n",
        "- Dictionaries allow fast lookup by keys , whereas lists need index ."
      ],
      "metadata": {
        "id": "GGBjaHK3qNHO"
      }
    },
    {
      "cell_type": "markdown",
      "source": [
        "12)  Describe a scenario where using a tuple would be preferable over a list?\n",
        "- When you dont have to modify the data we use Tuple as they are immutable unlike list . Example: storing co-ordinates (x,y)"
      ],
      "metadata": {
        "id": "8idxdJjEqNKk"
      }
    },
    {
      "cell_type": "markdown",
      "source": [
        "13) How do sets handle duplicate values in Python?\n",
        "- Sets automatically removes the duplicate data and stores only unique values.\n",
        "Example: s= {1,2,3,3,2,1}\n",
        "         print(s)\n",
        "Output = {1,2,3}"
      ],
      "metadata": {
        "id": "X-Hq9AqVrNiy"
      }
    },
    {
      "cell_type": "markdown",
      "source": [
        "14) How does the “in” keyword work differently for lists and dictionaries?\n",
        "Lists - They check elements stored in list\n",
        "Dictionary -  They check keys"
      ],
      "metadata": {
        "id": "HQMppe_xrS8b"
      }
    },
    {
      "cell_type": "markdown",
      "source": [
        "15) Can you modify the elements of a tuple? Explain why or why not?\n",
        "- We cannot modify elememts stored in a tuple as they are immutable ."
      ],
      "metadata": {
        "id": "UijRIRGcrZme"
      }
    },
    {
      "cell_type": "markdown",
      "source": [
        "16) What is a nested dictionary, and give an example of its use case?\n",
        "- A nested dicitonary is a dictionary stored inside another dictionary .\n",
        "my_dict= {\"name\" : [\"Abhi\",\"Abhay\",\"Adi\"]}"
      ],
      "metadata": {
        "id": "2QjmM4tDrbe0"
      }
    },
    {
      "cell_type": "markdown",
      "source": [
        "17) Describe the time complexity of accessing elements in a dictionary?\n",
        "- Accessing elements in a dictionary is on average 0 which means it has very fast element retrieval"
      ],
      "metadata": {
        "id": "g8qtsVdSrdQM"
      }
    },
    {
      "cell_type": "markdown",
      "source": [
        "18) In what situations are lists preferred over dictionaries?\n",
        "- Lists are used when order matters and data can be duplicate or we have to access the data  in sequence."
      ],
      "metadata": {
        "id": "U-esrnoBrfU6"
      }
    },
    {
      "cell_type": "markdown",
      "source": [
        "19) Why are dictionaries considered unordered, and how does that affect data retrieval?\n",
        "- They are considered unordered as keys are stored by hash not index . It has a effect as we can retrieve the data by keys and not index."
      ],
      "metadata": {
        "id": "DfFALvCUrjMT"
      }
    },
    {
      "cell_type": "markdown",
      "source": [
        "20 ) Explain the difference between a list and a dictionary in terms of data retrieval?\n",
        "- List - Retrieve the data by index.\n",
        "  Dictionary -  Retrieve data by key."
      ],
      "metadata": {
        "id": "ClQ-noTOrk-Q"
      }
    },
    {
      "cell_type": "markdown",
      "source": [
        "#**PRACTICAL** **QUESTION**"
      ],
      "metadata": {
        "id": "zFKjFgjjroFM"
      }
    },
    {
      "cell_type": "code",
      "source": [
        "#1) Write a code to create a string with your name and print it\n",
        "name = \"Abhi\"\n",
        "print(name)"
      ],
      "metadata": {
        "colab": {
          "base_uri": "https://localhost:8080/"
        },
        "id": "hkG4gPI6rsk2",
        "outputId": "ad54ec9d-516e-4185-ee7a-999ff0a49593"
      },
      "execution_count": 1,
      "outputs": [
        {
          "output_type": "stream",
          "name": "stdout",
          "text": [
            "Abhi\n"
          ]
        }
      ]
    },
    {
      "cell_type": "code",
      "source": [
        "#2) Write a code to find the length of the string \"Hello World\"\n",
        "String1 = \"Hello World\"\n",
        "print(len(String1))"
      ],
      "metadata": {
        "colab": {
          "base_uri": "https://localhost:8080/"
        },
        "id": "As9idkmZr1Zm",
        "outputId": "3419da18-2736-433a-e9c1-3afc2b720a4e"
      },
      "execution_count": 2,
      "outputs": [
        {
          "output_type": "stream",
          "name": "stdout",
          "text": [
            "11\n"
          ]
        }
      ]
    },
    {
      "cell_type": "code",
      "source": [
        "#3) Write a code to slice the first 3 characters from the string \"Python Programming\"\n",
        "String2 = \"Python Programming\"\n",
        "print(String2[0:3])"
      ],
      "metadata": {
        "colab": {
          "base_uri": "https://localhost:8080/"
        },
        "id": "mihoUPIRr7Xy",
        "outputId": "2a20be7e-defa-4876-c7f2-2c1deb078191"
      },
      "execution_count": 3,
      "outputs": [
        {
          "output_type": "stream",
          "name": "stdout",
          "text": [
            "Pyt\n"
          ]
        }
      ]
    },
    {
      "cell_type": "code",
      "source": [
        "#4) Write a code to convert the string \"hello\" to uppercase\n",
        "String3 = \"hello\"\n",
        "print(String3.upper())"
      ],
      "metadata": {
        "colab": {
          "base_uri": "https://localhost:8080/"
        },
        "id": "iOLf08GJr79S",
        "outputId": "6810caf5-1eb7-4c3d-d67e-37298bc4b452"
      },
      "execution_count": 4,
      "outputs": [
        {
          "output_type": "stream",
          "name": "stdout",
          "text": [
            "HELLO\n"
          ]
        }
      ]
    },
    {
      "cell_type": "code",
      "source": [
        "#5)  Write a code to replace the word \"apple\" with \"orange\" in the string \"I like apple\n",
        "fruit1 = \"I Like Apple\"\n",
        "print(fruit1.replace(\"Apple\",\"Orange\"))"
      ],
      "metadata": {
        "colab": {
          "base_uri": "https://localhost:8080/"
        },
        "id": "LCzAOXFSr-g3",
        "outputId": "a5d3eb03-e463-4ec4-87a7-5e460325a55b"
      },
      "execution_count": 5,
      "outputs": [
        {
          "output_type": "stream",
          "name": "stdout",
          "text": [
            "I Like Orange\n"
          ]
        }
      ]
    },
    {
      "cell_type": "code",
      "source": [
        "#6) Write a code to create a list with numbers 1 to 5 and print it\n",
        "list1 = [1,2,3,4,5]\n",
        "print(list1)"
      ],
      "metadata": {
        "colab": {
          "base_uri": "https://localhost:8080/"
        },
        "id": "aBiutq5Yr_5y",
        "outputId": "ccbe0e48-82aa-4a5c-d46f-ae1be4b6a5f5"
      },
      "execution_count": 6,
      "outputs": [
        {
          "output_type": "stream",
          "name": "stdout",
          "text": [
            "[1, 2, 3, 4, 5]\n"
          ]
        }
      ]
    },
    {
      "cell_type": "code",
      "source": [
        "#7) Write a code to append the number 10 to the list [1, 2, 3, 4]\n",
        "list2 = [1,2,3,4]\n",
        "list2.append(10)\n",
        "print(list2)"
      ],
      "metadata": {
        "colab": {
          "base_uri": "https://localhost:8080/"
        },
        "id": "0tKD1cMHsCBQ",
        "outputId": "f966c55f-7c65-449b-f34b-0b7e81de2d79"
      },
      "execution_count": 7,
      "outputs": [
        {
          "output_type": "stream",
          "name": "stdout",
          "text": [
            "[1, 2, 3, 4, 10]\n"
          ]
        }
      ]
    },
    {
      "cell_type": "code",
      "source": [
        "#8) Write a code to remove the number 3 from the list [1, 2, 3, 4, 5]\n",
        "list3 = [1,2,3,4,5]\n",
        "list3.remove(3)\n",
        "print(list3)"
      ],
      "metadata": {
        "colab": {
          "base_uri": "https://localhost:8080/"
        },
        "id": "QXZzqUNhsEVJ",
        "outputId": "ab68c471-1b47-4bee-ff0c-df75f495cae7"
      },
      "execution_count": 8,
      "outputs": [
        {
          "output_type": "stream",
          "name": "stdout",
          "text": [
            "[1, 2, 4, 5]\n"
          ]
        }
      ]
    },
    {
      "cell_type": "code",
      "source": [
        "#9 Write a code to access the second element in the list ['a', 'b', 'c', 'd']\n",
        "list4 = [\"a\", \"b\", \"c\", \"d\"]\n",
        "print(list4[1])"
      ],
      "metadata": {
        "colab": {
          "base_uri": "https://localhost:8080/"
        },
        "id": "vD-VOHKLsTOj",
        "outputId": "e38af080-3b42-400a-9615-317a644a652d"
      },
      "execution_count": 9,
      "outputs": [
        {
          "output_type": "stream",
          "name": "stdout",
          "text": [
            "b\n"
          ]
        }
      ]
    },
    {
      "cell_type": "code",
      "source": [
        "#10 Write a code to reverse the list [10, 20, 30, 40, 50].\n",
        "list5 = [10,20,30,40,50]\n",
        "print(list5[::-1])"
      ],
      "metadata": {
        "colab": {
          "base_uri": "https://localhost:8080/"
        },
        "id": "vg1Ho7VesR0v",
        "outputId": "d8aa9414-8827-42d5-b216-b7ccaa272103"
      },
      "execution_count": 10,
      "outputs": [
        {
          "output_type": "stream",
          "name": "stdout",
          "text": [
            "[50, 40, 30, 20, 10]\n"
          ]
        }
      ]
    },
    {
      "cell_type": "code",
      "source": [
        "#11  Write a code to create a tuple with the elements 100, 200, 300 and print it.\n",
        "t1 = (100,200,300)\n",
        "print(t1)"
      ],
      "metadata": {
        "colab": {
          "base_uri": "https://localhost:8080/"
        },
        "id": "0KluONmesV1P",
        "outputId": "bcfbe229-bab8-423e-b7b3-c0af76bf8603"
      },
      "execution_count": 11,
      "outputs": [
        {
          "output_type": "stream",
          "name": "stdout",
          "text": [
            "(100, 200, 300)\n"
          ]
        }
      ]
    },
    {
      "cell_type": "code",
      "source": [
        "#12 Write a code to access the second-to-last element of the tuple ('red', 'green', 'blue', 'yellow').\n",
        "colours = ('red', 'green', 'blue', 'yellow')\n",
        "print(colours[-2])"
      ],
      "metadata": {
        "colab": {
          "base_uri": "https://localhost:8080/"
        },
        "id": "CRpsENtssYrU",
        "outputId": "e456846e-e107-4d21-fcd3-212173b0bf99"
      },
      "execution_count": 12,
      "outputs": [
        {
          "output_type": "stream",
          "name": "stdout",
          "text": [
            "blue\n"
          ]
        }
      ]
    },
    {
      "cell_type": "code",
      "source": [
        "#13  Write a code to find the minimum number in the tuple (10, 20, 5, 15).\n",
        "t2 = (10,20,5,15)\n",
        "print(min(t2))"
      ],
      "metadata": {
        "colab": {
          "base_uri": "https://localhost:8080/"
        },
        "id": "anJz1YKqsaNT",
        "outputId": "755a6b5e-aa97-4ba3-eead-afdd3cc094e7"
      },
      "execution_count": 13,
      "outputs": [
        {
          "output_type": "stream",
          "name": "stdout",
          "text": [
            "5\n"
          ]
        }
      ]
    },
    {
      "cell_type": "code",
      "source": [
        "#14  Write a code to find the index of the element \"cat\" in the tuple ('dog', 'cat', 'rabbit').\n",
        "t3 = ('dog', 'cat', 'rabbit')\n",
        "print(t3.index(\"cat\"))"
      ],
      "metadata": {
        "colab": {
          "base_uri": "https://localhost:8080/"
        },
        "id": "EpriGNe8sb3i",
        "outputId": "1ffc3d85-478b-468f-d781-6a61ae9624ea"
      },
      "execution_count": 14,
      "outputs": [
        {
          "output_type": "stream",
          "name": "stdout",
          "text": [
            "1\n"
          ]
        }
      ]
    },
    {
      "cell_type": "code",
      "source": [
        "#15  Write a code to create a tuple containing three different fruits and check if \"kiwi\" is in it.\n",
        "fruits2 = (\"Apple\",\"Mango\",\"Watermelon\")\n",
        "print(\"kiwi\" in fruits2)"
      ],
      "metadata": {
        "colab": {
          "base_uri": "https://localhost:8080/"
        },
        "id": "cazHmCZNsdie",
        "outputId": "ee0623ba-ae28-44c0-dcc6-7505c6ae4c7d"
      },
      "execution_count": 15,
      "outputs": [
        {
          "output_type": "stream",
          "name": "stdout",
          "text": [
            "False\n"
          ]
        }
      ]
    },
    {
      "cell_type": "code",
      "source": [
        "#16 Write a code to create a set with the elements 'a', 'b', 'c' and print it\n",
        "s1 = {\"a\",\"b\",\"c\"}\n",
        "print(s1)"
      ],
      "metadata": {
        "colab": {
          "base_uri": "https://localhost:8080/"
        },
        "id": "aiNcBELMsfbv",
        "outputId": "66e17a46-3c24-4246-83ac-d0c364b52be5"
      },
      "execution_count": 16,
      "outputs": [
        {
          "output_type": "stream",
          "name": "stdout",
          "text": [
            "{'b', 'c', 'a'}\n"
          ]
        }
      ]
    },
    {
      "cell_type": "code",
      "source": [
        "#17 Write a code to clear all elements from the set {1, 2, 3, 4, 5}.\n",
        "s2 = {1,2,3,4,5}\n",
        "s2.clear()\n",
        "print(s2)"
      ],
      "metadata": {
        "colab": {
          "base_uri": "https://localhost:8080/"
        },
        "id": "5uXhp0-_sg8w",
        "outputId": "b2131932-12c3-45b5-89e2-82641a0ed308"
      },
      "execution_count": 17,
      "outputs": [
        {
          "output_type": "stream",
          "name": "stdout",
          "text": [
            "set()\n"
          ]
        }
      ]
    },
    {
      "cell_type": "code",
      "source": [
        "#18 Write a code to remove the element 4 from the set {1, 2, 3, 4}.\n",
        "s3 = {1, 2, 3, 4}\n",
        "s3.remove(3)\n",
        "print(s3)"
      ],
      "metadata": {
        "colab": {
          "base_uri": "https://localhost:8080/"
        },
        "id": "vQQoL1CUsiQI",
        "outputId": "52e3027f-9ab4-480c-9a66-f4b91b7c8862"
      },
      "execution_count": 18,
      "outputs": [
        {
          "output_type": "stream",
          "name": "stdout",
          "text": [
            "{1, 2, 4}\n"
          ]
        }
      ]
    },
    {
      "cell_type": "code",
      "source": [
        "#19 Write a code to find the union of two sets {1, 2, 3} and {3, 4, 5}.\n",
        "set_a = {1,2,3}\n",
        "set_b = {3,4,5}\n",
        "print(set_a | set_b)"
      ],
      "metadata": {
        "colab": {
          "base_uri": "https://localhost:8080/"
        },
        "id": "SN3kGC7-sjzi",
        "outputId": "cb459f19-a5a3-4709-b869-83b4e5c4bc3f"
      },
      "execution_count": 19,
      "outputs": [
        {
          "output_type": "stream",
          "name": "stdout",
          "text": [
            "{1, 2, 3, 4, 5}\n"
          ]
        }
      ]
    },
    {
      "cell_type": "code",
      "source": [
        "#20 Write a code to find the intersection of two sets {1, 2, 3} and {2, 3, 4}.\n",
        "set_c = {1,2,3}\n",
        "set_d = {2,3,4}\n",
        "print(set_c & set_d)"
      ],
      "metadata": {
        "colab": {
          "base_uri": "https://localhost:8080/"
        },
        "id": "LSqIpU3MslvL",
        "outputId": "ec54d143-5fc7-4897-bd70-47ed2672915b"
      },
      "execution_count": 20,
      "outputs": [
        {
          "output_type": "stream",
          "name": "stdout",
          "text": [
            "{2, 3}\n"
          ]
        }
      ]
    },
    {
      "cell_type": "code",
      "source": [
        "#21 Write a code to create a dictionary with the keys \"name\", \"age\", and \"city\", and print it.\n",
        "dict1 = {\"name\":\"Abhi\" ,\"age\": 21 ,\"city\" : \"Lucknow\"}\n",
        "print(dict1)"
      ],
      "metadata": {
        "colab": {
          "base_uri": "https://localhost:8080/"
        },
        "id": "4psLNJibsnRo",
        "outputId": "b3736423-3cba-4b99-f429-5bc1aa14687c"
      },
      "execution_count": 21,
      "outputs": [
        {
          "output_type": "stream",
          "name": "stdout",
          "text": [
            "{'name': 'Abhi', 'age': 21, 'city': 'Lucknow'}\n"
          ]
        }
      ]
    },
    {
      "cell_type": "code",
      "source": [
        "#22 Write a code to add a new key-value pair \"country\": \"USA\" to the dictionary {'name': 'John', 'age': 25}.\n",
        "dict2 = {'name': 'John', 'age': 25}\n",
        "dict2[\"country\"] = \"USA\"\n",
        "print(dict2)"
      ],
      "metadata": {
        "colab": {
          "base_uri": "https://localhost:8080/"
        },
        "id": "63xZFXukspOj",
        "outputId": "d588f225-af3b-4675-f0d5-a349107b6b99"
      },
      "execution_count": 22,
      "outputs": [
        {
          "output_type": "stream",
          "name": "stdout",
          "text": [
            "{'name': 'John', 'age': 25, 'country': 'USA'}\n"
          ]
        }
      ]
    },
    {
      "cell_type": "code",
      "source": [
        "#23 Write a code to access the value associated with the key \"name\" in the dictionary {'name': 'Alice', 'age': 30}.\n",
        "dict3 = {'name': 'Alice', 'age': 30}\n",
        "print(dict3[\"name\"])"
      ],
      "metadata": {
        "colab": {
          "base_uri": "https://localhost:8080/"
        },
        "id": "y8ttxwBisqsN",
        "outputId": "eff37427-1d5f-4a43-cf1f-9610178534a5"
      },
      "execution_count": 23,
      "outputs": [
        {
          "output_type": "stream",
          "name": "stdout",
          "text": [
            "Alice\n"
          ]
        }
      ]
    },
    {
      "cell_type": "code",
      "source": [
        "#24 Write a code to remove the key \"age\" from the dictionary {'name': 'Bob', 'age': 22, 'city': 'New York'}.\n",
        "dict4 = {'name': 'Bob', 'age': 22, 'city': 'New York'}\n",
        "print(dict4.pop(\"age\"))\n",
        "print(dict4)"
      ],
      "metadata": {
        "colab": {
          "base_uri": "https://localhost:8080/"
        },
        "id": "2VvXrzXostUJ",
        "outputId": "f5946881-7d0e-4467-eb38-3df8c5fd3e11"
      },
      "execution_count": 25,
      "outputs": [
        {
          "output_type": "stream",
          "name": "stdout",
          "text": [
            "22\n",
            "{'name': 'Bob', 'city': 'New York'}\n"
          ]
        }
      ]
    },
    {
      "cell_type": "code",
      "source": [
        "#25 Write a code to check if the key \"city\" exists in the dictionary {'name': 'Alice', 'city': 'Paris'}.\n",
        "dict5 = {'name': 'Alice', 'city': 'Paris'}\n",
        "print(\"city\" in dict5)"
      ],
      "metadata": {
        "colab": {
          "base_uri": "https://localhost:8080/"
        },
        "id": "O7x9oUCPsuul",
        "outputId": "76d6c2ff-8a4e-4b74-fc21-66c417b981a9"
      },
      "execution_count": 26,
      "outputs": [
        {
          "output_type": "stream",
          "name": "stdout",
          "text": [
            "True\n"
          ]
        }
      ]
    },
    {
      "cell_type": "code",
      "source": [
        "#26 Write a code to create a list, a tuple, and a dictionary, and print them all.\n",
        "list10 = [1,2,3]\n",
        "tuple10 = (1,2,3)\n",
        "dict10 = {\"a\" : 1, \"b\" : 2 , \"c\" : 3}\n",
        "print(list10,tuple10,dict10)"
      ],
      "metadata": {
        "colab": {
          "base_uri": "https://localhost:8080/"
        },
        "id": "uUfhL5R5s1So",
        "outputId": "bea8ddff-28d5-42b6-8833-018398bafeea"
      },
      "execution_count": 27,
      "outputs": [
        {
          "output_type": "stream",
          "name": "stdout",
          "text": [
            "[1, 2, 3] (1, 2, 3) {'a': 1, 'b': 2, 'c': 3}\n"
          ]
        }
      ]
    },
    {
      "cell_type": "code",
      "source": [
        "#27 . Write a code to create a list of 5 random numbers between 1 and 100, sort it in ascending order, and print the result\n",
        "import random\n",
        "r1 = ([random.randint(1,100) for _ in range(5)])\n",
        "r1.sort()\n",
        "print(r1)\n"
      ],
      "metadata": {
        "colab": {
          "base_uri": "https://localhost:8080/"
        },
        "id": "Pb3Z8HfVs202",
        "outputId": "af2a0c41-390d-4bda-b49f-0b601f35d247"
      },
      "execution_count": 28,
      "outputs": [
        {
          "output_type": "stream",
          "name": "stdout",
          "text": [
            "[6, 10, 46, 82, 89]\n"
          ]
        }
      ]
    },
    {
      "cell_type": "code",
      "source": [
        "#28 Write a code to create a list with strings and print the element at the third index.\n",
        "colours1 = [\"red\", \"green\", \"blue\", \"yellow\",\"violet\",\"purple\"]\n",
        "colours1[3]"
      ],
      "metadata": {
        "colab": {
          "base_uri": "https://localhost:8080/",
          "height": 36
        },
        "id": "oETQO4DGs4R9",
        "outputId": "685dd945-178c-4e62-f783-1be59cb0969c"
      },
      "execution_count": 29,
      "outputs": [
        {
          "output_type": "execute_result",
          "data": {
            "text/plain": [
              "'yellow'"
            ],
            "application/vnd.google.colaboratory.intrinsic+json": {
              "type": "string"
            }
          },
          "metadata": {},
          "execution_count": 29
        }
      ]
    },
    {
      "cell_type": "code",
      "source": [
        "#29 Write a code to combine two dictionaries into one and print the result.\n",
        "dict_a = {\"name\" : \"Abhi\" , \"age\" : 21}\n",
        "dict_b = {\"city\" : \"Lucknow\" , \"pincode\" : \"221212\"}\n",
        "dict_c = dict_a.copy()\n",
        "dict_c.update(dict_b)\n",
        "print(dict_c)"
      ],
      "metadata": {
        "colab": {
          "base_uri": "https://localhost:8080/"
        },
        "id": "ICoj0MIhs6R_",
        "outputId": "43f31aa3-8555-4e3e-d53d-7c61bac540d5"
      },
      "execution_count": 30,
      "outputs": [
        {
          "output_type": "stream",
          "name": "stdout",
          "text": [
            "{'name': 'Abhi', 'age': 21, 'city': 'Lucknow', 'pincode': '221212'}\n"
          ]
        }
      ]
    },
    {
      "cell_type": "code",
      "source": [
        "#30 Write a code to convert a list of strings into a set.\n",
        "my_str = [\"Abhi\",\"Abhay\",\"Adi\",\"Ishan\",\"Khush\"]\n",
        "print(set(my_str))"
      ],
      "metadata": {
        "id": "pY73hXges7_W",
        "outputId": "83d719a7-9283-4f97-e443-01a848073177",
        "colab": {
          "base_uri": "https://localhost:8080/"
        }
      },
      "execution_count": 31,
      "outputs": [
        {
          "output_type": "stream",
          "name": "stdout",
          "text": [
            "{'Khush', 'Ishan', 'Adi', 'Abhay', 'Abhi'}\n"
          ]
        }
      ]
    }
  ]
}