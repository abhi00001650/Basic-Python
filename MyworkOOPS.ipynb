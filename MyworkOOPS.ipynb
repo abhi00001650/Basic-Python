{
 "cells": [
  {
   "cell_type": "code",
   "execution_count": 1,
   "id": "7f9a2708-3a56-4a86-b2dc-ee6ea4549c90",
   "metadata": {},
   "outputs": [
    {
     "data": {
      "text/plain": [
       "5"
      ]
     },
     "execution_count": 1,
     "metadata": {},
     "output_type": "execute_result"
    }
   ],
   "source": [
    "#oops >> object oriented programming structure\n",
    "a = 5\n",
    "a"
   ]
  },
  {
   "cell_type": "code",
   "execution_count": 2,
   "id": "313289ad-5fe5-4238-9fb0-7ad90116e146",
   "metadata": {},
   "outputs": [
    {
     "data": {
      "text/plain": [
       "int"
      ]
     },
     "execution_count": 2,
     "metadata": {},
     "output_type": "execute_result"
    }
   ],
   "source": [
    "type(a)"
   ]
  },
  {
   "cell_type": "code",
   "execution_count": 3,
   "id": "15a07502-3310-4a7f-a9e7-f56c6cbd1455",
   "metadata": {},
   "outputs": [
    {
     "name": "stdout",
     "output_type": "stream",
     "text": [
      "<class 'int'>\n"
     ]
    }
   ],
   "source": [
    "print(type(a))"
   ]
  },
  {
   "cell_type": "code",
   "execution_count": 5,
   "id": "5a9caee2-d6b2-4382-a0f5-7464aed707d5",
   "metadata": {},
   "outputs": [
    {
     "name": "stdout",
     "output_type": "stream",
     "text": [
      "<class 'int'>\n"
     ]
    }
   ],
   "source": [
    "b = 4\n",
    "print(type(b))"
   ]
  },
  {
   "cell_type": "code",
   "execution_count": 6,
   "id": "6ada1ec8-e83d-4491-9d66-cc0ec0469b91",
   "metadata": {},
   "outputs": [
    {
     "name": "stdout",
     "output_type": "stream",
     "text": [
      "<class 'str'>\n"
     ]
    }
   ],
   "source": [
    "s = \"Abhijeet\" # s is an object\n",
    "print(type(s))"
   ]
  },
  {
   "cell_type": "code",
   "execution_count": 8,
   "id": "d102f204-639c-4ba1-87a8-8c76dcf5f493",
   "metadata": {},
   "outputs": [
    {
     "name": "stdout",
     "output_type": "stream",
     "text": [
      "<class 'str'>\n"
     ]
    }
   ],
   "source": [
    "a = \"abhi\" # a is an object\n",
    "print(type(a))"
   ]
  },
  {
   "cell_type": "code",
   "execution_count": 9,
   "id": "2e13258c-085e-4404-841d-1ac7e0dfd00e",
   "metadata": {},
   "outputs": [],
   "source": [
    "#iit form example , cars example, human being example\n",
    "#classes are blueprint for creating an object\n",
    "#we are different objects of class human being\n",
    "#gujiya maker, thekua maker"
   ]
  },
  {
   "cell_type": "code",
   "execution_count": 12,
   "id": "8aba71e9-ea04-4534-86e4-2ccddbe4c057",
   "metadata": {},
   "outputs": [],
   "source": [
    "#class Car is nothing but template\n",
    "class Car: #naming convention>> Uppercamelcase\n",
    "    pass"
   ]
  },
  {
   "cell_type": "code",
   "execution_count": 13,
   "id": "2893713f-040d-4158-b8df-30b5f3b3fb30",
   "metadata": {},
   "outputs": [],
   "source": [
    "c1 = Car() # instance/object"
   ]
  },
  {
   "cell_type": "code",
   "execution_count": 14,
   "id": "5773a46e-ebdd-41a0-a7e8-f1a9a8bac2bc",
   "metadata": {},
   "outputs": [
    {
     "name": "stdout",
     "output_type": "stream",
     "text": [
      "<class '__main__.Car'>\n"
     ]
    }
   ],
   "source": [
    "print(type(c1))"
   ]
  },
  {
   "cell_type": "code",
   "execution_count": 1,
   "id": "9d7eca24-5a85-4152-aae1-6b2d4bfceb86",
   "metadata": {},
   "outputs": [],
   "source": [
    "#WHY OOPS?? WE already had function so why do we need to define a class??\n",
    "#a project can have manny components, say backend(f1,f2) , frontend(f3,f4), data pipeline(f5,f6)\n",
    "#def f1():\n",
    "#    pass\n",
    "#def f2():\n",
    "#    pass\n",
    "#def f3():\n",
    " #   pass\n",
    "#def f4():\n",
    " #   pass\n",
    "#def f5():\n",
    "#    pass\n",
    "#if a backend developer wants to work/change some backend function>> all the function are mixed or at one place not arranged\n",
    "#OOPS HELPS YOU TO ARRANGE THE REQUIRED FUNCTIONS IN RESPECTIVE CLASSES"
   ]
  },
  {
   "cell_type": "code",
   "execution_count": 2,
   "id": "3bb6f925-9fa9-4938-9f24-74a28fffafae",
   "metadata": {},
   "outputs": [],
   "source": [
    "class Car:\n",
    "    pass\n"
   ]
  },
  {
   "cell_type": "code",
   "execution_count": 3,
   "id": "b54176fb-b6c5-4e59-b70d-710a91acd77b",
   "metadata": {},
   "outputs": [
    {
     "name": "stdout",
     "output_type": "stream",
     "text": [
      "<class '__main__.Car'>\n"
     ]
    }
   ],
   "source": [
    "c1 = Car()\n",
    "print(type(c1))"
   ]
  },
  {
   "cell_type": "code",
   "execution_count": 4,
   "id": "a5bdd0a6-61d8-43c3-8f34-703a618f3b84",
   "metadata": {},
   "outputs": [],
   "source": [
    "class Car: # function/method of a car\n",
    "    def accelerate():\n",
    "        print(\"Car is accelerating\")"
   ]
  },
  {
   "cell_type": "code",
   "execution_count": 5,
   "id": "0f92d771-2684-40c5-ab15-82b6ddb60769",
   "metadata": {},
   "outputs": [],
   "source": [
    "c1 = Car()"
   ]
  },
  {
   "cell_type": "code",
   "execution_count": 7,
   "id": "c0d2964b-3a36-429d-8472-73993cb04769",
   "metadata": {},
   "outputs": [
    {
     "ename": "TypeError",
     "evalue": "Car.accelerate() takes 0 positional arguments but 1 was given",
     "output_type": "error",
     "traceback": [
      "\u001b[1;31m---------------------------------------------------------------------------\u001b[0m",
      "\u001b[1;31mTypeError\u001b[0m                                 Traceback (most recent call last)",
      "Cell \u001b[1;32mIn[7], line 1\u001b[0m\n\u001b[1;32m----> 1\u001b[0m c1\u001b[38;5;241m.\u001b[39maccelerate()\n",
      "\u001b[1;31mTypeError\u001b[0m: Car.accelerate() takes 0 positional arguments but 1 was given"
     ]
    }
   ],
   "source": [
    "c1.accelerate() # It will show error"
   ]
  },
  {
   "cell_type": "code",
   "execution_count": 11,
   "id": "730d8d2a-d619-4f1f-9946-5c727848299e",
   "metadata": {},
   "outputs": [],
   "source": [
    "class Car: # function/method of a car\n",
    "    def accelerate(self):\n",
    "        print(\"Car is accelerating\")\n",
    "#SELF>> a variable that represents instancee of a class using which you can access method/function of class, also attribute/property of a class\n",
    "#SELF>> makes sure that each object knows that each object is associated with it \n",
    "# in other words the method is referenced to that particular object"
   ]
  },
  {
   "cell_type": "code",
   "execution_count": 12,
   "id": "5a450550-9aa7-4345-97b5-9e7429d684eb",
   "metadata": {},
   "outputs": [
    {
     "name": "stdout",
     "output_type": "stream",
     "text": [
      "Car is accelerating\n"
     ]
    }
   ],
   "source": [
    "c1 = Car()\n",
    "c1.accelerate()"
   ]
  },
  {
   "cell_type": "code",
   "execution_count": 10,
   "id": "97c42e5c-7bf5-4d14-8a05-84a8b0c51c87",
   "metadata": {},
   "outputs": [
    {
     "name": "stdout",
     "output_type": "stream",
     "text": [
      "Car is accelerating\n"
     ]
    }
   ],
   "source": [
    "c2 = Car()\n",
    "c2.accelerate()"
   ]
  },
  {
   "cell_type": "code",
   "execution_count": 19,
   "id": "f71b804c-24ca-45a5-926e-9a8f0c00120a",
   "metadata": {},
   "outputs": [],
   "source": [
    "class Car: # function/method of a car\n",
    "    def accelerate(self):\n",
    "        print(\"Car is accelerating\")\n",
    "    def brake(self):\n",
    "        print(\"Car is stopping\")\n",
    "#Self is not a python keyword , u can use any variable name\n",
    "#Best practice is to pass Self"
   ]
  },
  {
   "cell_type": "code",
   "execution_count": 20,
   "id": "38adc916-df24-42cc-97a4-7fa927a35a34",
   "metadata": {},
   "outputs": [
    {
     "name": "stdout",
     "output_type": "stream",
     "text": [
      "Car is stopping\n"
     ]
    }
   ],
   "source": [
    "c3 = Car()\n",
    "c3.brake()"
   ]
  },
  {
   "cell_type": "code",
   "execution_count": 21,
   "id": "059d7932-e9e5-4944-99af-31e9f72482b4",
   "metadata": {},
   "outputs": [],
   "source": [
    "class Bank:\n",
    "    def deposit(self):\n",
    "        print(\"I am depositing the money\")"
   ]
  },
  {
   "cell_type": "code",
   "execution_count": 22,
   "id": "780b7f0e-d379-4f79-ad1a-0d69aabdb341",
   "metadata": {},
   "outputs": [
    {
     "name": "stdout",
     "output_type": "stream",
     "text": [
      "I am depositing the money\n"
     ]
    }
   ],
   "source": [
    "c1 = Bank()\n",
    "c1.deposit()"
   ]
  },
  {
   "cell_type": "code",
   "execution_count": 23,
   "id": "4a3ed40d-b291-4a2f-bca9-d827ebde7207",
   "metadata": {},
   "outputs": [],
   "source": [
    "class Bank:\n",
    "    def deposit(self):\n",
    "        print(\"I am depositing the money\")\n",
    "    def withdraw(self):\n",
    "        print(\"I am withdrawing money\")"
   ]
  },
  {
   "cell_type": "code",
   "execution_count": 24,
   "id": "4cab0111-9393-4b7c-920c-ed6bf5ee08cc",
   "metadata": {},
   "outputs": [
    {
     "name": "stdout",
     "output_type": "stream",
     "text": [
      "I am withdrawing money\n"
     ]
    }
   ],
   "source": [
    "c1 = Bank()\n",
    "c1.withdraw()"
   ]
  },
  {
   "cell_type": "code",
   "execution_count": 26,
   "id": "d1a9f5a4-730d-4a71-895a-a328395aba41",
   "metadata": {},
   "outputs": [
    {
     "name": "stdout",
     "output_type": "stream",
     "text": [
      "I am depositing the money\n"
     ]
    }
   ],
   "source": [
    "c2 = Bank()\n",
    "c2.deposit()"
   ]
  },
  {
   "cell_type": "code",
   "execution_count": 50,
   "id": "3555ead2-9a0f-416f-b9d1-b4c641622683",
   "metadata": {},
   "outputs": [],
   "source": [
    "#Passing data in the class\n",
    "class Bank:\n",
    "    def deposit(self,amount):\n",
    "        print(f\"I am depositing the money {amount} rupees.\")\n",
    "    def withdraw(self,amount_withdraw):\n",
    "        print(f\"I am withdrawing money {amount_withdraw} rupees.\")"
   ]
  },
  {
   "cell_type": "code",
   "execution_count": 51,
   "id": "da7b97b2-aa40-494f-bb56-03750d782243",
   "metadata": {},
   "outputs": [
    {
     "name": "stdout",
     "output_type": "stream",
     "text": [
      "I am depositing the money 500 rupees.\n",
      "I am withdrawing money 1000 rupees.\n"
     ]
    }
   ],
   "source": [
    "c2 = Bank()\n",
    "c2.deposit(500)\n",
    "\n",
    "c3 = Bank()\n",
    "c3.withdraw(1000)"
   ]
  },
  {
   "cell_type": "code",
   "execution_count": 52,
   "id": "f298a3f5-e2f6-4905-b918-793ee1b977a6",
   "metadata": {},
   "outputs": [
    {
     "ename": "TypeError",
     "evalue": "Bank.deposit() missing 1 required positional argument: 'amount'",
     "output_type": "error",
     "traceback": [
      "\u001b[1;31m---------------------------------------------------------------------------\u001b[0m",
      "\u001b[1;31mTypeError\u001b[0m                                 Traceback (most recent call last)",
      "Cell \u001b[1;32mIn[52], line 2\u001b[0m\n\u001b[0;32m      1\u001b[0m abhi \u001b[38;5;241m=\u001b[39m Bank()\n\u001b[1;32m----> 2\u001b[0m abhi\u001b[38;5;241m.\u001b[39mdeposit()\n",
      "\u001b[1;31mTypeError\u001b[0m: Bank.deposit() missing 1 required positional argument: 'amount'"
     ]
    }
   ],
   "source": [
    "abhi = Bank()\n",
    "abhi.deposit()#Now throws errror"
   ]
  },
  {
   "cell_type": "code",
   "execution_count": 57,
   "id": "cb36e6bd-b583-410c-b209-799bdcc5c389",
   "metadata": {},
   "outputs": [],
   "source": [
    "\n",
    "#Passing data in the class\n",
    "#Bank will ask for a default amount , aount is attribute / property / data of a class Bank\n",
    "class Bank:\n",
    "    amount = 00.00\n",
    "    amount_withdraw = 00.00\n",
    "    def deposit(self,amount):\n",
    "        print(f\"I am depositing the money {amount} rupees.\")\n",
    "    def withdraw(self,amount_withdraw):\n",
    "        print(f\"I am withdrawing money {amount_withdraw} rupees.\")"
   ]
  },
  {
   "cell_type": "code",
   "execution_count": 63,
   "id": "c41ef68d-ac93-45a2-901f-e366dd753418",
   "metadata": {},
   "outputs": [
    {
     "name": "stdout",
     "output_type": "stream",
     "text": [
      "I am depositing the money 10 rupees.\n"
     ]
    }
   ],
   "source": [
    "abhi = Bank()\n",
    "abhi.deposit(10)"
   ]
  },
  {
   "cell_type": "code",
   "execution_count": 64,
   "id": "fe8092f3-d464-4212-9396-44e443902a57",
   "metadata": {},
   "outputs": [
    {
     "data": {
      "text/plain": [
       "0.0"
      ]
     },
     "execution_count": 64,
     "metadata": {},
     "output_type": "execute_result"
    }
   ],
   "source": [
    "#attributes/prperty can be also accessed the same way as methods/functions are accessed\n",
    "abhi.amount"
   ]
  },
  {
   "cell_type": "code",
   "execution_count": 67,
   "id": "0870b466-3b89-4786-819d-39d9a52ce3dc",
   "metadata": {},
   "outputs": [],
   "source": [
    "#EXTRACT ODD AND EVEN NUMBERS FROM A GIVEN LIST\n",
    "class Listops:\n",
    "    l = [1,2,3,4,5]\n",
    "    def extract_even(self, l):\n",
    "        l1 = []\n",
    "        for i in l:\n",
    "            if i%2 == 0:\n",
    "                l1.append(i)#\n",
    "        return l1\n",
    "    def extract_odd(self, l):\n",
    "        l2 = []\n",
    "        for i in l:\n",
    "            if i%2 != 0:\n",
    "                l2.append(i)#\n",
    "        return l2"
   ]
  },
  {
   "cell_type": "code",
   "execution_count": 78,
   "id": "a6e992bc-3113-47dd-bae6-96f8c49370f8",
   "metadata": {},
   "outputs": [
    {
     "ename": "NameError",
     "evalue": "name 'l' is not defined",
     "output_type": "error",
     "traceback": [
      "\u001b[1;31m---------------------------------------------------------------------------\u001b[0m",
      "\u001b[1;31mNameError\u001b[0m                                 Traceback (most recent call last)",
      "Cell \u001b[1;32mIn[78], line 2\u001b[0m\n\u001b[0;32m      1\u001b[0m even \u001b[38;5;241m=\u001b[39m Listops()\n\u001b[1;32m----> 2\u001b[0m even\u001b[38;5;241m.\u001b[39mextract_even(even , l)\n",
      "\u001b[1;31mNameError\u001b[0m: name 'l' is not defined"
     ]
    }
   ],
   "source": [
    "even = Listops()\n",
    "even.extract_even(even , l)"
   ]
  },
  {
   "cell_type": "code",
   "execution_count": 81,
   "id": "bf1688f1-698c-48b4-b524-731b52ce4271",
   "metadata": {},
   "outputs": [
    {
     "data": {
      "text/plain": [
       "[1, 3, 5]"
      ]
     },
     "execution_count": 81,
     "metadata": {},
     "output_type": "execute_result"
    }
   ],
   "source": [
    "odd = Listops()\n",
    "odd.extract_odd(odd.l)"
   ]
  },
  {
   "cell_type": "code",
   "execution_count": 77,
   "id": "165d4a51-ec90-496e-ae2b-19864b8cda19",
   "metadata": {},
   "outputs": [
    {
     "data": {
      "text/plain": [
       "[1, 2, 3, 4, 5]"
      ]
     },
     "execution_count": 77,
     "metadata": {},
     "output_type": "execute_result"
    }
   ],
   "source": [
    "even.l"
   ]
  },
  {
   "cell_type": "code",
   "execution_count": 80,
   "id": "ffbc5654-2756-4716-b21d-761eb639bf10",
   "metadata": {},
   "outputs": [
    {
     "data": {
      "text/plain": [
       "[2, 4]"
      ]
     },
     "execution_count": 80,
     "metadata": {},
     "output_type": "execute_result"
    }
   ],
   "source": [
    "even = Listops()\n",
    "even.extract_even(even.l)"
   ]
  },
  {
   "cell_type": "code",
   "execution_count": 82,
   "id": "c39e54f8-8c78-4b50-abfb-f03faabf2137",
   "metadata": {},
   "outputs": [
    {
     "data": {
      "text/plain": [
       "[]"
      ]
     },
     "execution_count": 82,
     "metadata": {},
     "output_type": "execute_result"
    }
   ],
   "source": [
    "even.extract_even([1,3,5,7])"
   ]
  },
  {
   "cell_type": "code",
   "execution_count": 83,
   "id": "7e75fc25-f4d8-4aab-804b-c3185db6d5fb",
   "metadata": {},
   "outputs": [
    {
     "data": {
      "text/plain": [
       "[1, 2, 3, 4, 5]"
      ]
     },
     "execution_count": 83,
     "metadata": {},
     "output_type": "execute_result"
    }
   ],
   "source": [
    "#IFF YOU MAKE ANY OBJECT THE PROPERTY OR THE ATTRIBUT L IS FIXED\n",
    "#INSPITE IF PASSING A DIFFERENT LIST YOU ARE STILL GETTING ALREADY PASSED L\n",
    "even.l"
   ]
  },
  {
   "cell_type": "code",
   "execution_count": 84,
   "id": "cd5de400-9402-4f51-b75f-3f43fecace3e",
   "metadata": {},
   "outputs": [],
   "source": [
    "#you want to take the attribute value of the clas for each object  differently\n",
    "\n",
    "#EXTRACT ODD AND EVEN NUMBERS FROM A GIVEN LIST\n",
    "class Listops:\n",
    "    def __init__(self,l): # Magic method or dunder method. init means initialization>> of variable\n",
    "        self.l = l\n",
    "    def extract_even(self, l):\n",
    "        l1 = []\n",
    "        for i in l:\n",
    "            if i%2 == 0:\n",
    "                l1.append(i)#\n",
    "        return l1\n",
    "    def extract_odd(self, l):\n",
    "        l2 = []\n",
    "        for i in l:\n",
    "            if i%2 != 0:\n",
    "                l2.append(i)#\n",
    "        return l2"
   ]
  },
  {
   "cell_type": "code",
   "execution_count": 86,
   "id": "bfcfdd02-ca6d-492b-8af2-4ee65b07a9ce",
   "metadata": {},
   "outputs": [
    {
     "ename": "TypeError",
     "evalue": "Listops.__init__() missing 1 required positional argument: 'l'",
     "output_type": "error",
     "traceback": [
      "\u001b[1;31m---------------------------------------------------------------------------\u001b[0m",
      "\u001b[1;31mTypeError\u001b[0m                                 Traceback (most recent call last)",
      "Cell \u001b[1;32mIn[86], line 1\u001b[0m\n\u001b[1;32m----> 1\u001b[0m ops1 \u001b[38;5;241m=\u001b[39m Listops()\n",
      "\u001b[1;31mTypeError\u001b[0m: Listops.__init__() missing 1 required positional argument: 'l'"
     ]
    }
   ],
   "source": [
    "ops1 = Listops() # Throws an error, while making object/instance of a class, the first method that is executed is __init__\n",
    "\n",
    "#and __init__ needs argument"
   ]
  },
  {
   "cell_type": "code",
   "execution_count": 88,
   "id": "bd490335-758b-4ff8-b432-cf83759ce83e",
   "metadata": {},
   "outputs": [],
   "source": [
    "ops1 = Listops([1,20,31,4,5])"
   ]
  },
  {
   "cell_type": "code",
   "execution_count": 91,
   "id": "996c317c-e292-45b7-9eaf-f8b6ff84a245",
   "metadata": {},
   "outputs": [
    {
     "data": {
      "text/plain": [
       "[1, 20, 31, 4, 5]"
      ]
     },
     "execution_count": 91,
     "metadata": {},
     "output_type": "execute_result"
    }
   ],
   "source": [
    "ops1.l"
   ]
  },
  {
   "cell_type": "code",
   "execution_count": 92,
   "id": "47037fc5-0900-4678-a501-243b26829039",
   "metadata": {},
   "outputs": [
    {
     "data": {
      "text/plain": [
       "[1, 2, 3, 4, 5, 6]"
      ]
     },
     "execution_count": 92,
     "metadata": {},
     "output_type": "execute_result"
    }
   ],
   "source": [
    "ops2 = Listops([1,2,3,4,5,6])\n",
    "ops2.l"
   ]
  },
  {
   "cell_type": "code",
   "execution_count": 93,
   "id": "083804ac-115a-48f7-873f-b694d1ec93bd",
   "metadata": {},
   "outputs": [],
   "source": [
    "#you want to take the attribute value of the clas for each object  differently\n",
    "\n",
    "#EXTRACT ODD AND EVEN NUMBERS FROM A GIVEN LIST\n",
    "class Listops:\n",
    "    def __init__(self,l): # Magic method or dunder method. init means initialization>> of variable\n",
    "        self.l = l\n",
    "    def extract_even(self):# Be careful as init has been used only pass self in the method and not the variable again \n",
    "        l = self.l\n",
    "        l1 = []\n",
    "        for i in l:\n",
    "            if i%2 == 0:\n",
    "                l1.append(i)#\n",
    "        return l1\n",
    "    def extract_odd(self):\n",
    "        l = self.l\n",
    "        l2 = []\n",
    "        for i in l:\n",
    "            if i%2 != 0:\n",
    "                l2.append(i)#\n",
    "        return l2"
   ]
  },
  {
   "cell_type": "code",
   "execution_count": 95,
   "id": "2ef53fd4-d6ef-4fb6-97e9-5c8933ad8903",
   "metadata": {},
   "outputs": [
    {
     "ename": "TypeError",
     "evalue": "Listops.extract_even() missing 1 required positional argument: 'l'",
     "output_type": "error",
     "traceback": [
      "\u001b[1;31m---------------------------------------------------------------------------\u001b[0m",
      "\u001b[1;31mTypeError\u001b[0m                                 Traceback (most recent call last)",
      "Cell \u001b[1;32mIn[95], line 1\u001b[0m\n\u001b[1;32m----> 1\u001b[0m ops1\u001b[38;5;241m.\u001b[39mextract_even()\n",
      "\u001b[1;31mTypeError\u001b[0m: Listops.extract_even() missing 1 required positional argument: 'l'"
     ]
    }
   ],
   "source": [
    "ops1.extract_even()#Throws error . WHY?? # Be careful as init has been used only pass self in the method and not the variable again "
   ]
  },
  {
   "cell_type": "code",
   "execution_count": 96,
   "id": "0f1a5591-4164-4279-8f76-f71c4c0188a1",
   "metadata": {},
   "outputs": [
    {
     "data": {
      "text/plain": [
       "[1, 9, 11]"
      ]
     },
     "execution_count": 96,
     "metadata": {},
     "output_type": "execute_result"
    }
   ],
   "source": [
    "ops1 = Listops([1,8,9,11,12])\n",
    "ops1.extract_odd()"
   ]
  },
  {
   "cell_type": "code",
   "execution_count": 97,
   "id": "041286d0-12bc-4197-a8fd-1614529ab315",
   "metadata": {},
   "outputs": [
    {
     "data": {
      "text/plain": [
       "[8, 12]"
      ]
     },
     "execution_count": 97,
     "metadata": {},
     "output_type": "execute_result"
    }
   ],
   "source": [
    "ops1.extract_even()"
   ]
  },
  {
   "cell_type": "code",
   "execution_count": 98,
   "id": "34023ff2-6192-4fd1-87f5-bb2db1da5aef",
   "metadata": {},
   "outputs": [],
   "source": [
    "#you want to take the attribute value of the clas for each object  differently\n",
    "\n",
    "#EXTRACT ODD AND EVEN NUMBERS FROM A GIVEN LIST\n",
    "class Listops:\n",
    "    def __init__(self,l): # Magic method or dunder method. init means initialization>> of variable\n",
    "        self.l = l\n",
    "    def extract_even(self):# Be careful as init has been used only pass self in the method and not the variable again \n",
    "        l = self.l\n",
    "        l1 = []\n",
    "        for i in l:\n",
    "            if i%2 == 0:\n",
    "                l1.append(i)#\n",
    "        return l1\n",
    "    def extract_odd(self):\n",
    "        l = self.l\n",
    "        l2 = []\n",
    "        for i in l:\n",
    "            if i%2 != 0:\n",
    "                l2.append(i)#\n",
    "        return l2"
   ]
  },
  {
   "cell_type": "code",
   "execution_count": 110,
   "id": "992df0df-0f5c-4a0d-b785-88b98a3932a9",
   "metadata": {},
   "outputs": [],
   "source": [
    "#MULTIPLE ATTRACTIONS\n",
    "#book is associated with author,title,name\n",
    "class Book:\n",
    "    def __init__(self , name , author , title):\n",
    "        self.name_of_book = name\n",
    "        self.book_author = author\n",
    "        self.title_name = title\n",
    "    def extract_details_name_title(self):\n",
    "        print(f\"name of the book is -{self.name_of_book} ,Title is -{self.title_name}\")\n",
    "    def extract_details_name_author(self):\n",
    "        print(f\"name of the book is -{self.name_of_book} ,name of the author is -{self.book_author}\")\n",
    "    "
   ]
  },
  {
   "cell_type": "code",
   "execution_count": 111,
   "id": "d48b0644-a5b9-420a-84d0-563463f938aa",
   "metadata": {},
   "outputs": [],
   "source": [
    "student1 = Book(\"ML\",\"ABHIJEET\",\"REGRESSION\")"
   ]
  },
  {
   "cell_type": "code",
   "execution_count": 112,
   "id": "ba758011-7353-40ae-8853-4e8d48e62967",
   "metadata": {},
   "outputs": [
    {
     "name": "stdout",
     "output_type": "stream",
     "text": [
      "name of the book is -ML ,name of the author is -ABHIJEET\n"
     ]
    }
   ],
   "source": [
    "student1.extract_details_name_author()"
   ]
  },
  {
   "cell_type": "code",
   "execution_count": 113,
   "id": "11970c94-3e8f-474d-bac3-9f744bd47f66",
   "metadata": {},
   "outputs": [
    {
     "name": "stdout",
     "output_type": "stream",
     "text": [
      "name of the book is -AI ,Title is -TRAINING\n"
     ]
    }
   ],
   "source": [
    "student2 = Book(\"AI\",\"ABHI\",\"TRAINING\")\n",
    "student2.extract_details_name_title()"
   ]
  },
  {
   "cell_type": "code",
   "execution_count": 126,
   "id": "d5fe5cfc-8848-42c2-bda7-ef8d56c60e4b",
   "metadata": {},
   "outputs": [],
   "source": [
    "#MULTIPLE ATTRACTIONS\n",
    "#book is associated with author,title,name\n",
    "#every variable is fixed\n",
    "class Book:\n",
    "    def __init__(self):\n",
    "        self.name_of_book = \"DSA\"\n",
    "        self.book_author = \"NITIN\"\n",
    "        self.title_name = \"STACKS\"\n",
    "    def extract_details_name_title(self):\n",
    "        print(f\"Name of the Book is -{self.name_of_book} ,Title is -{self.title_name}\")\n",
    "    def extract_details_name_author(self):\n",
    "        print(f\"Name of the Book is -{self.name_of_book} ,Name of the Author is -{self.book_author}\")\n",
    "    "
   ]
  },
  {
   "cell_type": "code",
   "execution_count": 127,
   "id": "1006b252-bd97-4106-a5a2-bbd24c37043e",
   "metadata": {},
   "outputs": [
    {
     "name": "stdout",
     "output_type": "stream",
     "text": [
      "Name of the Book is -DSA ,Name of the Author is -NITIN\n"
     ]
    }
   ],
   "source": [
    "student1 = Book()\n",
    "student1.extract_details_name_author()"
   ]
  },
  {
   "cell_type": "code",
   "execution_count": 128,
   "id": "89573482-d0be-4faf-96f7-cf3fbd35ed99",
   "metadata": {},
   "outputs": [
    {
     "name": "stdout",
     "output_type": "stream",
     "text": [
      "Name of the Book is -DSA ,Title is -STACKS\n"
     ]
    }
   ],
   "source": [
    "student2 = Book()\n",
    "student2.extract_details_name_title()"
   ]
  },
  {
   "cell_type": "code",
   "execution_count": 130,
   "id": "9c85695c-6f11-42d2-94e4-c945aece2cca",
   "metadata": {},
   "outputs": [],
   "source": [
    "#MULTIPLE ATTRACTIONS\n",
    "#book is associated with author,title,name\n",
    "class Book:\n",
    "    def __init__(self , name , author , title):\n",
    "        self.name_of_book = name\n",
    "        self.book_author = author\n",
    "        self.title_name = title\n",
    "    def extract_details_name_title(self):\n",
    "        print(f\"name of the book is -{self.name_of_book} ,Title is -{self.title_name}\")\n",
    "    def extract_details_name_author(self):\n",
    "        print(f\"name of the book is -{self.name_of_book} ,name of the author is -{self.book_author}\")"
   ]
  },
  {
   "cell_type": "code",
   "execution_count": 131,
   "id": "fd7a0506-6e9f-4837-bf0d-80302651bc70",
   "metadata": {},
   "outputs": [
    {
     "name": "stdout",
     "output_type": "stream",
     "text": [
      "name of the book is -AI ,Title is -TRAINING\n"
     ]
    }
   ],
   "source": [
    "student2 = Book(\"AI\",\"ABHI\",\"TRAINING\")\n",
    "student2.extract_details_name_title()"
   ]
  },
  {
   "cell_type": "code",
   "execution_count": 146,
   "id": "2b75d141-042e-420a-a402-39e203ade5d1",
   "metadata": {},
   "outputs": [],
   "source": [
    "\"\"\"\n",
    "Question 1: Movie Class\n",
    "\n",
    "Create a class called Movie which has the following attributes:\n",
    "\n",
    "title, director, and genre\n",
    "Add two methods:\n",
    "\n",
    "show_title_director() – prints the movie title and director\n",
    "\n",
    "show_title_genre() – prints the movie title and genre\n",
    "\"\"\"\n",
    "class Movie:\n",
    "    def __init__(self,title,director,genre):\n",
    "        self.name_of_title = title\n",
    "        self.name_of_director = director\n",
    "        self.name_of_genre = genre\n",
    "    def show_title_director(self):\n",
    "        print(f\"The title of the movie is - {self.name_of_title} and The name of the director is -{self.name_of_director}\")\n",
    "    def show_title_genre(self):\n",
    "        print(f\"The title of the movie is - {self.name_of_title} and The Genre is -{self.name_of_genre}\")\n",
    "        "
   ]
  },
  {
   "cell_type": "code",
   "execution_count": 147,
   "id": "1068dd23-4181-4968-b37b-f130fea90bd8",
   "metadata": {},
   "outputs": [
    {
     "name": "stdout",
     "output_type": "stream",
     "text": [
      "The title of the movie is - Scarymovie and The name of the director is -Atkinson\n"
     ]
    }
   ],
   "source": [
    "P1 = Movie(\"Scarymovie\",\"Atkinson\",\"Horror\")\n",
    "P1.show_title_director()"
   ]
  },
  {
   "cell_type": "code",
   "execution_count": 148,
   "id": "0fce72e4-c7a3-433b-89e0-a51ad335febb",
   "metadata": {},
   "outputs": [
    {
     "name": "stdout",
     "output_type": "stream",
     "text": [
      "The title of the movie is - Scarymovie and The Genre is -Horror\n"
     ]
    }
   ],
   "source": [
    "P2 = Movie(\"Scarymovie\",\"Atkinson\",\"Horror\")\n",
    "P2.show_title_genre()"
   ]
  },
  {
   "cell_type": "code",
   "execution_count": 149,
   "id": "e7693f52-391f-4956-b012-142e9b82f5ad",
   "metadata": {},
   "outputs": [],
   "source": [
    "\"\"\"\n",
    "Question 2: Student Class\n",
    "\n",
    "Create a class called Student with attributes:\n",
    "\n",
    "name, age, grade\n",
    "Define two methods:\n",
    "\n",
    "print_name_age() – prints name and age\n",
    "\n",
    "print_name_grade() – prints name and grade\n",
    "\"\"\"\n",
    "\n",
    "class Student:\n",
    "    def __init__(self,name,age,grade):\n",
    "        self.show_the_name = name\n",
    "        self.show_the_age = age\n",
    "        self.show_the_grade = grade\n",
    "    def print_name_age(self):\n",
    "        print(f\"The name of the student is -{self.show_the_name} and The age is -{self.show_the_age}\")\n",
    "    def print_name_grade(self):\n",
    "        print(f\"The name of the student is -{self.show_the_name} and The Grade is -{self.show_the_grade}\")"
   ]
  },
  {
   "cell_type": "code",
   "execution_count": 150,
   "id": "eca4de38-e550-4cb7-bbeb-e2ae4eafc3f4",
   "metadata": {},
   "outputs": [
    {
     "name": "stdout",
     "output_type": "stream",
     "text": [
      "The name of the student is -Abhi and The age is -21\n"
     ]
    }
   ],
   "source": [
    "Student1 = Student(\"Abhi\",\"21\",\"A\")\n",
    "Student1.print_name_age()"
   ]
  },
  {
   "cell_type": "code",
   "execution_count": 151,
   "id": "8ee72709-50d7-45da-9d94-b12a4fbfc89a",
   "metadata": {},
   "outputs": [
    {
     "name": "stdout",
     "output_type": "stream",
     "text": [
      "The name of the student is -Abhi and The Grade is -A\n"
     ]
    }
   ],
   "source": [
    "Student1 = Student(\"Abhi\",\"21\",\"A\")\n",
    "Student1.print_name_grade()"
   ]
  },
  {
   "cell_type": "code",
   "execution_count": 152,
   "id": "e2e5fda2-d47c-4a4c-8563-238cfc2dbb3a",
   "metadata": {},
   "outputs": [],
   "source": [
    "\"\"\"\n",
    "Question 3: Product Class\n",
    "\n",
    "Create a class Product with:\n",
    "\n",
    "Attributes: product_name, price, category\n",
    "\n",
    "Method 1: display_name_price()\n",
    "\n",
    "Method 2: display_name_category()\n",
    "\"\"\"\n",
    "\n",
    "class Product:\n",
    "    def __init__(self,product_name,price,category):\n",
    "        self.show_product_name = product_name\n",
    "        self.show_price = price\n",
    "        self.show_category = category\n",
    "    def display_name_price(self):\n",
    "        print(f\"The name of the product is -{self.show_product_name} and The Price is -{self.show_price}\")\n",
    "    def display_name_category(self):\n",
    "        print(f\"The name of the product is -{self.show_product_name} and The Category is -{self.show_category}\")"
   ]
  },
  {
   "cell_type": "code",
   "execution_count": 156,
   "id": "645580e3-cb59-4f7f-85bb-2ae6fcff6eea",
   "metadata": {},
   "outputs": [
    {
     "name": "stdout",
     "output_type": "stream",
     "text": [
      "The name of the product is -Chips and The Price is -£10\n"
     ]
    }
   ],
   "source": [
    "product1 = Product(\"Chips\",\"£10\",\"Salty\")\n",
    "product1.display_name_price()"
   ]
  },
  {
   "cell_type": "code",
   "execution_count": 157,
   "id": "9400e05a-4fe4-4342-b26e-06ad68abfb61",
   "metadata": {},
   "outputs": [
    {
     "name": "stdout",
     "output_type": "stream",
     "text": [
      "The name of the product is -Chips and The Category is -Salty\n"
     ]
    }
   ],
   "source": [
    "product1 = Product(\"Chips\",\"£10\",\"Salty\")\n",
    "product1.display_name_category()"
   ]
  },
  {
   "cell_type": "code",
   "execution_count": 158,
   "id": "1e67f6bc-44fc-46db-bfcb-4a5cbb142ded",
   "metadata": {},
   "outputs": [],
   "source": [
    "\"\"\"\n",
    "Question 4: Car Class\n",
    "\n",
    "Create a class Car with attributes:\n",
    "\n",
    "brand, model, year\n",
    "Add methods:\n",
    "\n",
    "car_description() – prints full description\n",
    "\n",
    "car_model_year() – prints model and year only\n",
    "\"\"\"\n",
    "\n",
    "class Car:\n",
    "    def __init__(self,brand,model,year):\n",
    "        self.show_brand = brand\n",
    "        self.show_model = model\n",
    "        self.show_year = year\n",
    "    def display_car_description(self):\n",
    "        print(f\"The brand of Car is -{self.show_brand} and the Model is -{self.show_model}\")\n",
    "    def display_car_model_year(self):\n",
    "        print(f\"The model of the Car is -{self.show_model} and the year is -{self.show_year}\")"
   ]
  },
  {
   "cell_type": "code",
   "execution_count": 159,
   "id": "6dd9f4c3-beca-4b6e-a54b-fa3c0e3b3c78",
   "metadata": {},
   "outputs": [
    {
     "name": "stdout",
     "output_type": "stream",
     "text": [
      "The brand of Car is -BMW and the Model is -Z4\n"
     ]
    }
   ],
   "source": [
    "Car1 = Car(\"BMW\",\"Z4\",\"2020\")\n",
    "Car1.display_car_description()"
   ]
  },
  {
   "cell_type": "code",
   "execution_count": 160,
   "id": "528c3cae-e5e9-4683-ba75-1f1b99885b5d",
   "metadata": {},
   "outputs": [
    {
     "name": "stdout",
     "output_type": "stream",
     "text": [
      "The model of the Car is -Z4 and the year is -2020\n"
     ]
    }
   ],
   "source": [
    "Car1 = Car(\"BMW\",\"Z4\",\"2020\")\n",
    "Car1.display_car_model_year()"
   ]
  },
  {
   "cell_type": "code",
   "execution_count": 162,
   "id": "82c33783-94b9-48c6-a6b2-c407b3ccbb83",
   "metadata": {},
   "outputs": [],
   "source": [
    "\"\"\"\n",
    "Question 5: Employee Class\n",
    "\n",
    "Create a class Employee with:\n",
    "\n",
    "Attributes: name, position, salary\n",
    "Methods:\n",
    "\n",
    "display_name_salary()\n",
    "\n",
    "display_name_position()\n",
    "\"\"\"\n",
    "\n",
    "class Employee:\n",
    "    def __init__(self,name,position,salary):\n",
    "        self.display_name = name\n",
    "        self.display_position = position\n",
    "        self.display_salary = salary\n",
    "    def display_name_salary(self):\n",
    "        print(f\"The Name of the employee is -{self.display_name} and the Salary is -{self.display_salary}/yr\")\n",
    "    def display_name_position(self):\n",
    "        print(f\"The Name of the employee is -{self.display_name} and the Position is -{self.display_position}\")"
   ]
  },
  {
   "cell_type": "code",
   "execution_count": 164,
   "id": "28d2d984-8b3c-4611-87a4-88497df6fd21",
   "metadata": {},
   "outputs": [
    {
     "name": "stdout",
     "output_type": "stream",
     "text": [
      "The Name of the employee is -Abhi and the Position is -Data Scientist\n",
      "The Name of the employee is -Abhi and the Salary is -£68000/yr\n"
     ]
    }
   ],
   "source": [
    "emp1 = Employee(\"Abhi\",\"Data Scientist\",\"£68000\")\n",
    "emp1.display_name_position()\n",
    "emp1.display_name_salary()"
   ]
  },
  {
   "cell_type": "code",
   "execution_count": 169,
   "id": "16c1a7a3-e373-4172-9b04-e2bc5d72282b",
   "metadata": {},
   "outputs": [],
   "source": [
    "\"\"\"\n",
    "Question 5: Employee Class\n",
    "\n",
    "Create a class Employee with:\n",
    "\n",
    "Attributes: name, position, salary\n",
    "Methods:\n",
    "\n",
    "display_name_salary()\n",
    "\n",
    "display_name_position()\n",
    "\n",
    "update_salary()\n",
    "\n",
    "calculate_bonus()\n",
    "\n",
    "display_full_profile()\n",
    "\n",
    " ++++++++++\n",
    "\n",
    " Manager Subclass\n",
    "\n",
    "  display_manager_profile()\n",
    "\"\"\"\n",
    "class Employee:\n",
    "    def __init__(self, name, position, salary):\n",
    "        self.name = name\n",
    "        self.position = position\n",
    "        self.salary = salary\n",
    "\n",
    "    def display_name_salary(self):\n",
    "        print(f\"The Name of the employee is - {self.name} and the Salary is - £{self.salary}/yr\")\n",
    "\n",
    "    def display_name_position(self):\n",
    "        print(f\"The Name of the employee is - {self.name} and the Position is - {self.position}\")\n",
    "\n",
    "    def update_salary(self, new_salary):\n",
    "        self.salary = new_salary\n",
    "        print(f\"{self.name}'s salary has been updated to £{self.salary}/yr\")\n",
    "\n",
    "    def calculate_bonus(self, percentage):\n",
    "        bonus = self.salary * (percentage / 100)\n",
    "        print(f\"Bonus for {self.name} at {percentage}% is: {bonus}\")\n",
    "        return bonus\n",
    "\n",
    "    def display_full_profile(self):\n",
    "        print(f\"Employee: {self.name} | Position: {self.position} | Salary: £{self.salary}/yr\")\n",
    "\n",
    "\n",
    "# 🧩 Subclass: Manager\n",
    "class Manager(Employee):\n",
    "    def __init__(self, name, position, salary, department):\n",
    "        super().__init__(name, position, salary)\n",
    "        self.department = department\n",
    "\n",
    "    def display_manager_profile(self):\n",
    "        print(f\"Manager: {self.name} | Dept: {self.department} | Position: {self.position} | Salary: £{self.salary}/yr\")\n"
   ]
  },
  {
   "cell_type": "code",
   "execution_count": 170,
   "id": "d55ec41e-dc2e-4483-b748-73c8a738fd8d",
   "metadata": {},
   "outputs": [
    {
     "name": "stdout",
     "output_type": "stream",
     "text": [
      "Employee: Abhi | Position: Data Scientist | Salary: £68000/yr\n",
      "Bonus for Abhi at 10% is: 6800.0\n",
      "Abhi's salary has been updated to £68000/yr\n",
      "The Name of the employee is - Abhi and the Salary is - £68000/yr\n",
      "Manager: Khush | Dept: Engineering | Position: Senior Manager | Salary: £120000/yr\n",
      "Bonus for Khush at 15% is: 18000.0\n"
     ]
    },
    {
     "data": {
      "text/plain": [
       "18000.0"
      ]
     },
     "execution_count": 170,
     "metadata": {},
     "output_type": "execute_result"
    }
   ],
   "source": [
    "emp1 = Employee(\"Abhi\", \"Data Scientist\", 68000)\n",
    "emp1.display_full_profile()\n",
    "emp1.calculate_bonus(10)\n",
    "emp1.update_salary(68000)\n",
    "emp1.display_name_salary()\n",
    "\n",
    "mgr = Manager(\"Khush\", \"Senior Manager\", 120000, \"Engineering\")\n",
    "mgr.display_manager_profile()\n",
    "mgr.calculate_bonus(15)\n"
   ]
  },
  {
   "cell_type": "code",
   "execution_count": null,
   "id": "7b9b92d0-9953-4289-b2ff-ebbb261cdc1c",
   "metadata": {},
   "outputs": [],
   "source": []
  }
 ],
 "metadata": {
  "kernelspec": {
   "display_name": "Python [conda env:base] *",
   "language": "python",
   "name": "conda-base-py"
  },
  "language_info": {
   "codemirror_mode": {
    "name": "ipython",
    "version": 3
   },
   "file_extension": ".py",
   "mimetype": "text/x-python",
   "name": "python",
   "nbconvert_exporter": "python",
   "pygments_lexer": "ipython3",
   "version": "3.13.5"
  }
 },
 "nbformat": 4,
 "nbformat_minor": 5
}
