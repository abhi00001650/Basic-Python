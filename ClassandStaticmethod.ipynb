{
 "cells": [
  {
   "cell_type": "code",
   "execution_count": 1,
   "id": "5bf89d92-010f-4b68-8fc5-b31fd0e77ef6",
   "metadata": {},
   "outputs": [],
   "source": [
    "#class Methods>> bound to the class(and not to particular instance of the class) , it can access/modify methods \n",
    "#and attribute associated to the class across all the instances\n",
    "#@classmethod decorator\n",
    "#insted of self,cls"
   ]
  },
  {
   "cell_type": "code",
   "execution_count": 2,
   "id": "866c0035-d0bd-4933-b748-2bb1445669f6",
   "metadata": {},
   "outputs": [],
   "source": [
    "class Student:\n",
    "    #constructor >> constructing class with initialisation of variable/data\n",
    "    def __init__(self,name):\n",
    "        self.name = name"
   ]
  },
  {
   "cell_type": "code",
   "execution_count": 3,
   "id": "8934e08b-4f90-4177-ac31-42a575755460",
   "metadata": {},
   "outputs": [],
   "source": [
    "a = Student(\"Abhi\")"
   ]
  },
  {
   "cell_type": "code",
   "execution_count": 4,
   "id": "3e7c496e-d55d-4e3a-bb16-881602760f66",
   "metadata": {},
   "outputs": [
    {
     "data": {
      "text/plain": [
       "'Abhi'"
      ]
     },
     "execution_count": 4,
     "metadata": {},
     "output_type": "execute_result"
    }
   ],
   "source": [
    "a.name"
   ]
  },
  {
   "cell_type": "code",
   "execution_count": 13,
   "id": "4891eb6d-c35a-4c95-9bbf-c3391ffeab53",
   "metadata": {},
   "outputs": [],
   "source": [
    "class Student:\n",
    "    #constructor >> constructing class with initialisation of variable/data\n",
    "    def __init__(self,name):\n",
    "        self.name = name # self means that this particular variable is refering to cureent instance of the class\n",
    "    @classmethod # binds to the class\n",
    "    def student_details(cls, name): # instead of self as first param, you are using cls>> meaning this method is associated / referring to the class\n",
    "        return cls(name)"
   ]
  },
  {
   "cell_type": "code",
   "execution_count": 6,
   "id": "109747b9-4839-403c-8d2a-a1e7fdfb22df",
   "metadata": {},
   "outputs": [],
   "source": [
    "#what si the meaning that it is refering to the class??\n",
    "#earlier to access any methods/attributes >> first make instance/object obj class\n",
    "#then obj.attribute \n",
    "#but if it is class method you can directly access it\n",
    "#alternative of init method to pass the data"
   ]
  },
  {
   "cell_type": "code",
   "execution_count": 12,
   "id": "2a756419-eca1-423c-9ee8-3cd45a9d4cae",
   "metadata": {},
   "outputs": [],
   "source": [
    "obj1 = Student.student_details(\"Abhi\") # since student details directly binds to the class u can directly call it without making any object"
   ]
  },
  {
   "cell_type": "code",
   "execution_count": 11,
   "id": "f84a0518-3365-46ec-8171-03ce152fd14f",
   "metadata": {},
   "outputs": [
    {
     "data": {
      "text/plain": [
       "'Abhi'"
      ]
     },
     "execution_count": 11,
     "metadata": {},
     "output_type": "execute_result"
    }
   ],
   "source": [
    "obj1.name"
   ]
  },
  {
   "cell_type": "code",
   "execution_count": 14,
   "id": "00271ddb-2bdd-4d15-9302-bcafe28ff78d",
   "metadata": {},
   "outputs": [],
   "source": [
    "#seeing class method as alternative of init method>> actually class method is overloading the init method \n",
    "#modifying the class/instance method\n",
    "class Student:\n",
    "   \n",
    "    def __init__(self,name):\n",
    "        self.name = name \n",
    "        \n",
    "    @classmethod \n",
    "    def student_details(cls, name1): \n",
    "        return cls(name1)"
   ]
  },
  {
   "cell_type": "code",
   "execution_count": 15,
   "id": "82aec607-3f0e-4e29-ad5b-7a66c55940c2",
   "metadata": {},
   "outputs": [],
   "source": [
    "a = Student.student_details(\"Abhi\")"
   ]
  },
  {
   "cell_type": "code",
   "execution_count": 17,
   "id": "8b93cd62-18d6-41e9-b4fb-bda9d7a862c3",
   "metadata": {},
   "outputs": [
    {
     "data": {
      "text/plain": [
       "'Abhi'"
      ]
     },
     "execution_count": 17,
     "metadata": {},
     "output_type": "execute_result"
    }
   ],
   "source": [
    "a.name\n",
    "#you will get abhi inspite the variable name1\n",
    "#because it is overloading the init method"
   ]
  },
  {
   "cell_type": "code",
   "execution_count": 18,
   "id": "5e079bfc-0dcb-4c5c-9664-12cd74c0f39f",
   "metadata": {},
   "outputs": [],
   "source": [
    "#class method can modify class state associated/applicable to all the instances of the class\n",
    "class Student:\n",
    "    total_student = 0 \n",
    "    def __init__(self,name):#instance method\n",
    "        self.name = name\n",
    "        Student.total_student = Student.total_student + 1  ##TOTAL STUDENT IS THE CLASS VARIABLE ASSOCIATED WITH ALL THE INSTANCES\n",
    "    @classmethod\n",
    "    def get_total_student(cls):\n",
    "        return cls.total_student\n",
    "        "
   ]
  },
  {
   "cell_type": "code",
   "execution_count": 24,
   "id": "6c2a9a21-64cb-4b24-b63d-72302eba6255",
   "metadata": {},
   "outputs": [
    {
     "data": {
      "text/plain": [
       "2"
      ]
     },
     "execution_count": 24,
     "metadata": {},
     "output_type": "execute_result"
    }
   ],
   "source": [
    "Student.total_student"
   ]
  },
  {
   "cell_type": "code",
   "execution_count": 27,
   "id": "c91f6b53-b03a-4c34-8bee-e16919b64403",
   "metadata": {},
   "outputs": [],
   "source": [
    "a = Student(\"Khush\")"
   ]
  },
  {
   "cell_type": "code",
   "execution_count": 25,
   "id": "21192def-329d-4130-8d43-a74936c13246",
   "metadata": {},
   "outputs": [
    {
     "data": {
      "text/plain": [
       "'Khush'"
      ]
     },
     "execution_count": 25,
     "metadata": {},
     "output_type": "execute_result"
    }
   ],
   "source": [
    "a.name"
   ]
  },
  {
   "cell_type": "code",
   "execution_count": 28,
   "id": "d850ae15-bbd3-473c-8af4-3a02754c68b8",
   "metadata": {},
   "outputs": [
    {
     "data": {
      "text/plain": [
       "3"
      ]
     },
     "execution_count": 28,
     "metadata": {},
     "output_type": "execute_result"
    }
   ],
   "source": [
    "Student.get_total_student()"
   ]
  },
  {
   "cell_type": "code",
   "execution_count": 29,
   "id": "a3f76b3c-f5c9-4f0e-9670-d429dbecad95",
   "metadata": {},
   "outputs": [],
   "source": [
    "def course_details(cls, course_name):\n",
    "    print(\"The details of the course are:\",course_name)"
   ]
  },
  {
   "cell_type": "code",
   "execution_count": 30,
   "id": "5bd62ab3-329d-4d4c-94e1-d2bd4fa0a81a",
   "metadata": {},
   "outputs": [],
   "source": [
    "Student.course_details = classmethod(course_details)#adding external function as class"
   ]
  },
  {
   "cell_type": "code",
   "execution_count": 32,
   "id": "6dbe6424-2132-424f-8926-119a87d4a112",
   "metadata": {},
   "outputs": [
    {
     "name": "stdout",
     "output_type": "stream",
     "text": [
      "The details of the course are: Cyber\n"
     ]
    }
   ],
   "source": [
    "Student.course_details(\"Cyber\")"
   ]
  },
  {
   "cell_type": "code",
   "execution_count": 33,
   "id": "a8ff1366-b9bb-4d35-9440-7f4ade26517b",
   "metadata": {},
   "outputs": [],
   "source": [
    "#delete any class method\n",
    "del Student.course_details"
   ]
  },
  {
   "cell_type": "code",
   "execution_count": 34,
   "id": "34c421ec-7a39-4c03-af14-baef46c95db6",
   "metadata": {},
   "outputs": [
    {
     "data": {
      "text/plain": [
       "3"
      ]
     },
     "execution_count": 34,
     "metadata": {},
     "output_type": "execute_result"
    }
   ],
   "source": [
    "Student.get_total_student()"
   ]
  },
  {
   "cell_type": "code",
   "execution_count": 35,
   "id": "02f75c0a-7e59-4367-9520-5aa800a39fdd",
   "metadata": {},
   "outputs": [],
   "source": [
    "#another way to del\n",
    "delattr(Student,\"get_total_student\")"
   ]
  },
  {
   "cell_type": "code",
   "execution_count": 36,
   "id": "9987f415-62f5-4293-9bcd-7b53ddba7a8e",
   "metadata": {},
   "outputs": [
    {
     "ename": "AttributeError",
     "evalue": "type object 'Student' has no attribute 'get_total_student'",
     "output_type": "error",
     "traceback": [
      "\u001b[1;31m---------------------------------------------------------------------------\u001b[0m",
      "\u001b[1;31mAttributeError\u001b[0m                            Traceback (most recent call last)",
      "Cell \u001b[1;32mIn[36], line 1\u001b[0m\n\u001b[1;32m----> 1\u001b[0m Student\u001b[38;5;241m.\u001b[39mget_total_student()\n",
      "\u001b[1;31mAttributeError\u001b[0m: type object 'Student' has no attribute 'get_total_student'"
     ]
    }
   ],
   "source": [
    "Student.get_total_student()"
   ]
  },
  {
   "cell_type": "code",
   "execution_count": 41,
   "id": "5f628ce8-d823-4bb4-9b0b-8c1a53b2be9f",
   "metadata": {},
   "outputs": [],
   "source": [
    "#STATIC METHOD\n",
    "#does not modifythe class or instance state does not access instance or class state\n",
    "#doesnot depend on class /instance\n",
    "#behaves like a plain function that belong to class\n",
    "#it doesnot take either self or cls\n",
    "#static method is used\n",
    "#wprks with the parameter passed"
   ]
  },
  {
   "cell_type": "code",
   "execution_count": 42,
   "id": "a09cc3e6-f2fa-4981-9bf8-ec6945b3b198",
   "metadata": {},
   "outputs": [],
   "source": [
    "class Calculator:\n",
    "    @staticmethod # static method is used\n",
    "    def add(x,y):\n",
    "        return x+y\n",
    "    @staticmethod\n",
    "    def subtract(x,y):\n",
    "        return x-y"
   ]
  },
  {
   "cell_type": "code",
   "execution_count": 43,
   "id": "a2f92841-c9ad-4386-9fc8-954e9d5ad6c9",
   "metadata": {},
   "outputs": [
    {
     "data": {
      "text/plain": [
       "11"
      ]
     },
     "execution_count": 43,
     "metadata": {},
     "output_type": "execute_result"
    }
   ],
   "source": [
    "Calculator.add(5,6)"
   ]
  },
  {
   "cell_type": "code",
   "execution_count": 44,
   "id": "086c3002-ea3d-430c-a00c-b919be6384a2",
   "metadata": {},
   "outputs": [
    {
     "data": {
      "text/plain": [
       "1"
      ]
     },
     "execution_count": 44,
     "metadata": {},
     "output_type": "execute_result"
    }
   ],
   "source": [
    "Calculator.subtract(6,5)"
   ]
  },
  {
   "cell_type": "code",
   "execution_count": null,
   "id": "d5635673-ee94-4610-a869-a1cbd44c1193",
   "metadata": {},
   "outputs": [],
   "source": []
  }
 ],
 "metadata": {
  "kernelspec": {
   "display_name": "Python [conda env:base] *",
   "language": "python",
   "name": "conda-base-py"
  },
  "language_info": {
   "codemirror_mode": {
    "name": "ipython",
    "version": 3
   },
   "file_extension": ".py",
   "mimetype": "text/x-python",
   "name": "python",
   "nbconvert_exporter": "python",
   "pygments_lexer": "ipython3",
   "version": "3.13.5"
  }
 },
 "nbformat": 4,
 "nbformat_minor": 5
}
