{
 "cells": [
  {
   "cell_type": "raw",
   "id": "6ece8da5-ed6b-4855-93e7-64d5c5c6a06c",
   "metadata": {},
   "source": [
    "#TUPLES are ordered collections of elements , heterogenous\n",
    "They are immutable"
   ]
  },
  {
   "cell_type": "code",
   "execution_count": 1,
   "id": "80b6dcf6-7d89-4594-b1fd-1dd44ef871b3",
   "metadata": {},
   "outputs": [],
   "source": [
    "t = () #to define a tuple"
   ]
  },
  {
   "cell_type": "code",
   "execution_count": 2,
   "id": "2b42cdad-fb2a-4ff6-8c2b-6f10fbc8fd37",
   "metadata": {},
   "outputs": [
    {
     "data": {
      "text/plain": [
       "tuple"
      ]
     },
     "execution_count": 2,
     "metadata": {},
     "output_type": "execute_result"
    }
   ],
   "source": [
    "type(t)"
   ]
  },
  {
   "cell_type": "code",
   "execution_count": 3,
   "id": "9d82a042-ec6f-4c66-8ee3-c9b9f99e9b46",
   "metadata": {},
   "outputs": [],
   "source": [
    "t = (\"ABHI\",\"ABHAY\",1,2,3,1+2j)"
   ]
  },
  {
   "cell_type": "code",
   "execution_count": 4,
   "id": "e1086594-88b0-4c5c-babb-f98baf8058ef",
   "metadata": {},
   "outputs": [
    {
     "data": {
      "text/plain": [
       "('ABHI', 'ABHAY', 1, 2, 3, (1+2j))"
      ]
     },
     "execution_count": 4,
     "metadata": {},
     "output_type": "execute_result"
    }
   ],
   "source": [
    "t"
   ]
  },
  {
   "cell_type": "code",
   "execution_count": 5,
   "id": "055d4bb7-e8ed-473f-af28-1f17132c832c",
   "metadata": {},
   "outputs": [
    {
     "data": {
      "text/plain": [
       "'ABHI'"
      ]
     },
     "execution_count": 5,
     "metadata": {},
     "output_type": "execute_result"
    }
   ],
   "source": [
    "t[0]"
   ]
  },
  {
   "cell_type": "code",
   "execution_count": 6,
   "id": "1bc5f033-0893-466a-8b50-266805fbdc6a",
   "metadata": {},
   "outputs": [
    {
     "data": {
      "text/plain": [
       "(1+2j)"
      ]
     },
     "execution_count": 6,
     "metadata": {},
     "output_type": "execute_result"
    }
   ],
   "source": [
    "t[5]"
   ]
  },
  {
   "cell_type": "code",
   "execution_count": 7,
   "id": "89dbe878-e188-4699-b615-d550453ad3a7",
   "metadata": {},
   "outputs": [],
   "source": [
    "#Tuples cannot be modified as they are immutable"
   ]
  },
  {
   "cell_type": "code",
   "execution_count": 16,
   "id": "8311ad20-6910-46b6-b91f-f6b0a2e1e136",
   "metadata": {},
   "outputs": [
    {
     "ename": "TypeError",
     "evalue": "'tuple' object does not support item assignment",
     "output_type": "error",
     "traceback": [
      "\u001b[1;31m---------------------------------------------------------------------------\u001b[0m",
      "\u001b[1;31mTypeError\u001b[0m                                 Traceback (most recent call last)",
      "Cell \u001b[1;32mIn[16], line 2\u001b[0m\n\u001b[0;32m      1\u001b[0m your_ID \u001b[38;5;241m=\u001b[39m (\u001b[38;5;241m1\u001b[39m,\u001b[38;5;241m1\u001b[39m,\u001b[38;5;241m1\u001b[39m,\u001b[38;5;241m4\u001b[39m,\u001b[38;5;241m5\u001b[39m,\u001b[38;5;124m\"\u001b[39m\u001b[38;5;124mAbhi\u001b[39m\u001b[38;5;124m\"\u001b[39m)\n\u001b[1;32m----> 2\u001b[0m your_ID[\u001b[38;5;241m0\u001b[39m]\u001b[38;5;241m=\u001b[39m \u001b[38;5;241m10\u001b[39m\n",
      "\u001b[1;31mTypeError\u001b[0m: 'tuple' object does not support item assignment"
     ]
    }
   ],
   "source": [
    "your_ID = (1,1,1,4,5,\"Abhi\")\n",
    "your_ID[0]= 10"
   ]
  },
  {
   "cell_type": "code",
   "execution_count": 17,
   "id": "c9afe3d7-c536-44d6-a5c6-fbd340a0cd1b",
   "metadata": {},
   "outputs": [
    {
     "data": {
      "text/plain": [
       "3"
      ]
     },
     "execution_count": 17,
     "metadata": {},
     "output_type": "execute_result"
    }
   ],
   "source": [
    "your_ID.count(1) #used to  count number of  similar obects"
   ]
  },
  {
   "cell_type": "code",
   "execution_count": 18,
   "id": "eb07ff65-1334-4e1a-b511-c3ab809b08f5",
   "metadata": {},
   "outputs": [
    {
     "data": {
      "text/plain": [
       "1"
      ]
     },
     "execution_count": 18,
     "metadata": {},
     "output_type": "execute_result"
    }
   ],
   "source": [
    "your_ID.count(\"Abhi\")"
   ]
  },
  {
   "cell_type": "code",
   "execution_count": 19,
   "id": "ac015858-597a-44f2-b126-9870e9ee6974",
   "metadata": {},
   "outputs": [
    {
     "data": {
      "text/plain": [
       "5"
      ]
     },
     "execution_count": 19,
     "metadata": {},
     "output_type": "execute_result"
    }
   ],
   "source": [
    "your_ID.index(\"Abhi\")"
   ]
  },
  {
   "cell_type": "code",
   "execution_count": 20,
   "id": "476520a9-5e7c-4d33-8cad-91b37d7ec97a",
   "metadata": {},
   "outputs": [
    {
     "name": "stdout",
     "output_type": "stream",
     "text": [
      "(1, 1, 1, 4, 5, 'Abhi', 1, 1, 1, 4, 5, 'Abhi')\n"
     ]
    }
   ],
   "source": [
    "print(your_ID*2)"
   ]
  },
  {
   "cell_type": "code",
   "execution_count": 21,
   "id": "d129846b-74bd-489b-a2ae-503777b48aa5",
   "metadata": {},
   "outputs": [
    {
     "data": {
      "text/plain": [
       "(1, 1, 1, 4)"
      ]
     },
     "execution_count": 21,
     "metadata": {},
     "output_type": "execute_result"
    }
   ],
   "source": [
    "your_ID[0:4]"
   ]
  },
  {
   "cell_type": "code",
   "execution_count": 22,
   "id": "9131c89c-3db6-42c3-940a-7dbdc670cb2a",
   "metadata": {},
   "outputs": [
    {
     "data": {
      "text/plain": [
       "('Abhi', 5, 4, 1, 1, 1)"
      ]
     },
     "execution_count": 22,
     "metadata": {},
     "output_type": "execute_result"
    }
   ],
   "source": [
    "your_ID[::-1]"
   ]
  },
  {
   "cell_type": "code",
   "execution_count": 23,
   "id": "e17594da-7fd9-4c96-bbf3-2df81d300a2c",
   "metadata": {},
   "outputs": [
    {
     "name": "stdout",
     "output_type": "stream",
     "text": [
      "1 <class 'int'>\n",
      "1 <class 'int'>\n",
      "1 <class 'int'>\n",
      "4 <class 'int'>\n",
      "5 <class 'int'>\n",
      "Abhi <class 'str'>\n"
     ]
    }
   ],
   "source": [
    "for i in your_ID:\n",
    "    print(i , type(i))"
   ]
  },
  {
   "cell_type": "code",
   "execution_count": 24,
   "id": "1e90b85e-b9b7-45a8-857d-24f8d8755446",
   "metadata": {},
   "outputs": [
    {
     "data": {
      "text/plain": [
       "8"
      ]
     },
     "execution_count": 24,
     "metadata": {},
     "output_type": "execute_result"
    }
   ],
   "source": [
    "t1 = (1,2,3,4,5,6,7,8)\n",
    "max(t1)"
   ]
  },
  {
   "cell_type": "code",
   "execution_count": 25,
   "id": "ad5361d3-a13f-44dc-a9c6-9d4fde4679f5",
   "metadata": {},
   "outputs": [
    {
     "data": {
      "text/plain": [
       "1"
      ]
     },
     "execution_count": 25,
     "metadata": {},
     "output_type": "execute_result"
    }
   ],
   "source": [
    "min(t1)"
   ]
  },
  {
   "cell_type": "code",
   "execution_count": 26,
   "id": "9760d7a7-5927-4295-9eff-91af682bd1af",
   "metadata": {},
   "outputs": [],
   "source": [
    "t2 =(100,1,201)"
   ]
  },
  {
   "cell_type": "code",
   "execution_count": 27,
   "id": "8e2605f9-9036-4ed1-bf05-a4f7a608f3d1",
   "metadata": {},
   "outputs": [],
   "source": [
    "t3 = (t1,t2) #NESTED TUPLE"
   ]
  },
  {
   "cell_type": "code",
   "execution_count": 28,
   "id": "ba32b5f0-3817-4d40-959f-626eeabcc9d5",
   "metadata": {},
   "outputs": [
    {
     "data": {
      "text/plain": [
       "((1, 2, 3, 4, 5, 6, 7, 8), (100, 1, 201))"
      ]
     },
     "execution_count": 28,
     "metadata": {},
     "output_type": "execute_result"
    }
   ],
   "source": [
    "t3"
   ]
  },
  {
   "cell_type": "code",
   "execution_count": 29,
   "id": "68d8118e-4dba-40be-a9e3-108696cdd318",
   "metadata": {},
   "outputs": [],
   "source": [
    "del t3"
   ]
  },
  {
   "cell_type": "code",
   "execution_count": 30,
   "id": "f1451c6b-a625-44aa-a37f-bc7091166bff",
   "metadata": {},
   "outputs": [
    {
     "ename": "NameError",
     "evalue": "name 't3' is not defined",
     "output_type": "error",
     "traceback": [
      "\u001b[1;31m---------------------------------------------------------------------------\u001b[0m",
      "\u001b[1;31mNameError\u001b[0m                                 Traceback (most recent call last)",
      "Cell \u001b[1;32mIn[30], line 1\u001b[0m\n\u001b[1;32m----> 1\u001b[0m t3\n",
      "\u001b[1;31mNameError\u001b[0m: name 't3' is not defined"
     ]
    }
   ],
   "source": [
    "t3"
   ]
  },
  {
   "cell_type": "code",
   "execution_count": 31,
   "id": "c1827e63-e8bf-43b6-b681-4f8facd6a481",
   "metadata": {},
   "outputs": [
    {
     "data": {
      "text/plain": [
       "True"
      ]
     },
     "execution_count": 31,
     "metadata": {},
     "output_type": "execute_result"
    }
   ],
   "source": [
    "1 in t1"
   ]
  },
  {
   "cell_type": "code",
   "execution_count": 32,
   "id": "bc3ba7cd-7b04-4a32-b5fa-f1c7565b6c28",
   "metadata": {},
   "outputs": [
    {
     "data": {
      "text/plain": [
       "False"
      ]
     },
     "execution_count": 32,
     "metadata": {},
     "output_type": "execute_result"
    }
   ],
   "source": [
    "9 in t1"
   ]
  },
  {
   "cell_type": "code",
   "execution_count": 33,
   "id": "616b118a-3bf8-4f34-9411-e40078baefd3",
   "metadata": {},
   "outputs": [
    {
     "data": {
      "text/plain": [
       "True"
      ]
     },
     "execution_count": 33,
     "metadata": {},
     "output_type": "execute_result"
    }
   ],
   "source": [
    "8 in  t1"
   ]
  },
  {
   "cell_type": "code",
   "execution_count": 34,
   "id": "36d0cd36-5ed3-467a-883e-ba45cd0c8fbe",
   "metadata": {},
   "outputs": [
    {
     "data": {
      "text/plain": [
       "False"
      ]
     },
     "execution_count": 34,
     "metadata": {},
     "output_type": "execute_result"
    }
   ],
   "source": [
    "8 not in t1"
   ]
  },
  {
   "cell_type": "code",
   "execution_count": 36,
   "id": "3972251f-7dd6-4602-91f8-f95baff86092",
   "metadata": {},
   "outputs": [
    {
     "data": {
      "text/plain": [
       "(100, 1, 201)"
      ]
     },
     "execution_count": 36,
     "metadata": {},
     "output_type": "execute_result"
    }
   ],
   "source": [
    "\n",
    "t2"
   ]
  },
  {
   "cell_type": "code",
   "execution_count": 37,
   "id": "fb7d14bf-6312-49bb-892a-8519ce923e8e",
   "metadata": {},
   "outputs": [
    {
     "data": {
      "text/plain": [
       "(1, 2, 3, 4, 5, 6, 7, 8, 100, 1, 201)"
      ]
     },
     "execution_count": 37,
     "metadata": {},
     "output_type": "execute_result"
    }
   ],
   "source": [
    "# combine two lists\n",
    "t1+t2"
   ]
  },
  {
   "cell_type": "code",
   "execution_count": 38,
   "id": "2fc7d5ff-2e2c-4c73-b189-55c18aa406f5",
   "metadata": {},
   "outputs": [],
   "source": [
    "#sets = Unordered and unique collection of elements\n",
    "#does not allow any duplicate elemennts\n",
    "#Unordered then indexing will not work"
   ]
  },
  {
   "cell_type": "code",
   "execution_count": 40,
   "id": "423abaab-fa84-4e23-b34c-bc462a2e1d1b",
   "metadata": {},
   "outputs": [
    {
     "data": {
      "text/plain": [
       "set"
      ]
     },
     "execution_count": 40,
     "metadata": {},
     "output_type": "execute_result"
    }
   ],
   "source": [
    "s = {1}\n",
    "type(s)"
   ]
  },
  {
   "cell_type": "code",
   "execution_count": 41,
   "id": "1df3d7ae-d905-4c6e-b045-986defb09d90",
   "metadata": {},
   "outputs": [
    {
     "data": {
      "text/plain": [
       "set"
      ]
     },
     "execution_count": 41,
     "metadata": {},
     "output_type": "execute_result"
    }
   ],
   "source": [
    "s = {1,2,3,4}\n",
    "type(s)"
   ]
  },
  {
   "cell_type": "code",
   "execution_count": 42,
   "id": "f7e98051-289b-4b63-a402-ded44bf37fd4",
   "metadata": {},
   "outputs": [],
   "source": [
    "a ={1,1,2,2,3,4,4,\"Abhi\",\"Abhi\",\"abhi\",\"abhi\"}"
   ]
  },
  {
   "cell_type": "code",
   "execution_count": 43,
   "id": "6d116347-9077-47b3-8150-64dc65d374e7",
   "metadata": {},
   "outputs": [
    {
     "data": {
      "text/plain": [
       "{1, 2, 3, 4, 'Abhi', 'abhi'}"
      ]
     },
     "execution_count": 43,
     "metadata": {},
     "output_type": "execute_result"
    }
   ],
   "source": [
    "a"
   ]
  },
  {
   "cell_type": "code",
   "execution_count": 44,
   "id": "366d1ab1-0443-40be-b451-d84b79285744",
   "metadata": {},
   "outputs": [],
   "source": [
    "#USE CASE\n",
    "list1 =[1,2,3,\"Abhay\",\"Abhay\"]\n",
    "s = set(list1)"
   ]
  },
  {
   "cell_type": "code",
   "execution_count": 46,
   "id": "95b55f68-6167-4376-b38c-33b4743367fe",
   "metadata": {},
   "outputs": [
    {
     "ename": "TypeError",
     "evalue": "'set' object is not subscriptable",
     "output_type": "error",
     "traceback": [
      "\u001b[1;31m---------------------------------------------------------------------------\u001b[0m",
      "\u001b[1;31mTypeError\u001b[0m                                 Traceback (most recent call last)",
      "Cell \u001b[1;32mIn[46], line 1\u001b[0m\n\u001b[1;32m----> 1\u001b[0m s[\u001b[38;5;241m0\u001b[39m]\n",
      "\u001b[1;31mTypeError\u001b[0m: 'set' object is not subscriptable"
     ]
    }
   ],
   "source": [
    "s[0]"
   ]
  },
  {
   "cell_type": "code",
   "execution_count": 47,
   "id": "02a0f470-4646-40e2-9fa7-8532faee4ba2",
   "metadata": {},
   "outputs": [
    {
     "data": {
      "text/plain": [
       "{1, 2, 3, 4}"
      ]
     },
     "execution_count": 47,
     "metadata": {},
     "output_type": "execute_result"
    }
   ],
   "source": [
    "s = {1,1,2,2,3,3,4,4}\n",
    "s"
   ]
  },
  {
   "cell_type": "code",
   "execution_count": 48,
   "id": "1d80e5b9-5953-4f65-a3a5-0029fd394374",
   "metadata": {},
   "outputs": [
    {
     "ename": "TypeError",
     "evalue": "unhashable type: 'set'",
     "output_type": "error",
     "traceback": [
      "\u001b[1;31m---------------------------------------------------------------------------\u001b[0m",
      "\u001b[1;31mTypeError\u001b[0m                                 Traceback (most recent call last)",
      "Cell \u001b[1;32mIn[48], line 1\u001b[0m\n\u001b[1;32m----> 1\u001b[0m s \u001b[38;5;241m=\u001b[39m {\u001b[38;5;241m1\u001b[39m,\u001b[38;5;241m2\u001b[39m,\u001b[38;5;241m3\u001b[39m,\u001b[38;5;241m4\u001b[39m,\u001b[38;5;241m5\u001b[39m,{\u001b[38;5;241m4\u001b[39m,\u001b[38;5;241m5\u001b[39m,\u001b[38;5;241m6\u001b[39m}}\n",
      "\u001b[1;31mTypeError\u001b[0m: unhashable type: 'set'"
     ]
    }
   ],
   "source": [
    "s = {1,2,3,4,5,{4,5,6}}#set inside se must be immutable\n",
    "#it is mutable"
   ]
  },
  {
   "cell_type": "code",
   "execution_count": 49,
   "id": "990baec4-7992-4cfd-a8eb-ac0da65ba8bc",
   "metadata": {},
   "outputs": [
    {
     "ename": "TypeError",
     "evalue": "unhashable type: 'list'",
     "output_type": "error",
     "traceback": [
      "\u001b[1;31m---------------------------------------------------------------------------\u001b[0m",
      "\u001b[1;31mTypeError\u001b[0m                                 Traceback (most recent call last)",
      "Cell \u001b[1;32mIn[49], line 1\u001b[0m\n\u001b[1;32m----> 1\u001b[0m s \u001b[38;5;241m=\u001b[39m {\u001b[38;5;241m1\u001b[39m,\u001b[38;5;241m2\u001b[39m,\u001b[38;5;241m3\u001b[39m,\u001b[38;5;241m4\u001b[39m,\u001b[38;5;241m5\u001b[39m,[\u001b[38;5;241m4\u001b[39m,\u001b[38;5;241m5\u001b[39m,\u001b[38;5;241m6\u001b[39m]}\n",
      "\u001b[1;31mTypeError\u001b[0m: unhashable type: 'list'"
     ]
    }
   ],
   "source": [
    "s = {1,2,3,4,5,[4,5,6]}"
   ]
  },
  {
   "cell_type": "code",
   "execution_count": 52,
   "id": "cf7092d5-bffa-4294-9317-42e2c9b2665f",
   "metadata": {},
   "outputs": [
    {
     "ename": "TypeError",
     "evalue": "'set' object is not subscriptable",
     "output_type": "error",
     "traceback": [
      "\u001b[1;31m---------------------------------------------------------------------------\u001b[0m",
      "\u001b[1;31mTypeError\u001b[0m                                 Traceback (most recent call last)",
      "Cell \u001b[1;32mIn[52], line 1\u001b[0m\n\u001b[1;32m----> 1\u001b[0m s[\u001b[38;5;241m0\u001b[39m]\n",
      "\u001b[1;31mTypeError\u001b[0m: 'set' object is not subscriptable"
     ]
    }
   ],
   "source": [
    "s[0] #not indexed so cant even do slicing"
   ]
  },
  {
   "cell_type": "code",
   "execution_count": 53,
   "id": "a0b9a639-0502-4531-89ed-648224c85b74",
   "metadata": {},
   "outputs": [
    {
     "name": "stdout",
     "output_type": "stream",
     "text": [
      "1\n",
      "2\n",
      "3\n",
      "4\n"
     ]
    }
   ],
   "source": [
    "for i in s :\n",
    "    print (i)"
   ]
  },
  {
   "cell_type": "code",
   "execution_count": 54,
   "id": "cd7e9576-7fab-4528-9ac8-7c2dd63134ff",
   "metadata": {},
   "outputs": [],
   "source": [
    "s.add(100) # Use add to add values to it"
   ]
  },
  {
   "cell_type": "code",
   "execution_count": 55,
   "id": "cf8fe942-47a2-448b-8c69-af3457f83424",
   "metadata": {},
   "outputs": [
    {
     "data": {
      "text/plain": [
       "{1, 2, 3, 4, 100}"
      ]
     },
     "execution_count": 55,
     "metadata": {},
     "output_type": "execute_result"
    }
   ],
   "source": [
    "s"
   ]
  },
  {
   "cell_type": "code",
   "execution_count": 57,
   "id": "3a4180e0-d58c-4676-8f9e-928447ee646c",
   "metadata": {},
   "outputs": [
    {
     "data": {
      "text/plain": [
       "2"
      ]
     },
     "execution_count": 57,
     "metadata": {},
     "output_type": "execute_result"
    }
   ],
   "source": [
    "s.pop() # Not compulsory that it will remove the last element "
   ]
  },
  {
   "cell_type": "code",
   "execution_count": 58,
   "id": "adfc10a0-f91b-4138-915d-7e695656d742",
   "metadata": {},
   "outputs": [
    {
     "data": {
      "text/plain": [
       "{3, 4, 100}"
      ]
     },
     "execution_count": 58,
     "metadata": {},
     "output_type": "execute_result"
    }
   ],
   "source": [
    "s"
   ]
  },
  {
   "cell_type": "code",
   "execution_count": 59,
   "id": "1984ada8-ef43-41cc-a2a9-7511bfabd5e9",
   "metadata": {},
   "outputs": [
    {
     "data": {
      "text/plain": [
       "{3, 4, 100}"
      ]
     },
     "execution_count": 59,
     "metadata": {},
     "output_type": "execute_result"
    }
   ],
   "source": [
    "s"
   ]
  },
  {
   "cell_type": "code",
   "execution_count": 60,
   "id": "87c88721-5c97-4487-b399-06987db941b0",
   "metadata": {},
   "outputs": [],
   "source": [
    "s.remove(3) #removes specific element"
   ]
  },
  {
   "cell_type": "code",
   "execution_count": 61,
   "id": "9e92a057-0bdf-4875-b9f8-bac678dfa200",
   "metadata": {},
   "outputs": [
    {
     "data": {
      "text/plain": [
       "{4, 100}"
      ]
     },
     "execution_count": 61,
     "metadata": {},
     "output_type": "execute_result"
    }
   ],
   "source": [
    "s"
   ]
  },
  {
   "cell_type": "code",
   "execution_count": 62,
   "id": "dfc36445-1fcd-4aeb-a01e-bcb9223f1dab",
   "metadata": {},
   "outputs": [
    {
     "ename": "TypeError",
     "evalue": "set.pop() takes no arguments (1 given)",
     "output_type": "error",
     "traceback": [
      "\u001b[1;31m---------------------------------------------------------------------------\u001b[0m",
      "\u001b[1;31mTypeError\u001b[0m                                 Traceback (most recent call last)",
      "Cell \u001b[1;32mIn[62], line 1\u001b[0m\n\u001b[1;32m----> 1\u001b[0m s\u001b[38;5;241m.\u001b[39mpop(\u001b[38;5;241m4\u001b[39m)\n",
      "\u001b[1;31mTypeError\u001b[0m: set.pop() takes no arguments (1 given)"
     ]
    }
   ],
   "source": [
    "s.pop(4)"
   ]
  },
  {
   "cell_type": "code",
   "execution_count": 63,
   "id": "22a69e6b-e9ef-4934-be3e-60407a73da23",
   "metadata": {},
   "outputs": [
    {
     "ename": "KeyError",
     "evalue": "101",
     "output_type": "error",
     "traceback": [
      "\u001b[1;31m---------------------------------------------------------------------------\u001b[0m",
      "\u001b[1;31mKeyError\u001b[0m                                  Traceback (most recent call last)",
      "Cell \u001b[1;32mIn[63], line 1\u001b[0m\n\u001b[1;32m----> 1\u001b[0m s\u001b[38;5;241m.\u001b[39mremove(\u001b[38;5;241m101\u001b[39m)\n",
      "\u001b[1;31mKeyError\u001b[0m: 101"
     ]
    }
   ],
   "source": [
    "s.remove(101)#ERROR COZ VALUE 101 NOT PRESENT"
   ]
  },
  {
   "cell_type": "code",
   "execution_count": 64,
   "id": "5198799a-6b98-4f72-ae1b-e13021d3677a",
   "metadata": {},
   "outputs": [],
   "source": [
    "s.update(\"Abhi\") # updates take iterable"
   ]
  },
  {
   "cell_type": "code",
   "execution_count": 65,
   "id": "d592aa2c-48f3-4523-9b90-71c408b899eb",
   "metadata": {},
   "outputs": [
    {
     "data": {
      "text/plain": [
       "{100, 4, 'A', 'b', 'h', 'i'}"
      ]
     },
     "execution_count": 65,
     "metadata": {},
     "output_type": "execute_result"
    }
   ],
   "source": [
    "s"
   ]
  },
  {
   "cell_type": "code",
   "execution_count": 66,
   "id": "dd5a65f2-6743-46ff-9d2c-31ec0df5dd57",
   "metadata": {},
   "outputs": [],
   "source": [
    "s.update([\"Abhi\"])"
   ]
  },
  {
   "cell_type": "code",
   "execution_count": 67,
   "id": "e83070ce-bbc8-487c-beb9-aacf57a4a4f4",
   "metadata": {},
   "outputs": [
    {
     "data": {
      "text/plain": [
       "{100, 4, 'A', 'Abhi', 'b', 'h', 'i'}"
      ]
     },
     "execution_count": 67,
     "metadata": {},
     "output_type": "execute_result"
    }
   ],
   "source": [
    "s"
   ]
  },
  {
   "cell_type": "code",
   "execution_count": 68,
   "id": "f5919f16-3cff-4edc-8e81-5f0e747f8284",
   "metadata": {},
   "outputs": [],
   "source": [
    "s.update([2,3])"
   ]
  },
  {
   "cell_type": "code",
   "execution_count": 69,
   "id": "4d8cae18-20c2-4d8f-aaba-27954deb54af",
   "metadata": {},
   "outputs": [
    {
     "data": {
      "text/plain": [
       "{100, 2, 3, 4, 'A', 'Abhi', 'b', 'h', 'i'}"
      ]
     },
     "execution_count": 69,
     "metadata": {},
     "output_type": "execute_result"
    }
   ],
   "source": [
    "s"
   ]
  },
  {
   "cell_type": "code",
   "execution_count": 70,
   "id": "ea2ce7bb-020f-49b1-9115-7a28f80797ec",
   "metadata": {},
   "outputs": [],
   "source": [
    "s = {(1,2,3),100,'2' , 3.4}"
   ]
  },
  {
   "cell_type": "code",
   "execution_count": 71,
   "id": "6397d644-d8b9-4a1d-81af-c51f42a8bc59",
   "metadata": {},
   "outputs": [
    {
     "data": {
      "text/plain": [
       "set"
      ]
     },
     "execution_count": 71,
     "metadata": {},
     "output_type": "execute_result"
    }
   ],
   "source": [
    "type(s)"
   ]
  },
  {
   "cell_type": "code",
   "execution_count": 72,
   "id": "e235492f-06a6-4f3d-a0a8-c295feec0fb9",
   "metadata": {},
   "outputs": [],
   "source": [
    "s.clear()"
   ]
  },
  {
   "cell_type": "code",
   "execution_count": 73,
   "id": "38bdd6c4-068d-4ab5-af89-680502230d49",
   "metadata": {},
   "outputs": [
    {
     "data": {
      "text/plain": [
       "set()"
      ]
     },
     "execution_count": 73,
     "metadata": {},
     "output_type": "execute_result"
    }
   ],
   "source": [
    "s"
   ]
  },
  {
   "cell_type": "code",
   "execution_count": 74,
   "id": "7380e5c1-7873-4bb7-9768-fe6c99b9cfc8",
   "metadata": {},
   "outputs": [],
   "source": [
    "del s"
   ]
  },
  {
   "cell_type": "code",
   "execution_count": 75,
   "id": "da7557d4-8eed-4ccc-900b-09bde6c9055d",
   "metadata": {},
   "outputs": [
    {
     "ename": "NameError",
     "evalue": "name 's' is not defined",
     "output_type": "error",
     "traceback": [
      "\u001b[1;31m---------------------------------------------------------------------------\u001b[0m",
      "\u001b[1;31mNameError\u001b[0m                                 Traceback (most recent call last)",
      "Cell \u001b[1;32mIn[75], line 1\u001b[0m\n\u001b[1;32m----> 1\u001b[0m s\n",
      "\u001b[1;31mNameError\u001b[0m: name 's' is not defined"
     ]
    }
   ],
   "source": [
    "s"
   ]
  },
  {
   "cell_type": "code",
   "execution_count": 78,
   "id": "ca7f04e4-3e64-40f4-82f6-df8d8530ecc9",
   "metadata": {},
   "outputs": [],
   "source": [
    "s = {(1,2,3),100,101,102,'2' , 3.4}"
   ]
  },
  {
   "cell_type": "code",
   "execution_count": 79,
   "id": "2f0d4f12-5c18-47ef-aad5-5e28ae3ec7d9",
   "metadata": {},
   "outputs": [],
   "source": [
    "s.remove(101)"
   ]
  },
  {
   "cell_type": "code",
   "execution_count": 80,
   "id": "6ca72d68-f385-4784-a79c-8e9057d2e6ad",
   "metadata": {},
   "outputs": [
    {
     "data": {
      "text/plain": [
       "{(1, 2, 3), 100, 102, '2', 3.4}"
      ]
     },
     "execution_count": 80,
     "metadata": {},
     "output_type": "execute_result"
    }
   ],
   "source": [
    "s"
   ]
  },
  {
   "cell_type": "code",
   "execution_count": 81,
   "id": "dbd2d6db-e5da-495f-910f-d4d3cf6045e2",
   "metadata": {},
   "outputs": [
    {
     "ename": "KeyError",
     "evalue": "110",
     "output_type": "error",
     "traceback": [
      "\u001b[1;31m---------------------------------------------------------------------------\u001b[0m",
      "\u001b[1;31mKeyError\u001b[0m                                  Traceback (most recent call last)",
      "Cell \u001b[1;32mIn[81], line 1\u001b[0m\n\u001b[1;32m----> 1\u001b[0m s\u001b[38;5;241m.\u001b[39mremove(\u001b[38;5;241m110\u001b[39m)\n",
      "\u001b[1;31mKeyError\u001b[0m: 110"
     ]
    }
   ],
   "source": [
    "s.remove(110)#GIVES ERROR IF GIVEN VALUE  NOT PRESENT"
   ]
  },
  {
   "cell_type": "code",
   "execution_count": 82,
   "id": "378a3c84-1e69-4bde-b16c-6ab726130773",
   "metadata": {},
   "outputs": [
    {
     "data": {
      "text/plain": [
       "{(1, 2, 3), 100, 102, '2', 3.4}"
      ]
     },
     "execution_count": 82,
     "metadata": {},
     "output_type": "execute_result"
    }
   ],
   "source": [
    "s"
   ]
  },
  {
   "cell_type": "code",
   "execution_count": 83,
   "id": "a2627588-5d03-4937-b2a5-eb156a0dfd0e",
   "metadata": {},
   "outputs": [],
   "source": [
    "s.discard(110)#ERROR NOT SHOWN IF THE ELEMENT IS NOT PRESENT"
   ]
  },
  {
   "cell_type": "raw",
   "id": "e0cc99d4-6a44-43fc-98f8-12724f647791",
   "metadata": {},
   "source": [
    "#SET OPERATIONS\n",
    "1)UNION - COMBINES ELEMMENTS FROM TWO SETS EXCLUDING DUPLAICATES\n",
    "2)INTERSECTION - ONLY COMMON ELEMENTS BETWEEN SETS\n",
    "3)DIFFERENCE - RETURN THE ELEMENTS THAT IS PRESENT IN FIRST SET AND NOT IN SECOND\n",
    "4)SYMMETRIC DIFF. - RETURNS ELEMENTS THAT ARE PRESENT IN EITHER OF SETS BUT NOT IN "
   ]
  },
  {
   "cell_type": "code",
   "execution_count": 84,
   "id": "a09e4ac5-1141-4588-a2c5-b51fc8e6c154",
   "metadata": {},
   "outputs": [],
   "source": [
    "s1 = {\"Hiking\",\"reading\",\"Coding\"}\n",
    "s2 = {\"singing\",\"dancing\",\"Coding\"}"
   ]
  },
  {
   "cell_type": "code",
   "execution_count": 85,
   "id": "990b11e6-6e33-4c67-ad0c-ce44083fd35f",
   "metadata": {},
   "outputs": [
    {
     "data": {
      "text/plain": [
       "{'Coding', 'Hiking', 'reading'}"
      ]
     },
     "execution_count": 85,
     "metadata": {},
     "output_type": "execute_result"
    }
   ],
   "source": [
    "s1"
   ]
  },
  {
   "cell_type": "code",
   "execution_count": 86,
   "id": "dd89ccc2-15a8-4a18-b61e-b60949a54657",
   "metadata": {},
   "outputs": [
    {
     "data": {
      "text/plain": [
       "{'Coding', 'dancing', 'singing'}"
      ]
     },
     "execution_count": 86,
     "metadata": {},
     "output_type": "execute_result"
    }
   ],
   "source": [
    "s2"
   ]
  },
  {
   "cell_type": "code",
   "execution_count": 87,
   "id": "b674be0d-0fef-45ed-8106-bae1ac77e55e",
   "metadata": {},
   "outputs": [
    {
     "data": {
      "text/plain": [
       "{'Coding', 'Hiking', 'dancing', 'reading', 'singing'}"
      ]
     },
     "execution_count": 87,
     "metadata": {},
     "output_type": "execute_result"
    }
   ],
   "source": [
    "#Union COMBINES ALL ELEMENT\n",
    "s1 | s2"
   ]
  },
  {
   "cell_type": "code",
   "execution_count": 88,
   "id": "ed7724ba-a8c6-49c6-bb2d-9a7dca263105",
   "metadata": {},
   "outputs": [
    {
     "data": {
      "text/plain": [
       "{'Coding'}"
      ]
     },
     "execution_count": 88,
     "metadata": {},
     "output_type": "execute_result"
    }
   ],
   "source": [
    "#Intersection means common element\n",
    "s1 & s2"
   ]
  },
  {
   "cell_type": "code",
   "execution_count": 89,
   "id": "6591cd00-d756-4253-91b9-16e4e60d2a6f",
   "metadata": {},
   "outputs": [
    {
     "data": {
      "text/plain": [
       "{'Hiking', 'reading'}"
      ]
     },
     "execution_count": 89,
     "metadata": {},
     "output_type": "execute_result"
    }
   ],
   "source": [
    "#Difference \n",
    "s1-s2"
   ]
  },
  {
   "cell_type": "code",
   "execution_count": 94,
   "id": "3c0fc0fc-73a4-4ebe-a847-a72bbac401c2",
   "metadata": {},
   "outputs": [
    {
     "data": {
      "text/plain": [
       "{'Hiking', 'dancing', 'reading', 'singing'}"
      ]
     },
     "execution_count": 94,
     "metadata": {},
     "output_type": "execute_result"
    }
   ],
   "source": [
    "#SYMMETRIC DIFF. \n",
    "s1 ^ s2"
   ]
  },
  {
   "cell_type": "code",
   "execution_count": 96,
   "id": "0625e50d-d35a-441f-8082-b8bbea157af6",
   "metadata": {},
   "outputs": [],
   "source": [
    "s  = {1,2,3}\n",
    "s.add(100)"
   ]
  },
  {
   "cell_type": "code",
   "execution_count": 97,
   "id": "a64a8dff-09ad-448e-bf3c-ba4c85045b7b",
   "metadata": {},
   "outputs": [
    {
     "data": {
      "text/plain": [
       "{1, 2, 3, 100}"
      ]
     },
     "execution_count": 97,
     "metadata": {},
     "output_type": "execute_result"
    }
   ],
   "source": [
    "s"
   ]
  },
  {
   "cell_type": "code",
   "execution_count": 98,
   "id": "085068c2-729a-4165-996a-e1bdbd377afc",
   "metadata": {},
   "outputs": [],
   "source": [
    "#Frozen sets >> IMMUTABLE VERSION OF SET , CANNOT BE ADDED OR REMOVED ANY NEW ELEMENT\n",
    "my_fs = frozenset ([1,2,2,3,3,4,5,6])"
   ]
  },
  {
   "cell_type": "code",
   "execution_count": 99,
   "id": "4abaeaad-2822-4d59-b31f-64019787487c",
   "metadata": {},
   "outputs": [
    {
     "data": {
      "text/plain": [
       "frozenset({1, 2, 3, 4, 5, 6})"
      ]
     },
     "execution_count": 99,
     "metadata": {},
     "output_type": "execute_result"
    }
   ],
   "source": [
    "my_fs"
   ]
  }
 ],
 "metadata": {
  "kernelspec": {
   "display_name": "Python [conda env:base] *",
   "language": "python",
   "name": "conda-base-py"
  },
  "language_info": {
   "codemirror_mode": {
    "name": "ipython",
    "version": 3
   },
   "file_extension": ".py",
   "mimetype": "text/x-python",
   "name": "python",
   "nbconvert_exporter": "python",
   "pygments_lexer": "ipython3",
   "version": "3.13.5"
  }
 },
 "nbformat": 4,
 "nbformat_minor": 5
}
